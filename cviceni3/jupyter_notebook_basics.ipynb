{
 "cells": [
  {
   "cell_type": "markdown",
   "metadata": {},
   "source": [
    "# Introduction to Jupyter Notebook"
   ]
  },
  {
   "cell_type": "markdown",
   "metadata": {},
   "source": [
    "## What it is?"
   ]
  },
  {
   "cell_type": "markdown",
   "metadata": {},
   "source": [
    "A notebook is a computational document that combines:\n",
    "* live code\n",
    "* narrative text \n",
    "* data \n",
    "* visualizations (charts, maps, images, 3D models)\n",
    "in a cell structure. Jupyter Notebook is one of the products of the Project Jupyter. The name \"Jupyter\" is an abbreviation of the project's first 3 supported languages, Julia, Python and R. \n",
    "Let's jump to its [official website](https://jupyter.org/) for more information."
   ]
  },
  {
   "cell_type": "markdown",
   "metadata": {},
   "source": [
    "<img src=\"https://jupyter.org/assets/homepage/main-logo.svg\" alt=\"Jupyter logo\" width=110 height=128 />\n",
    "\n",
    "According to [Wikipedia](https://en.wikipedia.org/wiki/Project_Jupyter), Jupyter's \"name and logo are an homage to Galileo's discovery of the moons of Jupiter, as documented in notebooks attributed to Galileo\"."
   ]
  },
  {
   "cell_type": "markdown",
   "metadata": {},
   "source": [
    "There are many reasons to use Notebooks, most notable include:\n",
    "* short code snippets which you can run and see the output immediately\n",
    "* code becomes easier to read and understand\n",
    "* explaining difficult topics\n",
    "* \"data storytelling\"\n",
    "* prototyping: you can run only a specific step without executing the whole script\n",
    "* data visualization in forms of tables, charts and maps\n",
    "* integration with ArcGIS"
   ]
  },
  {
   "cell_type": "markdown",
   "metadata": {},
   "source": [
    "## How to create a Jupyter Notebook in Visual Studio Code?"
   ]
  },
  {
   "cell_type": "markdown",
   "metadata": {},
   "source": [
    "There are several ways how to create a new Notebook in VS Code:\n",
    "1) Create a new file in your workspace with **.ipynb** suffix."
   ]
  },
  {
   "cell_type": "markdown",
   "metadata": {},
   "source": [
    "<img src=\"ipynb_extension.png\" alt=\".ipynb file\" width=380 height=423 />"
   ]
  },
  {
   "cell_type": "markdown",
   "metadata": {},
   "source": [
    "2) Go to the Command Pallette, search for a command **Create: New Jupyter Notebook** and run it"
   ]
  },
  {
   "cell_type": "markdown",
   "metadata": {},
   "source": [
    "<img src=\"command_pallette1.png\" alt=\"ctrl+shift+p\" width=948 height=300 />"
   ]
  },
  {
   "cell_type": "markdown",
   "metadata": {},
   "source": [
    "The first way is a bit more convenient, because you are creating a notebook and saving it at the same time. Using the Command Pallette just creates a new notebook which you need to save afterwards."
   ]
  },
  {
   "cell_type": "markdown",
   "metadata": {},
   "source": [
    "## Kernel"
   ]
  },
  {
   "cell_type": "markdown",
   "metadata": {},
   "source": [
    "In order to run a code in Jupyter Notebook, you need a kernel. Kernel is an interpreter that runs code in a particular programming language and returns output. In this case you work with Python language and you have a couple Python environments installed in your computer which can serve as a kernel: Miniconda and ArcGIS Pro Python environment. You can use a remote kernel by connecting to existing Jupyter server or use Jupyter kernel which you can install from the official website or the one installed with ArcGIS Pro Python."
   ]
  },
  {
   "cell_type": "markdown",
   "metadata": {},
   "source": [
    "## Variables"
   ]
  },
  {
   "cell_type": "markdown",
   "metadata": {},
   "source": []
  },
  {
   "cell_type": "code",
   "execution_count": 1,
   "metadata": {},
   "outputs": [
    {
     "name": "stdout",
     "output_type": "stream",
     "text": [
      "5\n"
     ]
    }
   ],
   "source": [
    "a = 2\n",
    "b = 3\n",
    "c = a + b\n",
    "print(c)"
   ]
  },
  {
   "cell_type": "code",
   "execution_count": 1,
   "metadata": {},
   "outputs": [
    {
     "name": "stdout",
     "output_type": "stream",
     "text": [
      "Hello world!\n"
     ]
    }
   ],
   "source": [
    "print(\"Hello world!\")"
   ]
  },
  {
   "cell_type": "code",
   "execution_count": 2,
   "metadata": {},
   "outputs": [
    {
     "data": {
      "text/plain": [
       "2"
      ]
     },
     "execution_count": 2,
     "metadata": {},
     "output_type": "execute_result"
    }
   ],
   "source": [
    "a"
   ]
  },
  {
   "cell_type": "code",
   "execution_count": 3,
   "metadata": {},
   "outputs": [
    {
     "data": {
      "text/plain": [
       "5"
      ]
     },
     "execution_count": 3,
     "metadata": {},
     "output_type": "execute_result"
    }
   ],
   "source": [
    "c"
   ]
  },
  {
   "cell_type": "code",
   "execution_count": null,
   "metadata": {},
   "outputs": [],
   "source": []
  },
  {
   "cell_type": "markdown",
   "metadata": {},
   "source": [
    "Toto je moja prva markdown bunka. *italics*"
   ]
  },
  {
   "cell_type": "markdown",
   "metadata": {},
   "source": []
  }
 ],
 "metadata": {
  "kernelspec": {
   "display_name": "Python 3",
   "language": "python",
   "name": "python3"
  },
  "language_info": {
   "codemirror_mode": {
    "name": "ipython",
    "version": 3
   },
   "file_extension": ".py",
   "mimetype": "text/x-python",
   "name": "python",
   "nbconvert_exporter": "python",
   "pygments_lexer": "ipython3",
   "version": "3.9.18"
  }
 },
 "nbformat": 4,
 "nbformat_minor": 2
}

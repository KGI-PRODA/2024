{
 "cells": [
  {
   "cell_type": "markdown",
   "metadata": {},
   "source": [
    "***\n",
    "### Digitalizace domku nad starymi mapami\n",
    "1. Otevru **ArcGIS** projekt, nachystam data\n",
    "2. Zobrazim si **starou mapu** jako podklad\n",
    "3. Zapnu rezim **editace**\n",
    "4. Kliknu na **zakreslovani polygonu** a obkresluji **objekty na mape**\n",
    "    - hledam si **hranice objektu**\n",
    "    - v pripade mene patrnych hranic objektu pouzivam **vnejsi hranici**\n",
    "\n",
    "*Teoreticky by bylo mozne, ze by dochazelo k vektorizaci automaticky na zaklade hodnot pixelu (barev), ale nechce se mi nad tim premyslet, tak to delam rucne*\n",
    "***"
   ]
  },
  {
   "cell_type": "markdown",
   "metadata": {},
   "source": [
    "***\n",
    "* [Link na web](https://www.geoinformatics.upol.cz/member/mgr-tomas-vanicek)\n",
    "* [Link na cast notebooku](#createnew)\n",
    "***"
   ]
  },
  {
   "cell_type": "code",
   "execution_count": 4,
   "metadata": {},
   "outputs": [
    {
     "name": "stdout",
     "output_type": "stream",
     "text": [
      "2 3 5\n",
      "Hello, World!\n",
      "2\n",
      "3\n",
      "5\n"
     ]
    },
    {
     "data": {
      "text/plain": [
       "str"
      ]
     },
     "execution_count": 4,
     "metadata": {},
     "output_type": "execute_result"
    }
   ],
   "source": [
    "a = 2\n",
    "b = 3\n",
    "c = a + b\n",
    "print(a, b, c)\n",
    "\n",
    "print(\"Hello, World!\")\n",
    "print(a)\n",
    "print(b)\n",
    "print(c)\n",
    "\n",
    "d = 4.7\n",
    "text = \"polygon\"\n",
    "check = True\n",
    "olomouc = (17.2525828, 49.5886122)\n",
    "\n",
    "type(olomouc)\n",
    "\n",
    "olomouc = \"city\"\n",
    "type(olomouc)"
   ]
  },
  {
   "cell_type": "markdown",
   "metadata": {},
   "source": []
  }
 ],
 "metadata": {
  "kernelspec": {
   "display_name": "vanicek",
   "language": "python",
   "name": "python3"
  },
  "language_info": {
   "codemirror_mode": {
    "name": "ipython",
    "version": 3
   },
   "file_extension": ".py",
   "mimetype": "text/x-python",
   "name": "python",
   "nbconvert_exporter": "python",
   "pygments_lexer": "ipython3",
   "version": "3.12.2"
  }
 },
 "nbformat": 4,
 "nbformat_minor": 2
}

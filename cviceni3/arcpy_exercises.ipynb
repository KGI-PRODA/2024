{
 "cells": [
  {
   "cell_type": "markdown",
   "metadata": {},
   "source": [
    "# ArcGIS Notebook"
   ]
  },
  {
   "cell_type": "markdown",
   "metadata": {},
   "source": [
    "Založený na Jupyter Notebook"
   ]
  },
  {
   "cell_type": "markdown",
   "metadata": {},
   "source": [
    "### Zadanie"
   ]
  },
  {
   "cell_type": "markdown",
   "metadata": {},
   "source": [
    "1. Nastavte si .gdb vášho projektu ako workspace. Potom vyexportujte obec Lutín z vrstvy \"Obce – Body\" z ArcČR 3.3. Okolo tejto obce vytvorte 10 km buffer."
   ]
  },
  {
   "cell_type": "code",
   "execution_count": 4,
   "metadata": {},
   "outputs": [
    {
     "name": "stdout",
     "output_type": "stream",
     "text": [
      "arcpy imported\n",
      "Lutin exported\n",
      "buffer created\n"
     ]
    }
   ],
   "source": [
    "import arcpy\n",
    "print(\"arcpy imported\")\n",
    "#arcpy.env.overwriteOutput=True\n",
    "arcpy.env.workspace = r\"D:\\diplomka\\cvicenie\\cvicenie.gdb\"\n",
    "\n",
    "#arcpy.management.SelectLayerByAttribute(\"D:/ArcCR33/AdministrativniCleneni_v13.gdb/ObceBody\", \"NEW_SELECTION\", \"NAZ_OBEC = 'Lutín'\")\n",
    "arcpy.conversion.ExportFeatures(\"D:/ArcCR33/AdministrativniCleneni_v13.gdb/ObceBody\", \"lutin_bod\", \"NAZ_OBEC = 'Lutín'\")\n",
    "print(\"Lutin exported\")\n",
    "arcpy.analysis.Buffer(\"lutin_bod\", \"lutin_buffer\", \"10 Kilometers\")\n",
    "print(\"buffer created\")"
   ]
  },
  {
   "cell_type": "markdown",
   "metadata": {},
   "source": [
    "2. Nástrojom Clip orežte vrstvy z ArcČR 3.3 \"Lesy\", \"SidlaPlochy\", \"Silnice_2016\", \"VodniToky\" a \"Obce - Polygony\" vytvoreným bufferom a uložte ich do .gdb vášho projektu."
   ]
  },
  {
   "cell_type": "code",
   "execution_count": 7,
   "metadata": {},
   "outputs": [
    {
     "name": "stdout",
     "output_type": "stream",
     "text": [
      "everything clipped\n"
     ]
    }
   ],
   "source": [
    "acr = \"D:/ArcCR33/ArcCR500_v33.gdb/\"\n",
    "vstup = [acr+\"Lesy\", acr+\"SidlaPlochy\", acr+\"Silnice_2016\", acr+\"VodniToky\", \"D:/ArcCR33/AdministrativniCleneni_v13.gdb/ObcePolygony\"]\n",
    "vystup = [\"lesy_cl\", \"sidla_cl\", \"silnice_cl\", \"vodni_toky_cl\", \"obcepolygony_cl\"]\n",
    "\n",
    "for i in range(len(vstup)):\n",
    "    arcpy.analysis.Clip(vstup[i], \"lutin_buffer\", vystup[i])\n",
    "print(\"everything clipped\")"
   ]
  },
  {
   "cell_type": "markdown",
   "metadata": {},
   "source": [
    "3. Vypíšte extent a počet prvkov clipnutých vrstiev."
   ]
  },
  {
   "cell_type": "code",
   "execution_count": 11,
   "metadata": {},
   "outputs": [
    {
     "name": "stdout",
     "output_type": "stream",
     "text": [
      "pocet prvkov vo vrstve klzm_cl je 43\n",
      "extent: -566429,570263587 -1135284,15713008 -546429,572413199 -1115284,15743766 NaN NaN NaN NaN\n",
      " \n",
      "pocet prvkov vo vrstve lesy_cl je 6\n",
      "extent: -566407,920827255 -1127727,63159972 -558759,192145087 -1116357,87102816 NaN NaN NaN NaN\n",
      " \n",
      "pocet prvkov vo vrstve sidla_cl je 2\n",
      "extent: -561871,006530989 -1135283,99956685 -546609,807708215 -1119515,44309665 NaN NaN NaN NaN\n",
      " \n",
      "pocet prvkov vo vrstve silnice_cl je 163\n",
      "extent: -566424,082708199 -1135284,05387459 -546435,209696319 -1115409,62003461 NaN NaN NaN NaN\n",
      " \n",
      "pocet prvkov vo vrstve vodni_toky_cl je 27\n",
      "extent: -566356,937901143 -1135231,60690939 -546429,79131978 -1116064,56780489 NaN NaN NaN NaN\n",
      " \n",
      "pocet prvkov vo vrstve obcepolygony_cl je 43\n",
      "extent: -566429,570978286 -1135284,15708019 -546429,572365155 -1115284,1575 NaN NaN NaN NaN\n",
      " \n"
     ]
    }
   ],
   "source": [
    "for i in vystup:\n",
    "    cnt =  arcpy.management.GetCount(i)\n",
    "    print(f\"pocet prvkov vo vrstve {i} je {cnt}\")\n",
    "    dscrb = arcpy.Describe(i)\n",
    "    ext = dscrb.extent\n",
    "    print(f\"extent: {ext}\")\n",
    "    print(\" \")\n",
    "    "
   ]
  },
  {
   "cell_type": "markdown",
   "metadata": {},
   "source": [
    "4. Spočítajte celkovú dĺžku ciest vo vrstve \"silnice_cl\". Výsledok uveďte v km s presnosťou na 2 desatinné miesta. V tejto vrstve tiež nájdite najdlhšiu cestu a vypíšte jej dĺžku a ID."
   ]
  },
  {
   "cell_type": "code",
   "execution_count": 18,
   "metadata": {},
   "outputs": [
    {
     "name": "stdout",
     "output_type": "stream",
     "text": [
      "celkova dlzka ciest je 245.0529 km\n",
      "najdlhsia cesta ma id 85 a dlzku 6887.6805779802935 m\n"
     ]
    }
   ],
   "source": [
    "dlzka = 0\n",
    "maxdlzka = 0\n",
    "maxid = 0\n",
    "\n",
    "with arcpy.da.SearchCursor(\"silnice_cl\", [\"OBJECTID\", \"SHAPE_Length\"]) as cursor:\n",
    "    for row in cursor:\n",
    "        dlzka += row[1]\n",
    "        if row[1] > maxdlzka:\n",
    "            maxdlzka = row[1]\n",
    "            maxid = row[0]\n",
    "        \n",
    "print(\"celkova dlzka ciest je \" + str(round((dlzka/1000), 4)) + \" km\")\n",
    "print(f\"najdlhsia cesta ma id {maxid} a dlzku {maxdlzka} m\")"
   ]
  },
  {
   "cell_type": "markdown",
   "metadata": {},
   "source": [
    "5. Vypočítajte hustotu ciest (km/km2) v clipnutých obciach a zapíšte ju do nového atribútového poľa \"hustota\"."
   ]
  },
  {
   "cell_type": "code",
   "execution_count": 20,
   "metadata": {},
   "outputs": [
    {
     "name": "stdout",
     "output_type": "stream",
     "text": [
      "intersected\n"
     ]
    }
   ],
   "source": [
    "arcpy.analysis.Intersect([\"silnice_cl\", \"obcepolygony_cl\"], \"silnice_isect\", \"ONLY_FID\")\n",
    "print(\"intersected\")\n",
    "\n",
    "arcpy.management.Dissolve(\"silnice_isect\", \"silnice_isect_diss\", \"FID_obcepolygony_cl\")\n",
    "print(\"dissolved\")\n",
    "\n",
    "arcpy.management.AddField(\"silnice_isect_diss\", \"dlzka_ciest\", \"DOUBLE\")\n",
    "arcpy.management.CalculateField(\"silnice_isect_diss\", \"dlzka_ciest\", '!SHAPE_Length!')\n",
    "print(\"done\")\n",
    "\n",
    "arcpy.management.JoinField(\"obcepolygony_cl\", \"OBJECTID\", \"silnice_isect_diss\", \"FID_obcepolygony_cl\", [\"dlzka_ciest\"])\n",
    "arcpy.management.AddField(\"obcepolygony_cl\", \"hustota\", \"DOUBLE\")\n",
    "arcpy.management.CalculateField(\"obcepolygony_cl\", \"hustota\", '(!dlzka_ciest!/1000)/(!SHAPE_Area!/1000000)')\n",
    "print(\"hustota vypocitana\")"
   ]
  }
 ],
 "metadata": {
  "kernelspec": {
   "display_name": "ArcGISPro",
   "language": "Python",
   "name": "python3"
  },
  "language_info": {
   "file_extension": ".py",
   "name": "python",
   "version": "3"
  }
 },
 "nbformat": 4,
 "nbformat_minor": 4
}

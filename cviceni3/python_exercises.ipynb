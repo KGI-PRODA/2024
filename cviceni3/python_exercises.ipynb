{
 "cells": [
  {
   "cell_type": "markdown",
   "metadata": {},
   "source": [
    "# Python exercises"
   ]
  },
  {
   "cell_type": "markdown",
   "metadata": {},
   "source": [
    "This notebook contains 8 exercises that will train your Python skills and programmic thinking."
   ]
  },
  {
   "cell_type": "markdown",
   "metadata": {},
   "source": [
    "1) Write a code that asks user for an integer as an input and then prints whether it is even or odd."
   ]
  },
  {
   "cell_type": "code",
   "execution_count": 5,
   "metadata": {},
   "outputs": [
    {
     "name": "stdout",
     "output_type": "stream",
     "text": [
      "give me an integer: \n",
      "integer is even\n"
     ]
    }
   ],
   "source": [
    "print(\"give me an integer: \")\n",
    "number = int(input())\n",
    "\n",
    "if number % 2 == 0:\n",
    "    print(\"integer is even\")\n",
    "else:\n",
    "    print(\"integer is odd\")"
   ]
  },
  {
   "cell_type": "markdown",
   "metadata": {},
   "source": [
    "2) Edit the previous code in a new cell in such way, that it will take a given list of 6 integers instead of the user input and for each integer it will print whether it's even or odd."
   ]
  },
  {
   "cell_type": "markdown",
   "metadata": {},
   "source": [
    "3) Write a code that asks for your name as an user input and returns it in reverse (e.g. input: adam, output: mada)."
   ]
  },
  {
   "cell_type": "code",
   "execution_count": 10,
   "metadata": {},
   "outputs": [
    {
     "name": "stdout",
     "output_type": "stream",
     "text": [
      "dej mi jmeno\n",
      "Your name in reverse is: apep\n"
     ]
    }
   ],
   "source": [
    "print(\"dej mi jmeno\")\n",
    "text = str(input())\n",
    "reversename = text[::-1]\n",
    "\n",
    "if __name__ == \"__main__\":\n",
    "    text = input()\n",
    "    print(\"Your name in reverse is:\", reversename)\n"
   ]
  },
  {
   "cell_type": "markdown",
   "metadata": {},
   "source": [
    "4) Think of some sentence, save it in the variable ```sentence```, count the number of sentence's words and print this number."
   ]
  },
  {
   "cell_type": "markdown",
   "metadata": {},
   "source": [
    "5) Count the number of vowels in the name of Uruguay's capital and print this number."
   ]
  },
  {
   "cell_type": "markdown",
   "metadata": {},
   "source": [
    "6) Create 2 lists of integers, compare them, save the integers that are common for both lists into a new list and print this list."
   ]
  },
  {
   "cell_type": "markdown",
   "metadata": {},
   "source": [
    "7) Write a code that generates a random number between 1 and 10 and asks the user to guess the number. The code should give feedback on whether the guess was too high or too low, and keep asking for guesses until the correct number is guessed."
   ]
  },
  {
   "cell_type": "code",
   "execution_count": 11,
   "metadata": {},
   "outputs": [
    {
     "name": "stdout",
     "output_type": "stream",
     "text": [
      "Too high! Try again.\n",
      "Too high! Try again.\n",
      "Too high! Try again.\n",
      "Congratulations! You guessed the correct number: 1\n"
     ]
    }
   ],
   "source": [
    "import random\n",
    "\n",
    "def guess_number():\n",
    "    # vygeneruje číslo\n",
    "    secret_number = random.randint(1, 10)\n",
    "    \n",
    "    while True:\n",
    "        # zeptá se na číslo uživatele\n",
    "        guess = int(input(\"Guess the number between 1 and 10: \"))\n",
    "        \n",
    "        # a teď už hádá uživatel\n",
    "        if guess == secret_number:\n",
    "            print(\"Congratulations! You guessed the correct number:\", secret_number)\n",
    "            break\n",
    "        elif guess < secret_number:\n",
    "            print(\"Too low! Try again.\")\n",
    "        else:\n",
    "            print(\"Too high! Try again.\")\n",
    "\n",
    "if __name__ == \"__main__\":\n",
    "    guess_number()\n"
   ]
  },
  {
   "cell_type": "markdown",
   "metadata": {},
   "source": [
    "8) Do you know what Fibonacci sequence is? \n",
    "\n",
    "- Fibonacci sequence is a sequence in which each number is the sum of the two preceding ones. The sequence commonly starts from 0 and 1 as its first 2 numbers.\n",
    "\n",
    "- Print the first 12 Fibonacci numbers."
   ]
  },
  {
   "cell_type": "code",
   "execution_count": 12,
   "metadata": {},
   "outputs": [
    {
     "name": "stdout",
     "output_type": "stream",
     "text": [
      "The first 12 Fibonacci numbers are: [0, 1, 1, 2, 3, 5, 8, 13, 21, 34, 55, 89]\n"
     ]
    }
   ],
   "source": [
    "def fibonacci_sequence(n):\n",
    "    fibonacci = [0, 1]  # Initialize the sequence with the first two Fibonacci numbers\n",
    "    \n",
    "    # Generate the Fibonacci sequence up to the nth number\n",
    "    for i in range(2, n):\n",
    "        next_fib = fibonacci[-1] + fibonacci[-2]  # Calculate the next Fibonacci number\n",
    "        fibonacci.append(next_fib)  # Add the next Fibonacci number to the sequence\n",
    "    \n",
    "    return fibonacci\n",
    "\n",
    "if __name__ == \"__main__\":\n",
    "    n = 12  # Number of Fibonacci numbers to generate\n",
    "    fibonacci_numbers = fibonacci_sequence(n)\n",
    "    print(\"The first\", n, \"Fibonacci numbers are:\", fibonacci_numbers)\n"
   ]
  },
  {
   "cell_type": "markdown",
   "metadata": {},
   "source": [
    "## Code cells folded"
   ]
  },
  {
   "cell_type": "markdown",
   "metadata": {},
   "source": [
    "1."
   ]
  },
  {
   "cell_type": "code",
   "execution_count": 3,
   "metadata": {},
   "outputs": [
    {
     "name": "stdout",
     "output_type": "stream",
     "text": [
      "give me an integer: \n",
      "integer is even\n"
     ]
    }
   ],
   "source": [
    "print(\"give me an integer: \")\n",
    "number = int(input())\n",
    "\n",
    "if number % 2 == 0:\n",
    "    print(\"integer is even\")\n",
    "else:\n",
    "    print(\"integer is odd\")"
   ]
  },
  {
   "cell_type": "markdown",
   "metadata": {},
   "source": [
    "2."
   ]
  },
  {
   "cell_type": "code",
   "execution_count": null,
   "metadata": {},
   "outputs": [],
   "source": [
    "int_list = [0,1,2,3,4,5]\n",
    "\n",
    "for i in int_list:\n",
    "    if i % 2 == 0:\n",
    "        print(f\"integer {i} is even\")\n",
    "    else:\n",
    "        print(f\"integer {i} is odd\")"
   ]
  },
  {
   "cell_type": "markdown",
   "metadata": {},
   "source": [
    "3."
   ]
  },
  {
   "cell_type": "code",
   "execution_count": null,
   "metadata": {},
   "outputs": [],
   "source": [
    "print(\"write your name: \")\n",
    "name = input()\n",
    "name_backward = \"\"\n",
    "\n",
    "for i in range((len(name)-1), -1, -1):\n",
    "    name_backward += (name[i])\n",
    "    \n",
    "print(name_backward)"
   ]
  },
  {
   "cell_type": "markdown",
   "metadata": {},
   "source": [
    "4."
   ]
  },
  {
   "cell_type": "code",
   "execution_count": null,
   "metadata": {},
   "outputs": [],
   "source": [
    "sentence = \"Today is a very nice weather, exceptionally warm for February.\"\n",
    "words_list = sentence.split()\n",
    "print(f\"number of words in this sentence is: {len(words_list)}\")"
   ]
  },
  {
   "cell_type": "markdown",
   "metadata": {},
   "source": [
    "5."
   ]
  },
  {
   "cell_type": "code",
   "execution_count": null,
   "metadata": {},
   "outputs": [],
   "source": [
    "word = \"Montevideo\"\n",
    "vowels = \"aeiouy\"\n",
    "count = 0\n",
    "\n",
    "for i in word:\n",
    "    if i in vowels:\n",
    "        count += 1\n",
    "\n",
    "if count < 2:\n",
    "    print(f\"There is {count} vowel in the word '{word}'.\")\n",
    "else:\n",
    "    print(f\"There are {count} vowels in the word '{word}'.\")"
   ]
  },
  {
   "cell_type": "markdown",
   "metadata": {},
   "source": [
    "6."
   ]
  },
  {
   "cell_type": "code",
   "execution_count": null,
   "metadata": {},
   "outputs": [],
   "source": [
    "list_a = [1, 2, 3, 4, 5, 6]\n",
    "list_b = [4, 5, 6, 7, 8, 9]\n",
    "common = []\n",
    "\n",
    "for a in list_a:\n",
    "    for b in list_b:\n",
    "        if a == b:\n",
    "            common.append(b)\n",
    "        \n",
    "print(common)"
   ]
  },
  {
   "cell_type": "markdown",
   "metadata": {},
   "source": [
    "7."
   ]
  },
  {
   "cell_type": "code",
   "execution_count": null,
   "metadata": {},
   "outputs": [],
   "source": [
    "import random\n",
    "\n",
    "r = random.randint(1,10)   # https://www.w3schools.com/python/ref_random_randint.asp\n",
    "print(\"random integer was generated, give your guess: \")\n",
    "g = int(input())\n",
    "\n",
    "if g == r:\n",
    "    print(f\"You guessed it on the first try, you are a magician, it was {r}!\")\n",
    "else:\n",
    "    while g != r:\n",
    "        if g < r:\n",
    "            print(\"Incorrect guess, try greater number.\")\n",
    "        else:\n",
    "            print(\"Incorrect guess, try smaller number.\")\n",
    "        g = int(input())\n",
    "    print(f\"You guessed it, great job, it was {r}!\")"
   ]
  },
  {
   "cell_type": "markdown",
   "metadata": {},
   "source": [
    "8."
   ]
  },
  {
   "cell_type": "code",
   "execution_count": null,
   "metadata": {},
   "outputs": [],
   "source": [
    "count = 12\n",
    "fib = [0,1]\n",
    "\n",
    "for i in fib:\n",
    "    print(i)\n",
    "    \n",
    "for i in range(2, count):\n",
    "    fib.append(fib[i-1] + fib[i-2])\n",
    "    print(fib[i])"
   ]
  }
 ],
 "metadata": {
  "kernelspec": {
   "display_name": "ArcGISPro",
   "language": "Python",
   "name": "python3"
  },
  "language_info": {
   "codemirror_mode": {
    "name": "ipython",
    "version": 3
   },
   "file_extension": ".py",
   "mimetype": "text/x-python",
   "name": "python",
   "nbconvert_exporter": "python",
   "pygments_lexer": "ipython3",
   "version": "3.12.1"
  }
 },
 "nbformat": 4,
 "nbformat_minor": 4
}

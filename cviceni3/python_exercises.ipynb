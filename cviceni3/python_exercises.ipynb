{
 "cells": [
  {
   "cell_type": "markdown",
   "metadata": {},
   "source": [
    "# Python exercises"
   ]
  },
  {
   "cell_type": "markdown",
   "metadata": {},
   "source": [
    "This notebook contains 8 exercises that will train the programmic thinking. "
   ]
  },
  {
   "cell_type": "code",
   "execution_count": 1,
   "metadata": {},
   "outputs": [
    {
     "data": {
      "text/html": [
       "<script>\n",
       "code_show=true; \n",
       "function code_toggle() {\n",
       " if (code_show){\n",
       " $('div.input').hide();\n",
       " } else {\n",
       " $('div.input').show();\n",
       " }\n",
       " code_show = !code_show\n",
       "} \n",
       "$( document ).ready(code_toggle);\n",
       "</script>\n",
       "Come back to this cell and click <a href=\"javascript:code_toggle()\">Show Answers</a> <a class=\"anchor\" id=\"show_answers\"></a> to see what the code should look like."
      ],
      "text/plain": [
       "<IPython.core.display.HTML object>"
      ]
     },
     "execution_count": 1,
     "metadata": {},
     "output_type": "execute_result"
    }
   ],
   "source": [
    "from IPython.display import HTML\n",
    "\n",
    "HTML('''<script>\n",
    "code_show=true; \n",
    "function code_toggle() {\n",
    " if (code_show){\n",
    " $('div.input').hide();\n",
    " } else {\n",
    " $('div.input').show();\n",
    " }\n",
    " code_show = !code_show\n",
    "} \n",
    "$( document ).ready(code_toggle);\n",
    "</script>\n",
    "Come back to this cell and click <a href=\"javascript:code_toggle()\">Show Answers</a> <a class=\"anchor\" id=\"show_answers\"></a> to see what the code should look like.''')"
   ]
  },
  {
   "cell_type": "markdown",
   "metadata": {},
   "source": [
    "1) Write a code that asks user for an integer as an input and then prints whether it is even or odd."
   ]
  },
  {
   "cell_type": "code",
   "execution_count": 1,
   "metadata": {},
   "outputs": [
    {
     "name": "stdout",
     "output_type": "stream",
     "text": [
      "give me an integer: \n",
      "integer is even\n"
     ]
    }
   ],
   "source": [
    "print(\"give me an integer: \")\n",
    "number = int(input())\n",
    "if number % 2 == 0:\n",
    "    print(\"integer is even\")\n",
    "else:\n",
    "    print(\"integer is odd\")"
   ]
  },
  {
   "cell_type": "markdown",
   "metadata": {},
   "source": [
    "2) Edit the previous code in a new cell in such way, that it will take a given list of integers instead of the user input and for each integer it will print whether it's even or odd."
   ]
  },
  {
   "cell_type": "code",
   "execution_count": 2,
   "metadata": {},
   "outputs": [
    {
     "name": "stdout",
     "output_type": "stream",
     "text": [
      "integer 0 is even\n",
      "integer 1 is odd\n",
      "integer 2 is even\n",
      "integer 3 is odd\n",
      "integer 4 is even\n",
      "integer 5 is odd\n"
     ]
    }
   ],
   "source": [
    "int_list = [0,1,2,3,4,5]\n",
    "for i in int_list:\n",
    "    if i % 2 == 0:\n",
    "        print(f\"integer {i} is even\")\n",
    "    else:\n",
    "        print(f\"integer {i} is odd\")"
   ]
  },
  {
   "cell_type": "markdown",
   "metadata": {},
   "source": [
    "3) Napíšte kód, ktorý si po spustení vypýta vaše meno a vráti (vyprintuje) ho odzadu."
   ]
  },
  {
   "cell_type": "code",
   "execution_count": 4,
   "metadata": {},
   "outputs": [
    {
     "name": "stdout",
     "output_type": "stream",
     "text": [
      "napis svoje meno: \n",
      "adam\n",
      "mada\n"
     ]
    }
   ],
   "source": [
    "print(\"napis svoje meno: \")\n",
    "meno = input()\n",
    "meno_odzadu = \"\"\n",
    "for i in range((len(meno)-1), -1, -1):\n",
    "    meno_odzadu = meno_odzadu + (meno[i])\n",
    "print(meno_odzadu)"
   ]
  },
  {
   "cell_type": "markdown",
   "metadata": {},
   "source": [
    "4) Napíšte skript, ktorý si od užívateľa vypýta vetu, zráta počet slov vo vete a vypíše ho."
   ]
  },
  {
   "cell_type": "code",
   "execution_count": 11,
   "metadata": {},
   "outputs": [
    {
     "name": "stdout",
     "output_type": "stream",
     "text": [
      "napis vetu: \n",
      "I want a quick snack from Paul Snacks garden between block of flats.\n",
      "pocet slov v tejto vete je: 13\n"
     ]
    }
   ],
   "source": [
    "print(\"napis vetu: \")\n",
    "veta = input()\n",
    "z = veta.split()\n",
    "print(f\"pocet slov v tejto vete je: {len(z)}\")"
   ]
  },
  {
   "cell_type": "markdown",
   "metadata": {},
   "source": [
    "5) Napíšte kód, ktorý zráta počet samohlások v slove."
   ]
  },
  {
   "cell_type": "code",
   "execution_count": 5,
   "metadata": {},
   "outputs": [
    {
     "name": "stdout",
     "output_type": "stream",
     "text": [
      "daj slovo: \n"
     ]
    },
    {
     "name": "stdout",
     "output_type": "stream",
     "text": [
      " najnevyrukavickovanejsi\n"
     ]
    },
    {
     "name": "stdout",
     "output_type": "stream",
     "text": [
      "v slove najnevyrukavickovanejsi sa nachadza 10 samohlasok\n"
     ]
    }
   ],
   "source": [
    "print(\"daj slovo: \")\n",
    "slovo = input()\n",
    "samohlasky = \"aeiouy\"\n",
    "pocet = 0\n",
    "for i in slovo:\n",
    "    if i in samohlasky:\n",
    "        pocet += 1\n",
    "print(f\"v slove {slovo} sa nachadza {pocet} samohlasok\")"
   ]
  },
  {
   "cell_type": "markdown",
   "metadata": {},
   "source": [
    "6) Napíšte kód, ktorý zoberie 2 zoznamy čísel a vyprintuje tie čísla, ktoré sa nachádzajú v oboch zoznamoch."
   ]
  },
  {
   "cell_type": "code",
   "execution_count": 13,
   "metadata": {},
   "outputs": [
    {
     "name": "stdout",
     "output_type": "stream",
     "text": [
      "[4, 5]\n"
     ]
    }
   ],
   "source": [
    "a = [1,2,3,4,5]\n",
    "b = [4,5,6,7,8]\n",
    "#print(\"napis zoznam cisel, jednotlive cisla oddel medzerami: \")\n",
    "#a = input().split()\n",
    "#print(\"napis druhy zoznam cisel, cisla znovu oddel medzerami: \")\n",
    "#b = input().split()\n",
    "spolocne = []\n",
    "\n",
    "for i in a:\n",
    "    for j in b:\n",
    "        if i == j:\n",
    "            spolocne.append(j)\n",
    "        \n",
    "print(spolocne)"
   ]
  },
  {
   "cell_type": "markdown",
   "metadata": {},
   "source": [
    "7) Napíšte skript, ktorý vygeneruje náhodné číslo z intervalu 1-10 (vrátane 1 aj 10) a spýta sa užívateľa, nech si tipne, aké číslo vygeneroval. Skript vypíše, či uhádol alebo nie a pokiaľ nie, užívateľ tipuje ďalej až pokiaľ neuhádne. Skript po každom nesprávnom tipe vypíše, či bol tip menší alebo väčší ako vygenerované číslo."
   ]
  },
  {
   "cell_type": "code",
   "execution_count": 14,
   "metadata": {},
   "outputs": [
    {
     "name": "stdout",
     "output_type": "stream",
     "text": [
      "nahodne cislo z intervalu 1-10 bolo vygenerovane, daj tip: \n"
     ]
    },
    {
     "name": "stdout",
     "output_type": "stream",
     "text": [
      " 5\n"
     ]
    },
    {
     "name": "stdout",
     "output_type": "stream",
     "text": [
      "Neuhadol si, skus mensie cislo.\n"
     ]
    },
    {
     "name": "stdout",
     "output_type": "stream",
     "text": [
      " 2\n"
     ]
    },
    {
     "name": "stdout",
     "output_type": "stream",
     "text": [
      "Uhadol si, super, mas to za sebou!\n"
     ]
    }
   ],
   "source": [
    "import random\n",
    "r = random.randint(1,10)\n",
    "print(\"nahodne cislo z intervalu 1-10 bolo vygenerovane, daj tip: \")\n",
    "g = int(input())\n",
    "if g == r:\n",
    "    print(\"Uhadol si na prvy pokus, si dobry!\")\n",
    "else:\n",
    "    while g != r:\n",
    "        if g < r:\n",
    "            print(\"Neuhadol si, skus vacsie cislo.\")\n",
    "        else:\n",
    "            print(\"Neuhadol si, skus mensie cislo.\")\n",
    "        g = int(input())\n",
    "    print(\"Uhadol si, super, mas to za sebou!\")"
   ]
  },
  {
   "cell_type": "markdown",
   "metadata": {},
   "source": [
    "8) Napíšte kód, ktorý si vypýta číslo a vypíše práve toľko čísel Fibonacciho postupnosti, aké číslo bolo zadané na vstupe."
   ]
  },
  {
   "cell_type": "code",
   "execution_count": 2,
   "metadata": {},
   "outputs": [
    {
     "name": "stdout",
     "output_type": "stream",
     "text": [
      "zadaj pocet cisel Fibonacciho postupnosti, ktore chces vypisat: \n",
      "10\n",
      "0\n",
      "1\n",
      "1\n",
      "2\n",
      "3\n",
      "5\n",
      "8\n",
      "13\n",
      "21\n",
      "34\n"
     ]
    }
   ],
   "source": [
    "print(\"zadaj pocet cisel Fibonacciho postupnosti, ktore chces vypisat: \")\n",
    "pocet = int(input())\n",
    "fib = [0,1]\n",
    "\n",
    "for i in fib:\n",
    "    print(i)\n",
    "    \n",
    "for i in range(2, pocet):\n",
    "    fib.append(fib[i-1] + fib[i-2])\n",
    "    print(fib[i])"
   ]
  }
 ],
 "metadata": {
  "kernelspec": {
   "display_name": "ArcGISPro",
   "language": "Python",
   "name": "python3"
  },
  "language_info": {
   "codemirror_mode": {
    "name": "ipython",
    "version": 3
   },
   "file_extension": ".py",
   "mimetype": "text/x-python",
   "name": "python",
   "nbconvert_exporter": "python",
   "pygments_lexer": "ipython3",
   "version": "3.12.1"
  }
 },
 "nbformat": 4,
 "nbformat_minor": 4
}

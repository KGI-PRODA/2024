{
 "cells": [
  {
   "cell_type": "code",
   "execution_count": null,
   "metadata": {},
   "outputs": [],
   "source": []
  },
  {
   "cell_type": "markdown",
   "metadata": {},
   "source": [
    "# Nadpis 1. úrovně"
   ]
  },
  {
   "cell_type": "markdown",
   "metadata": {},
   "source": []
  },
  {
   "cell_type": "markdown",
   "metadata": {},
   "source": [
    "### Import a export dat v ArcGIS PRO\n",
    "\n",
    "1) Kontrola dat, zda jsou ve *správném* formátu\n",
    "2) Import **dat** podle nějakých specifik\n",
    "3) Manipulace s daty, úlohy (geoprocesing)\n",
    "\t3a) Vektorové operace, operace sousedství, měna geometrie\n",
    "4) analýzy dat a následná tvorba vizualizací\n",
    "5) export dat \n",
    "6) kontrola dat\n",
    "\t"
   ]
  },
  {
   "cell_type": "markdown",
   "metadata": {},
   "source": []
  },
  {
   "cell_type": "markdown",
   "metadata": {},
   "source": []
  }
 ],
 "metadata": {
  "kernelspec": {
   "display_name": "vyslouzil",
   "language": "python",
   "name": "python3"
  },
  "language_info": {
   "name": "python",
   "version": "3.12.1"
  }
 },
 "nbformat": 4,
 "nbformat_minor": 2
}

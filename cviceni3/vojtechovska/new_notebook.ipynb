{
 "cells": [
  {
   "cell_type": "markdown",
   "metadata": {},
   "source": [
    "# What a wonderful time to be alive"
   ]
  },
  {
   "cell_type": "markdown",
   "metadata": {},
   "source": [
    "## Spustenie viacerých kolokačných analýz pomocou arcpy v arcgis notebooku\n",
    "\n",
    "### ZOZNAM KROKOV\n",
    "1) stiahnutie LULC Urban Atlas datasetu\n",
    "2) orezanie na záujmovú oblasť\n",
    "3) agregácia kategórii do väčších skupín vhodných na kolokačnú analýzu\n",
    "4) prevod polygónovej zdrojovej vrstvy na bodovú\n",
    "5) nastavenie parametrov kolokačnej analýzy\n",
    "6) spustenie vo for cykloch\n",
    "\n",
    "### ZOZNAM MENŠÍCH ÚLOH\n",
    "- registrácia na copernicus, odkiaľ sa sťahujú Urban Atlas dáta\n",
    "- výber mesta\n",
    "- samotné stiahnutie\n",
    "- rozzipovanie a uloženie na vhodné miesto na disku\n",
    "---\n",
    "- pomocou nástroja Clip orezanie na Urban Core\n",
    "---\n",
    "- určenie kritéria, podľa ktorého agregujem kategórie do skupín\n",
    "- vymyslenie názvov skupín\n",
    "- pridanie nového poľa (stĺpec, atribút)\n",
    "- pomocou UpdateCursor naplnenie poľa názvami skupín\n",
    "---\n",
    "- cez FeatureToPoint vytvorenie centroidov z polygónovej vrstvy\n",
    "---\n",
    "- naštudovanie nastavení kolokačnej analýzy\n",
    "- výber viacerých možností parametrov, s ktorými chcem spustiť analýzu, uloženie do premenných a zoznamov\n",
    "---\n",
    "- v 1. for cykle jeden parameter (veľkosť susedstva)\n",
    "- v 2. for cykle druhý parameter (váhová schéma)\n",
    "- v 3. for cykle tretí parameter (počet permutácií)\n",
    "- ukladanie názvov výstupných vrstiev"
   ]
  },
  {
   "cell_type": "markdown",
   "metadata": {},
   "source": [
    "### Link\n",
    "- [Aha!](https://github.com/KGI-PRODA/PRODA-Materials-2024)\n",
    "- [Heading](###Link)\n"
   ]
  },
  {
   "cell_type": "markdown",
   "metadata": {},
   "source": [
    "<img class=\"wmx100 mx-auto my8 h-auto d-block\" width=\"139\" height=\"114\" src=\"https://cdn.sstatic.net/Img/teams/teams-illo-free-sidebar-promo.svg?v=47faa659a05e\" alt=\"\">\n"
   ]
  },
  {
   "cell_type": "code",
   "execution_count": 6,
   "metadata": {},
   "outputs": [
    {
     "name": "stdout",
     "output_type": "stream",
     "text": [
      "          *\n",
      "         ***\n",
      "        *****\n",
      "       *******\n",
      "      *********\n",
      "     ***********\n",
      "    *************\n",
      "   ***************\n",
      "  *****************\n",
      " *******************\n",
      "          *\n",
      "          *\n",
      "          *\n"
     ]
    }
   ],
   "source": [
    "# Print a christmas treeeeeeee\n",
    "\n",
    "for i in range(10):\n",
    "    print(\" \" * (10 - i) + \"*\" * (i * 2 + 1))\n",
    "\n",
    "print(\" \" * 10 + \"*\")\n",
    "print(\" \" * 10 + \"*\")\n",
    "print(\" \" * 10 + \"*\")\n"
   ]
  }
 ],
 "metadata": {
  "kernelspec": {
   "display_name": "prostredi-cviceni-2",
   "language": "python",
   "name": "python3"
  },
  "language_info": {
   "codemirror_mode": {
    "name": "ipython",
    "version": 3
   },
   "file_extension": ".py",
   "mimetype": "text/x-python",
   "name": "python",
   "nbconvert_exporter": "python",
   "pygments_lexer": "ipython3",
   "version": "3.12.1"
  }
 },
 "nbformat": 4,
 "nbformat_minor": 2
}

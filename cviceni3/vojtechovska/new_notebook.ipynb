{
 "cells": [
  {
   "cell_type": "markdown",
   "metadata": {},
   "source": [
    "# What a wonderful time to be alive"
   ]
  },
  {
   "cell_type": "markdown",
   "metadata": {},
   "source": [
    "## Spustenie viacerých kolokačných analýz pomocou arcpy v arcgis notebooku\n",
    "\n",
    "### ZOZNAM KROKOV\n",
    "1) stiahnutie LULC Urban Atlas datasetu\n",
    "2) orezanie na záujmovú oblasť\n",
    "3) agregácia kategórii do väčších skupín vhodných na kolokačnú analýzu\n",
    "4) prevod polygónovej zdrojovej vrstvy na bodovú\n",
    "5) nastavenie parametrov kolokačnej analýzy\n",
    "6) spustenie vo for cykloch\n",
    "\n",
    "### ZOZNAM MENŠÍCH ÚLOH\n",
    "- registrácia na copernicus, odkiaľ sa sťahujú Urban Atlas dáta\n",
    "- výber mesta\n",
    "- samotné stiahnutie\n",
    "- rozzipovanie a uloženie na vhodné miesto na disku\n",
    "\n",
    "- pomocou nástroja Clip orezanie na Urban Core\n",
    "\n",
    "- určenie kritéria, podľa ktorého agregujem kategórie do skupín\n",
    "- vymyslenie názvov skupín\n",
    "- pridanie nového poľa (stĺpec, atribút)\n",
    "- pomocou UpdateCursor naplnenie poľa názvami skupín\n",
    "\n",
    "- cez FeatureToPoint vytvorenie centroidov z polygónovej vrstvy\n",
    "\n",
    "- naštudovanie nastavení kolokačnej analýzy\n",
    "- výber viacerých možností parametrov, s ktorými chcem spustiť analýzu, uloženie do premenných a zoznamov\n",
    "\n",
    "- v 1. for cykle jeden parameter (veľkosť susedstva)\n",
    "- v 2. for cykle druhý parameter (váhová schéma)\n",
    "- v 3. for cykle tretí parameter (počet permutácií)\n",
    "- ukladanie názvov výstupných vrstiev"
   ]
  }
 ],
 "metadata": {
  "kernelspec": {
   "display_name": "prostredi-cviceni-2",
   "language": "python",
   "name": "python3"
  },
  "language_info": {
   "name": "python",
   "version": "3.12.1"
  }
 },
 "nbformat": 4,
 "nbformat_minor": 2
}

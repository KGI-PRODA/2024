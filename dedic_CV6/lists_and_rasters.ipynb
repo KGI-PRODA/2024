{
 "cells": [
  {
   "cell_type": "markdown",
   "metadata": {},
   "source": [
    "# Blok 1\n",
    "\n",
    "## Než začnu pracovat\n",
    "1. Mám pullnuté změny na hlavní větvi?\n",
    "2. Mám vytvořenou novou větev pro toto cvičení?\n",
    "3. Mám překopírovaný ipynb soubor do složky `cviceni6/vaseprijmeni`?\n",
    "\n",
    "## Jak na to\n",
    "Projděte si jednotlivé buňky, čtěte komentáře.\n",
    "\n",
    "Pokud Vám něco nebude fungovat, zkuste si prve danou věc opravit.\n",
    "\n",
    "Zkuste co nejvíce pracovat samostatně, pokud něco nebudu vědět:\n",
    "1. Zkusím Google\n",
    "2. Zkusím ChatGPT (správně popište problém)\n",
    "3. Zkusím se podívat do materiálů v Moodle\n",
    "\n",
    "## Úkol 1.1\n",
    "- Vše musí fungovat, pusťte každou buňku, opravte případnou chybu\n",
    "- Myslím, že Vám nebude fungovat cesta :)"
   ]
  },
  {
   "cell_type": "code",
   "execution_count": 2,
   "metadata": {},
   "outputs": [
    {
     "ename": "ImportError",
     "evalue": "DLL load failed while importing _base: Uvedený modul nebyl nalezen.",
     "output_type": "error",
     "traceback": [
      "\u001b[1;31m---------------------------------------------------------------------------\u001b[0m",
      "\u001b[1;31mImportError\u001b[0m                               Traceback (most recent call last)",
      "Cell \u001b[1;32mIn[2], line 1\u001b[0m\n\u001b[1;32m----> 1\u001b[0m \u001b[38;5;28;01mimport\u001b[39;00m \u001b[38;5;21;01mrasterio\u001b[39;00m\n\u001b[0;32m      4\u001b[0m \u001b[38;5;66;03m# Cesta k souboru TIF\u001b[39;00m\n\u001b[0;32m      5\u001b[0m \u001b[38;5;66;03m# Kdo bude frajer a použije Path objekt, dostane bezvýhradný obdiv\u001b[39;00m\n\u001b[0;32m      6\u001b[0m cesta_k_souboru \u001b[38;5;241m=\u001b[39m \u001b[38;5;124m'\u001b[39m\u001b[38;5;124m./flora.tif\u001b[39m\u001b[38;5;124m'\u001b[39m\n",
      "File \u001b[1;32mc:\\Users\\jande\\miniconda3\\envs\\dedic\\Lib\\site-packages\\rasterio\\__init__.py:9\u001b[0m\n\u001b[0;32m      6\u001b[0m \u001b[38;5;28;01mfrom\u001b[39;00m \u001b[38;5;21;01mlogging\u001b[39;00m \u001b[38;5;28;01mimport\u001b[39;00m NullHandler\n\u001b[0;32m      7\u001b[0m \u001b[38;5;28;01mfrom\u001b[39;00m \u001b[38;5;21;01mpathlib\u001b[39;00m \u001b[38;5;28;01mimport\u001b[39;00m Path\n\u001b[1;32m----> 9\u001b[0m \u001b[38;5;28;01mfrom\u001b[39;00m \u001b[38;5;21;01mrasterio\u001b[39;00m\u001b[38;5;21;01m.\u001b[39;00m\u001b[38;5;21;01m_base\u001b[39;00m \u001b[38;5;28;01mimport\u001b[39;00m gdal_version\n\u001b[0;32m     10\u001b[0m \u001b[38;5;28;01mfrom\u001b[39;00m \u001b[38;5;21;01mrasterio\u001b[39;00m\u001b[38;5;21;01m.\u001b[39;00m\u001b[38;5;21;01mdrivers\u001b[39;00m \u001b[38;5;28;01mimport\u001b[39;00m driver_from_extension, is_blacklisted\n\u001b[0;32m     11\u001b[0m \u001b[38;5;28;01mfrom\u001b[39;00m \u001b[38;5;21;01mrasterio\u001b[39;00m\u001b[38;5;21;01m.\u001b[39;00m\u001b[38;5;21;01mdtypes\u001b[39;00m \u001b[38;5;28;01mimport\u001b[39;00m (\n\u001b[0;32m     12\u001b[0m     bool_,\n\u001b[0;32m     13\u001b[0m     ubyte,\n\u001b[1;32m   (...)\u001b[0m\n\u001b[0;32m     25\u001b[0m     check_dtype,\n\u001b[0;32m     26\u001b[0m )\n",
      "\u001b[1;31mImportError\u001b[0m: DLL load failed while importing _base: Uvedený modul nebyl nalezen."
     ]
    }
   ],
   "source": [
    "import rasterio\n",
    "\n",
    "\n",
    "# Cesta k souboru TIF\n",
    "# Kdo bude frajer a použije Path objekt, dostane bezvýhradný obdiv\n",
    "cesta_k_souboru = './flora.tif'\n",
    "\n",
    "# Načtení obrazového souboru pomocí rasterio\n",
    "with rasterio.open(cesta_k_souboru) as obraz:\n",
    "\n",
    "    all_bands = obraz.read()\n",
    "    # Převedení kanálu na seznam seznamů (vnořených seznamů)\n",
    "    data_in_nested_list = all_bands.tolist()\n",
    "\n",
    "# Nyní je proměnná `data_in_nested_list` vnořený seznam,\n",
    "# kde každý vnitřní seznam reprezentuje jeden band a v něm vnitřní seznamy řádku obrazových dat\n"
   ]
  },
  {
   "cell_type": "code",
   "execution_count": null,
   "metadata": {},
   "outputs": [],
   "source": [
    "import matplotlib.pyplot as plt\n",
    "\n",
    "# Zobrazíme si první band jako obrázek\n",
    "plt.imshow(data_in_nested_list[1], cmap='gray')"
   ]
  },
  {
   "cell_type": "code",
   "execution_count": null,
   "metadata": {},
   "outputs": [],
   "source": [
    "#Zjistíme počet bandů\n",
    "print(len(data_in_nested_list))\n",
    "\n",
    "# Zjistíme počet řádků\n",
    "print(len(data_in_nested_list[0]))\n",
    "\n",
    "# Zjistíme počet hodnot v prvním řádku obrazových dat\n",
    "print(len(data_in_nested_list[0][0]))"
   ]
  },
  {
   "cell_type": "code",
   "execution_count": null,
   "metadata": {},
   "outputs": [],
   "source": [
    "# Nyní si zobrazíme předposlední hodnotu, předposledního řádku, předposledního bandu\n",
    "# Všimněte si, jak se k hodnotám vnořeného seznamu dostáváme!\n",
    "print(data_in_nested_list[-2][-2][-2])"
   ]
  },
  {
   "cell_type": "code",
   "execution_count": null,
   "metadata": {},
   "outputs": [],
   "source": [
    "# U tohoto posledního řádku, posledního bandu si zobrazíme poslední hodnoty na 55. až 57. pozici.\n",
    "# Všimněte si, že u slicingu je start včetně a end nevčetně.\n",
    "print(data_in_nested_list[-2][-2][55:58])"
   ]
  },
  {
   "cell_type": "code",
   "execution_count": null,
   "metadata": {},
   "outputs": [],
   "source": [
    "# Mohu si je vytisknout i obráceně pomocí krokování.\n",
    "# Všimněte si, jak se musejí start a end prohodit.\n",
    "print(data_in_nested_list[-2][-2][57:54:-1])"
   ]
  },
  {
   "cell_type": "markdown",
   "metadata": {},
   "source": [
    "## Úkol 1.2\n",
    "- Vytiskněte pomocí printu z 2. bandu na předposlední řádce prvních 5 hodnot.\n",
    "- Buňku spusťte."
   ]
  },
  {
   "cell_type": "code",
   "execution_count": null,
   "metadata": {},
   "outputs": [],
   "source": []
  },
  {
   "cell_type": "markdown",
   "metadata": {},
   "source": [
    "## Úkol 1.3\n",
    "Pozor! Pro vše použijete pouze selectování pomocí []!\n",
    "Pokud nebudu vědět, experimentuji! Udělám si třeba i buňku bokem a zkouším.\n",
    "\n",
    "- Vyberte první band rastru a uložte si jej do proměnné s názvem `band_upraveny`.\n",
    "- Pátému řádku přiřaďte hodnoty z 1. řádku.\n",
    "- Třicátému řádku přiřaďte hodnoty z toho samého řádku, ale v opačném pořadí!\n",
    "- Na padesátém řádku, u desáté hodnoty, nastavte hodnotu na 15000.\n",
    "- Zobrazte si výsledek o buňku dál a porovnejte s původními daty. Proč se obrázky liší, nebo neliší?"
   ]
  },
  {
   "cell_type": "code",
   "execution_count": null,
   "metadata": {},
   "outputs": [],
   "source": [
    "band_upraveny = data_in_nested_list[0]\n",
    "band_upraveny[4] = band_upraveny[0]\n",
    "band_upraveny[29] = band_upraveny[29][::-1]\n",
    "band_upraveny[50][4] = 15000\n"
   ]
  },
  {
   "cell_type": "code",
   "execution_count": null,
   "metadata": {},
   "outputs": [],
   "source": [
    "# Vizualizace dvou obrázků vedle sebe\n",
    "fig, (ax1, ax2) = plt.subplots(1, 2)\n",
    "ax1.imshow(data_in_nested_list[0], cmap='gray')\n",
    "ax1.set_title('Původní')\n",
    "ax2.imshow(band_upraveny, cmap='gray')\n",
    "ax2.set_title('Upravený')\n",
    "plt.show()"
   ]
  },
  {
   "cell_type": "markdown",
   "metadata": {},
   "source": [
    "## Úkol 1.4\n",
    "- Vytvořte první commit do nové větve. V commit message napište, co Vám dělalo největší problém."
   ]
  },
  {
   "cell_type": "markdown",
   "metadata": {},
   "source": [
    "# Blok 2\n",
    "Nyní víte něco málo o vestavěných funkcích, které lze použít s Listy, a metodách Listu.\n",
    "\n",
    "Pokud nevíte, jak udělat úkol, vězte, že stačí jednoduché aplikace funkcí či metod. Není třeba vymýšlet složité konstrukce.\n",
    "\n",
    "Jednodušší řešení = lepší řešení.\n",
    "\n",
    "Můžete si poáhat vytvářením referencí na jednotlivé části snímku, ať stále nepoužívate index selectory, pokud Vám jsou nepříjemné.\n",
    "\n",
    "## Úkol 2.1\n",
    "- Již jsme v prvním bloku použili jednu vestavěnou funkci pro zjištění počtu prvků v seznamu.\n",
    "- Napište kód, který vyprintuje počet řádků v posledním bandu snímku."
   ]
  },
  {
   "cell_type": "code",
   "execution_count": null,
   "metadata": {},
   "outputs": [],
   "source": []
  },
  {
   "cell_type": "markdown",
   "metadata": {},
   "source": [
    "## Úkol 2.2\n",
    "- Do 35. řádku 1. bandu přidejte metodou listu hodnotu 15000.\n",
    "- Odeberte nyní metodou listu první prvek.\n",
    "- Spusťe buňku se zobrazením rastru, abyste viděli změny. Pokud nevidíte změnu, možná jste omylem odebrali poslední prvek namísto prvního?\n",
    "- Je možné, že jste si experimentováním rozbili nahraný rastr. :) Pokud ano, nahrajte jej znovu (první buňka sešitu)"
   ]
  },
  {
   "cell_type": "code",
   "execution_count": null,
   "metadata": {},
   "outputs": [],
   "source": []
  },
  {
   "cell_type": "code",
   "execution_count": null,
   "metadata": {},
   "outputs": [],
   "source": [
    "plt.imshow(data_in_nested_list[0], cmap='gray')"
   ]
  },
  {
   "cell_type": "markdown",
   "metadata": {},
   "source": [
    "## Úkol 2.3\n",
    "- Vytiskni součet všech hodnot na předposledním řádku 2. bandu.\n",
    "- Vytiskni počet výskytu nul na 10. řádku od konce v posledním bandu.\n",
    "- Vytiskni maximální hodnotu 35. řádku 1. bandu.\n",
    "- Vytiskni List maximálních hodnot v 1. bandu (toto pozkoušejte, co Vám bude fungovat).\n",
    "- Vytiskni maximální hodnotu z Listu maximálních hodnot z předchozího kroku."
   ]
  },
  {
   "cell_type": "code",
   "execution_count": null,
   "metadata": {},
   "outputs": [],
   "source": []
  },
  {
   "cell_type": "markdown",
   "metadata": {},
   "source": [
    "## Úkol 2.4\n",
    "- Commitni změny, do zprávy commitu napiš maximální hodnotu z Listu maximálních hodnot z úlohy 2.3"
   ]
  },
  {
   "cell_type": "markdown",
   "metadata": {},
   "source": [
    "# Blok 3\n",
    "\n",
    "Jdeme na smyčky! Uplatníte všechny předešlé dovednosti plus for loops!\n",
    "\n",
    "## Úkol 3.1\n",
    "\n",
    "- Projděte a spusťte všechny bloky.\n",
    "- Zkuste jim všem do detailu porozumět.\n",
    "- Pokud něčemu nerozumíte, můžete kód upravovat, izolovat do menších celků, Googlit a ptát se. :)"
   ]
  },
  {
   "cell_type": "code",
   "execution_count": null,
   "metadata": {},
   "outputs": [],
   "source": [
    "# Mohu projít všechny řádky a oříznout obrázek tím, že vyberu pouze polovinu hodnot z řádků!\n",
    "\n",
    "# Vytvořím si prázdný seznam, do kterého budu ukládat upravené řádky\n",
    "oriznuty_band = []\n",
    "\n",
    "# Zjistím si počet hodnot v řádku (všechny stejné)\n",
    "pocet_hodnot_v_radku = len(data_in_nested_list[0][0])\n",
    "\n",
    "# Dělím 2, ať mám polovinu hodnot\n",
    "# Použiji //, ať mám celočíselné dělení!!!\n",
    "# Pro výběr indexů mohu použít pouze celá čísla\n",
    "polovina_hodnot = pocet_hodnot_v_radku//2\n",
    "\n",
    "# Projdu každý řádek v bandu\n",
    "for radek in data_in_nested_list[0]:\n",
    "    # Přidám do seznamu pouze první polovinu hodnot\n",
    "    oriznuty_band.append(radek[:polovina_hodnot])\n",
    "\n",
    "# Vytvořím si z toho nový obrázek pro kontrolu\n",
    "plt.imshow(oriznuty_band, cmap='gray')"
   ]
  },
  {
   "cell_type": "code",
   "execution_count": null,
   "metadata": {},
   "outputs": [],
   "source": [
    "# V tomto ořezu pak udělám transformaci dat!\n",
    "# Hodnoty umocním na třetí ať se nám lépe pracuje s rozdíly\n",
    "\n",
    "# Vytvořím si prázdný seznam, do kterého budu ukládat upravené řádky\n",
    "band_umocneny = []\n",
    "\n",
    "# Projdu každý řádek v bandu\n",
    "for radek in oriznuty_band:\n",
    "    # Projdu každou hodnotu v řádku\n",
    "    radek_umocneny = []\n",
    "    for hodnota in radek:\n",
    "        # Přidám do seznamu umocněnou hodnotu\n",
    "        radek_umocneny.append(hodnota**3)\n",
    "\n",
    "    # Přidám řádek do bandu\n",
    "    band_umocneny.append(radek_umocneny)\n",
    "\n",
    "# Vytvořím si z toho nový obrázek pro kontrolu\n",
    "plt.imshow(band_umocneny, cmap='gray')"
   ]
  },
  {
   "cell_type": "code",
   "execution_count": null,
   "metadata": {},
   "outputs": [],
   "source": [
    "band_umocneny = []\n",
    "\n",
    "for radek in oriznuty_band:\n",
    "    # Mohu použít List Comprehension pro zkrácení kódu\n",
    "    # Všimněte si, že tyto dva kódy dělají totéž!\n",
    "    radek_umocneny = [hodnota**3 for hodnota in radek]\n",
    "    band_umocneny.append(radek_umocneny)\n",
    "\n",
    "plt.imshow(band_umocneny, cmap='gray')"
   ]
  },
  {
   "cell_type": "code",
   "execution_count": null,
   "metadata": {},
   "outputs": [],
   "source": [
    "# List Comprehension mohu ale vnořit do sebe samého!\n",
    "# Mohu mít ještě elegantnější zápis!\n",
    "band_umocneny = [[hodnota**3 for hodnota in radek] for radek in oriznuty_band]\n",
    "plt.imshow(band_umocneny, cmap='gray')\n",
    "\n",
    "# Stále jde ale o stejný kód, jen zapsaný jinak!"
   ]
  },
  {
   "cell_type": "markdown",
   "metadata": {},
   "source": [
    "## Úloha 3.2\n",
    "- Vytvořte nový band z bandu číslo 1, který:\n",
    "    - Přetransformuje hodnoty ≤ 9000 na 0\n",
    "    - Hodnoty > 9000 na 1\n",
    "- Nemusíte používat List Comprehension, ale získáte si nehynoucí slávu, pokud jej využijete!\n",
    "- If/Else v List Comprehension může vypadat nějak takto: `hodnota_kdyz_splnena_podminka if podminka else hodnota_kdyz_nesplnena for hodnota in radek`"
   ]
  },
  {
   "cell_type": "code",
   "execution_count": null,
   "metadata": {},
   "outputs": [],
   "source": []
  },
  {
   "cell_type": "markdown",
   "metadata": {},
   "source": [
    "## Bonusová úloha\n",
    "- Nyní vytvořte band, který do své buňky přiřadí maximální hodnotu ze všech tří původních bandů.\n",
    "- Asi budete muset využít for i cyklus a funkce len a range. :)"
   ]
  },
  {
   "cell_type": "code",
   "execution_count": null,
   "metadata": {},
   "outputs": [],
   "source": []
  },
  {
   "cell_type": "markdown",
   "metadata": {},
   "source": [
    "## Úloha 3.3\n",
    "- Ulož změny, commitni změny.\n",
    "- Vytvoř nový Pull Request."
   ]
  },
  {
   "cell_type": "markdown",
   "metadata": {},
   "source": [
    "# Zvládli jsme to!\n",
    "\n",
    "Díky za pozornost a spolupráci!\n",
    "Těším se zase příště!\n",
    "\n",
    "![image.png](https://qph.cf2.quoracdn.net/main-qimg-4472b6229cb75bf66ab531f3ebd4f975-lq)"
   ]
  }
 ],
 "metadata": {
  "kernelspec": {
   "display_name": "Python 3",
   "language": "python",
   "name": "python3"
  },
  "language_info": {
   "codemirror_mode": {
    "name": "ipython",
    "version": 3
   },
   "file_extension": ".py",
   "mimetype": "text/x-python",
   "name": "python",
   "nbconvert_exporter": "python",
   "pygments_lexer": "ipython3",
   "version": "3.12.2"
  }
 },
 "nbformat": 4,
 "nbformat_minor": 2
}

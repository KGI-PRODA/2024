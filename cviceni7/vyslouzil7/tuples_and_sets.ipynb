{
 "cells": [
  {
   "cell_type": "markdown",
   "metadata": {},
   "source": [
    "# Cvičení 7: Tuples and Sets\n",
    "\n",
    "A je tady zas! Praktické cvičení!\n",
    "\n",
    "![So it begins](https://i.pinimg.com/originals/66/a4/a0/66a4a04a7611c82bcf1f24f5f18a0e6f.jpg)\n",
    "\n",
    "Po prvním bloku přednášky doporučuji udělat pouze první blok. :) Můžete naddělávat dopředu, pokud chcete, ale doporučuji si prve počkat na výklad.\n",
    "\n",
    "## Blok 1\n",
    "\n",
    "### Úkol 1.1\n",
    "Projděte si kód, spusťte si buňky. Ujistěte se, že rozumíte, jak v základu fungují tuples."
   ]
  },
  {
   "cell_type": "code",
   "execution_count": 2,
   "metadata": {},
   "outputs": [
    {
     "name": "stdout",
     "output_type": "stream",
     "text": [
      "(49.593778, 17.250878, 250.23)\n",
      "kocka\n"
     ]
    }
   ],
   "source": [
    "# Definujeme si tuple s jedním prvkem a tuple s třemi prvky\n",
    "muj_novy_tuple = (49.593778, 17.250878, 250.23) # x, y, z souřadnice\n",
    "tuple_s_jednim_prvkem = (\"kocka\")\n",
    "\n",
    "print(muj_novy_tuple)\n",
    "print(tuple_s_jednim_prvkem)"
   ]
  },
  {
   "cell_type": "code",
   "execution_count": 3,
   "metadata": {},
   "outputs": [
    {
     "name": "stdout",
     "output_type": "stream",
     "text": [
      "49.593778\n",
      "17.250878\n"
     ]
    }
   ],
   "source": [
    "print(muj_novy_tuple[0]) # vypíše první prvek\n",
    "print(muj_novy_tuple[1]) # vypíše druhý prvek"
   ]
  },
  {
   "cell_type": "code",
   "execution_count": 4,
   "metadata": {},
   "outputs": [
    {
     "name": "stdout",
     "output_type": "stream",
     "text": [
      "250.23\n",
      "17.250878\n"
     ]
    }
   ],
   "source": [
    "print(muj_novy_tuple[-1]) # vypíše poslední prvek\n",
    "print(muj_novy_tuple[-2]) # vypíše předposlední prvek"
   ]
  },
  {
   "cell_type": "code",
   "execution_count": 5,
   "metadata": {},
   "outputs": [
    {
     "name": "stdout",
     "output_type": "stream",
     "text": [
      "(49.593778, 17.250878)\n",
      "(49.593778, 17.250878)\n"
     ]
    }
   ],
   "source": [
    "print(muj_novy_tuple[0:2]) # vypíše první a druhý prvek\n",
    "print(muj_novy_tuple[:2]) # vypíše první a druhý prvek"
   ]
  },
  {
   "cell_type": "code",
   "execution_count": 7,
   "metadata": {},
   "outputs": [],
   "source": [
    "muj_novy_list = list(muj_novy_tuple)  # convert the tuple to a list\n",
    "muj_novy_list[0] = 50.0  # modify the element in the list\n",
    "muj_novy_tuple = tuple(muj_novy_list)  # convert the list back to a tuple\n"
   ]
  },
  {
   "cell_type": "code",
   "execution_count": 8,
   "metadata": {},
   "outputs": [
    {
     "name": "stdout",
     "output_type": "stream",
     "text": [
      "('betálná souřadnice x', 17.250878, 250.23)\n"
     ]
    }
   ],
   "source": [
    "# Ale můžeme vytvořit nový tuple, který bude obsahovat prvky z původního tuple\n",
    "muj_novejsi_tuple = (\"betálná souřadnice x\",) + muj_novy_tuple[1:]\n",
    "\n",
    "print(muj_novejsi_tuple)\n"
   ]
  },
  {
   "cell_type": "code",
   "execution_count": 9,
   "metadata": {},
   "outputs": [
    {
     "name": "stdout",
     "output_type": "stream",
     "text": [
      "((1, 2, 3), (4, 5, 6), (7, 8, 9))\n",
      "2\n"
     ]
    }
   ],
   "source": [
    "# Tuple může být vnořený\n",
    "vnořený_tuple = (\n",
    "    (1, 2, 3),\n",
    "    (4, 5, 6),\n",
    "    (7, 8, 9)\n",
    ")\n",
    "\n",
    "print(vnořený_tuple)\n",
    "print(vnořený_tuple[0][1]) # Vypíše z prvního tuple druhý prvek"
   ]
  },
  {
   "cell_type": "code",
   "execution_count": 10,
   "metadata": {},
   "outputs": [
    {
     "name": "stdout",
     "output_type": "stream",
     "text": [
      "(1, 2, 3)\n",
      "(4, 5, 6)\n",
      "(7, 8, 9)\n"
     ]
    }
   ],
   "source": [
    "# Tuple mohu iterovat\n",
    "for radek in vnořený_tuple:\n",
    "    print(radek)"
   ]
  },
  {
   "cell_type": "code",
   "execution_count": 11,
   "metadata": {},
   "outputs": [
    {
     "name": "stdout",
     "output_type": "stream",
     "text": [
      "---\n",
      "Novy radek s delkou 3, max hodnota je 3\n",
      "1\n",
      "2\n",
      "3\n",
      "---\n",
      "---\n",
      "Novy radek s delkou 3, max hodnota je 6\n",
      "4\n",
      "5\n",
      "6\n",
      "---\n",
      "---\n",
      "Novy radek s delkou 3, max hodnota je 9\n",
      "7\n",
      "8\n",
      "9\n",
      "---\n"
     ]
    }
   ],
   "source": [
    "# A používat vnořené smyčky a vestavěné funkce, které známe z listů\n",
    "for radek in vnořený_tuple:\n",
    "    print(\"---\")\n",
    "    print(f\"Novy radek s delkou {len(radek)}, max hodnota je {max(radek)}\")\n",
    "    for prvek in radek:\n",
    "        print(prvek)\n",
    "    print(\"---\")\n"
   ]
  },
  {
   "cell_type": "code",
   "execution_count": 12,
   "metadata": {},
   "outputs": [
    {
     "name": "stdout",
     "output_type": "stream",
     "text": [
      "Radek cislo 0 s hodnotami (1, 2, 3)\n",
      "Radek cislo 1 s hodnotami (4, 5, 6)\n",
      "Radek cislo 2 s hodnotami (7, 8, 9)\n"
     ]
    }
   ],
   "source": [
    "# Či použijeme for i cyklus\n",
    "for i in range(len(vnořený_tuple)):\n",
    "    print(f\"Radek cislo {i} s hodnotami {vnořený_tuple[i]}\")"
   ]
  },
  {
   "cell_type": "code",
   "execution_count": 13,
   "metadata": {},
   "outputs": [
    {
     "name": "stdout",
     "output_type": "stream",
     "text": [
      "529344067295497451\n",
      "529344067295497451\n",
      "-4363729961677198915\n"
     ]
    }
   ],
   "source": [
    "# Nezapomínejme, že tuple s neměnnými prvky je hashovatelný\n",
    "tuple_A = (1, 2, 3)\n",
    "tuple_B = (1, 2, 3)\n",
    "tuple_C = (1, 2, 4)\n",
    "\n",
    "print(hash(tuple_A))\n",
    "print(hash(tuple_B))\n",
    "print(hash(tuple_C))"
   ]
  },
  {
   "cell_type": "code",
   "execution_count": 14,
   "metadata": {},
   "outputs": [
    {
     "name": "stdout",
     "output_type": "stream",
     "text": [
      "Tuple_A a Tuple_B jsou stejné\n"
     ]
    }
   ],
   "source": [
    "# To můžeme využít k porovnání dvou tuple\n",
    "if hash(tuple_A) == hash(tuple_B):\n",
    "    print(\"Tuple_A a Tuple_B jsou stejné\")\n",
    "\n",
    "if hash(tuple_A) == hash(tuple_C):\n",
    "    print(\"Tuple_A a Tuple_C jsou stejné\")"
   ]
  },
  {
   "cell_type": "code",
   "execution_count": 16,
   "metadata": {},
   "outputs": [
    {
     "name": "stdout",
     "output_type": "stream",
     "text": [
      "3794340727080330424\n"
     ]
    }
   ],
   "source": [
    "# Pozor, pokud tuple obsahuje mutable prvky, tak už není hashovatelný\n",
    "tuple_D = (1, 2, tuple([3, 4])) # Convert the mutable list to a tuple\n",
    "\n",
    "print(hash(tuple_D))\n"
   ]
  },
  {
   "cell_type": "markdown",
   "metadata": {},
   "source": [
    "### Úkol 1.2\n",
    "Nyní první psaní! Prve si přečtěte kroky. Think before u code.\n",
    "\n",
    "1. Vytvořte si tuple se čtyřmi lat, lon souřadnicemi.\n",
    "2. Pomocí for i smyčky vytiskněte hash každé souřadnice. Každá vytištěná hash musí být stejná jako ta předchozí.\n",
    "3. Vytiskněte i hash celého tuple.\n",
    "\n",
    "Pod buňkou tedy budou čtyři identické hashe + jedna odlišná."
   ]
  },
  {
   "cell_type": "code",
   "execution_count": 19,
   "metadata": {},
   "outputs": [
    {
     "name": "stdout",
     "output_type": "stream",
     "text": [
      "((51.0447, 114.0719), (51.0447, 114.0719), (51.0447, 114.0719), (51.0447, 114.0719))\n",
      "-7750026448853299576\n",
      "-7750026448853299576\n",
      "-7750026448853299576\n",
      "-7750026448853299576\n",
      "5719252120249745915\n"
     ]
    }
   ],
   "source": [
    "# Define a tuple with four lat, lon coordinates\n",
    "coordinates_tuple = ((51.0447, 114.0719), (51.0447, 114.0719), (51.0447, 114.0719), (51.0447, 114.0719))\n",
    "print(coordinates_tuple)\n",
    "for coordinate in coordinates_tuple:\n",
    "    print(hash(coordinate))\n",
    "print(hash(coordinates_tuple))\n"
   ]
  },
  {
   "cell_type": "markdown",
   "metadata": {},
   "source": [
    "### Úkol 1.3\n",
    "\n",
    "Nyní stejné proměnné přiřaďte tuple, který použije první tři souřadnice z Vašeho původního tuple. Ověřte si výsledek funkcí print()."
   ]
  },
  {
   "cell_type": "code",
   "execution_count": 20,
   "metadata": {},
   "outputs": [
    {
     "name": "stdout",
     "output_type": "stream",
     "text": [
      "((51.0447, 114.0719), (51.0447, 114.0719), (51.0447, 114.0719), (51.0447, 114.0719))\n",
      "-7750026448853299576\n",
      "-7750026448853299576\n",
      "-7750026448853299576\n",
      "-7750026448853299576\n",
      "5719252120249745915\n",
      "((51.0447, 114.0719), (51.0447, 114.0719), (51.0447, 114.0719))\n"
     ]
    }
   ],
   "source": [
    "# Define a tuple with four lat, lon coordinates\n",
    "coordinates_tuple = ((51.0447, 114.0719), (51.0447, 114.0719), (51.0447, 114.0719), (51.0447, 114.0719))\n",
    "print(coordinates_tuple)\n",
    "for coordinate in coordinates_tuple:\n",
    "    print(hash(coordinate))\n",
    "print(hash(coordinates_tuple))\n",
    "coordinates_tuple = coordinates_tuple[:3]\n",
    "print(coordinates_tuple)\n"
   ]
  },
  {
   "cell_type": "markdown",
   "metadata": {},
   "source": [
    "### Úkol 1.4\n",
    "\n",
    "Použijte metodu pro zjištění, kolikrát se ve Vašem tuple nachází předposlední souřadnice daného tuple. Využijte:\n",
    "- příslušnou metodu\n",
    "- selectování pomocí indexů\n",
    "- a funkci print\n",
    "\n",
    "Nic jiného nepoužijte, výsledkem je jeden řádek kódu."
   ]
  },
  {
   "cell_type": "code",
   "execution_count": 24,
   "metadata": {},
   "outputs": [
    {
     "name": "stdout",
     "output_type": "stream",
     "text": [
      "1\n"
     ]
    }
   ],
   "source": [
    "print(muj_novy_tuple.count(muj_novy_tuple[-2]))\n",
    "\n"
   ]
  },
  {
   "cell_type": "markdown",
   "metadata": {},
   "source": [
    "## Blok 2\n",
    "### Úkol 2.1\n",
    "Projděte a spusťte všechny buňky."
   ]
  },
  {
   "cell_type": "code",
   "execution_count": 25,
   "metadata": {},
   "outputs": [
    {
     "name": "stdout",
     "output_type": "stream",
     "text": [
      "{1, 2, 3}\n"
     ]
    }
   ],
   "source": [
    "muj_set = {1, 2, 3}\n",
    "print(muj_set)"
   ]
  },
  {
   "cell_type": "code",
   "execution_count": 26,
   "metadata": {},
   "outputs": [
    {
     "name": "stdout",
     "output_type": "stream",
     "text": [
      "{'kocka', (1, 2, 3), 'pes', 1}\n"
     ]
    }
   ],
   "source": [
    "# Pokud přidáme duplicitní prvek, tak nebude přidán. Pes je v setu jen jednou.\n",
    "# Set je zároveň neuspořádaný.\n",
    "muj_set = {\"pes\", \"kocka\", \"pes\", (1, 2, 3), 1}\n",
    "print(muj_set)"
   ]
  },
  {
   "cell_type": "code",
   "execution_count": 28,
   "metadata": {},
   "outputs": [],
   "source": [
    "muj_set = {1, 2, tuple([3, 4])}\n"
   ]
  },
  {
   "cell_type": "code",
   "execution_count": 30,
   "metadata": {},
   "outputs": [],
   "source": [
    "muj_set = {1, 2, (3, 4, tuple([5, 6]))}\n"
   ]
  },
  {
   "cell_type": "code",
   "execution_count": 31,
   "metadata": {},
   "outputs": [
    {
     "name": "stdout",
     "output_type": "stream",
     "text": [
      "True\n",
      "False\n"
     ]
    }
   ],
   "source": [
    "# Pro sety je naprosto klíčový in operátor\n",
    "muj_set = {1, 2, 3}\n",
    "\n",
    "print(1 in muj_set)\n",
    "print(4 in muj_set)"
   ]
  },
  {
   "cell_type": "code",
   "execution_count": 32,
   "metadata": {},
   "outputs": [
    {
     "name": "stdout",
     "output_type": "stream",
     "text": [
      "True\n",
      "False\n",
      "True\n",
      "False\n"
     ]
    }
   ],
   "source": [
    "# Použít jej mohu i pro listy a tuple\n",
    "muj_list = [1, 2, 3]\n",
    "muj_tuple = (1, 2, 3)\n",
    "\n",
    "print(1 in muj_list)\n",
    "print(4 in muj_list)\n",
    "\n",
    "print(1 in muj_tuple)\n",
    "print(4 in muj_tuple)"
   ]
  },
  {
   "cell_type": "code",
   "execution_count": 33,
   "metadata": {},
   "outputs": [
    {
     "name": "stdout",
     "output_type": "stream",
     "text": [
      "False\n"
     ]
    }
   ],
   "source": [
    "# Jako každý operátor, i tento lze negovat\n",
    "print(1 not in muj_set)"
   ]
  },
  {
   "cell_type": "code",
   "execution_count": 34,
   "metadata": {},
   "outputs": [
    {
     "name": "stdout",
     "output_type": "stream",
     "text": [
      "True\n",
      "Čas pro set: 0.0 s\n",
      "True\n",
      "Čas pro list: 0.16453170776367188 s\n"
     ]
    }
   ],
   "source": [
    "# V setech je ale in operátor mnohem rychlejší, protože užívají hashovací tabulku\n",
    "\n",
    "import time\n",
    "\n",
    "muj_set = set(range(10000000))\n",
    "muj_list = list(range(10000000))\n",
    "\n",
    "start = time.time()\n",
    "print(9999999 in muj_set)\n",
    "print(f\"Čas pro set: {time.time() - start} s\")\n",
    "\n",
    "start = time.time()\n",
    "print(9999999 in muj_list)\n",
    "print(f\"Čas pro list: {time.time() - start} s\")\n"
   ]
  },
  {
   "cell_type": "code",
   "execution_count": 35,
   "metadata": {},
   "outputs": [
    {
     "name": "stdout",
     "output_type": "stream",
     "text": [
      "1\n",
      "2\n",
      "3\n"
     ]
    }
   ],
   "source": [
    "# Set je iterovatelný\n",
    "\n",
    "muj_set = {1, 2, 3}\n",
    "\n",
    "for prvek in muj_set:\n",
    "    print(prvek)"
   ]
  },
  {
   "cell_type": "code",
   "execution_count": 37,
   "metadata": {},
   "outputs": [
    {
     "name": "stdout",
     "output_type": "stream",
     "text": [
      "1\n",
      "2\n",
      "3\n"
     ]
    }
   ],
   "source": [
    "muj_set = {1, 2, 3}\n",
    "\n",
    "for element in muj_set:\n",
    "    print(element)\n"
   ]
  },
  {
   "cell_type": "code",
   "execution_count": 38,
   "metadata": {},
   "outputs": [
    {
     "name": "stdout",
     "output_type": "stream",
     "text": [
      "5\n",
      "1\n",
      "15\n"
     ]
    }
   ],
   "source": [
    "# Pro číselné sety mohu použít vestavěné funkce, které známe z listů a tuples\n",
    "muj_set = {1, 2, 3, 4, 5}\n",
    "\n",
    "print(max(muj_set))\n",
    "print(min(muj_set))\n",
    "print(sum(muj_set))"
   ]
  },
  {
   "cell_type": "markdown",
   "metadata": {},
   "source": [
    "### Úkol 2.2\n",
    "1. Definujte si vlastní set s šesti zvířaty žijícími na Slovensku.\n",
    "2. Definujte si druhý set s šesti zvířaty žijícími ve Švédsku.\n",
    "3. Nyní napište kód, který vytiskne, zda se liška nachází v prvním setu.\n",
    "4. Napište další kód, který vytiskne, zda se liška **NE**nachází v prvním setu."
   ]
  },
  {
   "cell_type": "code",
   "execution_count": 45,
   "metadata": {},
   "outputs": [
    {
     "name": "stdout",
     "output_type": "stream",
     "text": [
      "liška is in the set of animals in Slovakia.\n"
     ]
    }
   ],
   "source": [
    "animals_in_slovakia = {'medvěd', 'vlk', 'rys', 'jelen', 'liška', 'kormorán'}\n",
    "animals_in_sweden = {'sob', 'vlk', 'mozkomor', 'liška', 'vrána', 'losos'}\n",
    "if 'liška' in animals_in_slovakia:\n",
    "    print(\"liška is in the set of animals in Slovakia.\")\n",
    "else:\n",
    "    print(\"liška is not in the set of animals in Slovakia.\")\n",
    "\n",
    "    \n",
    "\n"
   ]
  },
  {
   "cell_type": "markdown",
   "metadata": {},
   "source": [
    "### Úkol 2.3\n",
    "\n",
    "1. Napište smyčku, která pro každý prvek setu slovenských zvířat vytiskne, z kolika písmen se název zvířete skládá.\n",
    "2. Tato smyčka musí vytisknout \"To je ale dlouhé zvíře!\" pokud počet znaků je větší než 5."
   ]
  },
  {
   "cell_type": "code",
   "execution_count": 46,
   "metadata": {},
   "outputs": [
    {
     "name": "stdout",
     "output_type": "stream",
     "text": [
      "The name of the animal rys consists of 3 letters.\n",
      "The name of the animal jelen consists of 5 letters.\n",
      "The name of the animal vlk consists of 3 letters.\n",
      "The name of the animal medvěd consists of 6 letters.\n",
      "To je ale dlouhé zvíře!\n",
      "The name of the animal liška consists of 5 letters.\n",
      "The name of the animal kormorán consists of 8 letters.\n",
      "To je ale dlouhé zvíře!\n"
     ]
    }
   ],
   "source": [
    "for animal in animals_in_slovakia:\n",
    "    print(f\"The name of the animal {animal} consists of {len(animal)} letters.\")\n",
    "    if len(animal) > 5:\n",
    "        print(\"To je ale dlouhé zvíře!\")\n"
   ]
  },
  {
   "cell_type": "markdown",
   "metadata": {},
   "source": [
    "### Úkol 2.4\n",
    "\n",
    "Překopírujte si smyčku z předchozího úkolu. Udělejte jedinou změnu. Místo vytisknutí \"To je ale dlouhé zvíře!\" se smyčka musí zcela zastavit, pokud narazí na zvíře s více než 5 znaky."
   ]
  },
  {
   "cell_type": "code",
   "execution_count": 48,
   "metadata": {},
   "outputs": [
    {
     "name": "stdout",
     "output_type": "stream",
     "text": [
      "The name of the animal rys consists of 3 letters.\n",
      "The name of the animal jelen consists of 5 letters.\n",
      "The name of the animal vlk consists of 3 letters.\n",
      "The name of the animal medvěd consists of 6 letters.\n"
     ]
    }
   ],
   "source": [
    "for animal in animals_in_slovakia:\n",
    "    print(f\"The name of the animal {animal} consists of {len(animal)} letters.\")\n",
    "    if len(animal) > 5:\n",
    "        break\n"
   ]
  },
  {
   "cell_type": "markdown",
   "metadata": {},
   "source": [
    "## Blok 3\n",
    "### Úkol 3.1 \n",
    "Víte, co v prvním úkole dělat:)"
   ]
  },
  {
   "cell_type": "code",
   "execution_count": 49,
   "metadata": {},
   "outputs": [
    {
     "name": "stdout",
     "output_type": "stream",
     "text": [
      "{(45.18, 12.98), 'kocka', 'pes'}\n"
     ]
    }
   ],
   "source": [
    "muj_set = {\"pes\", \"kocka\"}\n",
    "souradnice = (45.18, 12.98)\n",
    "\n",
    "muj_set.add(souradnice)\n",
    "print(muj_set) # {(45.18, 12.98), 'pes', 'kocka'}"
   ]
  },
  {
   "cell_type": "code",
   "execution_count": 50,
   "metadata": {},
   "outputs": [
    {
     "name": "stdout",
     "output_type": "stream",
     "text": [
      "{'kocka', 'pes'}\n"
     ]
    }
   ],
   "source": [
    "muj_set.remove(souradnice)\n",
    "print(muj_set) # {'pes', 'kocka'}"
   ]
  },
  {
   "cell_type": "code",
   "execution_count": 51,
   "metadata": {},
   "outputs": [
    {
     "name": "stdout",
     "output_type": "stream",
     "text": [
      "{1, 2, 3}\n",
      "{1, 2, 3}\n"
     ]
    }
   ],
   "source": [
    "set_A = {1, 2, 3, 4, 5}\n",
    "set_B = {4, 5, 6, 7, 8}\n",
    "\t\t\t\t\n",
    "print(set_A.difference(set_B))\n",
    "print(set_A - set_B)"
   ]
  },
  {
   "cell_type": "code",
   "execution_count": 52,
   "metadata": {},
   "outputs": [
    {
     "name": "stdout",
     "output_type": "stream",
     "text": [
      "{'bod_C1', 'bod_A1', 'bod_B2', 'bod_C3'}\n",
      "{'bod_C1', 'bod_A1', 'bod_B2', 'bod_C3'}\n"
     ]
    }
   ],
   "source": [
    "set_A = {\"bod_A1\", \"bod_C1\", \"bod_C3\"}\n",
    "set_B = {\"bod_A1\", \"bod_B2\", \"bod_C3\"}\n",
    "\n",
    "print(set_A.union(set_B))\n",
    "print(set_A | set_B)"
   ]
  },
  {
   "cell_type": "code",
   "execution_count": 53,
   "metadata": {},
   "outputs": [
    {
     "name": "stdout",
     "output_type": "stream",
     "text": [
      "{'bod_A1', 'bod_C3'}\n",
      "{'bod_A1', 'bod_C3'}\n"
     ]
    }
   ],
   "source": [
    "set_A = {\"bod_A1\", \"bod_C1\", \"bod_C3\"}\n",
    "set_B = {\"bod_A1\", \"bod_B2\", \"bod_C3\"}\n",
    "\n",
    "print(set_A.intersection(set_B))\n",
    "print(set_A & set_B)"
   ]
  },
  {
   "cell_type": "code",
   "execution_count": 54,
   "metadata": {},
   "outputs": [
    {
     "name": "stdout",
     "output_type": "stream",
     "text": [
      "{'bod_B2', 'bod_C1'}\n",
      "{'bod_B2', 'bod_C1'}\n"
     ]
    }
   ],
   "source": [
    "set_A = {\"bod_A1\", \"bod_C1\", \"bod_C3\"}\n",
    "set_B = {\"bod_A1\", \"bod_B2\", \"bod_C3\"}\n",
    "\n",
    "print(set_A.symmetric_difference(set_B))\n",
    "print(set_A ^ set_B) "
   ]
  },
  {
   "cell_type": "markdown",
   "metadata": {},
   "source": [
    "### Úkol 3.2\n",
    "\n",
    "1. Vyberte si jednu z množinových operací.\n",
    "2. Zamyslete se, jaký use-case této operace by se vám líbil. Ať už do diplomové práce, či jen proto, že vám přijde potenciálně užitečný.\n",
    "3. Vytvořte si sety a příklad, na němž danou operaci demonstrujete.\n",
    "4. Používejte komentáře pro vysvětlení, co demonstrujete."
   ]
  },
  {
   "cell_type": "code",
   "execution_count": 58,
   "metadata": {},
   "outputs": [
    {
     "name": "stdout",
     "output_type": "stream",
     "text": [
      "Společné zájmy mezi Uživatelem 1 a Uživatelem 2: {'hudba', 'cestování'}\n"
     ]
    }
   ],
   "source": [
    "# Vytisknout společné zájmy\n",
    "# Definujte zájmy dvou uživatelů\n",
    "zajmy_uzivatele1 = {\"hudba\", \"filmy\", \"sport\", \"cestování\", \"knihy\"}\n",
    "zajmy_uzivatele2 = {\"vaření\", \"cestování\", \"hudba\", \"fotografie\"}\n",
    "\n",
    "# Použijte operaci průniku k nalezení společných zájmů\n",
    "spolecne_zajmy = zajmy_uzivatele1.intersection(zajmy_uzivatele2)\n",
    "\n",
    "# Vytiskněte společné zájmy\n",
    "print(\"Společné zájmy mezi Uživatelem 1 a Uživatelem 2:\", spolecne_zajmy)\n",
    "\n"
   ]
  },
  {
   "cell_type": "markdown",
   "metadata": {},
   "source": [
    "Skvělé, že jsme toho dnes tolik udělali!\n",
    "\n",
    "![thatswhatshesaid](https://cdn4.whatculture.com/images/2022/08/66d1abebb4b4ac3f-1200x675.jpg)\n",
    "\n",
    "Díky za pozornost a užijte si zbytek dne!"
   ]
  }
 ],
 "metadata": {
  "kernelspec": {
   "display_name": "ABBA",
   "language": "python",
   "name": "python3"
  },
  "language_info": {
   "codemirror_mode": {
    "name": "ipython",
    "version": 3
   },
   "file_extension": ".py",
   "mimetype": "text/x-python",
   "name": "python",
   "nbconvert_exporter": "python",
   "pygments_lexer": "ipython3",
   "version": "3.9.16"
  }
 },
 "nbformat": 4,
 "nbformat_minor": 2
}

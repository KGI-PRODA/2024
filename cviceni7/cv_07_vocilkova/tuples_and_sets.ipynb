{
 "cells": [
  {
   "cell_type": "markdown",
   "metadata": {},
   "source": [
    "# Cvičení 7: Tuples and Sets\n",
    "\n",
    "A je tady zas! Praktické cvičení!\n",
    "\n",
    "![So it begins](https://i.pinimg.com/originals/66/a4/a0/66a4a04a7611c82bcf1f24f5f18a0e6f.jpg)\n",
    "\n",
    "Po prvním bloku přednášky doporučuji udělat pouze první blok. :) Můžete naddělávat dopředu, pokud chcete, ale doporučuji si prve počkat na výklad.\n",
    "\n",
    "## Blok 1\n",
    "\n",
    "### Úkol 1.1\n",
    "Projděte si kód, spusťte si buňky. Ujistěte se, že rozumíte, jak v základu fungují tuples."
   ]
  },
  {
   "cell_type": "code",
   "execution_count": null,
   "metadata": {},
   "outputs": [],
   "source": [
    "# Definujeme si tuple s jedním prvkem a tuple s třemi prvky\n",
    "muj_novy_tuple = (49.593778, 17.250878, 250.23) # x, y, z souřadnice\n",
    "tuple_s_jednim_prvkem = (\"kocka\",)\n",
    "\n",
    "print(muj_novy_tuple)\n",
    "print(tuple_s_jednim_prvkem)"
   ]
  },
  {
   "cell_type": "code",
   "execution_count": null,
   "metadata": {},
   "outputs": [],
   "source": [
    "print(muj_novy_tuple[0]) # vypíše první prvek\n",
    "print(muj_novy_tuple[1]) # vypíše druhý prvek"
   ]
  },
  {
   "cell_type": "code",
   "execution_count": null,
   "metadata": {},
   "outputs": [],
   "source": [
    "print(muj_novy_tuple[-1]) # vypíše poslední prvek\n",
    "print(muj_novy_tuple[-2]) # vypíše předposlední prvek"
   ]
  },
  {
   "cell_type": "code",
   "execution_count": null,
   "metadata": {},
   "outputs": [],
   "source": [
    "print(muj_novy_tuple[0:2]) # vypíše první a druhý prvek\n",
    "print(muj_novy_tuple[:2]) # vypíše první a druhý prvek"
   ]
  },
  {
   "cell_type": "code",
   "execution_count": null,
   "metadata": {},
   "outputs": [],
   "source": [
    "# Prvky v tuple nelze měnit\n",
    "muj_novy_tuple[0] = 50.0 # chyba"
   ]
  },
  {
   "cell_type": "code",
   "execution_count": null,
   "metadata": {},
   "outputs": [],
   "source": [
    "# Ale můžeme vytvořit nový tuple, který bude obsahovat prvky z původního tuple\n",
    "muj_novejsi_tuple = (\"betálná souřadnice x\",) + muj_novy_tuple[1:]\n",
    "\n",
    "print(muj_novejsi_tuple)"
   ]
  },
  {
   "cell_type": "code",
   "execution_count": null,
   "metadata": {},
   "outputs": [],
   "source": [
    "# Tuple může být vnořený\n",
    "vnořený_tuple = (\n",
    "    (1, 2, 3),\n",
    "    (4, 5, 6),\n",
    "    (7, 8, 9)\n",
    ")\n",
    "\n",
    "print(vnořený_tuple)\n",
    "print(vnořený_tuple[0][1]) # Vypíše z prvního tuple druhý prvek"
   ]
  },
  {
   "cell_type": "code",
   "execution_count": null,
   "metadata": {},
   "outputs": [],
   "source": [
    "# Tuple mohu iterovat\n",
    "for radek in vnořený_tuple:\n",
    "    print(radek)"
   ]
  },
  {
   "cell_type": "code",
   "execution_count": null,
   "metadata": {},
   "outputs": [],
   "source": [
    "# A používat vnořené smyčky a vestavěné funkce, které známe z listů\n",
    "for radek in vnořený_tuple:\n",
    "    print(\"---\")\n",
    "    print(f\"Novy radek s delkou {len(radek)}, max hodnota je {max(radek)}\")\n",
    "    for prvek in radek:\n",
    "        print(prvek)\n",
    "    print(\"---\")\n"
   ]
  },
  {
   "cell_type": "code",
   "execution_count": null,
   "metadata": {},
   "outputs": [],
   "source": [
    "# Či použijeme for i cyklus\n",
    "for i in range(len(vnořený_tuple)):\n",
    "    print(f\"Radek cislo {i} s hodnotami {vnořený_tuple[i]}\")"
   ]
  },
  {
   "cell_type": "code",
   "execution_count": null,
   "metadata": {},
   "outputs": [],
   "source": [
    "# Nezapomínejme, že tuple s neměnnými prvky je hashovatelný\n",
    "tuple_A = (1, 2, 3)\n",
    "tuple_B = (1, 2, 3)\n",
    "tuple_C = (1, 2, 4)\n",
    "\n",
    "print(hash(tuple_A))\n",
    "print(hash(tuple_B))\n",
    "print(hash(tuple_C))"
   ]
  },
  {
   "cell_type": "code",
   "execution_count": null,
   "metadata": {},
   "outputs": [],
   "source": [
    "# To můžeme využít k porovnání dvou tuple\n",
    "if hash(tuple_A) == hash(tuple_B):\n",
    "    print(\"Tuple_A a Tuple_B jsou stejné\")\n",
    "\n",
    "if hash(tuple_A) == hash(tuple_C):\n",
    "    print(\"Tuple_A a Tuple_C jsou stejné\")"
   ]
  },
  {
   "cell_type": "code",
   "execution_count": null,
   "metadata": {},
   "outputs": [],
   "source": [
    "# Pozor, pokud tuple obsahuje mutable prvky, tak už není hashovatelný\n",
    "tuple_D = (1, 2, [3, 4])\n",
    "\n",
    "print(hash(tuple_D)) # chyba"
   ]
  },
  {
   "cell_type": "markdown",
   "metadata": {},
   "source": [
    "### Úkol 1.2\n",
    "Nyní první psaní! Prve si přečtěte kroky. Think before u code.\n",
    "\n",
    "1. Vytvořte si tuple se čtyřmi lat, lon souřadnicemi.\n",
    "2. Pomocí for i smyčky vytiskněte hash každé souřadnice. Každá vytištěná hash musí být stejná jako ta předchozí.\n",
    "3. Vytiskněte i hash celého tuple.\n",
    "\n",
    "Pod buňkou tedy budou čtyři identické hashe + jedna odlišná."
   ]
  },
  {
   "cell_type": "code",
   "execution_count": null,
   "metadata": {},
   "outputs": [],
   "source": []
  },
  {
   "cell_type": "markdown",
   "metadata": {},
   "source": [
    "### Úkol 1.3\n",
    "\n",
    "Nyní stejné proměnné přiřaďte tuple, který použije první tři souřadnice z Vašeho původního tuple. Ověřte si výsledek funkcí print()."
   ]
  },
  {
   "cell_type": "code",
   "execution_count": null,
   "metadata": {},
   "outputs": [],
   "source": []
  },
  {
   "cell_type": "markdown",
   "metadata": {},
   "source": [
    "### Úkol 1.4\n",
    "\n",
    "Použijte metodu pro zjištění, kolikrát se ve Vašem tuple nachází předposlední souřadnice daného tuple. Využijte:\n",
    "- příslušnou metodu\n",
    "- selectování pomocí indexů\n",
    "- a funkci print\n",
    "\n",
    "Nic jiného nepoužijte, výsledkem je jeden řádek kódu."
   ]
  },
  {
   "cell_type": "code",
   "execution_count": null,
   "metadata": {},
   "outputs": [],
   "source": []
  },
  {
   "cell_type": "markdown",
   "metadata": {},
   "source": [
    "## Blok 2\n",
    "### Úkol 2.1\n",
    "Projděte a spusťte všechny buňky."
   ]
  },
  {
   "cell_type": "code",
   "execution_count": null,
   "metadata": {},
   "outputs": [],
   "source": [
    "muj_set = {1, 2, 3}\n",
    "print(muj_set)"
   ]
  },
  {
   "cell_type": "code",
   "execution_count": null,
   "metadata": {},
   "outputs": [],
   "source": [
    "# Pokud přidáme duplicitní prvek, tak nebude přidán. Pes je v setu jen jednou.\n",
    "# Set je zároveň neuspořádaný.\n",
    "muj_set = {\"pes\", \"kocka\", \"pes\", (1, 2, 3), 1}\n",
    "print(muj_set)"
   ]
  },
  {
   "cell_type": "code",
   "execution_count": null,
   "metadata": {},
   "outputs": [],
   "source": [
    "# Pokud se pokusíme přidat nehashable prvek, tak dostaneme chybu\n",
    "muj_set = {1, 2, [3, 4]} # chyba"
   ]
  },
  {
   "cell_type": "code",
   "execution_count": null,
   "metadata": {},
   "outputs": [],
   "source": [
    "# A to i v případě, že se pokusíme přidat tuple s mutable prvkem\n",
    "muj_set = {1, 2, (3, 4, [5, 6])} # chyba"
   ]
  },
  {
   "cell_type": "code",
   "execution_count": null,
   "metadata": {},
   "outputs": [],
   "source": [
    "# Pro sety je naprosto klíčový in operátor\n",
    "muj_set = {1, 2, 3}\n",
    "\n",
    "print(1 in muj_set)\n",
    "print(4 in muj_set)"
   ]
  },
  {
   "cell_type": "code",
   "execution_count": null,
   "metadata": {},
   "outputs": [],
   "source": [
    "# Použít jej mohu i pro listy a tuple\n",
    "muj_list = [1, 2, 3]\n",
    "muj_tuple = (1, 2, 3)\n",
    "\n",
    "print(1 in muj_list)\n",
    "print(4 in muj_list)\n",
    "\n",
    "print(1 in muj_tuple)\n",
    "print(4 in muj_tuple)"
   ]
  },
  {
   "cell_type": "code",
   "execution_count": null,
   "metadata": {},
   "outputs": [],
   "source": [
    "# Jako každý operátor, i tento lze negovat\n",
    "print(1 not in muj_set)"
   ]
  },
  {
   "cell_type": "code",
   "execution_count": null,
   "metadata": {},
   "outputs": [],
   "source": [
    "# V setech je ale in operátor mnohem rychlejší, protože užívají hashovací tabulku\n",
    "\n",
    "import time\n",
    "\n",
    "muj_set = set(range(10000000))\n",
    "muj_list = list(range(10000000))\n",
    "\n",
    "start = time.time()\n",
    "print(9999999 in muj_set)\n",
    "print(f\"Čas pro set: {time.time() - start} s\")\n",
    "\n",
    "start = time.time()\n",
    "print(9999999 in muj_list)\n",
    "print(f\"Čas pro list: {time.time() - start} s\")\n"
   ]
  },
  {
   "cell_type": "code",
   "execution_count": null,
   "metadata": {},
   "outputs": [],
   "source": [
    "# Set je iterovatelný\n",
    "\n",
    "muj_set = {1, 2, 3}\n",
    "\n",
    "for prvek in muj_set:\n",
    "    print(prvek)"
   ]
  },
  {
   "cell_type": "code",
   "execution_count": null,
   "metadata": {},
   "outputs": [],
   "source": [
    "# Ale jelikož není uspořádaný, tak nemohu použít indexování, tudíž ani for i cyklus\n",
    "muj_set = {1, 2, 3}\n",
    "\n",
    "for i in range(len(muj_set)):\n",
    "    print(muj_set[i]) # chyba"
   ]
  },
  {
   "cell_type": "code",
   "execution_count": null,
   "metadata": {},
   "outputs": [],
   "source": [
    "# Pro číselné sety mohu použít vestavěné funkce, které známe z listů a tuples\n",
    "muj_set = {1, 2, 3, 4, 5}\n",
    "\n",
    "print(max(muj_set))\n",
    "print(min(muj_set))\n",
    "print(sum(muj_set))"
   ]
  },
  {
   "cell_type": "markdown",
   "metadata": {},
   "source": [
    "### Úkol 2.2\n",
    "1. Definujte si vlastní set s šesti zvířaty žijícími na Slovensku.\n",
    "2. Definujte si druhý set s šesti zvířaty žijícími ve Švédsku.\n",
    "3. Nyní napište kód, který vytiskne, zda se liška nachází v prvním setu.\n",
    "4. Napište další kód, který vytiskne, zda se liška **NE**nachází v prvním setu."
   ]
  },
  {
   "cell_type": "code",
   "execution_count": null,
   "metadata": {},
   "outputs": [],
   "source": []
  },
  {
   "cell_type": "markdown",
   "metadata": {},
   "source": [
    "### Úkol 2.3\n",
    "\n",
    "1. Napište smyčku, která pro každý prvek setu slovenských zvířat vytiskne, z kolika písmen se název zvířete skládá.\n",
    "2. Tato smyčka musí vytisknout \"To je ale dlouhé zvíře!\" pokud počet znaků je větší než 5."
   ]
  },
  {
   "cell_type": "code",
   "execution_count": null,
   "metadata": {},
   "outputs": [],
   "source": []
  },
  {
   "cell_type": "markdown",
   "metadata": {},
   "source": [
    "### Úkol 2.4\n",
    "\n",
    "Překopírujte si smyčku z předchozího úkolu. Udělejte jedinou změnu. Místo vytisknutí \"To je ale dlouhé zvíře!\" se smyčka musí zcela zastavit, pokud narazí na zvíře s více než 5 znaky."
   ]
  },
  {
   "cell_type": "code",
   "execution_count": null,
   "metadata": {},
   "outputs": [],
   "source": []
  },
  {
   "cell_type": "markdown",
   "metadata": {},
   "source": [
    "## Blok 3\n",
    "### Úkol 3.1 \n",
    "Víte, co v prvním úkole dělat:)"
   ]
  },
  {
   "cell_type": "code",
   "execution_count": null,
   "metadata": {},
   "outputs": [],
   "source": [
    "muj_set = {\"pes\", \"kocka\"}\n",
    "souradnice = (45.18, 12.98)\n",
    "\n",
    "muj_set.add(souradnice)\n",
    "print(muj_set) # {(45.18, 12.98), 'pes', 'kocka'}"
   ]
  },
  {
   "cell_type": "code",
   "execution_count": null,
   "metadata": {},
   "outputs": [],
   "source": [
    "muj_set.remove(souradnice)\n",
    "print(muj_set) # {'pes', 'kocka'}"
   ]
  },
  {
   "cell_type": "code",
   "execution_count": null,
   "metadata": {},
   "outputs": [],
   "source": [
    "set_A = {1, 2, 3, 4, 5}\n",
    "set_B = {4, 5, 6, 7, 8}\n",
    "\t\t\t\t\n",
    "print(set_A.difference(set_B))\n",
    "print(set_A - set_B)"
   ]
  },
  {
   "cell_type": "code",
   "execution_count": null,
   "metadata": {},
   "outputs": [],
   "source": [
    "set_A = {\"bod_A1\", \"bod_C1\", \"bod_C3\"}\n",
    "set_B = {\"bod_A1\", \"bod_B2\", \"bod_C3\"}\n",
    "\n",
    "print(set_A.union(set_B))\n",
    "print(set_A | set_B)"
   ]
  },
  {
   "cell_type": "code",
   "execution_count": null,
   "metadata": {},
   "outputs": [],
   "source": [
    "set_A = {\"bod_A1\", \"bod_C1\", \"bod_C3\"}\n",
    "set_B = {\"bod_A1\", \"bod_B2\", \"bod_C3\"}\n",
    "\n",
    "print(set_A.intersection(set_B))\n",
    "print(set_A & set_B)"
   ]
  },
  {
   "cell_type": "code",
   "execution_count": null,
   "metadata": {},
   "outputs": [],
   "source": [
    "set_A = {\"bod_A1\", \"bod_C1\", \"bod_C3\"}\n",
    "set_B = {\"bod_A1\", \"bod_B2\", \"bod_C3\"}\n",
    "\n",
    "print(set_A.symmetric_difference(set_B))\n",
    "print(set_A ^ set_B) "
   ]
  },
  {
   "cell_type": "markdown",
   "metadata": {},
   "source": [
    "### Úkol 3.2\n",
    "\n",
    "1. Vyberte si jednu z množinových operací.\n",
    "2. Zamyslete se, jaký use-case této operace by se vám líbil. Ať už do diplomové práce, či jen proto, že vám přijde potenciálně užitečný.\n",
    "3. Vytvořte si sety a příklad, na němž danou operaci demonstrujete.\n",
    "4. Používejte komentáře pro vysvětlení, co demonstrujete."
   ]
  },
  {
   "cell_type": "code",
   "execution_count": null,
   "metadata": {},
   "outputs": [],
   "source": []
  },
  {
   "cell_type": "markdown",
   "metadata": {},
   "source": [
    "Skvělé, že jsme toho dnes tolik udělali!\n",
    "\n",
    "![thatswhatshesaid](https://cdn4.whatculture.com/images/2022/08/66d1abebb4b4ac3f-1200x675.jpg)\n",
    "\n",
    "Díky za pozornost a užijte si zbytek dne!"
   ]
  }
 ],
 "metadata": {
  "kernelspec": {
   "display_name": "ABBA",
   "language": "python",
   "name": "python3"
  },
  "language_info": {
   "codemirror_mode": {
    "name": "ipython",
    "version": 3
   },
   "file_extension": ".py",
   "mimetype": "text/x-python",
   "name": "python",
   "nbconvert_exporter": "python",
   "pygments_lexer": "ipython3",
   "version": "3.12.2"
  }
 },
 "nbformat": 4,
 "nbformat_minor": 2
}

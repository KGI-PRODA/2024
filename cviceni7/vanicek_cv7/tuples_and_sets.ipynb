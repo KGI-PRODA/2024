{
 "cells": [
  {
   "cell_type": "markdown",
   "metadata": {},
   "source": [
    "# Cvičení 7: Tuples and Sets\n",
    "\n",
    "A je tady zas! Praktické cvičení!\n",
    "\n",
    "![So it begins](https://i.pinimg.com/originals/66/a4/a0/66a4a04a7611c82bcf1f24f5f18a0e6f.jpg)\n",
    "\n",
    "Po prvním bloku přednášky doporučuji udělat pouze první blok. :) Můžete naddělávat dopředu, pokud chcete, ale doporučuji si prve počkat na výklad.\n",
    "\n",
    "## Blok 1\n",
    "\n",
    "### Úkol 1.1\n",
    "Projděte si kód, spusťte si buňky. Ujistěte se, že rozumíte, jak v základu fungují tuples."
   ]
  },
  {
   "cell_type": "code",
   "execution_count": 5,
   "metadata": {},
   "outputs": [
    {
     "name": "stdout",
     "output_type": "stream",
     "text": [
      "(49.593778, 17.250878, 250.23)\n",
      "kocka\n"
     ]
    }
   ],
   "source": [
    "# Definujeme si tuple s jedním prvkem a tuple s třemi prvky\n",
    "muj_novy_tuple = (49.593778, 17.250878, 250.23) # x, y, z souřadnice\n",
    "tuple_s_jednim_prvkem = (\"kocka\")\n",
    "\n",
    "print(muj_novy_tuple)\n",
    "print(tuple_s_jednim_prvkem)"
   ]
  },
  {
   "cell_type": "code",
   "execution_count": 6,
   "metadata": {},
   "outputs": [
    {
     "name": "stdout",
     "output_type": "stream",
     "text": [
      "49.593778\n",
      "17.250878\n"
     ]
    }
   ],
   "source": [
    "print(muj_novy_tuple[0]) # vypíše první prvek\n",
    "print(muj_novy_tuple[1]) # vypíše druhý prvek"
   ]
  },
  {
   "cell_type": "code",
   "execution_count": 7,
   "metadata": {},
   "outputs": [
    {
     "name": "stdout",
     "output_type": "stream",
     "text": [
      "250.23\n",
      "17.250878\n"
     ]
    }
   ],
   "source": [
    "print(muj_novy_tuple[-1]) # vypíše poslední prvek\n",
    "print(muj_novy_tuple[-2]) # vypíše předposlední prvek"
   ]
  },
  {
   "cell_type": "code",
   "execution_count": 9,
   "metadata": {},
   "outputs": [
    {
     "name": "stdout",
     "output_type": "stream",
     "text": [
      "(49.593778, 17.250878)\n",
      "(49.593778, 17.250878)\n"
     ]
    }
   ],
   "source": [
    "print(muj_novy_tuple[0:2]) # vypíše první až druhý prvek\n",
    "print(muj_novy_tuple[:2]) # vypíše první až druhý prvek"
   ]
  },
  {
   "cell_type": "code",
   "execution_count": 10,
   "metadata": {},
   "outputs": [
    {
     "ename": "TypeError",
     "evalue": "'tuple' object does not support item assignment",
     "output_type": "error",
     "traceback": [
      "\u001b[1;31m---------------------------------------------------------------------------\u001b[0m",
      "\u001b[1;31mTypeError\u001b[0m                                 Traceback (most recent call last)",
      "Cell \u001b[1;32mIn[10], line 2\u001b[0m\n\u001b[0;32m      1\u001b[0m \u001b[38;5;66;03m# Prvky v tuple nelze měnit\u001b[39;00m\n\u001b[1;32m----> 2\u001b[0m \u001b[43mmuj_novy_tuple\u001b[49m\u001b[43m[\u001b[49m\u001b[38;5;241;43m0\u001b[39;49m\u001b[43m]\u001b[49m \u001b[38;5;241m=\u001b[39m \u001b[38;5;241m50.0\u001b[39m \u001b[38;5;66;03m# chyba\u001b[39;00m\n",
      "\u001b[1;31mTypeError\u001b[0m: 'tuple' object does not support item assignment"
     ]
    }
   ],
   "source": [
    "# Prvky v tuple nelze měnit\n",
    "muj_novy_tuple[0] = 50.0 # chyba"
   ]
  },
  {
   "cell_type": "code",
   "execution_count": 11,
   "metadata": {},
   "outputs": [
    {
     "name": "stdout",
     "output_type": "stream",
     "text": [
      "('betálná souřadnice x', 17.250878, 250.23)\n"
     ]
    }
   ],
   "source": [
    "# Ale můžeme vytvořit nový tuple, který bude obsahovat prvky z původního tuple\n",
    "muj_novejsi_tuple = (\"betálná souřadnice x\",) + muj_novy_tuple[1:]\n",
    "\n",
    "print(muj_novejsi_tuple)"
   ]
  },
  {
   "cell_type": "code",
   "execution_count": 12,
   "metadata": {},
   "outputs": [
    {
     "name": "stdout",
     "output_type": "stream",
     "text": [
      "((1, 2, 3), (4, 5, 6), (7, 8, 9))\n",
      "2\n"
     ]
    }
   ],
   "source": [
    "# Tuple může být vnořený\n",
    "vnořený_tuple = (\n",
    "    (1, 2, 3),\n",
    "    (4, 5, 6),\n",
    "    (7, 8, 9)\n",
    ")\n",
    "\n",
    "print(vnořený_tuple)\n",
    "print(vnořený_tuple[0][1]) # Vypíše z prvního tuple druhý prvek"
   ]
  },
  {
   "cell_type": "code",
   "execution_count": 13,
   "metadata": {},
   "outputs": [
    {
     "name": "stdout",
     "output_type": "stream",
     "text": [
      "(1, 2, 3)\n",
      "(4, 5, 6)\n",
      "(7, 8, 9)\n"
     ]
    }
   ],
   "source": [
    "# Tuple mohu iterovat\n",
    "for radek in vnořený_tuple:\n",
    "    print(radek)"
   ]
  },
  {
   "cell_type": "code",
   "execution_count": 14,
   "metadata": {},
   "outputs": [
    {
     "name": "stdout",
     "output_type": "stream",
     "text": [
      "---\n",
      "Novy radek s delkou 3, max hodnota je 3\n",
      "1\n",
      "2\n",
      "3\n",
      "---\n",
      "---\n",
      "Novy radek s delkou 3, max hodnota je 6\n",
      "4\n",
      "5\n",
      "6\n",
      "---\n",
      "---\n",
      "Novy radek s delkou 3, max hodnota je 9\n",
      "7\n",
      "8\n",
      "9\n",
      "---\n"
     ]
    }
   ],
   "source": [
    "# A používat vnořené smyčky a vestavěné funkce, které známe z listů\n",
    "for radek in vnořený_tuple:\n",
    "    print(\"---\")\n",
    "    print(f\"Novy radek s delkou {len(radek)}, max hodnota je {max(radek)}\")\n",
    "    for prvek in radek:\n",
    "        print(prvek)\n",
    "    print(\"---\")\n"
   ]
  },
  {
   "cell_type": "code",
   "execution_count": 15,
   "metadata": {},
   "outputs": [
    {
     "name": "stdout",
     "output_type": "stream",
     "text": [
      "Radek cislo 0 s hodnotami (1, 2, 3)\n",
      "Radek cislo 1 s hodnotami (4, 5, 6)\n",
      "Radek cislo 2 s hodnotami (7, 8, 9)\n"
     ]
    }
   ],
   "source": [
    "# Či použijeme for i cyklus\n",
    "for i in range(len(vnořený_tuple)):\n",
    "    print(f\"Radek cislo {i} s hodnotami {vnořený_tuple[i]}\")"
   ]
  },
  {
   "cell_type": "code",
   "execution_count": 16,
   "metadata": {},
   "outputs": [
    {
     "name": "stdout",
     "output_type": "stream",
     "text": [
      "529344067295497451\n",
      "529344067295497451\n",
      "-4363729961677198915\n"
     ]
    }
   ],
   "source": [
    "# Nezapomínejme, že tuple s neměnnými prvky je hashovatelný\n",
    "tuple_A = (1, 2, 3)\n",
    "tuple_B = (1, 2, 3)\n",
    "tuple_C = (1, 2, 4)\n",
    "\n",
    "print(hash(tuple_A))\n",
    "print(hash(tuple_B))\n",
    "print(hash(tuple_C))"
   ]
  },
  {
   "cell_type": "code",
   "execution_count": 17,
   "metadata": {},
   "outputs": [
    {
     "name": "stdout",
     "output_type": "stream",
     "text": [
      "Tuple_A a Tuple_B jsou stejné\n"
     ]
    }
   ],
   "source": [
    "# To můžeme využít k porovnání dvou tuple\n",
    "if hash(tuple_A) == hash(tuple_B):\n",
    "    print(\"Tuple_A a Tuple_B jsou stejné\")\n",
    "\n",
    "if hash(tuple_A) == hash(tuple_C):\n",
    "    print(\"Tuple_A a Tuple_C jsou stejné\")"
   ]
  },
  {
   "cell_type": "code",
   "execution_count": 18,
   "metadata": {},
   "outputs": [
    {
     "ename": "TypeError",
     "evalue": "unhashable type: 'list'",
     "output_type": "error",
     "traceback": [
      "\u001b[1;31m---------------------------------------------------------------------------\u001b[0m",
      "\u001b[1;31mTypeError\u001b[0m                                 Traceback (most recent call last)",
      "Cell \u001b[1;32mIn[18], line 4\u001b[0m\n\u001b[0;32m      1\u001b[0m \u001b[38;5;66;03m# Pozor, pokud tuple obsahuje mutable prvky, tak už není hashovatelný\u001b[39;00m\n\u001b[0;32m      2\u001b[0m tuple_D \u001b[38;5;241m=\u001b[39m (\u001b[38;5;241m1\u001b[39m, \u001b[38;5;241m2\u001b[39m, [\u001b[38;5;241m3\u001b[39m, \u001b[38;5;241m4\u001b[39m])\n\u001b[1;32m----> 4\u001b[0m \u001b[38;5;28mprint\u001b[39m(\u001b[38;5;28;43mhash\u001b[39;49m\u001b[43m(\u001b[49m\u001b[43mtuple_D\u001b[49m\u001b[43m)\u001b[49m) \u001b[38;5;66;03m# chyba\u001b[39;00m\n",
      "\u001b[1;31mTypeError\u001b[0m: unhashable type: 'list'"
     ]
    }
   ],
   "source": [
    "# Pozor, pokud tuple obsahuje mutable prvky, tak už není hashovatelný\n",
    "tuple_D = (1, 2, [3, 4])\n",
    "\n",
    "print(hash(tuple_D)) # chyba"
   ]
  },
  {
   "cell_type": "markdown",
   "metadata": {},
   "source": [
    "### Úkol 1.2\n",
    "Nyní první psaní! Prve si přečtěte kroky. Think before u code.\n",
    "\n",
    "1. Vytvořte si tuple se čtyřmi lat, lon souřadnicemi.\n",
    "2. Pomocí for i smyčky vytiskněte hash každé souřadnice. Každá vytištěná hash musí být stejná jako ta předchozí.\n",
    "3. Vytiskněte i hash celého tuple.\n",
    "\n",
    "Pod buňkou tedy budou čtyři identické hashe + jedna odlišná."
   ]
  },
  {
   "cell_type": "code",
   "execution_count": 20,
   "metadata": {},
   "outputs": [
    {
     "name": "stdout",
     "output_type": "stream",
     "text": [
      "8628541851326039969\n",
      "8628541851326039969\n",
      "8628541851326039969\n",
      "8628541851326039969\n",
      "-2012050037099469071\n"
     ]
    }
   ],
   "source": [
    "# 1. Vytvořte si tuple se čtyřmi lat, lon souřadnicemi.\n",
    "coordinates = ((50.0755, 14.4378), (50.0755, 14.4378), (50.0755, 14.4378), (50.0755, 14.4378))\n",
    "\n",
    "# 2. Pomocí for i smyčky vytiskněte hash každé souřadnice. Každá vytištěná hash musí být stejná jako ta předchozí.\n",
    "for coord in coordinates:\n",
    "    print(hash(coord))\n",
    "\n",
    "# 3. Vytiskněte i hash celého tuple.\n",
    "print(hash(coordinates))"
   ]
  },
  {
   "cell_type": "markdown",
   "metadata": {},
   "source": [
    "### Úkol 1.3\n",
    "\n",
    "Nyní stejné proměnné přiřaďte tuple, který použije první tři souřadnice z Vašeho původního tuple. Ověřte si výsledek funkcí print()."
   ]
  },
  {
   "cell_type": "code",
   "execution_count": 21,
   "metadata": {},
   "outputs": [
    {
     "name": "stdout",
     "output_type": "stream",
     "text": [
      "((50.0755, 14.4378), (50.0755, 14.4378), (50.0755, 14.4378))\n",
      "8628541851326039969\n",
      "8628541851326039969\n",
      "8628541851326039969\n",
      "-5064590658725627259\n"
     ]
    }
   ],
   "source": [
    "# 1. Vytvořte si tuple se čtyřmi lat, lon souřadnicemi.\n",
    "coordinates = ((50.0755, 14.4378), (50.0755, 14.4378), (50.0755, 14.4378), (50.0755, 14.4378))\n",
    "\n",
    "# Přiřaďte první tři souřadnice z původního tuple do nového tuple\n",
    "new_coordinates = coordinates[:3]\n",
    "\n",
    "# Vytiskněte nový tuple\n",
    "print(new_coordinates)\n",
    "\n",
    "# 2. Pomocí for i smyčky vytiskněte hash každé souřadnice. Každá vytištěná hash musí být stejná jako ta předchozí.\n",
    "for coord in new_coordinates:\n",
    "    print(hash(coord))\n",
    "\n",
    "# 3. Vytiskněte i hash celého tuple.\n",
    "print(hash(new_coordinates))"
   ]
  },
  {
   "cell_type": "markdown",
   "metadata": {},
   "source": [
    "### Úkol 1.4\n",
    "\n",
    "Použijte metodu pro zjištění, kolikrát se ve Vašem tuple nachází předposlední souřadnice daného tuple. Využijte:\n",
    "- příslušnou metodu\n",
    "- selectování pomocí indexů\n",
    "- a funkci print\n",
    "\n",
    "Nic jiného nepoužijte, výsledkem je jeden řádek kódu."
   ]
  },
  {
   "cell_type": "code",
   "execution_count": 22,
   "metadata": {},
   "outputs": [
    {
     "name": "stdout",
     "output_type": "stream",
     "text": [
      "4\n"
     ]
    }
   ],
   "source": [
    "print(coordinates.count(coordinates[-2]))"
   ]
  },
  {
   "cell_type": "markdown",
   "metadata": {},
   "source": [
    "## Blok 2\n",
    "### Úkol 2.1\n",
    "Projděte a spusťte všechny buňky."
   ]
  },
  {
   "cell_type": "code",
   "execution_count": 23,
   "metadata": {},
   "outputs": [
    {
     "name": "stdout",
     "output_type": "stream",
     "text": [
      "{1, 2, 3}\n"
     ]
    }
   ],
   "source": [
    "muj_set = {1, 2, 3}\n",
    "print(muj_set)"
   ]
  },
  {
   "cell_type": "code",
   "execution_count": 24,
   "metadata": {},
   "outputs": [
    {
     "name": "stdout",
     "output_type": "stream",
     "text": [
      "{'pes', 1, (1, 2, 3), 'kocka'}\n"
     ]
    }
   ],
   "source": [
    "# Pokud přidáme duplicitní prvek, tak nebude přidán. Pes je v setu jen jednou.\n",
    "# Set je zároveň neuspořádaný.\n",
    "muj_set = {\"pes\", \"kocka\", \"pes\", (1, 2, 3), 1}\n",
    "print(muj_set)"
   ]
  },
  {
   "cell_type": "code",
   "execution_count": 25,
   "metadata": {},
   "outputs": [
    {
     "ename": "TypeError",
     "evalue": "unhashable type: 'list'",
     "output_type": "error",
     "traceback": [
      "\u001b[1;31m---------------------------------------------------------------------------\u001b[0m",
      "\u001b[1;31mTypeError\u001b[0m                                 Traceback (most recent call last)",
      "Cell \u001b[1;32mIn[25], line 2\u001b[0m\n\u001b[0;32m      1\u001b[0m \u001b[38;5;66;03m# Pokud se pokusíme přidat nehashable prvek, tak dostaneme chybu\u001b[39;00m\n\u001b[1;32m----> 2\u001b[0m muj_set \u001b[38;5;241m=\u001b[39m {\u001b[38;5;241m1\u001b[39m, \u001b[38;5;241m2\u001b[39m, [\u001b[38;5;241m3\u001b[39m, \u001b[38;5;241m4\u001b[39m]} \u001b[38;5;66;03m# chyba\u001b[39;00m\n",
      "\u001b[1;31mTypeError\u001b[0m: unhashable type: 'list'"
     ]
    }
   ],
   "source": [
    "# Pokud se pokusíme přidat nehashable prvek, tak dostaneme chybu\n",
    "muj_set = {1, 2, [3, 4]} # chyba"
   ]
  },
  {
   "cell_type": "code",
   "execution_count": 26,
   "metadata": {},
   "outputs": [
    {
     "ename": "TypeError",
     "evalue": "unhashable type: 'list'",
     "output_type": "error",
     "traceback": [
      "\u001b[1;31m---------------------------------------------------------------------------\u001b[0m",
      "\u001b[1;31mTypeError\u001b[0m                                 Traceback (most recent call last)",
      "Cell \u001b[1;32mIn[26], line 2\u001b[0m\n\u001b[0;32m      1\u001b[0m \u001b[38;5;66;03m# A to i v případě, že se pokusíme přidat tuple s mutable prvkem\u001b[39;00m\n\u001b[1;32m----> 2\u001b[0m muj_set \u001b[38;5;241m=\u001b[39m {\u001b[38;5;241m1\u001b[39m, \u001b[38;5;241m2\u001b[39m, (\u001b[38;5;241m3\u001b[39m, \u001b[38;5;241m4\u001b[39m, [\u001b[38;5;241m5\u001b[39m, \u001b[38;5;241m6\u001b[39m])} \u001b[38;5;66;03m# chyba\u001b[39;00m\n",
      "\u001b[1;31mTypeError\u001b[0m: unhashable type: 'list'"
     ]
    }
   ],
   "source": [
    "# A to i v případě, že se pokusíme přidat tuple s mutable prvkem\n",
    "muj_set = {1, 2, (3, 4, [5, 6])} # chyba"
   ]
  },
  {
   "cell_type": "code",
   "execution_count": 27,
   "metadata": {},
   "outputs": [
    {
     "name": "stdout",
     "output_type": "stream",
     "text": [
      "True\n",
      "False\n"
     ]
    }
   ],
   "source": [
    "# Pro sety je naprosto klíčový in operátor\n",
    "muj_set = {1, 2, 3}\n",
    "\n",
    "print(1 in muj_set)\n",
    "print(4 in muj_set)"
   ]
  },
  {
   "cell_type": "code",
   "execution_count": 28,
   "metadata": {},
   "outputs": [
    {
     "name": "stdout",
     "output_type": "stream",
     "text": [
      "True\n",
      "False\n",
      "True\n",
      "False\n"
     ]
    }
   ],
   "source": [
    "# Použít jej mohu i pro listy a tuple\n",
    "muj_list = [1, 2, 3]\n",
    "muj_tuple = (1, 2, 3)\n",
    "\n",
    "print(1 in muj_list)\n",
    "print(4 in muj_list)\n",
    "\n",
    "print(1 in muj_tuple)\n",
    "print(4 in muj_tuple)"
   ]
  },
  {
   "cell_type": "code",
   "execution_count": 29,
   "metadata": {},
   "outputs": [
    {
     "name": "stdout",
     "output_type": "stream",
     "text": [
      "False\n"
     ]
    }
   ],
   "source": [
    "# Jako každý operátor, i tento lze negovat\n",
    "print(1 not in muj_set)"
   ]
  },
  {
   "cell_type": "code",
   "execution_count": 33,
   "metadata": {},
   "outputs": [
    {
     "name": "stdout",
     "output_type": "stream",
     "text": [
      "True\n",
      "Čas pro set: 0.009735584259033203 s\n",
      "True\n",
      "Čas pro list: 0.14704632759094238 s\n"
     ]
    }
   ],
   "source": [
    "# V setech je ale in operátor mnohem rychlejší, protože užívají hashovací tabulku\n",
    "\n",
    "import time\n",
    "\n",
    "muj_set = set(range(10000000))\n",
    "muj_list = list(range(10000000))\n",
    "\n",
    "start = time.time()\n",
    "print(9999999 in muj_set)\n",
    "print(f\"Čas pro set: {time.time() - start} s\")\n",
    "\n",
    "start = time.time()\n",
    "print(9999999 in muj_list)\n",
    "print(f\"Čas pro list: {time.time() - start} s\")\n",
    "\n",
    "# Výsledkem by mělo být, že vyhledávání v setu je mnohem rychlejší než vyhledávání v listu\n",
    "# protože sety v Pythonu jsou implementovány jako hash tabulky, které umožňují rychlé vyhledávání\n",
    "# zatímco listy vyžadují procházení celého seznamu až do nalezení hledaného prvku.\n"
   ]
  },
  {
   "cell_type": "code",
   "execution_count": 34,
   "metadata": {},
   "outputs": [
    {
     "name": "stdout",
     "output_type": "stream",
     "text": [
      "1\n",
      "2\n",
      "3\n"
     ]
    }
   ],
   "source": [
    "# Set je iterovatelný\n",
    "\n",
    "muj_set = {1, 2, 3}\n",
    "\n",
    "for prvek in muj_set:\n",
    "    print(prvek)"
   ]
  },
  {
   "cell_type": "code",
   "execution_count": 35,
   "metadata": {},
   "outputs": [
    {
     "ename": "TypeError",
     "evalue": "'set' object is not subscriptable",
     "output_type": "error",
     "traceback": [
      "\u001b[1;31m---------------------------------------------------------------------------\u001b[0m",
      "\u001b[1;31mTypeError\u001b[0m                                 Traceback (most recent call last)",
      "Cell \u001b[1;32mIn[35], line 5\u001b[0m\n\u001b[0;32m      2\u001b[0m muj_set \u001b[38;5;241m=\u001b[39m {\u001b[38;5;241m1\u001b[39m, \u001b[38;5;241m2\u001b[39m, \u001b[38;5;241m3\u001b[39m}\n\u001b[0;32m      4\u001b[0m \u001b[38;5;28;01mfor\u001b[39;00m i \u001b[38;5;129;01min\u001b[39;00m \u001b[38;5;28mrange\u001b[39m(\u001b[38;5;28mlen\u001b[39m(muj_set)):\n\u001b[1;32m----> 5\u001b[0m     \u001b[38;5;28mprint\u001b[39m(\u001b[43mmuj_set\u001b[49m\u001b[43m[\u001b[49m\u001b[43mi\u001b[49m\u001b[43m]\u001b[49m) \u001b[38;5;66;03m# chyba\u001b[39;00m\n",
      "\u001b[1;31mTypeError\u001b[0m: 'set' object is not subscriptable"
     ]
    }
   ],
   "source": [
    "# Ale jelikož není uspořádaný, tak nemohu použít indexování, tudíž ani for i cyklus\n",
    "muj_set = {1, 2, 3}\n",
    "\n",
    "for i in range(len(muj_set)):\n",
    "    print(muj_set[i]) # chyba"
   ]
  },
  {
   "cell_type": "code",
   "execution_count": 36,
   "metadata": {},
   "outputs": [
    {
     "name": "stdout",
     "output_type": "stream",
     "text": [
      "5\n",
      "1\n",
      "15\n"
     ]
    }
   ],
   "source": [
    "# Pro číselné sety mohu použít vestavěné funkce, které známe z listů a tuples\n",
    "muj_set = {1, 2, 3, 4, 5}\n",
    "\n",
    "print(max(muj_set))\n",
    "print(min(muj_set))\n",
    "print(sum(muj_set))"
   ]
  },
  {
   "cell_type": "markdown",
   "metadata": {},
   "source": [
    "### Úkol 2.2\n",
    "1. Definujte si vlastní set s šesti zvířaty žijícími na Slovensku.\n",
    "2. Definujte si druhý set s šesti zvířaty žijícími ve Švédsku.\n",
    "3. Nyní napište kód, který vytiskne, zda se liška nachází v prvním setu.\n",
    "4. Napište další kód, který vytiskne, zda se liška **NE**nachází v prvním setu."
   ]
  },
  {
   "cell_type": "code",
   "execution_count": null,
   "metadata": {},
   "outputs": [],
   "source": []
  },
  {
   "cell_type": "code",
   "execution_count": 38,
   "metadata": {},
   "outputs": [
    {
     "name": "stdout",
     "output_type": "stream",
     "text": [
      "True\n",
      "False\n"
     ]
    }
   ],
   "source": [
    "# 1. Definujte si vlastní set s šesti zvířaty žijícími na Slovensku.\n",
    "slovakian_animals = {\"liška\", \"vlk\", \"medvěd\", \"srnec\", \"jelen\", \"rys\"}\n",
    "\n",
    "# 2. Definujte si druhý set s šesti zvířaty žijícími ve Švédsku.\n",
    "swedish_animals = {\"los\", \"vlk\", \"medvěd\", \"liška\", \"jelen\", \"bobr\"}\n",
    "\n",
    "# 3. Nyní napište kód, který vytiskne, zda se liška nachází v prvním setu.\n",
    "print(\"liška\" in slovakian_animals)\n",
    "\n",
    "# 4. Napište další kód, který vytiskne, zda se liška NE nachází v prvním setu.\n",
    "print(\"liška\" not in slovakian_animals)"
   ]
  },
  {
   "cell_type": "markdown",
   "metadata": {},
   "source": [
    "### Úkol 2.3\n",
    "\n",
    "1. Napište smyčku, která pro každý prvek setu slovenských zvířat vytiskne, z kolika písmen se název zvířete skládá.\n",
    "2. Tato smyčka musí vytisknout \"To je ale dlouhé zvíře!\" pokud počet znaků je větší než 5."
   ]
  },
  {
   "cell_type": "code",
   "execution_count": 39,
   "metadata": {},
   "outputs": [
    {
     "name": "stdout",
     "output_type": "stream",
     "text": [
      "Název zvířete rys se skládá z 3 písmen.\n",
      "Název zvířete vlk se skládá z 3 písmen.\n",
      "Název zvířete jelen se skládá z 5 písmen.\n",
      "Název zvířete liška se skládá z 5 písmen.\n",
      "Název zvířete medvěd se skládá z 6 písmen.\n",
      "To je ale dlouhé zvíře!\n",
      "Název zvířete srnec se skládá z 5 písmen.\n"
     ]
    }
   ],
   "source": [
    "# 1. Napište smyčku, která pro každý prvek setu slovenských zvířat vytiskne, z kolika písmen se název zvířete skládá.\n",
    "for animal in slovakian_animals:\n",
    "    length = len(animal)\n",
    "    print(f\"Název zvířete {animal} se skládá z {length} písmen.\")\n",
    "\n",
    "    # 2. Tato smyčka musí vytisknout \"To je ale dlouhé zvíře!\" pokud počet znaků je větší než 5.\n",
    "    if length > 5:\n",
    "        print(\"To je ale dlouhé zvíře!\")"
   ]
  },
  {
   "cell_type": "markdown",
   "metadata": {},
   "source": [
    "### Úkol 2.4\n",
    "\n",
    "Překopírujte si smyčku z předchozího úkolu. Udělejte jedinou změnu. Místo vytisknutí \"To je ale dlouhé zvíře!\" se smyčka musí zcela zastavit, pokud narazí na zvíře s více než 5 znaky."
   ]
  },
  {
   "cell_type": "code",
   "execution_count": 40,
   "metadata": {},
   "outputs": [
    {
     "name": "stdout",
     "output_type": "stream",
     "text": [
      "Název zvířete rys se skládá z 3 písmen.\n",
      "Název zvířete vlk se skládá z 3 písmen.\n",
      "Název zvířete jelen se skládá z 5 písmen.\n",
      "Název zvířete liška se skládá z 5 písmen.\n",
      "Název zvířete medvěd se skládá z 6 písmen.\n",
      "Narazili jsme na dlouhé zvíře, končíme smyčku.\n"
     ]
    }
   ],
   "source": [
    "for animal in slovakian_animals:\n",
    "    length = len(animal)\n",
    "    print(f\"Název zvířete {animal} se skládá z {length} písmen.\")\n",
    "\n",
    "    if length > 5:\n",
    "        print(\"Narazili jsme na dlouhé zvíře, končíme smyčku.\")\n",
    "        break"
   ]
  },
  {
   "cell_type": "markdown",
   "metadata": {},
   "source": [
    "## Blok 3\n",
    "### Úkol 3.1 \n",
    "Víte, co v prvním úkole dělat:)"
   ]
  },
  {
   "cell_type": "code",
   "execution_count": 41,
   "metadata": {},
   "outputs": [
    {
     "name": "stdout",
     "output_type": "stream",
     "text": [
      "{'pes', (45.18, 12.98), 'kocka'}\n"
     ]
    }
   ],
   "source": [
    "muj_set = {\"pes\", \"kocka\"}\n",
    "souradnice = (45.18, 12.98)\n",
    "\n",
    "muj_set.add(souradnice)\n",
    "print(muj_set) # {(45.18, 12.98), 'pes', 'kocka'}"
   ]
  },
  {
   "cell_type": "code",
   "execution_count": 42,
   "metadata": {},
   "outputs": [
    {
     "name": "stdout",
     "output_type": "stream",
     "text": [
      "{'pes', 'kocka'}\n"
     ]
    }
   ],
   "source": [
    "muj_set.remove(souradnice)\n",
    "print(muj_set) # {'pes', 'kocka'}"
   ]
  },
  {
   "cell_type": "code",
   "execution_count": 43,
   "metadata": {},
   "outputs": [
    {
     "name": "stdout",
     "output_type": "stream",
     "text": [
      "{1, 2, 3}\n",
      "{1, 2, 3}\n"
     ]
    }
   ],
   "source": [
    "set_A = {1, 2, 3, 4, 5}\n",
    "set_B = {4, 5, 6, 7, 8}\n",
    "\t\t\t\t\n",
    "print(set_A.difference(set_B))\n",
    "print(set_A - set_B)"
   ]
  },
  {
   "cell_type": "code",
   "execution_count": null,
   "metadata": {},
   "outputs": [],
   "source": [
    "set_A = {\"bod_A1\", \"bod_C1\", \"bod_C3\"}\n",
    "set_B = {\"bod_A1\", \"bod_B2\", \"bod_C3\"}\n",
    "\n",
    "print(set_A.union(set_B))\n",
    "print(set_A | set_B)"
   ]
  },
  {
   "cell_type": "code",
   "execution_count": null,
   "metadata": {},
   "outputs": [],
   "source": [
    "set_A = {\"bod_A1\", \"bod_C1\", \"bod_C3\"}\n",
    "set_B = {\"bod_A1\", \"bod_B2\", \"bod_C3\"}\n",
    "\n",
    "print(set_A.intersection(set_B))\n",
    "print(set_A & set_B)"
   ]
  },
  {
   "cell_type": "code",
   "execution_count": null,
   "metadata": {},
   "outputs": [],
   "source": [
    "set_A = {\"bod_A1\", \"bod_C1\", \"bod_C3\"}\n",
    "set_B = {\"bod_A1\", \"bod_B2\", \"bod_C3\"}\n",
    "\n",
    "print(set_A.symmetric_difference(set_B))\n",
    "print(set_A ^ set_B) "
   ]
  },
  {
   "cell_type": "markdown",
   "metadata": {},
   "source": [
    "### Úkol 3.2\n",
    "\n",
    "1. Vyberte si jednu z množinových operací.\n",
    "2. Zamyslete se, jaký use-case této operace by se vám líbil. Ať už do diplomové práce, či jen proto, že vám přijde potenciálně užitečný.\n",
    "3. Vytvořte si sety a příklad, na němž danou operaci demonstrujete.\n",
    "4. Používejte komentáře pro vysvětlení, co demonstrujete."
   ]
  },
  {
   "cell_type": "code",
   "execution_count": null,
   "metadata": {},
   "outputs": [],
   "source": []
  },
  {
   "cell_type": "markdown",
   "metadata": {},
   "source": [
    "Skvělé, že jsme toho dnes tolik udělali!\n",
    "\n",
    "![thatswhatshesaid](https://cdn4.whatculture.com/images/2022/08/66d1abebb4b4ac3f-1200x675.jpg)\n",
    "\n",
    "Díky za pozornost a užijte si zbytek dne!"
   ]
  }
 ],
 "metadata": {
  "kernelspec": {
   "display_name": "ABBA",
   "language": "python",
   "name": "python3"
  },
  "language_info": {
   "codemirror_mode": {
    "name": "ipython",
    "version": 3
   },
   "file_extension": ".py",
   "mimetype": "text/x-python",
   "name": "python",
   "nbconvert_exporter": "python",
   "pygments_lexer": "ipython3",
   "version": "3.12.2"
  }
 },
 "nbformat": 4,
 "nbformat_minor": 2
}

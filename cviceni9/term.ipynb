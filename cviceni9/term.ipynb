{
 "cells": [
  {
   "cell_type": "markdown",
   "metadata": {},
   "source": [
    "# Cvičení 9: Opakování a semestrální projekt\n",
    "## Blok 1: Semestrální projekt\n",
    "Blíží se konec semestru. Zkouškou je obhajoba semestrálního projektu. Ten je praktickou aplikací Python skriptu pro řešení nějakého praktického problému, ideálně v souvislosti s vaší diplomovou prací. V tuto chvíli, kdy znáte základní datové struktury a práci s nimi, byste měli již začít s prací na něm.\n",
    "\n",
    "### Úkol 2.1\n",
    "Diskutujte ve dvojicích o svém projektu:\n",
    "- Ujasněte si, kterým směrem chcete s projektem jít. Použijete texťák z prvního cvičení s kroky? Nebo budete dělat skript na něco jiného?\n",
    "- Zkuste identifikovat část diplomové práce, kde byste Python skript mohli aplikovat.\n",
    "- Diskutujte o konkrétních Python operacích, které byste mohli využít.\n",
    "\n",
    "### Úkol 2.2\n",
    "Vypracujte plán pro vypracování alespoň části Vašeho projektu:\n",
    "- Ve složce cviceni8/vaseprijmeni vytvořte nový JuPyter notebook.\n",
    "- Textem popište specifické kroky, co má krok dělat. Podrobně popište, čeho chcete v kroku dosáhnout, používejte odbornou Python terminologii. Kroky by měly být dostatečně malé! Tedy namísto \"Načtu soubor\" uděláte několik kroků, např.:\n",
    "    1. Importuji objekt Path z pathlib a modul json.\n",
    "    2. Definuji cestu k JSON souboru.\n",
    "    3. Pomocí with statement soubor deserializuji do slovníku.\n",
    "- Pokud nevíte, jak se daný krok má udělat, zkuste jej i tak popsat, co nejlépe to dovedete se současnými znalostmi.\n",
    "- Pro každý jednotlivý krok Vašeho projektu vytvořte buňku **kódu**.\n",
    "- Text kroků vložte do **komentářů** v jednotlivých buňkách reprezentující jednotlivé kroky.\n",
    "- Tento JuPyter notebook s kroky odevzdejte pomocí Pull Requestu.\n",
    "\n",
    "Požadavek na splnění úkolu:\n",
    "- Pull Request obsahující alespoň 10 malých, velmi specifických kroků popsaných v komentářích jednotlivých JuPyter Notebook buněk.\n",
    "\n",
    "Pokud Vám zbyde čas, můžete rovnou začít vytvářet kód! Pokud jste kroky dobře a odborně popsali v komentáři, AI by Vám mohla vygenerovat velmi kvalitní kód. :) Ať již Copilot přímo ve VS Code, či ChatGPT."
   ]
  }
 ],
 "metadata": {
  "language_info": {
   "name": "python"
  }
 },
 "nbformat": 4,
 "nbformat_minor": 2
}

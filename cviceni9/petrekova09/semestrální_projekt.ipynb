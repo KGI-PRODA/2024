{
 "cells": [
  {
   "cell_type": "code",
   "execution_count": null,
   "metadata": {},
   "outputs": [],
   "source": [
    "#zadávání jednotlivých proměnných\n",
    "#vytvoření časové značky, kde se zobrazí aktuální datum a čas \n",
    "timestamp = datetime.datetime.now().strftime(\"%d-%m-%Y %H:%M:%S\")\n",
    "\n"
   ]
  },
  {
   "cell_type": "code",
   "execution_count": null,
   "metadata": {},
   "outputs": [],
   "source": [
    "# vytvoření html šablony, kde se budou propisovat jednotlivé proměnné\n",
    "html = \"\"\"\n",
    "<!DOCTYPE html>\n",
    "<html>\n",
    "<head>\n",
    "    <title>Test</title>\n",
    "    <link rel=\"stylesheet\" type=\"text/css\" href=\"style.css?{timestamp}\">\n",
    "</head>\n",
    "<body>\n",
    "    <h1>Test</h1>\n",
    "    <p>This is a test.</p>\n",
    "    <p>Timestamp: {timestamp}</p>\n",
    "</body>\n",
    "</html>\n",
    "\"\"\""
   ]
  },
  {
   "cell_type": "code",
   "execution_count": null,
   "metadata": {},
   "outputs": [],
   "source": [
    "#vytvoření HTML souboru ze šablony\n",
    "with open(\"index.html\", \"w\") as f:\n",
    "    f.write(html.format(timestamp=timestamp))\n",
    "\n",
    "print(\"Generated index.html\")\n"
   ]
  },
  {
   "cell_type": "code",
   "execution_count": null,
   "metadata": {},
   "outputs": [],
   "source": [
    "# output html as a PDF\n",
    "# first, import the necessary modules\n",
    "\n",
    "from weasyprint import HTML"
   ]
  },
  {
   "cell_type": "code",
   "execution_count": null,
   "metadata": {},
   "outputs": [],
   "source": [
    "# then, convert the HTML to a PDF\n",
    "HTML(\"index.html\").write_pdf(\"index.pdf\")\n",
    "\n",
    "print(\"Generated index.pdf\")"
   ]
  },
  {
   "cell_type": "code",
   "execution_count": null,
   "metadata": {},
   "outputs": [],
   "source": [
    "#další kroky které je potřeba udělat a budou v kodu zahrnuty (ano prozatim si to pisu nakonec i presto ze to bude uvrnitr kodu):\n",
    "\n",
    "    # vytvoreni formulare do html šablony kde budou jednotlivé proměnné, které si zpočátku nadefinuju nahoře avšak postupem času budou tyto proměnné propisovány z databáze\n",
    "    # vytvoření CSS souboru, kde se bude definovat vzhled formuláře HTML a následně PDF souboru\n",
    "    # dodani kompletnosti HTML šablony jako je nadefinovaní kompletní hlavičky \n",
    "    # dodani kompletnosti HTML šablony doplnění body a patičky aby tam bylo vše kompletní co chci v následném html souboru mít \n",
    "# vytvoření databáze, napojení databáze na python a následně propisování jednotlivých proměnných z databáze do HTML šablony\n",
    "# zjistit jak se dá do arcgis serveru napojit postgre databáze a jak se dá tento mapový portal napojit na tento python kod nebo jak se dá tento python kod napojit na arcgis server\n",
    "\n",
    "    "
   ]
  },
  {
   "cell_type": "markdown",
   "metadata": {},
   "source": [
    "Prezentace na příští hodinu\n",
    "1. představit o čem náš projekt je \n",
    "- můj semestrální projekt je o generování PDF z HTML stránky, případně vytváření proměnných které se propíšou v html stránce či vytvoření formuláře a nějak vizuálně zkusit třeba upravit to pdf\n",
    "2. popsat jeden problém se kterým jsme se setkali \n",
    "- problém je že s pdf pracuje více knihoven avšak je potřeba si uvědomit co vše je potřebujeme v tom pdf případně jestli potřebujeme pdf generovat z nějaké šablony, pracovat s pdf, otevřít pdf atd \n",
    "3. popsat jednu knihovnu se kterou jsme se potkali  \n",
    "- knihovnu kterou jsem si vybrala na popsání je weasyprint \n",
    "- https://products.documentprocessing.com/cs/conversion/python/weasyprint/ \n",
    "- převádí soubory HTML a CSS na dokumenty PDF s vysoce kvalitním vykreslováním"
   ]
  }
 ],
 "metadata": {
  "kernelspec": {
   "display_name": "adelprostredi",
   "language": "python",
   "name": "python3"
  },
  "language_info": {
   "name": "python",
   "version": "3.12.1"
  }
 },
 "nbformat": 4,
 "nbformat_minor": 2
}

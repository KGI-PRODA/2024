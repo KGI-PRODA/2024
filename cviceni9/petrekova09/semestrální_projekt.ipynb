{
 "cells": [
  {
   "cell_type": "code",
   "execution_count": null,
   "metadata": {},
   "outputs": [],
   "source": [
    "#zadávání jednotlivých proměnných\n",
    "#vytvoření časové značky, kde se zobrazí aktuální datum a čas \n",
    "timestamp = datetime.datetime.now().strftime(\"%d-%m-%Y %H:%M:%S\")\n",
    "\n"
   ]
  },
  {
   "cell_type": "code",
   "execution_count": null,
   "metadata": {},
   "outputs": [],
   "source": [
    "# vytvoření html šablony, kde se budou propisovat jednotlivé proměnné\n",
    "html = \"\"\"\n",
    "<!DOCTYPE html>\n",
    "<html>\n",
    "<head>\n",
    "    <title>Test</title>\n",
    "    <link rel=\"stylesheet\" type=\"text/css\" href=\"style.css?{timestamp}\">\n",
    "</head>\n",
    "<body>\n",
    "    <h1>Test</h1>\n",
    "    <p>This is a test.</p>\n",
    "    <p>Timestamp: {timestamp}</p>\n",
    "</body>\n",
    "</html>\n",
    "\"\"\""
   ]
  },
  {
   "cell_type": "code",
   "execution_count": null,
   "metadata": {},
   "outputs": [],
   "source": [
    "#vytvoření HTML souboru ze šablony\n",
    "with open(\"index.html\", \"w\") as f:\n",
    "    f.write(html.format(timestamp=timestamp))\n",
    "\n",
    "print(\"Generated index.html\")\n"
   ]
  },
  {
   "cell_type": "code",
   "execution_count": null,
   "metadata": {},
   "outputs": [],
   "source": [
    "# output html as a PDF\n",
    "# first, import the necessary modules\n",
    "\n",
    "from weasyprint import HTML"
   ]
  },
  {
   "cell_type": "code",
   "execution_count": null,
   "metadata": {},
   "outputs": [],
   "source": [
    "# then, convert the HTML to a PDF\n",
    "HTML(\"index.html\").write_pdf(\"index.pdf\")\n",
    "\n",
    "print(\"Generated index.pdf\")"
   ]
  }
 ],
 "metadata": {
  "language_info": {
   "name": "python"
  }
 },
 "nbformat": 4,
 "nbformat_minor": 2
}

{
 "cells": [
  {
   "cell_type": "markdown",
   "metadata": {},
   "source": [
    "# Cvičení 9: Opakování a semestrální projekt\n",
    "## Blok 1: Semestrální projekt\n",
    "Blíží se konec semestru. Zkouškou je obhajoba semestrálního projektu. Ten je praktickou aplikací Python skriptu pro řešení nějakého praktického problému, ideálně v souvislosti s vaší diplomovou prací. V tuto chvíli, kdy znáte základní datové struktury a práci s nimi, byste měli již začít s prací na něm.\n",
    "\n",
    "### Úkol 2.1\n",
    "Diskutujte ve dvojicích o svém projektu:\n",
    "- Ujasněte si, kterým směrem chcete s projektem jít. Použijete texťák z prvního cvičení s kroky? Nebo budete dělat skript na něco jiného?\n",
    "- Zkuste identifikovat část diplomové práce, kde byste Python skript mohli aplikovat.\n",
    "- Diskutujte o konkrétních Python operacích, které byste mohli využít.\n",
    "\n",
    "### Úkol 2.2\n",
    "Vypracujte plán pro vypracování alespoň části Vašeho projektu:\n",
    "- Ve složce cviceni8/vaseprijmeni vytvořte nový JuPyter notebook.\n",
    "- Textem popište specifické kroky, co má krok dělat. Podrobně popište, čeho chcete v kroku dosáhnout, používejte odbornou Python terminologii. Kroky by měly být dostatečně malé! Tedy namísto \"Načtu soubor\" uděláte několik kroků, např.:\n",
    "    1. Importuji objekt Path z pathlib a modul json.\n",
    "    2. Definuji cestu k JSON souboru.\n",
    "    3. Pomocí with statement soubor deserializuji do slovníku.\n",
    "- Pokud nevíte, jak se daný krok má udělat, zkuste jej i tak popsat, co nejlépe to dovedete se současnými znalostmi.\n",
    "- Pro každý jednotlivý krok Vašeho projektu vytvořte buňku **kódu**.\n",
    "- Text kroků vložte do **komentářů** v jednotlivých buňkách reprezentující jednotlivé kroky.\n",
    "- Tento JuPyter notebook s kroky odevzdejte pomocí Pull Requestu.\n",
    "\n",
    "Požadavek na splnění úkolu:\n",
    "- Pull Request obsahující alespoň 10 malých, velmi specifických kroků popsaných v komentářích jednotlivých JuPyter Notebook buněk.\n",
    "\n",
    "Pokud Vám zbyde čas, můžete rovnou začít vytvářet kód! Pokud jste kroky dobře a odborně popsali v komentáři, AI by Vám mohla vygenerovat velmi kvalitní kód. :) Ať již Copilot přímo ve VS Code, či ChatGPT."
   ]
  },
  {
   "cell_type": "markdown",
   "metadata": {},
   "source": [
    "Import knihoven"
   ]
  },
  {
   "cell_type": "code",
   "execution_count": 1,
   "metadata": {},
   "outputs": [],
   "source": [
    "from PIL import Image, ImageDraw, ImageFont\n",
    "import math\n",
    "import svgwrite"
   ]
  },
  {
   "cell_type": "markdown",
   "metadata": {},
   "source": [
    "Seznam znaků, které budou použity pro reprezentaci intenzity šedi (převod na šedou barvu je jednodušší než převod na RGB)\n"
   ]
  },
  {
   "cell_type": "code",
   "execution_count": 2,
   "metadata": {},
   "outputs": [],
   "source": [
    "chars = \"$@B%8&WM#*obdpqwmZOunx/\\\\|)1}[?-_+~<>i!lI;:,\\\"^`'. \"[::-1]"
   ]
  },
  {
   "cell_type": "markdown",
   "metadata": {},
   "source": [
    "Převod řetězce na pole znaků a počtu znaků v seznamu"
   ]
  },
  {
   "cell_type": "code",
   "execution_count": 3,
   "metadata": {},
   "outputs": [],
   "source": [
    "charArray = list(chars)\n",
    "charLength = len(charArray)"
   ]
  },
  {
   "cell_type": "markdown",
   "metadata": {},
   "source": [
    "Nyní je nutné stanovit interval pro trasování intenzity šedi na znaky"
   ]
  },
  {
   "cell_type": "code",
   "execution_count": 4,
   "metadata": {},
   "outputs": [],
   "source": [
    "interval = charLength / 256"
   ]
  },
  {
   "cell_type": "markdown",
   "metadata": {},
   "source": [
    "Změna velikosti znaku.\n",
    "Šířka jednoho znaku v pixelech.\n",
    "Výška jednoho znaku v pixelech."
   ]
  },
  {
   "cell_type": "code",
   "execution_count": 5,
   "metadata": {},
   "outputs": [],
   "source": [
    "scaleFactor = 0.4\n",
    "oneCharWidth = 8\n",
    "oneCharHeight = 13"
   ]
  },
  {
   "cell_type": "markdown",
   "metadata": {},
   "source": [
    "Získání znaku na základě intenzity šedi"
   ]
  },
  {
   "cell_type": "code",
   "execution_count": 6,
   "metadata": {},
   "outputs": [],
   "source": [
    "def getChar(inputInt):\n",
    "    return charArray[math.floor(inputInt * interval)]"
   ]
  },
  {
   "cell_type": "markdown",
   "metadata": {},
   "source": [
    "Zdrojový obraz pro celý script"
   ]
  },
  {
   "cell_type": "code",
   "execution_count": 14,
   "metadata": {},
   "outputs": [],
   "source": [
    "im = Image.open(\"dog.jpg\")"
   ]
  },
  {
   "cell_type": "markdown",
   "metadata": {},
   "source": [
    "Načtení fontu. \n",
    "<center>Je možné vložit jakýkoliv font, pokud se žádný nevybere a tento kód bude smazán, script bude přesto fungovat.</center>"
   ]
  },
  {
   "cell_type": "code",
   "execution_count": 15,
   "metadata": {},
   "outputs": [],
   "source": [
    "\n",
    "fnt = ImageFont.truetype('C:/Windows/Fonts/Arial.ttf', 9)"
   ]
  },
  {
   "cell_type": "markdown",
   "metadata": {},
   "source": [
    "Změna velikosti obrázku"
   ]
  },
  {
   "cell_type": "code",
   "execution_count": 16,
   "metadata": {},
   "outputs": [],
   "source": [
    "\n",
    "width, height = im.size\n",
    "im = im.resize((int(scaleFactor * width), int(scaleFactor * height * (oneCharWidth / oneCharHeight))), Image.NEAREST)\n",
    "width, height = im.size\n",
    "pix = im.load()"
   ]
  },
  {
   "cell_type": "markdown",
   "metadata": {},
   "source": [
    "Vytvoření nového obrazu"
   ]
  },
  {
   "cell_type": "code",
   "execution_count": 17,
   "metadata": {},
   "outputs": [],
   "source": [
    "outputImage = Image.new('RGB', (oneCharWidth * width, oneCharHeight * height), color=(0, 0, 0))\n",
    "d = ImageDraw.Draw(outputImage)"
   ]
  },
  {
   "cell_type": "markdown",
   "metadata": {},
   "source": [
    "Vytvoření SVG souboru"
   ]
  },
  {
   "cell_type": "code",
   "execution_count": 18,
   "metadata": {},
   "outputs": [],
   "source": [
    "\n",
    "svg_output = svgwrite.Drawing(filename='pes_vykres.svg', size=(oneCharWidth * width, oneCharHeight * height))"
   ]
  },
  {
   "cell_type": "markdown",
   "metadata": {},
   "source": [
    "Nyní se prochází každý jednotlivý pixel obrázku pro přípravu nových souborů"
   ]
  },
  {
   "cell_type": "code",
   "execution_count": 22,
   "metadata": {},
   "outputs": [],
   "source": [
    "\n",
    "for i in range(height):\n",
    "    for j in range(width):\n",
    "        r, g, b = pix[j, i]\n",
    "        h = int(r / 3 + g / 3 + b / 3)\n",
    "        pix[j, i] = (h, h, h)\n",
    "        svg_output.add(svg_output.text(getChar(h), insert=(j * oneCharWidth, i * oneCharHeight),\n",
    "                                       fill=f'rgb({r}, {g}, {b})', font_size=9, font_family=\"Arial\"))\n",
    "    text_file.write('\\n')"
   ]
  },
  {
   "cell_type": "markdown",
   "metadata": {},
   "source": [
    "Uložení obrazu + možnost zadat v jaké kvalitě (dpi)"
   ]
  },
  {
   "cell_type": "code",
   "execution_count": 20,
   "metadata": {},
   "outputs": [],
   "source": [
    "outputImage.save('pes_obr.png', dpi=(300, 300))"
   ]
  },
  {
   "cell_type": "markdown",
   "metadata": {},
   "source": [
    "Uložení SVG"
   ]
  },
  {
   "cell_type": "code",
   "execution_count": 21,
   "metadata": {},
   "outputs": [],
   "source": [
    "svg_output.save()"
   ]
  },
  {
   "cell_type": "markdown",
   "metadata": {},
   "source": [
    "Nyní máš super obraz"
   ]
  }
 ],
 "metadata": {
  "kernelspec": {
   "display_name": "vyslouzil",
   "language": "python",
   "name": "python3"
  },
  "language_info": {
   "codemirror_mode": {
    "name": "ipython",
    "version": 3
   },
   "file_extension": ".py",
   "mimetype": "text/x-python",
   "name": "python",
   "nbconvert_exporter": "python",
   "pygments_lexer": "ipython3",
   "version": "3.12.2"
  }
 },
 "nbformat": 4,
 "nbformat_minor": 2
}

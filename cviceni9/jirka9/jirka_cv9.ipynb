{
 "cells": [
  {
   "cell_type": "markdown",
   "metadata": {},
   "source": [
    "Načtení obrázku PNG:\n",
    "\n",
    "Knihovna Pillow: pip install Pillow\n",
    "\n",
    "Použití funkce Image.open() k načtení obrázku."
   ]
  },
  {
   "cell_type": "code",
   "execution_count": 1,
   "metadata": {},
   "outputs": [],
   "source": [
    "from PIL import Image\n",
    "import svgwrite\n",
    "def quantize_color(color, num_bins=8):\n",
    "    \"\"\"Kvantizuje barvu na omezený počet binů.\"\"\"\n",
    "    r, g, b = color\n",
    "    r = int(r * num_bins / 256) * (256 // num_bins)\n",
    "    g = int(g * num_bins / 256) * (256 // num_bins)\n",
    "    b = int(b * num_bins / 256) * (256 // num_bins)\n",
    "    return r, g, b\n",
    "\n",
    "def group_pixels_by_color(image, num_bins=8):\n",
    "    \"\"\"Seskupí pixely obrázku do vrstev podle podobné barvy s kvantizací.\"\"\"\n",
    "    pixels = list(image.getdata())\n",
    "    width, height = image.size\n",
    "    color_layers = {}\n",
    "\n",
    "    for y in range(height):\n",
    "        for x in range(width):\n",
    "            pixel = pixels[y * width + x]\n",
    "            color = tuple(pixel[:3])  # RGB channels\n",
    "            quantized_color = quantize_color(color, num_bins)\n",
    "            if quantized_color not in color_layers:\n",
    "                color_layers[quantized_color] = []\n",
    "            color_layers[quantized_color].append((x, y))\n",
    "\n",
    "    return color_layers\n",
    "\n",
    "def compress_pixels(color_layers):\n",
    "    \"\"\"Komprimuje pixely stejné barvy do větších obdélníků.\"\"\"\n",
    "    compressed_layers = {}\n",
    "    \n",
    "    for color, pixels in color_layers.items():\n",
    "        compressed_pixels = []\n",
    "        start_x, start_y = pixels[0]  # Začátek úseku\n",
    "        prev_x, prev_y = start_x, start_y\n",
    "        for x, y in pixels[1:]:\n",
    "            if x == prev_x + 1 and y == prev_y:  # Pokračování úseku\n",
    "                prev_x = x\n",
    "            else:  # Nový úsek\n",
    "                compressed_pixels.append((start_x, start_y, prev_x - start_x + 1, 1))\n",
    "                start_x, start_y = x, y\n",
    "                prev_x, prev_y = start_x, start_y\n",
    "        # Přidání posledního úseku\n",
    "        compressed_pixels.append((start_x, start_y, prev_x - start_x + 1, 1))\n",
    "        compressed_layers[color] = compressed_pixels\n",
    "    \n",
    "    return compressed_layers\n",
    "\n",
    "def pixels_to_rectangles(pixels):\n",
    "    \"\"\"Převede seskupené pixely na obdélníky.\"\"\"\n",
    "    rectangles = []\n",
    "    for x, y, width, height in pixels:\n",
    "        rectangles.append((x, y, width, height))\n",
    "    return rectangles\n",
    "\n",
    "def png_to_svg(input_path, output_path):\n",
    "    \"\"\"Načte PNG obrázek, vytvoří vrstvy podle podobné barvy s kvantizací a uloží je jako SVG.\"\"\"\n",
    "    img = Image.open(input_path)\n",
    "    color_layers = group_pixels_by_color(img)\n",
    "    compressed_layers = compress_pixels(color_layers)\n",
    "    \n",
    "    # Vytvoření SVG kreslícího objektu\n",
    "    dwg = svgwrite.Drawing(output_path, size=(img.width, img.height))\n",
    "    \n",
    "    # Přidání vrstev do SVG\n",
    "    for color, pixels in compressed_layers.items():\n",
    "        layer = dwg.add(dwg.g())\n",
    "        rectangles = pixels_to_rectangles(pixels)\n",
    "        for x, y, width, height in rectangles:\n",
    "            layer.add(dwg.rect(insert=(x, y), size=(width, height), fill=svgwrite.rgb(*color)))  # Přidání obdélníku do vrstvy\n",
    "\n",
    "    # Uložení SVG souboru\n",
    "    dwg.save()\n",
    "\n",
    "# Cesta k PNG vstupnímu souboru\n",
    "input_path = \"firefox-logo.png\"\n",
    "# Cesta pro výstupní SVG soubor\n",
    "output_path = \"vector.svg\"\n",
    "\n",
    "# Převod PNG na SVG s vrstvami podle podobné barvy\n",
    "png_to_svg(input_path, output_path)\n"
   ]
  },
  {
   "cell_type": "markdown",
   "metadata": {},
   "source": [
    "Vektorizace obrázku:\n",
    "\n",
    "Knihovna Potrace: pip install potrace\n",
    "\n",
    "Knihovna Scikit-image: pip install scikit-image\n",
    "\n",
    "Použití funkcí a algoritmů těchto knihoven k provedení vektorizace."
   ]
  },
  {
   "cell_type": "code",
   "execution_count": 1,
   "metadata": {},
   "outputs": [
    {
     "ename": "ModuleNotFoundError",
     "evalue": "No module named 'potrace'",
     "output_type": "error",
     "traceback": [
      "\u001b[1;31m---------------------------------------------------------------------------\u001b[0m",
      "\u001b[1;31mModuleNotFoundError\u001b[0m                       Traceback (most recent call last)",
      "Cell \u001b[1;32mIn[1], line 2\u001b[0m\n\u001b[0;32m      1\u001b[0m \u001b[38;5;28;01mimport\u001b[39;00m \u001b[38;5;21;01mnumpy\u001b[39;00m \u001b[38;5;28;01mas\u001b[39;00m \u001b[38;5;21;01mnp\u001b[39;00m\n\u001b[1;32m----> 2\u001b[0m \u001b[38;5;28;01mimport\u001b[39;00m \u001b[38;5;21;01mpotrace\u001b[39;00m\n\u001b[0;32m      3\u001b[0m \u001b[38;5;28;01mimport\u001b[39;00m \u001b[38;5;21;01mmatplotlib\u001b[39;00m\u001b[38;5;21;01m.\u001b[39;00m\u001b[38;5;21;01mpyplot\u001b[39;00m \u001b[38;5;28;01mas\u001b[39;00m \u001b[38;5;21;01mplt\u001b[39;00m\n\u001b[0;32m      4\u001b[0m \u001b[38;5;28;01mfrom\u001b[39;00m \u001b[38;5;21;01mskimage\u001b[39;00m \u001b[38;5;28;01mimport\u001b[39;00m color\n",
      "\u001b[1;31mModuleNotFoundError\u001b[0m: No module named 'potrace'"
     ]
    }
   ],
   "source": []
  },
  {
   "cell_type": "code",
   "execution_count": 6,
   "metadata": {},
   "outputs": [
    {
     "ename": "ModuleNotFoundError",
     "evalue": "No module named 'potrace'",
     "output_type": "error",
     "traceback": [
      "\u001b[1;31m---------------------------------------------------------------------------\u001b[0m",
      "\u001b[1;31mModuleNotFoundError\u001b[0m                       Traceback (most recent call last)",
      "\u001b[1;32m~\\AppData\\Local\\Temp\\ipykernel_18856\\4182474407.py\u001b[0m in \u001b[0;36m<cell line: 2>\u001b[1;34m()\u001b[0m\n\u001b[0;32m      1\u001b[0m \u001b[1;32mimport\u001b[0m \u001b[0mnumpy\u001b[0m \u001b[1;32mas\u001b[0m \u001b[0mnp\u001b[0m\u001b[1;33m\u001b[0m\u001b[1;33m\u001b[0m\u001b[0m\n\u001b[1;32m----> 2\u001b[1;33m \u001b[1;32mimport\u001b[0m \u001b[0mpotrace\u001b[0m\u001b[1;33m\u001b[0m\u001b[1;33m\u001b[0m\u001b[0m\n\u001b[0m\u001b[0;32m      3\u001b[0m \u001b[1;32mimport\u001b[0m \u001b[0mmatplotlib\u001b[0m\u001b[1;33m.\u001b[0m\u001b[0mpyplot\u001b[0m \u001b[1;32mas\u001b[0m \u001b[0mplt\u001b[0m\u001b[1;33m\u001b[0m\u001b[1;33m\u001b[0m\u001b[0m\n\u001b[0;32m      4\u001b[0m \u001b[1;32mfrom\u001b[0m \u001b[0mskimage\u001b[0m \u001b[1;32mimport\u001b[0m \u001b[0mcolor\u001b[0m\u001b[1;33m\u001b[0m\u001b[1;33m\u001b[0m\u001b[0m\n\u001b[0;32m      5\u001b[0m \u001b[1;32mfrom\u001b[0m \u001b[0mskimage\u001b[0m\u001b[1;33m.\u001b[0m\u001b[0mio\u001b[0m \u001b[1;32mimport\u001b[0m \u001b[0mimread\u001b[0m\u001b[1;33m\u001b[0m\u001b[1;33m\u001b[0m\u001b[0m\n",
      "\u001b[1;31mModuleNotFoundError\u001b[0m: No module named 'potrace'"
     ]
    }
   ],
   "source": []
  },
  {
   "cell_type": "markdown",
   "metadata": {},
   "source": [
    "Uložení do SVG:\n",
    "\n",
    "Standardní knihovna pro práci se soubory v Pythonu (např. open() pro zápis do souboru).\n",
    "\n",
    "Pro tvorbu SVG obsahu můžete použít například knihovnu svgwrite: pip install svgwrite."
   ]
  }
 ],
 "metadata": {
  "kernelspec": {
   "display_name": "Python 3",
   "language": "python",
   "name": "python3"
  },
  "language_info": {
   "codemirror_mode": {
    "name": "ipython",
    "version": 3
   },
   "file_extension": ".py",
   "mimetype": "text/x-python",
   "name": "python",
   "nbconvert_exporter": "python",
   "pygments_lexer": "ipython3",
   "version": "3.12.1"
  }
 },
 "nbformat": 4,
 "nbformat_minor": 2
}

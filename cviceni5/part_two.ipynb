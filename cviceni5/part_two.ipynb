{
 "cells": [
  {
   "cell_type": "markdown",
   "metadata": {},
   "source": [
    "# Základní organizace kódu pomocí funkcí"
   ]
  },
  {
   "cell_type": "markdown",
   "metadata": {},
   "source": [
    "## Task 1: Napiš si kód, který nahraje soubor\n",
    "Napiš kód, který nahraje v předešlé části vytvořený JSON soubor s odsazením jednoho mezerníku do proměnné data."
   ]
  },
  {
   "cell_type": "code",
   "execution_count": 3,
   "metadata": {},
   "outputs": [],
   "source": []
  },
  {
   "cell_type": "markdown",
   "metadata": {},
   "source": [
    "## Task 2: Projdi si pozorně kód\n",
    "Čti rovněž komentáře kódu."
   ]
  },
  {
   "cell_type": "code",
   "execution_count": null,
   "metadata": {},
   "outputs": [],
   "source": [
    "# Iterate over the list of cities and print the records for Prague\n",
    "for station in data['cities']:\n",
    "    if station['location'] == 'Prague':\n",
    "        print(station['records'])\n",
    "        break"
   ]
  },
  {
   "cell_type": "code",
   "execution_count": null,
   "metadata": {},
   "outputs": [],
   "source": [
    "# Now we want the same for Brno. We can copy the code and change the city name...\n",
    "for station in data['cities']:\n",
    "    if station['location'] == 'Brno':\n",
    "        print(station['records'])\n",
    "        break  "
   ]
  },
  {
   "cell_type": "code",
   "execution_count": null,
   "metadata": {},
   "outputs": [],
   "source": [
    "# ... but it's better to put the code into a function and call it twice!\n",
    "def print_records(city):\n",
    "    for station in data['cities']:\n",
    "        if station['location'] == city:\n",
    "            print(station['records'])\n",
    "            break\n",
    "\n",
    "# Now we can call the function with different arguments\n",
    "print_records('Ostrava')"
   ]
  },
  {
   "cell_type": "code",
   "execution_count": null,
   "metadata": {},
   "outputs": [],
   "source": [
    "# But we can better! We can pass the whole data dictionary to the function\n",
    "# Now the function can be used with any data dictionary, not just the one we have\n",
    "def print_records(data, city):\n",
    "    for station in data['cities']:\n",
    "        if station['location'] == city:\n",
    "            print(station['records'])\n",
    "            break\n",
    "\n",
    "print_records(data, 'Ostrava')"
   ]
  },
  {
   "cell_type": "code",
   "execution_count": null,
   "metadata": {},
   "outputs": [],
   "source": [
    "# But we can do even better! There shouldn't be any print or side effects in the function\n",
    "# The function should just return the records and the caller should decide what to do with them\n",
    "def get_records(data, city):\n",
    "    for station in data['cities']:\n",
    "        if station['location'] == city:\n",
    "            return station['records']\n",
    "        \n",
    "for city in ['Prague', 'Brno', 'Ostrava', 'Liberec']:\n",
    "    print(get_records(data, city))"
   ]
  },
  {
   "cell_type": "code",
   "execution_count": 7,
   "metadata": {},
   "outputs": [
    {
     "name": "stdout",
     "output_type": "stream",
     "text": [
      "[{'time': '7:00', 'temperature': 8, 'humidity': 80, 'windSpeed': 5}, {'time': '14:00', 'temperature': 15, 'humidity': 50, 'windSpeed': 10}, {'time': '21:00', 'temperature': 10, 'humidity': 70, 'windSpeed': 5}]\n",
      "[{'time': '7:00', 'temperature': 7, 'humidity': 85, 'windSpeed': 7}, {'time': '14:00', 'temperature': 16, 'humidity': 45, 'windSpeed': 12}, {'time': '21:00', 'temperature': 11, 'humidity': 65, 'windSpeed': 4}]\n",
      "[{'time': '7:00', 'temperature': 6, 'humidity': 80, 'windSpeed': 10}, {'time': '14:00', 'temperature': 14, 'humidity': 55, 'windSpeed': 14}, {'time': '21:00', 'temperature': 9, 'humidity': 75, 'windSpeed': 8}]\n",
      "[{'time': '7:00', 'temperature': 5, 'humidity': 85, 'windSpeed': 8}, {'time': '14:00', 'temperature': 13, 'humidity': 60, 'windSpeed': 11}, {'time': '21:00', 'temperature': 8, 'humidity': 80, 'windSpeed': 3}]\n"
     ]
    }
   ],
   "source": [
    "# As a final touch, we can add type hints to the function signature and docstring\n",
    "# This will help us and others understand what the function expects and returns\n",
    "# It will also help the IDE provide better autocompletion and error checking\n",
    "def get_records(data: dict, city: str) -> list:\n",
    "    \"\"\" Return the records for the given city from the given data dictionary \"\"\"\n",
    "    for station in data['cities']:\n",
    "        if station['location'] == city:\n",
    "            return station['records']\n",
    "        \n",
    "for city in ['Prague', 'Brno', 'Ostrava', 'Liberec']:\n",
    "    print(get_records(data, city))"
   ]
  },
  {
   "cell_type": "markdown",
   "metadata": {},
   "source": [
    "## Task 3: Napiš funkci pro průměrnou teplotu\n",
    "Napiš jednoduchou funkci, která použije type hinting, docstring a na základě seznamu záznamů vytvářených funkcí get_records vrátí průměrnou teplotu.\n",
    "\n",
    "- Používejte pouze základní, vestavěnné funkce Pythonu či matematické operace\n",
    "- Pokud nevím, co dělat, klidně mohu psát na papír krok za krokem, co potřebuji udělat"
   ]
  },
  {
   "cell_type": "code",
   "execution_count": 2,
   "metadata": {},
   "outputs": [],
   "source": []
  }
 ],
 "metadata": {
  "kernelspec": {
   "display_name": "ABBA",
   "language": "python",
   "name": "python3"
  },
  "language_info": {
   "codemirror_mode": {
    "name": "ipython",
    "version": 3
   },
   "file_extension": ".py",
   "mimetype": "text/x-python",
   "name": "python",
   "nbconvert_exporter": "python",
   "pygments_lexer": "ipython3",
   "version": "3.12.2"
  }
 },
 "nbformat": 4,
 "nbformat_minor": 2
}

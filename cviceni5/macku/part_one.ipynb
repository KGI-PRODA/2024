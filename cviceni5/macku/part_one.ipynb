{
 "cells": [
  {
   "cell_type": "markdown",
   "metadata": {},
   "source": [
    "# CSV a JSON: Nahrání do Python prostředí\n",
    "\n",
    "Než začnete, pamatujte na Git workflow.\n",
    "\n",
    "1. Přesvědčím se, že jsem na main větvi.\n",
    "2. Pullnu si změny.\n",
    "3. Vytvořím vlastní working větev.\n",
    "4. Vytvořím složku cviceni5/vaseprijmeni.\n",
    "5. Překopíruji do ní vše ze složky cviceni5 a dělám na těchto překopírovaných souborech."
   ]
  },
  {
   "cell_type": "markdown",
   "metadata": {},
   "source": [
    "## Task 1: Uprav cestu pro nahrání souboru\n",
    "Pamatuj, cesta je relativní k místu, kde je skript spuštěn.\n",
    "\n",
    "Jak je to ve VSCode u běžných .py skriptů? Jak u .ipynb?\n",
    "\n",
    "Bonusové body za použití objektu Path!"
   ]
  },
  {
   "cell_type": "code",
   "execution_count": null,
   "metadata": {},
   "outputs": [],
   "source": [
    "# Read file meteo_data.json from the directory data\n",
    "# Remember, the script is not in the same directory as the file\n",
    "# We need to specify the correct relative path to the file\n",
    "\n",
    "from pathlib import Path\n",
    "path_to_json = '../../data/meteo_data.json' # correct the path to the file\n",
    "path_to_json = Path('../../data/meteo_data.json').resolve() # lepší způsob přes objekt Path\n",
    "with open(path_to_json, encoding=\"utf-8\") as file:\n",
    "    file_content = file.read()\n",
    "\n",
    "\n",
    "print(file_content)"
   ]
  },
  {
   "cell_type": "markdown",
   "metadata": {},
   "source": [
    "## Task 2: Překopíruj kód a modifikuj ho, aby byl sobor deserializován jako dictionary\n",
    "\n",
    "Využijte vestavěný modul json, který si naimportujte. Využijte jeho funkci json.load(), pozorujte, jako který datový typ byl json nahrán do paměti."
   ]
  },
  {
   "cell_type": "code",
   "execution_count": 9,
   "metadata": {},
   "outputs": [
    {
     "name": "stdout",
     "output_type": "stream",
     "text": [
      "{'date': '2024-03-11', 'cities': [{'location': 'Prague', 'coordinates': {'latitude': 50.0755, 'longitude': 14.4378}, 'records': [{'time': '7:00', 'temperature': 8, 'humidity': 80, 'windSpeed': 5}, {'time': '14:00', 'temperature': 15, 'humidity': 50, 'windSpeed': 10}, {'time': '21:00', 'temperature': 10, 'humidity': 70, 'windSpeed': 5}]}, {'location': 'Brno', 'coordinates': {'latitude': 49.1951, 'longitude': 16.6068}, 'records': [{'time': '7:00', 'temperature': 7, 'humidity': 85, 'windSpeed': 7}, {'time': '14:00', 'temperature': 16, 'humidity': 45, 'windSpeed': 12}, {'time': '21:00', 'temperature': 11, 'humidity': 65, 'windSpeed': 4}]}, {'location': 'Ostrava', 'coordinates': {'latitude': 49.8209, 'longitude': 18.2625}, 'records': [{'time': '7:00', 'temperature': 6, 'humidity': 80, 'windSpeed': 10}, {'time': '14:00', 'temperature': 14, 'humidity': 55, 'windSpeed': 14}, {'time': '21:00', 'temperature': 9, 'humidity': 75, 'windSpeed': 8}]}, {'location': 'Plzeň', 'coordinates': {'latitude': 49.7384, 'longitude': 13.3736}, 'records': [{'time': '7:00', 'temperature': 7, 'humidity': 82, 'windSpeed': 4}, {'time': '14:00', 'temperature': 17, 'humidity': 48, 'windSpeed': 9}, {'time': '21:00', 'temperature': 12, 'humidity': 68, 'windSpeed': 6}]}, {'location': 'Liberec', 'coordinates': {'latitude': 50.7663, 'longitude': 15.0562}, 'records': [{'time': '7:00', 'temperature': 5, 'humidity': 85, 'windSpeed': 8}, {'time': '14:00', 'temperature': 13, 'humidity': 60, 'windSpeed': 11}, {'time': '21:00', 'temperature': 8, 'humidity': 80, 'windSpeed': 3}]}, {'location': 'České Budějovice', 'coordinates': {'latitude': 48.9747, 'longitude': 14.4747}, 'records': [{'time': '7:00', 'temperature': 9, 'humidity': 78, 'windSpeed': 5}, {'time': '14:00', 'temperature': 18, 'humidity': 46, 'windSpeed': 10}, {'time': '21:00', 'temperature': 13, 'humidity': 70, 'windSpeed': 7}]}]}\n"
     ]
    }
   ],
   "source": [
    "import json \n",
    "from pathlib import Path\n",
    "\n",
    "path_to_json = Path('../../data/meteo_data.json').resolve() \n",
    "\n",
    "with open(path_to_json, encoding=\"utf-8\") as file:\n",
    "    js = json.loads(file.read())\n",
    "\n",
    "print(js) \n"
   ]
  },
  {
   "cell_type": "markdown",
   "metadata": {},
   "source": [
    "## Task 3: Uprav kód, aby vytiskl první město\n",
    "Jak můžeme vidět, data jsou zanořený slovník (dictionary).\n",
    "\n",
    "Uprav kód tak, aby print vytiskl první město."
   ]
  },
  {
   "cell_type": "code",
   "execution_count": 17,
   "metadata": {},
   "outputs": [
    {
     "name": "stdout",
     "output_type": "stream",
     "text": [
      "{'location': 'Plzeň', 'coordinates': {'latitude': 49.7384, 'longitude': 13.3736}, 'records': [{'time': '7:00', 'temperature': 7, 'humidity': 82, 'windSpeed': 4}, {'time': '14:00', 'temperature': 17, 'humidity': 48, 'windSpeed': 9}, {'time': '21:00', 'temperature': 12, 'humidity': 68, 'windSpeed': 6}]}\n"
     ]
    }
   ],
   "source": [
    "# We can see the data is a nested dictionary\n",
    "print(js[\"cities\"][3]) # correct the code to access the first city"
   ]
  },
  {
   "cell_type": "markdown",
   "metadata": {},
   "source": [
    "## Task 4: Uprav kód, aby správně exportoval JSON\n",
    "Uprav kód, aby vyexportoval kód do JSON s názvem *vaseprijmeni_meteo_data.json*.\n",
    "\n",
    "Vyexportovaný JSON musí používat pro odsazení (identaci) 1 mezeru. Pokud nevíte, jak na to, využijte nápovědy VS Code a podržte ctrl+myš nad funkcí json.dump()"
   ]
  },
  {
   "cell_type": "code",
   "execution_count": 16,
   "metadata": {},
   "outputs": [],
   "source": [
    "# Now, we can export the data back to JSON. Export with indentation of 1 space!\n",
    "# Hint: the json.dump() function is used to write data to a file in JSON format\n",
    "    # Fill in the blanks to export the data dictionary to a JSON file with the name 'vaseprijmeni_meteo_data.json'!\n",
    "with open('macku_meteo_data.json', 'w', encoding=\"utf-8\") as file:\n",
    "    json.dump(js, file, indent=1)"
   ]
  },
  {
   "cell_type": "markdown",
   "metadata": {},
   "source": [
    "## Task 5: Uprav kód, aby nahrál soubor\n",
    "Uprav kód, aby správně nahrál csv soubor.\n",
    "\n",
    "Využij informace z tasku 1, popřípadě nápovědu z Problems ve VS Code"
   ]
  },
  {
   "cell_type": "code",
   "execution_count": 19,
   "metadata": {},
   "outputs": [
    {
     "name": "stdout",
     "output_type": "stream",
     "text": [
      "[{'StationID': '1', ' Latitude': ' 50.087811', ' Longitude': ' 14.420460', ' PM2.5': ' 25', ' Temperature': ' 22', ' Humidity': ' 45', ' Timestamp': ' 2024-03-11T07:00'}, {'StationID': '2', ' Latitude': ' 50.056897', ' Longitude': ' 14.451298', ' PM2.5': ' 30', ' Temperature': ' 23', ' Humidity': ' 50', ' Timestamp': ' 2024-03-11T07:00'}, {'StationID': '3', ' Latitude': ' 50.079445', ' Longitude': ' 14.438191', ' PM2.5': ' 28', ' Temperature': ' 21', ' Humidity': ' 48', ' Timestamp': ' 2024-03-11T07:00'}, {'StationID': '4', ' Latitude': ' 50.101928', ' Longitude': ' 14.430508', ' PM2.5': ' 20', ' Temperature': ' 20', ' Humidity': ' 40', ' Timestamp': ' 2024-03-11T07:00'}, {'StationID': '5', ' Latitude': ' 50.087947', ' Longitude': ' 14.482785', ' PM2.5': ' 35', ' Temperature': ' 24', ' Humidity': ' 55', ' Timestamp': ' 2024-03-11T07:00'}, {'StationID': '1', ' Latitude': ' 50.087811', ' Longitude': ' 14.420460', ' PM2.5': ' 27', ' Temperature': ' 18', ' Humidity': ' 50', ' Timestamp': ' 2024-03-11T14:00'}, {'StationID': '2', ' Latitude': ' 50.056897', ' Longitude': ' 14.451298', ' PM2.5': ' 32', ' Temperature': ' 19', ' Humidity': ' 52', ' Timestamp': ' 2024-03-11T14:00'}, {'StationID': '3', ' Latitude': ' 50.079445', ' Longitude': ' 14.438191', ' PM2.5': ' 30', ' Temperature': ' 17', ' Humidity': ' 47', ' Timestamp': ' 2024-03-11T14:00'}, {'StationID': '4', ' Latitude': ' 50.101928', ' Longitude': ' 14.430508', ' PM2.5': ' 22', ' Temperature': ' 16', ' Humidity': ' 45', ' Timestamp': ' 2024-03-11T14:00'}, {'StationID': '5', ' Latitude': ' 50.087947', ' Longitude': ' 14.482785', ' PM2.5': ' 38', ' Temperature': ' 25', ' Humidity': ' 60', ' Timestamp': ' 2024-03-11T14:00'}, {'StationID': '1', ' Latitude': ' 50.087811', ' Longitude': ' 14.420460', ' PM2.5': ' 23', ' Temperature': ' 15', ' Humidity': ' 55', ' Timestamp': ' 2024-03-11T21:00'}, {'StationID': '2', ' Latitude': ' 50.056897', ' Longitude': ' 14.451298', ' PM2.5': ' 29', ' Temperature': ' 16', ' Humidity': ' 53', ' Timestamp': ' 2024-03-11T21:00'}, {'StationID': '3', ' Latitude': ' 50.079445', ' Longitude': ' 14.438191', ' PM2.5': ' 26', ' Temperature': ' 14', ' Humidity': ' 49', ' Timestamp': ' 2024-03-11T21:00'}, {'StationID': '4', ' Latitude': ' 50.101928', ' Longitude': ' 14.430508', ' PM2.5': ' 18', ' Temperature': ' 13', ' Humidity': ' 46', ' Timestamp': ' 2024-03-11T21:00'}, {'StationID': '5', ' Latitude': ' 50.087947', ' Longitude': ' 14.482785', ' PM2.5': ' 34', ' Temperature': ' 21', ' Humidity': ' 58', ' Timestamp': ' 2024-03-11T21:00'}]\n"
     ]
    }
   ],
   "source": [
    "# We need to read the CSV file and parse it into a list of dictionaries\n",
    "# We can use the csv module to read the file\n",
    "import csv\n",
    "from pathlib import Path\n",
    "# We can use the DictReader class to read the file pm_data.csv in data directory\n",
    "\n",
    "path_to_csv = Path('../../data/pm_data.csv').resolve() \n",
    "\n",
    "with open(path_to_csv) as file:\n",
    "    dataCsv = list(csv.DictReader(file))\n",
    "\n",
    "# We can see the data is a list of dictionaries\n",
    "print(dataCsv)"
   ]
  },
  {
   "cell_type": "code",
   "execution_count": 23,
   "metadata": {},
   "outputs": [],
   "source": [
    "\n",
    "# Now, we can export the data back to CSV. Export with a ; delimiter\n",
    "# We can use the csv module to write the file\n",
    "# Correct the code to export data with right delimiter and header\n",
    "with open('macku_pm_data.csv', 'w') as file:\n",
    "    writer = csv.DictWriter(file, fieldnames=dataCsv[0].keys())\n",
    "    writer.writeheader()  \n",
    "    writer.writerows(dataCsv)"
   ]
  },
  {
   "cell_type": "markdown",
   "metadata": {},
   "source": [
    "## Task 6: Uprav kód, aby nahrál soubor\n",
    "Uprav kód, aby správně nahrál csv soubor a podívej se. CSV lze také nahrát jako list listů."
   ]
  },
  {
   "cell_type": "code",
   "execution_count": null,
   "metadata": {},
   "outputs": [],
   "source": [
    "# We can also read the file as a list of lists\n",
    "with open('pm_data.csv') as file:\n",
    "    dataCsv = list(csv.reader(file))\n",
    "\n",
    "print(dataCsv)"
   ]
  }
 ],
 "metadata": {
  "kernelspec": {
   "display_name": "ABBA",
   "language": "python",
   "name": "python3"
  },
  "language_info": {
   "codemirror_mode": {
    "name": "ipython",
    "version": 3
   },
   "file_extension": ".py",
   "mimetype": "text/x-python",
   "name": "python",
   "nbconvert_exporter": "python",
   "pygments_lexer": "ipython3",
   "version": "3.12.1"
  }
 },
 "nbformat": 4,
 "nbformat_minor": 2
}

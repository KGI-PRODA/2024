{
 "cells": [
  {
   "cell_type": "markdown",
   "metadata": {},
   "source": [
    "# CSV a JSON: Nahrání do Python prostředí\n",
    "\n",
    "Než začnete, pamatujte na Git workflow.\n",
    "\n",
    "1. Přesvědčím se, že jsem na main větvi.\n",
    "2. Pullnu si změny.\n",
    "3. Vytvořím vlastní working větev.\n",
    "4. Vytvořím složku cviceni5/vaseprijmeni.\n",
    "5. Překopíruji do ní vše ze složky cviceni5 a dělám na těchto překopírovaných souborech."
   ]
  },
  {
   "cell_type": "markdown",
   "metadata": {},
   "source": [
    "## Task 1: Uprav cestu pro nahrání souboru\n",
    "Pamatuj, cesta je relativní k místu, kde je skript spuštěn.\n",
    "\n",
    "Jak je to ve VSCode u běžných .py skriptů? Jak u .ipynb?"
   ]
  },
  {
   "cell_type": "code",
   "execution_count": 5,
   "metadata": {},
   "outputs": [],
   "source": [
    "# Import the json module (which is part of the Python standard library) to work with JSON data\n",
    "import json\n",
    "from pathlib import Path\n",
    "\n",
    "# We need to read the JSON file and parse it into a Python dictionary\n",
    "# Upload file meteo_data.json from the directory data\n",
    "# Remember, the script is not in the same directory as the file\n",
    "# We need to specify the correct relative path to the file\n",
    "\n",
    "path_to_json = Path('meteo_data.json') # correct the path to the file\n",
    "\n",
    "with open(path_to_json, encoding=\"utf-8\") as file:\n",
    "    data = json.load(file)"
   ]
  },
  {
   "cell_type": "markdown",
   "metadata": {},
   "source": [
    "## Task 2: Uprav kód, aby vytiskl první město\n",
    "Jak můžeme vidět, data jsou zanořený slovník (dictionary).\n",
    "\n",
    "Uprav kód tak, aby print vytiskl první město."
   ]
  },
  {
   "cell_type": "code",
   "execution_count": 7,
   "metadata": {},
   "outputs": [
    {
     "name": "stdout",
     "output_type": "stream",
     "text": [
      "{'location': 'Prague', 'coordinates': {'latitude': 50.0755, 'longitude': 14.4378}, 'records': [{'time': '7:00', 'temperature': 8, 'humidity': 80, 'windSpeed': 5}, {'time': '14:00', 'temperature': 15, 'humidity': 50, 'windSpeed': 10}, {'time': '21:00', 'temperature': 10, 'humidity': 70, 'windSpeed': 5}]}\n"
     ]
    }
   ],
   "source": [
    "# We can see the data is a nested dictionary\n",
    "\n",
    "print(data) # correct the code to access the first city"
   ]
  },
  {
   "cell_type": "markdown",
   "metadata": {},
   "source": [
    "## Task 3: Uprav kód, aby správně exportoval JSON\n",
    "Uprav kód, aby vyexportoval kód do JSON s názvem *vaseprijmeni_meteo_data.json*.\n",
    "\n",
    "Vyexportovaný JSON musí používat pro odsazení (identaci) 1 mezeru. Pokud nevíte, jak na to, využijte nápovědy VS Code a podržte ctrl+myš nad funkcí json.dump()"
   ]
  },
  {
   "cell_type": "code",
   "execution_count": 27,
   "metadata": {},
   "outputs": [],
   "source": [
    "# Now, we can export the data back to JSON. Export with indentation of 1 space!\n",
    "# Hint: the json.dump() function is used to write data to a file in JSON format\n",
    "    # Fill in the blanks to export the data dictionary to a JSON file with the name 'vaseprijmeni_meteo_data.json'!\n",
    "with open('vaseprijmeni_meteo_data.json', 'w') as file:"
   ]
  },
  {
   "cell_type": "markdown",
   "metadata": {},
   "source": [
    "## Task 4: Uprav kód, aby nahrál soubor\n",
    "Uprav kód, aby správně nahrál csv soubor.\n",
    "\n",
    "Využij informace z tasku 1, popřípadě nápovědu z Problems ve VS Code"
   ]
  },
  {
   "cell_type": "code",
   "execution_count": null,
   "metadata": {},
   "outputs": [],
   "source": [
    "# We need to read the CSV file and parse it into a list of dictionaries\n",
    "# We can use the csv module to read the file\n",
    "\n",
    "# We can use the DictReader class to read the file pm_data.csv in data directory\n",
    "with open('pm_data.csv') as file:\n",
    "    dataCsv = list(csv.DictReader(file))\n",
    "\n",
    "# We can see the data is a list of dictionaries\n",
    "print(dataCsv)"
   ]
  },
  {
   "cell_type": "code",
   "execution_count": null,
   "metadata": {},
   "outputs": [],
   "source": [
    "\n",
    "# Now, we can export the data back to CSV. Export with a ; delimiter\n",
    "# We can use the csv module to write the file\n",
    "# Correct the code to export data with right delimiter and header\n",
    "with open('vaseprijmeni_pm_data.csv', 'w') as file:\n",
    "    writer = csv.DictWriter(file, fieldnames=dataCsv[0].keys())\n",
    "    \n",
    "    writer.writerows(dataCsv)"
   ]
  },
  {
   "cell_type": "markdown",
   "metadata": {},
   "source": [
    "## Task 5: Uprav kód, aby nahrál soubor\n",
    "Uprav kód, aby správně nahrál csv soubor a podívej se. CSV lze také nahrát jako list listů."
   ]
  },
  {
   "cell_type": "code",
   "execution_count": 35,
   "metadata": {},
   "outputs": [
    {
     "name": "stdout",
     "output_type": "stream",
     "text": [
      "[['StationID', ' Latitude', ' Longitude', ' PM2.5', ' Temperature', ' Humidity', ' Timestamp'], ['1', ' 50.087811', ' 14.420460', ' 25', ' 22', ' 45', ' 2024-03-11T07:00'], ['2', ' 50.056897', ' 14.451298', ' 30', ' 23', ' 50', ' 2024-03-11T07:00'], ['3', ' 50.079445', ' 14.438191', ' 28', ' 21', ' 48', ' 2024-03-11T07:00'], ['4', ' 50.101928', ' 14.430508', ' 20', ' 20', ' 40', ' 2024-03-11T07:00'], ['5', ' 50.087947', ' 14.482785', ' 35', ' 24', ' 55', ' 2024-03-11T07:00'], ['1', ' 50.087811', ' 14.420460', ' 27', ' 18', ' 50', ' 2024-03-11T14:00'], ['2', ' 50.056897', ' 14.451298', ' 32', ' 19', ' 52', ' 2024-03-11T14:00'], ['3', ' 50.079445', ' 14.438191', ' 30', ' 17', ' 47', ' 2024-03-11T14:00'], ['4', ' 50.101928', ' 14.430508', ' 22', ' 16', ' 45', ' 2024-03-11T14:00'], ['5', ' 50.087947', ' 14.482785', ' 38', ' 25', ' 60', ' 2024-03-11T14:00'], ['1', ' 50.087811', ' 14.420460', ' 23', ' 15', ' 55', ' 2024-03-11T21:00'], ['2', ' 50.056897', ' 14.451298', ' 29', ' 16', ' 53', ' 2024-03-11T21:00'], ['3', ' 50.079445', ' 14.438191', ' 26', ' 14', ' 49', ' 2024-03-11T21:00'], ['4', ' 50.101928', ' 14.430508', ' 18', ' 13', ' 46', ' 2024-03-11T21:00'], ['5', ' 50.087947', ' 14.482785', ' 34', ' 21', ' 58', ' 2024-03-11T21:00']]\n"
     ]
    }
   ],
   "source": [
    "# We can also read the file as a list of lists\n",
    "with open('pm_data.csv') as file:\n",
    "    dataCsv = list(csv.reader(file))\n",
    "\n",
    "print(dataCsv)"
   ]
  }
 ],
 "metadata": {
  "kernelspec": {
   "display_name": "ABBA",
   "language": "python",
   "name": "python3"
  },
  "language_info": {
   "codemirror_mode": {
    "name": "ipython",
    "version": 3
   },
   "file_extension": ".py",
   "mimetype": "text/x-python",
   "name": "python",
   "nbconvert_exporter": "python",
   "pygments_lexer": "ipython3",
   "version": "3.12.2"
  }
 },
 "nbformat": 4,
 "nbformat_minor": 2
}

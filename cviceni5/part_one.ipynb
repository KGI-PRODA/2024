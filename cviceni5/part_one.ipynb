{
 "cells": [
  {
   "cell_type": "markdown",
   "metadata": {},
   "source": [
    "# CSV a JSON: Nahrání do Python prostředí\n",
    "\n",
    "Než začnete, pamatujte na Git workflow.\n",
    "\n",
    "1. Přesvědčím se, že jsem na main větvi.\n",
    "2. Pullnu si změny.\n",
    "3. Vytvořím vlastní working větev.\n",
    "4. Vytvořím složku cviceni5/vaseprijmeni.\n",
    "5. Překopíruji do ní vše ze složky cviceni5 a dělám na těchto překopírovaných souborech."
   ]
  },
  {
   "cell_type": "markdown",
   "metadata": {},
   "source": [
    "## Task 1: Uprav cestu pro nahrání souboru\n",
    "Pamatuj, cesta je relativní k místu, kde je skript spuštěn.\n",
    "\n",
    "Jak je to ve VSCode u běžných .py skriptů? Jak u .ipynb?\n",
    "\n",
    "Bonusové body za použití objektu Path!"
   ]
  },
  {
   "cell_type": "code",
   "execution_count": 2,
   "metadata": {},
   "outputs": [
    {
     "ename": "FileNotFoundError",
     "evalue": "[Errno 2] No such file or directory: 'c:\\\\Users\\\\42060\\\\Documents\\\\programko\\\\PRODA-Materials-2024\\\\cviceni5\\\\data\\\\meteo_data.json'",
     "output_type": "error",
     "traceback": [
      "\u001b[1;31m---------------------------------------------------------------------------\u001b[0m",
      "\u001b[1;31mFileNotFoundError\u001b[0m                         Traceback (most recent call last)",
      "\u001b[1;32m~\\AppData\\Local\\Temp\\ipykernel_18668\\817805286.py\u001b[0m in \u001b[0;36m<cell line: 9>\u001b[1;34m()\u001b[0m\n\u001b[0;32m      7\u001b[0m \u001b[1;33m\u001b[0m\u001b[0m\n\u001b[0;32m      8\u001b[0m \u001b[1;31m# Read the JSON file\u001b[0m\u001b[1;33m\u001b[0m\u001b[1;33m\u001b[0m\u001b[0m\n\u001b[1;32m----> 9\u001b[1;33m \u001b[1;32mwith\u001b[0m \u001b[0mopen\u001b[0m\u001b[1;33m(\u001b[0m\u001b[0mjson_file_path\u001b[0m\u001b[1;33m,\u001b[0m \u001b[0mencoding\u001b[0m\u001b[1;33m=\u001b[0m\u001b[1;34m\"utf-8\"\u001b[0m\u001b[1;33m)\u001b[0m \u001b[1;32mas\u001b[0m \u001b[0mfile\u001b[0m\u001b[1;33m:\u001b[0m\u001b[1;33m\u001b[0m\u001b[1;33m\u001b[0m\u001b[0m\n\u001b[0m\u001b[0;32m     10\u001b[0m     \u001b[0mfile_content\u001b[0m \u001b[1;33m=\u001b[0m \u001b[0mfile\u001b[0m\u001b[1;33m.\u001b[0m\u001b[0mread\u001b[0m\u001b[1;33m(\u001b[0m\u001b[1;33m)\u001b[0m\u001b[1;33m\u001b[0m\u001b[1;33m\u001b[0m\u001b[0m\n\u001b[0;32m     11\u001b[0m \u001b[1;33m\u001b[0m\u001b[0m\n",
      "\u001b[1;31mFileNotFoundError\u001b[0m: [Errno 2] No such file or directory: 'c:\\\\Users\\\\42060\\\\Documents\\\\programko\\\\PRODA-Materials-2024\\\\cviceni5\\\\data\\\\meteo_data.json'"
     ]
    }
   ],
   "source": [
    "import os\n",
    "# Get the absolute path of the notebook file\n",
    "notebook_path = os.path.abspath('__meteo_data.json__')\n",
    "\n",
    "# Construct the correct path to the JSON file\n",
    "json_file_path = os.path.join(os.path.dirname(notebook_path), 'data', 'meteo_data.json')\n",
    "\n",
    "# Read the JSON file\n",
    "with open(json_file_path, encoding=\"utf-8\") as file:\n",
    "    file_content = file.read()\n",
    "\n",
    "print(file_content)"
   ]
  },
  {
   "cell_type": "markdown",
   "metadata": {},
   "source": [
    "## Task 2: Překopíruj kód a modifikuj ho, aby byl sobor deserializován jako dictionary\n",
    "\n",
    "Využijte vestavěný modul json, který si naimportujte. Využijte jeho funkci json.load(), pozorujte, jako který datový typ byl json nahrán do paměti."
   ]
  },
  {
   "cell_type": "code",
   "execution_count": 1,
   "metadata": {},
   "outputs": [
    {
     "ename": "FileNotFoundError",
     "evalue": "[Errno 2] No such file or directory: 'meteo_data.json'",
     "output_type": "error",
     "traceback": [
      "\u001b[1;31m---------------------------------------------------------------------------\u001b[0m",
      "\u001b[1;31mFileNotFoundError\u001b[0m                         Traceback (most recent call last)",
      "\u001b[1;32m~\\AppData\\Local\\Temp\\ipykernel_18668\\4231216267.py\u001b[0m in \u001b[0;36m<cell line: 4>\u001b[1;34m()\u001b[0m\n\u001b[0;32m      2\u001b[0m \u001b[0mpath_to_json\u001b[0m \u001b[1;33m=\u001b[0m \u001b[1;34m'meteo_data.json'\u001b[0m \u001b[1;31m# correct the path to the file\u001b[0m\u001b[1;33m\u001b[0m\u001b[1;33m\u001b[0m\u001b[0m\n\u001b[0;32m      3\u001b[0m \u001b[1;33m\u001b[0m\u001b[0m\n\u001b[1;32m----> 4\u001b[1;33m \u001b[1;32mwith\u001b[0m \u001b[0mopen\u001b[0m\u001b[1;33m(\u001b[0m\u001b[0mpath_to_json\u001b[0m\u001b[1;33m,\u001b[0m \u001b[0mencoding\u001b[0m\u001b[1;33m=\u001b[0m\u001b[1;34m\"utf-8\"\u001b[0m\u001b[1;33m)\u001b[0m \u001b[1;32mas\u001b[0m \u001b[0mfile\u001b[0m\u001b[1;33m:\u001b[0m\u001b[1;33m\u001b[0m\u001b[1;33m\u001b[0m\u001b[0m\n\u001b[0m\u001b[0;32m      5\u001b[0m     \u001b[0mfile_content\u001b[0m \u001b[1;33m=\u001b[0m \u001b[0mfile\u001b[0m\u001b[1;33m.\u001b[0m\u001b[0mread\u001b[0m\u001b[1;33m(\u001b[0m\u001b[1;33m)\u001b[0m\u001b[1;33m\u001b[0m\u001b[1;33m\u001b[0m\u001b[0m\n\u001b[0;32m      6\u001b[0m \u001b[1;33m\u001b[0m\u001b[0m\n",
      "\u001b[1;31mFileNotFoundError\u001b[0m: [Errno 2] No such file or directory: 'meteo_data.json'"
     ]
    }
   ],
   "source": [
    "import json\n",
    "path_to_json = 'meteo_data.json' # correct the path to the file\n",
    "\n",
    "with open(path_to_json, encoding=\"utf-8\") as file:\n",
    "    file_content = file.read()\n",
    "\n",
    "\n",
    "path_to_json = 'meteo_data.json' # correct the path to the file\n",
    "\n",
    "with open(path_to_json, encoding=\"utf-8\") as file:\n",
    "    data = json.load(file)\n",
    "\n",
    "print(data)\n",
    "print(file_content)"
   ]
  },
  {
   "cell_type": "markdown",
   "metadata": {},
   "source": [
    "## Task 3: Uprav kód, aby vytiskl první město\n",
    "Jak můžeme vidět, data jsou zanořený slovník (dictionary).\n",
    "\n",
    "Uprav kód tak, aby print vytiskl první město."
   ]
  },
  {
   "cell_type": "code",
   "execution_count": null,
   "metadata": {},
   "outputs": [],
   "source": [
    "# We can see the data is a nested dictionary\n",
    "\n",
    "print(data) # correct the code to access the first city"
   ]
  },
  {
   "cell_type": "markdown",
   "metadata": {},
   "source": [
    "## Task 4: Uprav kód, aby správně exportoval JSON\n",
    "Uprav kód, aby vyexportoval kód do JSON s názvem *vaseprijmeni_meteo_data.json*.\n",
    "\n",
    "Vyexportovaný JSON musí používat pro odsazení (identaci) 1 mezeru. Pokud nevíte, jak na to, využijte nápovědy VS Code a podržte ctrl+myš nad funkcí json.dump()"
   ]
  },
  {
   "cell_type": "code",
   "execution_count": null,
   "metadata": {},
   "outputs": [],
   "source": [
    "# Now, we can export the data back to JSON. Export with indentation of 1 space!\n",
    "# Hint: the json.dump() function is used to write data to a file in JSON format\n",
    "    # Fill in the blanks to export the data dictionary to a JSON file with the name 'vaseprijmeni_meteo_data.json'!\n",
    "with open('vaseprijmeni_meteo_data.json', 'w') as file:"
   ]
  },
  {
   "cell_type": "markdown",
   "metadata": {},
   "source": [
    "## Task 5: Uprav kód, aby nahrál soubor\n",
    "Uprav kód, aby správně nahrál csv soubor.\n",
    "\n",
    "Využij informace z tasku 1, popřípadě nápovědu z Problems ve VS Code"
   ]
  },
  {
   "cell_type": "code",
   "execution_count": null,
   "metadata": {},
   "outputs": [],
   "source": [
    "# We need to read the CSV file and parse it into a list of dictionaries\n",
    "# We can use the csv module to read the file\n",
    "\n",
    "# We can use the DictReader class to read the file pm_data.csv in data directory\n",
    "with open('pm_data.csv') as file:\n",
    "    dataCsv = list(csv.DictReader(file))\n",
    "\n",
    "# We can see the data is a list of dictionaries\n",
    "print(dataCsv)"
   ]
  },
  {
   "cell_type": "code",
   "execution_count": null,
   "metadata": {},
   "outputs": [],
   "source": [
    "\n",
    "# Now, we can export the data back to CSV. Export with a ; delimiter\n",
    "# We can use the csv module to write the file\n",
    "# Correct the code to export data with right delimiter and header\n",
    "with open('vaseprijmeni_pm_data.csv', 'w') as file:\n",
    "    writer = csv.DictWriter(file, fieldnames=dataCsv[0].keys())\n",
    "    \n",
    "    writer.writerows(dataCsv)"
   ]
  },
  {
   "cell_type": "markdown",
   "metadata": {},
   "source": [
    "## Task 6: Uprav kód, aby nahrál soubor\n",
    "Uprav kód, aby správně nahrál csv soubor a podívej se. CSV lze také nahrát jako list listů."
   ]
  },
  {
   "cell_type": "code",
   "execution_count": null,
   "metadata": {},
   "outputs": [],
   "source": [
    "# We can also read the file as a list of lists\n",
    "with open('pm_data.csv') as file:\n",
    "    dataCsv = list(csv.reader(file))\n",
    "\n",
    "print(dataCsv)"
   ]
  }
 ],
 "metadata": {
  "kernelspec": {
   "display_name": "ABBA",
   "language": "python",
   "name": "python3"
  },
  "language_info": {
   "codemirror_mode": {
    "name": "ipython",
    "version": 3
   },
   "file_extension": ".py",
   "mimetype": "text/x-python",
   "name": "python",
   "nbconvert_exporter": "python",
   "pygments_lexer": "ipython3",
   "version": "3.12.2"
  }
 },
 "nbformat": 4,
 "nbformat_minor": 2
}

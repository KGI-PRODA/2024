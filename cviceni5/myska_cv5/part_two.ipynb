{
 "cells": [
  {
   "cell_type": "markdown",
   "metadata": {},
   "source": [
    "# Základní organizace kódu pomocí funkcí"
   ]
  },
  {
   "cell_type": "markdown",
   "metadata": {},
   "source": [
    "## Task 1: Napiš si kód, který nahraje soubor\n",
    "Napiš kód, který nahraje v předešlé části vytvořený JSON soubor s odsazením jednoho mezerníku do proměnné data."
   ]
  },
  {
   "cell_type": "code",
   "execution_count": 2,
   "metadata": {},
   "outputs": [
    {
     "name": "stdout",
     "output_type": "stream",
     "text": [
      "{'date': '2024-03-11', 'cities': [{'location': 'Prague', 'coordinates': {'latitude': 50.0755, 'longitude': 14.4378}, 'records': [{'time': '7:00', 'temperature': 8, 'humidity': 80, 'windSpeed': 5}, {'time': '14:00', 'temperature': 15, 'humidity': 50, 'windSpeed': 10}, {'time': '21:00', 'temperature': 10, 'humidity': 70, 'windSpeed': 5}]}, {'location': 'Brno', 'coordinates': {'latitude': 49.1951, 'longitude': 16.6068}, 'records': [{'time': '7:00', 'temperature': 7, 'humidity': 85, 'windSpeed': 7}, {'time': '14:00', 'temperature': 16, 'humidity': 45, 'windSpeed': 12}, {'time': '21:00', 'temperature': 11, 'humidity': 65, 'windSpeed': 4}]}, {'location': 'Ostrava', 'coordinates': {'latitude': 49.8209, 'longitude': 18.2625}, 'records': [{'time': '7:00', 'temperature': 6, 'humidity': 80, 'windSpeed': 10}, {'time': '14:00', 'temperature': 14, 'humidity': 55, 'windSpeed': 14}, {'time': '21:00', 'temperature': 9, 'humidity': 75, 'windSpeed': 8}]}, {'location': 'Plzeň', 'coordinates': {'latitude': 49.7384, 'longitude': 13.3736}, 'records': [{'time': '7:00', 'temperature': 7, 'humidity': 82, 'windSpeed': 4}, {'time': '14:00', 'temperature': 17, 'humidity': 48, 'windSpeed': 9}, {'time': '21:00', 'temperature': 12, 'humidity': 68, 'windSpeed': 6}]}, {'location': 'Liberec', 'coordinates': {'latitude': 50.7663, 'longitude': 15.0562}, 'records': [{'time': '7:00', 'temperature': 5, 'humidity': 85, 'windSpeed': 8}, {'time': '14:00', 'temperature': 13, 'humidity': 60, 'windSpeed': 11}, {'time': '21:00', 'temperature': 8, 'humidity': 80, 'windSpeed': 3}]}, {'location': 'České Budějovice', 'coordinates': {'latitude': 48.9747, 'longitude': 14.4747}, 'records': [{'time': '7:00', 'temperature': 9, 'humidity': 78, 'windSpeed': 5}, {'time': '14:00', 'temperature': 18, 'humidity': 46, 'windSpeed': 10}, {'time': '21:00', 'temperature': 13, 'humidity': 70, 'windSpeed': 7}]}]}\n"
     ]
    }
   ],
   "source": [
    "import json\n",
    "from pathlib import Path\n",
    "\n",
    "path_to_json = Path(\"../../data/meteo_data.json\")\n",
    "\n",
    "with open(path_to_json, encoding=\"utf-8\") as file:\n",
    "    data = json.load(file)\n",
    "\n",
    "print(data)"
   ]
  },
  {
   "cell_type": "markdown",
   "metadata": {},
   "source": [
    "## Task 2: Projdi si pozorně kód\n",
    "Čti rovněž komentáře kódu."
   ]
  },
  {
   "cell_type": "code",
   "execution_count": 3,
   "metadata": {},
   "outputs": [
    {
     "name": "stdout",
     "output_type": "stream",
     "text": [
      "[{'time': '7:00', 'temperature': 8, 'humidity': 80, 'windSpeed': 5}, {'time': '14:00', 'temperature': 15, 'humidity': 50, 'windSpeed': 10}, {'time': '21:00', 'temperature': 10, 'humidity': 70, 'windSpeed': 5}]\n"
     ]
    }
   ],
   "source": [
    "# Iterate over the list of cities and print the records for Prague\n",
    "for station in data['cities']:\n",
    "    if station['location'] == 'Prague':\n",
    "        print(station['records'])\n",
    "        break"
   ]
  },
  {
   "cell_type": "code",
   "execution_count": 4,
   "metadata": {},
   "outputs": [
    {
     "name": "stdout",
     "output_type": "stream",
     "text": [
      "[{'time': '7:00', 'temperature': 7, 'humidity': 85, 'windSpeed': 7}, {'time': '14:00', 'temperature': 16, 'humidity': 45, 'windSpeed': 12}, {'time': '21:00', 'temperature': 11, 'humidity': 65, 'windSpeed': 4}]\n"
     ]
    }
   ],
   "source": [
    "# Now we want the same for Brno. We can copy the code and change the city name...\n",
    "for station in data['cities']:\n",
    "    if station['location'] == 'Brno':\n",
    "        print(station['records'])\n",
    "        break  "
   ]
  },
  {
   "cell_type": "code",
   "execution_count": 5,
   "metadata": {},
   "outputs": [
    {
     "name": "stdout",
     "output_type": "stream",
     "text": [
      "[{'time': '7:00', 'temperature': 6, 'humidity': 80, 'windSpeed': 10}, {'time': '14:00', 'temperature': 14, 'humidity': 55, 'windSpeed': 14}, {'time': '21:00', 'temperature': 9, 'humidity': 75, 'windSpeed': 8}]\n"
     ]
    }
   ],
   "source": [
    "# ... but it's better to put the code into a function and call it twice!\n",
    "def print_records(city):\n",
    "    for station in data['cities']:\n",
    "        if station['location'] == city:\n",
    "            print(station['records'])\n",
    "            break\n",
    "\n",
    "# Now we can call the function with different arguments\n",
    "print_records('Ostrava')"
   ]
  },
  {
   "cell_type": "code",
   "execution_count": null,
   "metadata": {},
   "outputs": [],
   "source": [
    "# But we can better! We can pass the whole data dictionary to the function\n",
    "# Now the function can be used with any data dictionary, not just the one we have\n",
    "def print_records(data, city):\n",
    "    for station in data['cities']:\n",
    "        if station['location'] == city:\n",
    "            print(station['records'])\n",
    "            break\n",
    "\n",
    "print_records(data, 'Ostrava')"
   ]
  },
  {
   "cell_type": "code",
   "execution_count": null,
   "metadata": {},
   "outputs": [],
   "source": [
    "# But we can do even better! There shouldn't be any print or side effects in the function\n",
    "# The function should just return the records and the caller should decide what to do with them\n",
    "def get_records(data, city):\n",
    "    for station in data['cities']:\n",
    "        if station['location'] == city:\n",
    "            return station['records']\n",
    "        \n",
    "for city in ['Prague', 'Brno', 'Ostrava', 'Liberec']:\n",
    "    print(get_records(data, city))"
   ]
  },
  {
   "cell_type": "code",
   "execution_count": 7,
   "metadata": {},
   "outputs": [],
   "source": [
    "# As a final touch, we can add a default value for the city parameter\n",
    "# And we can add a docstring to explain what the function does\n",
    "# Note that VSCode will show the docstring when you hover over the function name\n",
    "def get_records(data, city = 'Prague'):\n",
    "    \"\"\"\n",
    "    Return the records for the given city from the given data dictionary\n",
    "\n",
    "    Args:\n",
    "    - data: a dictionary with the data\n",
    "    - city: a string with the name of the city\n",
    "\n",
    "    Returns:\n",
    "    - a list with the records for the city\n",
    "    \"\"\"\n",
    "    for station in data['cities']:\n",
    "        if station['location'] == city:\n",
    "            return station['records']"
   ]
  },
  {
   "cell_type": "code",
   "execution_count": 8,
   "metadata": {},
   "outputs": [
    {
     "name": "stdout",
     "output_type": "stream",
     "text": [
      "[{'time': '7:00', 'temperature': 8, 'humidity': 80, 'windSpeed': 5}, {'time': '14:00', 'temperature': 15, 'humidity': 50, 'windSpeed': 10}, {'time': '21:00', 'temperature': 10, 'humidity': 70, 'windSpeed': 5}]\n"
     ]
    }
   ],
   "source": [
    "print(get_records(data))  # As the city is optional and Prague is default, we can call the function without it"
   ]
  },
  {
   "cell_type": "code",
   "execution_count": 10,
   "metadata": {},
   "outputs": [
    {
     "name": "stdout",
     "output_type": "stream",
     "text": [
      "[{'time': '7:00', 'temperature': 8, 'humidity': 80, 'windSpeed': 5}, {'time': '14:00', 'temperature': 15, 'humidity': 50, 'windSpeed': 10}, {'time': '21:00', 'temperature': 10, 'humidity': 70, 'windSpeed': 5}]\n",
      "[{'time': '7:00', 'temperature': 7, 'humidity': 85, 'windSpeed': 7}, {'time': '14:00', 'temperature': 16, 'humidity': 45, 'windSpeed': 12}, {'time': '21:00', 'temperature': 11, 'humidity': 65, 'windSpeed': 4}]\n",
      "[{'time': '7:00', 'temperature': 6, 'humidity': 80, 'windSpeed': 10}, {'time': '14:00', 'temperature': 14, 'humidity': 55, 'windSpeed': 14}, {'time': '21:00', 'temperature': 9, 'humidity': 75, 'windSpeed': 8}]\n",
      "[{'time': '7:00', 'temperature': 5, 'humidity': 85, 'windSpeed': 8}, {'time': '14:00', 'temperature': 13, 'humidity': 60, 'windSpeed': 11}, {'time': '21:00', 'temperature': 8, 'humidity': 80, 'windSpeed': 3}]\n"
     ]
    }
   ],
   "source": [
    "# We can also iterate over the list of cities and print the records for each one\n",
    "for city in ['Prague', 'Brno', 'Ostrava', 'Liberec']:\n",
    "    print(get_records(data, city))"
   ]
  },
  {
   "cell_type": "markdown",
   "metadata": {},
   "source": [
    "## Task 3: Napiš funkci pro průměrnou teplotu\n",
    "Napiš jednoduchou funkci, která použije docstring a na základě seznamu záznamů vytvářených funkcí get_records vrátí průměrnou teplotu.\n",
    "\n",
    "- Používejte pouze základní, vestavěnné funkce Pythonu či matematické operace\n",
    "- Pokud nevím, co dělat, klidně mohu psát na papír krok za krokem, co potřebuji udělat\n",
    "- Na základě toho Googluji, v dotazu používám názvy datových struktur:) Např. \"how to get length of list in python\""
   ]
  },
  {
   "cell_type": "code",
   "execution_count": 12,
   "metadata": {},
   "outputs": [
    {
     "data": {
      "text/plain": [
       "11.0"
      ]
     },
     "execution_count": 12,
     "metadata": {},
     "output_type": "execute_result"
    }
   ],
   "source": [
    "records = (get_records(data))\n",
    "def get_mean_temp(records):\n",
    "    pocet = 0\n",
    "    soucet_teplot = 0\n",
    "    for record in records:\n",
    "        pocet = pocet + 1\n",
    "        soucet_teplot = soucet_teplot + record['temperature']\n",
    "    return soucet_teplot/pocet\n",
    "    \n",
    "get_mean_temp(records)"
   ]
  }
 ],
 "metadata": {
  "kernelspec": {
   "display_name": "ABBA",
   "language": "python",
   "name": "python3"
  },
  "language_info": {
   "codemirror_mode": {
    "name": "ipython",
    "version": 3
   },
   "file_extension": ".py",
   "mimetype": "text/x-python",
   "name": "python",
   "nbconvert_exporter": "python",
   "pygments_lexer": "ipython3",
   "version": "3.12.1"
  }
 },
 "nbformat": 4,
 "nbformat_minor": 2
}

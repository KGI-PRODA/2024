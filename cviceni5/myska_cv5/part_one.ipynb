{
 "cells": [
  {
   "cell_type": "markdown",
   "metadata": {},
   "source": [
    "# CSV a JSON: Nahrání do Python prostředí\n",
    "\n",
    "Než začnete, pamatujte na Git workflow.\n",
    "\n",
    "1. Přesvědčím se, že jsem na main větvi.\n",
    "2. Pullnu si změny.\n",
    "3. Vytvořím vlastní working větev.\n",
    "4. Vytvořím složku cviceni5/vaseprijmeni.\n",
    "5. Překopíruji do ní vše ze složky cviceni5 a dělám na těchto překopírovaných souborech."
   ]
  },
  {
   "cell_type": "markdown",
   "metadata": {},
   "source": [
    "## Task 1: Uprav cestu pro nahrání souboru\n",
    "Pamatuj, cesta je relativní k místu, kde je skript spuštěn.\n",
    "\n",
    "Jak je to ve VSCode u běžných .py skriptů? Jak u .ipynb?\n",
    "\n",
    "Bonusové body za použití objektu Path!"
   ]
  },
  {
   "cell_type": "code",
   "execution_count": 5,
   "metadata": {},
   "outputs": [
    {
     "name": "stdout",
     "output_type": "stream",
     "text": [
      "<class 'pathlib.Path'>\n",
      "{\n",
      "    \"date\": \"2024-03-11\",\n",
      "    \"cities\": [\n",
      "      {\n",
      "        \"location\": \"Prague\",\n",
      "        \"coordinates\": {\"latitude\": 50.0755, \"longitude\": 14.4378},\n",
      "        \"records\": [\n",
      "          {\"time\": \"7:00\", \"temperature\": 8, \"humidity\": 80, \"windSpeed\": 5},\n",
      "          {\"time\": \"14:00\", \"temperature\": 15, \"humidity\": 50, \"windSpeed\": 10},\n",
      "          {\"time\": \"21:00\", \"temperature\": 10, \"humidity\": 70, \"windSpeed\": 5}\n",
      "        ]\n",
      "      },\n",
      "      {\n",
      "        \"location\": \"Brno\",\n",
      "        \"coordinates\": {\"latitude\": 49.1951, \"longitude\": 16.6068},\n",
      "        \"records\": [\n",
      "          {\"time\": \"7:00\", \"temperature\": 7, \"humidity\": 85, \"windSpeed\": 7},\n",
      "          {\"time\": \"14:00\", \"temperature\": 16, \"humidity\": 45, \"windSpeed\": 12},\n",
      "          {\"time\": \"21:00\", \"temperature\": 11, \"humidity\": 65, \"windSpeed\": 4}\n",
      "        ]\n",
      "      },\n",
      "      {\n",
      "        \"location\": \"Ostrava\",\n",
      "        \"coordinates\": {\"latitude\": 49.8209, \"longitude\": 18.2625},\n",
      "        \"records\": [\n",
      "          {\"time\": \"7:00\", \"temperature\": 6, \"humidity\": 80, \"windSpeed\": 10},\n",
      "          {\"time\": \"14:00\", \"temperature\": 14, \"humidity\": 55, \"windSpeed\": 14},\n",
      "          {\"time\": \"21:00\", \"temperature\": 9, \"humidity\": 75, \"windSpeed\": 8}\n",
      "        ]\n",
      "      },\n",
      "      {\n",
      "        \"location\": \"Plzeň\",\n",
      "        \"coordinates\": {\"latitude\": 49.7384, \"longitude\": 13.3736},\n",
      "        \"records\": [\n",
      "          {\"time\": \"7:00\", \"temperature\": 7, \"humidity\": 82, \"windSpeed\": 4},\n",
      "          {\"time\": \"14:00\", \"temperature\": 17, \"humidity\": 48, \"windSpeed\": 9},\n",
      "          {\"time\": \"21:00\", \"temperature\": 12, \"humidity\": 68, \"windSpeed\": 6}\n",
      "        ]\n",
      "      },\n",
      "      {\n",
      "        \"location\": \"Liberec\",\n",
      "        \"coordinates\": {\"latitude\": 50.7663, \"longitude\": 15.0562},\n",
      "        \"records\": [\n",
      "          {\"time\": \"7:00\", \"temperature\": 5, \"humidity\": 85, \"windSpeed\": 8},\n",
      "          {\"time\": \"14:00\", \"temperature\": 13, \"humidity\": 60, \"windSpeed\": 11},\n",
      "          {\"time\": \"21:00\", \"temperature\": 8, \"humidity\": 80, \"windSpeed\": 3}\n",
      "        ]\n",
      "      },\n",
      "      {\n",
      "        \"location\": \"České Budějovice\",\n",
      "        \"coordinates\": {\"latitude\": 48.9747, \"longitude\": 14.4747},\n",
      "        \"records\": [\n",
      "          {\"time\": \"7:00\", \"temperature\": 9, \"humidity\": 78, \"windSpeed\": 5},\n",
      "          {\"time\": \"14:00\", \"temperature\": 18, \"humidity\": 46, \"windSpeed\": 10},\n",
      "          {\"time\": \"21:00\", \"temperature\": 13, \"humidity\": 70, \"windSpeed\": 7}\n",
      "        ]\n",
      "      }\n",
      "    ]\n",
      "  }\n"
     ]
    }
   ],
   "source": [
    "# Read file meteo_data.json from the directory data\n",
    "# Remember, the script is not in the same directory as the file\n",
    "# We need to specify the correct relative path to the file\n",
    "import pathlib\n",
    "\n",
    "path_to_json = pathlib.Path(\"../../data/meteo_data.json\")\n",
    "\n",
    "print(pathlib.Path)\n",
    "\n",
    "with open(path_to_json, encoding=\"utf-8\") as file:\n",
    "    file_content = file.read()\n",
    "\n",
    "print(file_content)"
   ]
  },
  {
   "cell_type": "markdown",
   "metadata": {},
   "source": [
    "## Task 2: Překopíruj kód a modifikuj ho, aby byl sobor deserializován jako dictionary\n",
    "\n",
    "Využijte vestavěný modul json, který si naimportujte. Využijte jeho funkci json.load(), pozorujte, jako který datový typ byl json nahrán do paměti."
   ]
  },
  {
   "cell_type": "code",
   "execution_count": 6,
   "metadata": {},
   "outputs": [
    {
     "name": "stdout",
     "output_type": "stream",
     "text": [
      "{'date': '2024-03-11', 'cities': [{'location': 'Prague', 'coordinates': {'latitude': 50.0755, 'longitude': 14.4378}, 'records': [{'time': '7:00', 'temperature': 8, 'humidity': 80, 'windSpeed': 5}, {'time': '14:00', 'temperature': 15, 'humidity': 50, 'windSpeed': 10}, {'time': '21:00', 'temperature': 10, 'humidity': 70, 'windSpeed': 5}]}, {'location': 'Brno', 'coordinates': {'latitude': 49.1951, 'longitude': 16.6068}, 'records': [{'time': '7:00', 'temperature': 7, 'humidity': 85, 'windSpeed': 7}, {'time': '14:00', 'temperature': 16, 'humidity': 45, 'windSpeed': 12}, {'time': '21:00', 'temperature': 11, 'humidity': 65, 'windSpeed': 4}]}, {'location': 'Ostrava', 'coordinates': {'latitude': 49.8209, 'longitude': 18.2625}, 'records': [{'time': '7:00', 'temperature': 6, 'humidity': 80, 'windSpeed': 10}, {'time': '14:00', 'temperature': 14, 'humidity': 55, 'windSpeed': 14}, {'time': '21:00', 'temperature': 9, 'humidity': 75, 'windSpeed': 8}]}, {'location': 'Plzeň', 'coordinates': {'latitude': 49.7384, 'longitude': 13.3736}, 'records': [{'time': '7:00', 'temperature': 7, 'humidity': 82, 'windSpeed': 4}, {'time': '14:00', 'temperature': 17, 'humidity': 48, 'windSpeed': 9}, {'time': '21:00', 'temperature': 12, 'humidity': 68, 'windSpeed': 6}]}, {'location': 'Liberec', 'coordinates': {'latitude': 50.7663, 'longitude': 15.0562}, 'records': [{'time': '7:00', 'temperature': 5, 'humidity': 85, 'windSpeed': 8}, {'time': '14:00', 'temperature': 13, 'humidity': 60, 'windSpeed': 11}, {'time': '21:00', 'temperature': 8, 'humidity': 80, 'windSpeed': 3}]}, {'location': 'České Budějovice', 'coordinates': {'latitude': 48.9747, 'longitude': 14.4747}, 'records': [{'time': '7:00', 'temperature': 9, 'humidity': 78, 'windSpeed': 5}, {'time': '14:00', 'temperature': 18, 'humidity': 46, 'windSpeed': 10}, {'time': '21:00', 'temperature': 13, 'humidity': 70, 'windSpeed': 7}]}]}\n"
     ]
    }
   ],
   "source": [
    "import json\n",
    "from pathlib import Path\n",
    "\n",
    "path_to_json = Path(\"../../data/meteo_data.json\")\n",
    "\n",
    "with open(path_to_json, encoding=\"utf-8\") as file:\n",
    "    file_content = json.load(file)\n",
    "\n",
    "print(file_content)"
   ]
  },
  {
   "cell_type": "markdown",
   "metadata": {},
   "source": [
    "## Task 3: Uprav kód, aby vytiskl první město\n",
    "Jak můžeme vidět, data jsou zanořený slovník (dictionary).\n",
    "\n",
    "Uprav kód tak, aby print vytiskl první město."
   ]
  },
  {
   "cell_type": "code",
   "execution_count": 12,
   "metadata": {},
   "outputs": [
    {
     "name": "stdout",
     "output_type": "stream",
     "text": [
      "{'location': 'Prague', 'coordinates': {'latitude': 50.0755, 'longitude': 14.4378}, 'records': [{'time': '7:00', 'temperature': 8, 'humidity': 80, 'windSpeed': 5}, {'time': '14:00', 'temperature': 15, 'humidity': 50, 'windSpeed': 10}, {'time': '21:00', 'temperature': 10, 'humidity': 70, 'windSpeed': 5}]}\n"
     ]
    }
   ],
   "source": [
    "\n",
    "print(file_content[\"cities\"][0])"
   ]
  },
  {
   "cell_type": "markdown",
   "metadata": {},
   "source": [
    "## Task 4: Uprav kód, aby správně exportoval JSON\n",
    "Uprav kód, aby vyexportoval kód do JSON s názvem *vaseprijmeni_meteo_data.json*.\n",
    "\n",
    "Vyexportovaný JSON musí používat pro odsazení (identaci) 1 mezeru. Pokud nevíte, jak na to, využijte nápovědy VS Code a podržte ctrl+myš nad funkcí json.dump()"
   ]
  },
  {
   "cell_type": "code",
   "execution_count": 18,
   "metadata": {},
   "outputs": [],
   "source": [
    "# Now, we can export the data back to JSON. Export with indentation of 1 space!\n",
    "# Hint: the json.dump() function is used to write data to a file in JSON format\n",
    "    # Fill in the blanks to export the data dictionary to a JSON file with the name 'vaseprijmeni_meteo_data.json'!\n",
    "with open('myska_meteo_data.json', 'w', encoding=\"utf-8\") as file:\n",
    "    json.dump(file_content, file, indent=1)"
   ]
  },
  {
   "cell_type": "markdown",
   "metadata": {},
   "source": [
    "## Task 5: Uprav kód, aby nahrál soubor\n",
    "Uprav kód, aby správně nahrál csv soubor.\n",
    "\n",
    "Využij informace z tasku 1, popřípadě nápovědu z Problems ve VS Code"
   ]
  },
  {
   "cell_type": "code",
   "execution_count": 4,
   "metadata": {},
   "outputs": [],
   "source": [
    "# We need to read the CSV file and parse it into a list of dictionaries\n",
    "# We can use the csv module to read the file\n",
    "import csv\n",
    "# We can use the DictReader class to read the file pm_data.csv in data directory\n",
    "with open('../../data/pm_data.csv') as file:\n",
    "    dataCsv = list(csv.DictReader(file))\n",
    "\n",
    "# We can see the data is a list of dictionaries\n"
   ]
  },
  {
   "cell_type": "code",
   "execution_count": 6,
   "metadata": {},
   "outputs": [],
   "source": [
    "\n",
    "# Now, we can export the data back to CSV. Export with a ; delimiter\n",
    "# We can use the csv module to write the file\n",
    "# Correct the code to export data with right delimiter and header\n",
    "import csv\n",
    "with open('myska_pm_data.csv', 'w', encoding=\"utf-8\") as file1:\n",
    "    writer = csv.DictWriter(file1, fieldnames=dataCsv[0].keys())\n",
    "    writer.writeheader()\n",
    "    writer.writerows(dataCsv)"
   ]
  },
  {
   "cell_type": "markdown",
   "metadata": {},
   "source": [
    "## Task 6: Uprav kód, aby nahrál soubor\n",
    "Uprav kód, aby správně nahrál csv soubor a podívej se. CSV lze také nahrát jako list listů."
   ]
  },
  {
   "cell_type": "code",
   "execution_count": null,
   "metadata": {},
   "outputs": [],
   "source": [
    "# We can also read the file as a list of lists\n",
    "with open('pm_data.csv') as file:\n",
    "    dataCsv = list(csv.reader(file))\n",
    "\n",
    "print(dataCsv)"
   ]
  }
 ],
 "metadata": {
  "kernelspec": {
   "display_name": "ABBA",
   "language": "python",
   "name": "python3"
  },
  "language_info": {
   "codemirror_mode": {
    "name": "ipython",
    "version": 3
   },
   "file_extension": ".py",
   "mimetype": "text/x-python",
   "name": "python",
   "nbconvert_exporter": "python",
   "pygments_lexer": "ipython3",
   "version": "3.12.1"
  }
 },
 "nbformat": 4,
 "nbformat_minor": 2
}

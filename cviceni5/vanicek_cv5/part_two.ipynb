{
 "cells": [
  {
   "cell_type": "markdown",
   "metadata": {},
   "source": [
    "# Základní organizace kódu pomocí funkcí"
   ]
  },
  {
   "cell_type": "markdown",
   "metadata": {},
   "source": [
    "## Task 1: Napiš si kód, který nahraje soubor\n",
    "Napiš kód, který nahraje v předešlé části vytvořený JSON soubor s odsazením jednoho mezerníku do proměnné data."
   ]
  },
  {
   "cell_type": "code",
   "execution_count": null,
   "metadata": {},
   "outputs": [],
   "source": []
  },
  {
   "cell_type": "markdown",
   "metadata": {},
   "source": [
    "## Task 2: Projdi si pozorně kód\n",
    "Čti rovněž komentáře kódu."
   ]
  },
  {
   "cell_type": "code",
   "execution_count": null,
   "metadata": {},
   "outputs": [],
   "source": [
    "# Iterate over the list of cities and print the records for Prague\n",
    "for station in data['cities']:\n",
    "    if station['location'] == 'Prague':\n",
    "        print(station['records'])\n",
    "        break"
   ]
  },
  {
   "cell_type": "code",
   "execution_count": null,
   "metadata": {},
   "outputs": [],
   "source": [
    "# Now we want the same for Brno. We can copy the code and change the city name...\n",
    "for station in data['cities']:\n",
    "    if station['location'] == 'Brno':\n",
    "        print(station['records'])\n",
    "        break  "
   ]
  },
  {
   "cell_type": "code",
   "execution_count": null,
   "metadata": {},
   "outputs": [],
   "source": [
    "# ... but it's better to put the code into a function and call it twice!\n",
    "def print_records(city):\n",
    "    for station in data['cities']:\n",
    "        if station['location'] == city:\n",
    "            print(station['records'])\n",
    "            break\n",
    "\n",
    "# Now we can call the function with different arguments\n",
    "print_records('Ostrava')"
   ]
  },
  {
   "cell_type": "code",
   "execution_count": null,
   "metadata": {},
   "outputs": [],
   "source": [
    "# But we can better! We can pass the whole data dictionary to the function\n",
    "# Now the function can be used with any data dictionary, not just the one we have\n",
    "def print_records(data, city):\n",
    "    for station in data['cities']:\n",
    "        if station['location'] == city:\n",
    "            print(station['records'])\n",
    "            break\n",
    "\n",
    "print_records(data, 'Ostrava')"
   ]
  },
  {
   "cell_type": "code",
   "execution_count": null,
   "metadata": {},
   "outputs": [],
   "source": [
    "# But we can do even better! There shouldn't be any print or side effects in the function\n",
    "# The function should just return the records and the caller should decide what to do with them\n",
    "def get_records(data, city):\n",
    "    for station in data['cities']:\n",
    "        if station['location'] == city:\n",
    "            return station['records']\n",
    "        \n",
    "for city in ['Prague', 'Brno', 'Ostrava', 'Liberec']:\n",
    "    print(get_records(data, city))"
   ]
  },
  {
   "cell_type": "code",
   "execution_count": null,
   "metadata": {},
   "outputs": [],
   "source": [
    "# As a final touch, we can add a default value for the city parameter\n",
    "# And we can add a docstring to explain what the function does\n",
    "# Note that VSCode will show the docstring when you hover over the function name\n",
    "def get_records(data, city = 'Prague'):\n",
    "    \"\"\"\n",
    "    Return the records for the given city from the given data dictionary\n",
    "\n",
    "    Args:\n",
    "    - data: a dictionary with the data\n",
    "    - city: a string with the name of the city\n",
    "\n",
    "    Returns:\n",
    "    - a list with the records for the city\n",
    "    \"\"\"\n",
    "    for station in data['cities']:\n",
    "        if station['location'] == city:\n",
    "            return station['records']"
   ]
  },
  {
   "cell_type": "code",
   "execution_count": null,
   "metadata": {},
   "outputs": [],
   "source": [
    "print(get_records(data))  # As the city is optional and Prague is default, we can call the function without it"
   ]
  },
  {
   "cell_type": "code",
   "execution_count": null,
   "metadata": {},
   "outputs": [],
   "source": [
    "# We can also iterate over the list of cities and print the records for each one\n",
    "for city in ['Prague', 'Brno', 'Ostrava', 'Liberec']:\n",
    "    print(get_records(data, city))"
   ]
  },
  {
   "cell_type": "markdown",
   "metadata": {},
   "source": [
    "## Task 3: Napiš funkci pro průměrnou teplotu\n",
    "Napiš jednoduchou funkci, která použije docstring a na základě seznamu záznamů vytvářených funkcí get_records vrátí průměrnou teplotu.\n",
    "\n",
    "- Používejte pouze základní, vestavěnné funkce Pythonu či matematické operace\n",
    "- Pokud nevím, co dělat, klidně mohu psát na papír krok za krokem, co potřebuji udělat\n",
    "- Na základě toho Googluji, v dotazu používám názvy datových struktur:) Např. \"how to get length of list in python\""
   ]
  },
  {
   "cell_type": "code",
   "execution_count": null,
   "metadata": {},
   "outputs": [],
   "source": []
  }
 ],
 "metadata": {
  "kernelspec": {
   "display_name": "ABBA",
   "language": "python",
   "name": "python3"
  },
  "language_info": {
   "codemirror_mode": {
    "name": "ipython",
    "version": 3
   },
   "file_extension": ".py",
   "mimetype": "text/x-python",
   "name": "python",
   "nbconvert_exporter": "python",
   "pygments_lexer": "ipython3",
   "version": "3.12.2"
  }
 },
 "nbformat": 4,
 "nbformat_minor": 2
}

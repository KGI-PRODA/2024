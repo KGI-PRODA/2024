{
 "cells": [
  {
   "cell_type": "markdown",
   "metadata": {},
   "source": [
    "# CSV a JSON: Nahrání do Python prostředí\n",
    "\n",
    "Než začnete, pamatujte na Git workflow.\n",
    "\n",
    "1. Přesvědčím se, že jsem na main větvi.\n",
    "2. Pullnu si změny.\n",
    "3. Vytvořím vlastní working větev.\n",
    "4. Vytvořím složku cviceni5/vaseprijmeni.\n",
    "5. Překopíruji do ní vše ze složky cviceni5 a dělám na těchto překopírovaných souborech."
   ]
  },
  {
   "cell_type": "markdown",
   "metadata": {},
   "source": [
    "## Task 1: Uprav cestu pro nahrání souboru\n",
    "Pamatuj, cesta je relativní k místu, kde je skript spuštěn.\n",
    "\n",
    "Jak je to ve VSCode u běžných .py skriptů? Jak u .ipynb?\n",
    "\n",
    "Bonusové body za použití objektu Path!"
   ]
  },
  {
   "cell_type": "code",
   "execution_count": null,
   "metadata": {},
   "outputs": [],
   "source": [
    "from pathlib import Path\n",
    "\n",
    "# Read file meteo_data.json from the directory data\n",
    "# Remember, the script is not in the same directory as the file\n",
    "# We need to specify the correct relative path to the file\n",
    "\n",
    "path_to_json = Path('../../data/meteo_data.json') # correct the path to the file\n",
    "\n",
    "with path_to_json.open(encoding=\"utf-8\") as file:\n",
    "    file_content = file.read()\n",
    "\n",
    "print(file_content)"
   ]
  },
  {
   "cell_type": "markdown",
   "metadata": {},
   "source": [
    "## Task 2: Překopíruj kód a modifikuj ho, aby byl sobor deserializován jako dictionary\n",
    "\n",
    "Využijte vestavěný modul json, který si naimportujte. Využijte jeho funkci json.load(), pozorujte, jako který datový typ byl json nahrán do paměti."
   ]
  },
  {
   "cell_type": "code",
   "execution_count": 6,
   "metadata": {},
   "outputs": [
    {
     "name": "stdout",
     "output_type": "stream",
     "text": [
      "<class 'dict'>\n"
     ]
    }
   ],
   "source": [
    "import json\n",
    "from pathlib import Path\n",
    "\n",
    "# Read file meteo_data.json from the directory data\n",
    "# Remember, the script is not in the same directory as the file\n",
    "# We need to specify the correct relative path to the file\n",
    "\n",
    "path_to_json = Path('../../data/meteo_data.json') # correct the path to the file\n",
    "\n",
    "with path_to_json.open(encoding=\"utf-8\") as file:\n",
    "    data = json.load(file)\n",
    "\n",
    "# print(data)\n",
    "print(type(data))  # Print the type of data to confirm it's a dictionary"
   ]
  },
  {
   "cell_type": "markdown",
   "metadata": {},
   "source": [
    "## Task 3: Uprav kód, aby vytiskl první město\n",
    "Jak můžeme vidět, data jsou zanořený slovník (dictionary).\n",
    "\n",
    "Uprav kód tak, aby print vytiskl první město."
   ]
  },
  {
   "cell_type": "code",
   "execution_count": 9,
   "metadata": {},
   "outputs": [
    {
     "name": "stdout",
     "output_type": "stream",
     "text": [
      "{'location': 'Prague', 'coordinates': {'latitude': 50.0755, 'longitude': 14.4378}, 'records': [{'time': '7:00', 'temperature': 8, 'humidity': 80, 'windSpeed': 5}, {'time': '14:00', 'temperature': 15, 'humidity': 50, 'windSpeed': 10}, {'time': '21:00', 'temperature': 10, 'humidity': 70, 'windSpeed': 5}]}\n"
     ]
    }
   ],
   "source": [
    "import json\n",
    "from pathlib import Path\n",
    "\n",
    "path_to_json = Path('../../data/meteo_data.json') # correct the path to the file\n",
    "\n",
    "with path_to_json.open(encoding=\"utf-8\") as file:\n",
    "    data = json.load(file)\n",
    "\n",
    "print(data[\"cities\"][0])  # Print the first city in the list"
   ]
  },
  {
   "cell_type": "markdown",
   "metadata": {},
   "source": [
    "## Task 4: Uprav kód, aby správně exportoval JSON\n",
    "Uprav kód, aby vyexportoval kód do JSON s názvem *vaseprijmeni_meteo_data.json*.\n",
    "\n",
    "Vyexportovaný JSON musí používat pro odsazení (identaci) 1 mezeru. Pokud nevíte, jak na to, využijte nápovědy VS Code a podržte ctrl+myš nad funkcí json.dump()"
   ]
  },
  {
   "cell_type": "code",
   "execution_count": 10,
   "metadata": {},
   "outputs": [],
   "source": [
    "# Now, we can export the data back to JSON. Export with indentation of 1 space!\n",
    "# Hint: the json.dump() function is used to write data to a file in JSON format\n",
    "    # Fill in the blanks to export the data dictionary to a JSON file with the name 'vanicek_meteo_data.json'!\n",
    "with open('vanicek_meteo_data.json', 'w') as file:\n",
    "    json.dump(data, file, indent=1)"
   ]
  },
  {
   "cell_type": "markdown",
   "metadata": {},
   "source": [
    "## Task 5: Uprav kód, aby nahrál soubor\n",
    "Uprav kód, aby správně nahrál csv soubor.\n",
    "\n",
    "Využij informace z tasku 1, popřípadě nápovědu z Problems ve VS Code"
   ]
  },
  {
   "cell_type": "code",
   "execution_count": 18,
   "metadata": {},
   "outputs": [
    {
     "name": "stdout",
     "output_type": "stream",
     "text": [
      "[{'StationID': '1', ' Latitude': ' 50.087811', ' Longitude': ' 14.420460', ' PM2.5': ' 25', ' Temperature': ' 22', ' Humidity': ' 45', ' Timestamp': ' 2024-03-11T07:00'}, {'StationID': '2', ' Latitude': ' 50.056897', ' Longitude': ' 14.451298', ' PM2.5': ' 30', ' Temperature': ' 23', ' Humidity': ' 50', ' Timestamp': ' 2024-03-11T07:00'}, {'StationID': '3', ' Latitude': ' 50.079445', ' Longitude': ' 14.438191', ' PM2.5': ' 28', ' Temperature': ' 21', ' Humidity': ' 48', ' Timestamp': ' 2024-03-11T07:00'}, {'StationID': '4', ' Latitude': ' 50.101928', ' Longitude': ' 14.430508', ' PM2.5': ' 20', ' Temperature': ' 20', ' Humidity': ' 40', ' Timestamp': ' 2024-03-11T07:00'}, {'StationID': '5', ' Latitude': ' 50.087947', ' Longitude': ' 14.482785', ' PM2.5': ' 35', ' Temperature': ' 24', ' Humidity': ' 55', ' Timestamp': ' 2024-03-11T07:00'}, {'StationID': '1', ' Latitude': ' 50.087811', ' Longitude': ' 14.420460', ' PM2.5': ' 27', ' Temperature': ' 18', ' Humidity': ' 50', ' Timestamp': ' 2024-03-11T14:00'}, {'StationID': '2', ' Latitude': ' 50.056897', ' Longitude': ' 14.451298', ' PM2.5': ' 32', ' Temperature': ' 19', ' Humidity': ' 52', ' Timestamp': ' 2024-03-11T14:00'}, {'StationID': '3', ' Latitude': ' 50.079445', ' Longitude': ' 14.438191', ' PM2.5': ' 30', ' Temperature': ' 17', ' Humidity': ' 47', ' Timestamp': ' 2024-03-11T14:00'}, {'StationID': '4', ' Latitude': ' 50.101928', ' Longitude': ' 14.430508', ' PM2.5': ' 22', ' Temperature': ' 16', ' Humidity': ' 45', ' Timestamp': ' 2024-03-11T14:00'}, {'StationID': '5', ' Latitude': ' 50.087947', ' Longitude': ' 14.482785', ' PM2.5': ' 38', ' Temperature': ' 25', ' Humidity': ' 60', ' Timestamp': ' 2024-03-11T14:00'}, {'StationID': '1', ' Latitude': ' 50.087811', ' Longitude': ' 14.420460', ' PM2.5': ' 23', ' Temperature': ' 15', ' Humidity': ' 55', ' Timestamp': ' 2024-03-11T21:00'}, {'StationID': '2', ' Latitude': ' 50.056897', ' Longitude': ' 14.451298', ' PM2.5': ' 29', ' Temperature': ' 16', ' Humidity': ' 53', ' Timestamp': ' 2024-03-11T21:00'}, {'StationID': '3', ' Latitude': ' 50.079445', ' Longitude': ' 14.438191', ' PM2.5': ' 26', ' Temperature': ' 14', ' Humidity': ' 49', ' Timestamp': ' 2024-03-11T21:00'}, {'StationID': '4', ' Latitude': ' 50.101928', ' Longitude': ' 14.430508', ' PM2.5': ' 18', ' Temperature': ' 13', ' Humidity': ' 46', ' Timestamp': ' 2024-03-11T21:00'}, {'StationID': '5', ' Latitude': ' 50.087947', ' Longitude': ' 14.482785', ' PM2.5': ' 34', ' Temperature': ' 21', ' Humidity': ' 58', ' Timestamp': ' 2024-03-11T21:00'}]\n"
     ]
    }
   ],
   "source": [
    "import csv\n",
    "from pathlib import Path\n",
    "\n",
    "path_to_csv = Path('../../data/pm_data.csv') # correct the path to the file\n",
    "\n",
    "# We can use the DictReader class to read the file pm_data.csv in data directory\n",
    "with path_to_csv.open('r') as file:\n",
    "    dataCsv = list(csv.DictReader(file))\n",
    "\n",
    "# We can see the data is a list of dictionaries\n",
    "print(dataCsv)"
   ]
  },
  {
   "cell_type": "code",
   "execution_count": 19,
   "metadata": {},
   "outputs": [],
   "source": [
    "# Now, we can export the data back to CSV. Export with a ; delimiter\n",
    "# We can use the csv module to write the file\n",
    "# Correct the code to export data with right delimiter and header\n",
    "with open('vanicek_pm_data.csv', 'w', newline='') as file:\n",
    "    writer = csv.DictWriter(file, fieldnames=dataCsv[0].keys(), delimiter=';')\n",
    "    \n",
    "    writer.writeheader()  # Write the header\n",
    "    writer.writerows(dataCsv)  # Write the rows"
   ]
  },
  {
   "cell_type": "markdown",
   "metadata": {},
   "source": [
    "## Task 6: Uprav kód, aby nahrál soubor\n",
    "Uprav kód, aby správně nahrál csv soubor a podívej se. CSV lze také nahrát jako list listů."
   ]
  },
  {
   "cell_type": "code",
   "execution_count": null,
   "metadata": {},
   "outputs": [],
   "source": [
    "# We can also read the file as a list of lists\n",
    "with open('pm_data.csv') as file:\n",
    "    dataCsv = list(csv.reader(file))\n",
    "\n",
    "print(dataCsv)"
   ]
  }
 ],
 "metadata": {
  "kernelspec": {
   "display_name": "ABBA",
   "language": "python",
   "name": "python3"
  },
  "language_info": {
   "codemirror_mode": {
    "name": "ipython",
    "version": 3
   },
   "file_extension": ".py",
   "mimetype": "text/x-python",
   "name": "python",
   "nbconvert_exporter": "python",
   "pygments_lexer": "ipython3",
   "version": "3.12.2"
  }
 },
 "nbformat": 4,
 "nbformat_minor": 2
}

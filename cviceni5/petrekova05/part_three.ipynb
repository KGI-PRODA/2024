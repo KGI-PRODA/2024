{
 "cells": [
  {
   "cell_type": "markdown",
   "metadata": {},
   "source": [
    "# Zploštění JSON na CSV"
   ]
  },
  {
   "cell_type": "markdown",
   "metadata": {},
   "source": [
    "## Task 1: Napiš si kód, který nahraje soubor\n",
    "Napiš kód, který nahraje v předešlé části vytvořený JSON soubor s odsazením jednoho mezerníku do proměnné data."
   ]
  },
  {
   "cell_type": "code",
   "execution_count": 1,
   "metadata": {},
   "outputs": [
    {
     "name": "stdout",
     "output_type": "stream",
     "text": [
      "{'date': '2024-03-11', 'cities': [{'location': 'Prague', 'coordinates': {'latitude': 50.0755, 'longitude': 14.4378}, 'records': [{'time': '7:00', 'temperature': 8, 'humidity': 80, 'windSpeed': 5}, {'time': '14:00', 'temperature': 15, 'humidity': 50, 'windSpeed': 10}, {'time': '21:00', 'temperature': 10, 'humidity': 70, 'windSpeed': 5}]}, {'location': 'Brno', 'coordinates': {'latitude': 49.1951, 'longitude': 16.6068}, 'records': [{'time': '7:00', 'temperature': 7, 'humidity': 85, 'windSpeed': 7}, {'time': '14:00', 'temperature': 16, 'humidity': 45, 'windSpeed': 12}, {'time': '21:00', 'temperature': 11, 'humidity': 65, 'windSpeed': 4}]}, {'location': 'Ostrava', 'coordinates': {'latitude': 49.8209, 'longitude': 18.2625}, 'records': [{'time': '7:00', 'temperature': 6, 'humidity': 80, 'windSpeed': 10}, {'time': '14:00', 'temperature': 14, 'humidity': 55, 'windSpeed': 14}, {'time': '21:00', 'temperature': 9, 'humidity': 75, 'windSpeed': 8}]}, {'location': 'Plzeň', 'coordinates': {'latitude': 49.7384, 'longitude': 13.3736}, 'records': [{'time': '7:00', 'temperature': 7, 'humidity': 82, 'windSpeed': 4}, {'time': '14:00', 'temperature': 17, 'humidity': 48, 'windSpeed': 9}, {'time': '21:00', 'temperature': 12, 'humidity': 68, 'windSpeed': 6}]}, {'location': 'Liberec', 'coordinates': {'latitude': 50.7663, 'longitude': 15.0562}, 'records': [{'time': '7:00', 'temperature': 5, 'humidity': 85, 'windSpeed': 8}, {'time': '14:00', 'temperature': 13, 'humidity': 60, 'windSpeed': 11}, {'time': '21:00', 'temperature': 8, 'humidity': 80, 'windSpeed': 3}]}, {'location': 'České Budějovice', 'coordinates': {'latitude': 48.9747, 'longitude': 14.4747}, 'records': [{'time': '7:00', 'temperature': 9, 'humidity': 78, 'windSpeed': 5}, {'time': '14:00', 'temperature': 18, 'humidity': 46, 'windSpeed': 10}, {'time': '21:00', 'temperature': 13, 'humidity': 70, 'windSpeed': 7}]}]}\n"
     ]
    }
   ],
   "source": [
    "from pathlib import Path\n",
    "import json\n",
    "\n",
    "path = Path('./petrekova_meteo_data.json').resolve()\n",
    "\n",
    "with open(path, encoding=\"utf-8\") as file:\n",
    "    data = json.load(file)\n",
    "\n",
    "print(data)"
   ]
  },
  {
   "cell_type": "markdown",
   "metadata": {},
   "source": [
    "## Task 2: Vytvoř si funkci pro přidání key:value páru do dictionary\n",
    "\n",
    "Pomocí 'data[key]' nejen můžeš číst hodnoty, ale také je přiřazovat. Vytvoř si funkci se všemi náležitostmi (docstring, typování), která k danému slovníku přiřadí key:value pár."
   ]
  },
  {
   "cell_type": "code",
   "execution_count": null,
   "metadata": {},
   "outputs": [],
   "source": []
  },
  {
   "cell_type": "markdown",
   "metadata": {},
   "source": [
    "## Task 3: Nahraný JSON překonvertuj do CSV\n",
    "Nahraný JSON bude převeden do CSV, každý záznam ze stanic musí být zachován. Zamysli se nad kroky, jak postupovat. Jaký typ struktury je JSON, jaký CSV?\n",
    "\n",
    "- Soubor bude exportován do složky, ve kterém je umístěn tento skript. Tedy ve cviceni5/vaseprijmeni.\n",
    "- Název souboru bude vaseprijmeni_final_task.csv.\n",
    "- Soubor použije defaultní oddělovače.\n",
    "- Kód vytvářející soubor bude napsán níže do buňky."
   ]
  },
  {
   "cell_type": "code",
   "execution_count": null,
   "metadata": {},
   "outputs": [],
   "source": []
  },
  {
   "cell_type": "markdown",
   "metadata": {},
   "source": [
    "## Task 4: Publikujte Pull Request\n",
    "\n",
    "Publikujte z Vaší větve Pull Request, který bude obsahovat:\n",
    "- Složku cviceni5/vaseprijmeni.\n",
    "- V ní všechny vygenerované soubory dnešního cvičení.\n",
    "- Překopírované ipynb soubory, které jste v průběhu cvičení modifikovali."
   ]
  }
 ],
 "metadata": {
  "kernelspec": {
   "display_name": "adelprostredi",
   "language": "python",
   "name": "python3"
  },
  "language_info": {
   "codemirror_mode": {
    "name": "ipython",
    "version": 3
   },
   "file_extension": ".py",
   "mimetype": "text/x-python",
   "name": "python",
   "nbconvert_exporter": "python",
   "pygments_lexer": "ipython3",
   "version": "3.12.1"
  }
 },
 "nbformat": 4,
 "nbformat_minor": 2
}

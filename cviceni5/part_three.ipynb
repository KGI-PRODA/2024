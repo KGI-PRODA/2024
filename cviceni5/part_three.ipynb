{
 "cells": [
  {
   "cell_type": "markdown",
   "metadata": {},
   "source": [
    "# Zploštění JSON na CSV"
   ]
  },
  {
   "cell_type": "markdown",
   "metadata": {},
   "source": [
    "## Task 1: Napiš si kód, který nahraje soubor\n",
    "Napiš kód, který nahraje v předešlé části vytvořený JSON soubor s odsazením jednoho mezerníku do proměnné data."
   ]
  },
  {
   "cell_type": "code",
   "execution_count": null,
   "metadata": {},
   "outputs": [],
   "source": []
  },
  {
   "cell_type": "markdown",
   "metadata": {},
   "source": [
    "## Task 2: Vytvoř si funkci pro přidání key:value páru do dictionary\n",
    "\n",
    "Pomocí 'data[key]' nejen můžeš číst hodnoty, ale také je přiřazovat. Vytvoř si funkci se všemi náležitostmi (docstring, typování), která k danému slovníku přiřadí key:value pár."
   ]
  },
  {
   "cell_type": "code",
   "execution_count": null,
   "metadata": {},
   "outputs": [],
   "source": []
  },
  {
   "cell_type": "markdown",
   "metadata": {},
   "source": [
    "## Task 3: Nahraný JSON překonvertuj do CSV\n",
    "Nahraný JSON bude převeden do CSV, každý záznam ze stanic musí být zachován. Zamysli se nad kroky, jak postupovat. Jaký typ struktury je JSON, jaký CSV?\n",
    "\n",
    "- Soubor bude exportován do složky, ve kterém je umístěn tento skript. Tedy ve cviceni5/vaseprijmeni.\n",
    "- Název souboru bude vaseprijmeni_final_task.csv.\n",
    "- Soubor použije defaultní oddělovače.\n",
    "- Kód vytvářející soubor bude napsán níže do buňky."
   ]
  },
  {
   "cell_type": "code",
   "execution_count": null,
   "metadata": {},
   "outputs": [],
   "source": []
  },
  {
   "cell_type": "markdown",
   "metadata": {},
   "source": [
    "## Task 4: Publikujte Pull Request\n",
    "\n",
    "Publikujte z Vaší větve Pull Request, který bude obsahovat:\n",
    "- Složku cviceni5/vaseprijmeni.\n",
    "- V ní všechny vygenerované soubory dnešního cvičení.\n",
    "- Překopírované ipynb soubory, které jste v průběhu cvičení modifikovali."
   ]
  }
 ],
 "metadata": {
  "kernelspec": {
   "display_name": "myska",
   "language": "python",
   "name": "python3"
  },
  "language_info": {
   "name": "python",
   "version": "3.12.1"
  }
 },
 "nbformat": 4,
 "nbformat_minor": 2
}

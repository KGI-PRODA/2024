{
 "cells": [
  {
   "cell_type": "code",
   "execution_count": null,
   "metadata": {},
   "outputs": [],
   "source": [
    "#import knihoven\n",
    "import sys\n",
    "from pathlib import Path\n",
    "import os\n",
    "import subprocess\n"
   ]
  },
  {
   "cell_type": "code",
   "execution_count": null,
   "metadata": {},
   "outputs": [],
   "source": [
    "\n",
    "#otevírání pomocí CMD (viz. print poznámky)\n",
    "if len(sys.argv) != 2 :\n",
    "        print(\"Nesprávný počet argumentů. Zadej argument --directory= s cestou k adresáři, který chceš zpracovat\",file=sys.stderr)\n",
    "        exit(1)\n",
    "for arg in sys.argv[1:]:\n",
    "    if arg == \"--help\":\n",
    "        print(\"Prochází všechny *_label.png soubory v adresáři (i podadrešářích) zadaným argumentem --directory= a spočítá počet pixelů jiné než černé/bílé barvy. Výstup vypíše na standartní výstup (do souboru ho uložíš pomocí přidání \\'> myfile.txt\\' za spouštěcí příkaz.)\")\n",
    "        exit(0)\n",
    "    elif arg.startswith(\"--directory=\"):\n",
    "        directory = arg[12:]\n",
    "    else: \n",
    "        print(\"Neznámý argument \",file=sys.stderr)\n",
    "        exit(1)\n",
    "        "
   ]
  },
  {
   "cell_type": "code",
   "execution_count": null,
   "metadata": {},
   "outputs": [],
   "source": [
    "\n",
    "#for path in Path(directory).rglob(\"*.png\"):\n",
    "#definuju si cestu, velikost obrázku, otevřu obrázek, udělám vrstvu, na kterou lze psát a zobrazím obrázek.\n",
    "from PIL import Image\n",
    "from gimp import pdb\n",
    "\n",
    "def open_image(directory):\n",
    "    pil_image = Image.open(directory)\n",
    "    width, height = pil_image.size\n",
    "    layer = pdb.gimp_layer_new(width, height, RGBA_IMAGE, \"Image Layer\", 100, NORMAL_MODE)\n",
    "    image = pdb.gimp_image_new(width, height, RGB)\n",
    "    pdb.gimp_image_insert_layer(image, layer, None, 0)\n",
    "    drawable = pdb.gimp_drawable_new_from_pixbuf(layer, pil_image.tobytes(), pil_image.mode, width, height)\n",
    "    pdb.gimp_layer_set_drawable(layer, drawable)\n",
    "    pdb.gimp_display_new(image)"
   ]
  }
 ],
 "metadata": {
  "language_info": {
   "name": "python"
  }
 },
 "nbformat": 4,
 "nbformat_minor": 2
}

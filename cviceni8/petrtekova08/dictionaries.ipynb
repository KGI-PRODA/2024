{
 "cells": [
  {
   "cell_type": "markdown",
   "metadata": {},
   "source": [
    "# Cvičení 8: Dictionaries\n",
    "## Blok 1: Dictionaries Key:Value Pairs\n",
    "### Úkol 1.1\n",
    "\n",
    "Projděte si bloky kódu. Spusťte vše, buňky můžete modifikovat, ať si vyzkoušíte chování funkcí, operátorů a metod v různých situacích."
   ]
  },
  {
   "cell_type": "code",
   "execution_count": 1,
   "metadata": {},
   "outputs": [
    {
     "name": "stdout",
     "output_type": "stream",
     "text": [
      "2\n",
      "2\n"
     ]
    }
   ],
   "source": [
    "# Definujeme dictionary pomocí složených závorek\n",
    "muj_slovnik = {'a': 1, 'b': 2, 'c': 3}\n",
    "print(muj_slovnik['b'])\n",
    "\n",
    "# Nebo také pomocí funkce dict()\n",
    "muj_slovnik = dict(a=1, b=2, c=3)\n",
    "print(muj_slovnik['b'])"
   ]
  },
  {
   "cell_type": "code",
   "execution_count": 3,
   "metadata": {},
   "outputs": [
    {
     "name": "stdout",
     "output_type": "stream",
     "text": [
      "None\n"
     ]
    }
   ],
   "source": [
    "# Pokud klíč neexistuje a volám jej napřímo, tak to skončí chybou\n",
    "#print(muj_slovnik[9856]) vyhlasi chybu\n",
    "print(muj_slovnik.get('9856')) # vrati None"
   ]
  },
  {
   "cell_type": "code",
   "execution_count": 4,
   "metadata": {},
   "outputs": [
    {
     "name": "stdout",
     "output_type": "stream",
     "text": [
      "None\n",
      "Moje defaultni hodnota\n"
     ]
    }
   ],
   "source": [
    "# Ale pokud použiji metodu get(), tak to skončí None\n",
    "print(muj_slovnik.get(9856))\n",
    "\n",
    "# Do metody get() můžu přidat i defaultní hodnotu jako druhý argument, která se vrátí, pokud klíč neexistuje\n",
    "print(muj_slovnik.get(9856, 'Moje defaultni hodnota'))"
   ]
  },
  {
   "cell_type": "code",
   "execution_count": 5,
   "metadata": {},
   "outputs": [
    {
     "name": "stdout",
     "output_type": "stream",
     "text": [
      "{'a': 1, 'b': 2, 'c': 3, 'd': 4}\n"
     ]
    }
   ],
   "source": [
    "# Hranaté závorky můžu použít i pro přidání nového klíče\n",
    "muj_slovnik['d'] = 4\n",
    "print(muj_slovnik)"
   ]
  },
  {
   "cell_type": "code",
   "execution_count": 6,
   "metadata": {},
   "outputs": [
    {
     "name": "stdout",
     "output_type": "stream",
     "text": [
      "{'a': 1, 'b': 2, 'c': 3, 'd': 4, (1, 2): 'tuple', 1: 'int'}\n",
      "tuple\n",
      "int\n"
     ]
    }
   ],
   "source": [
    "# Klíčem může být i jiný datový typ, například tuple, ale musí být hashovatelný\n",
    "muj_slovnik[(1, 2)] = 'tuple'\n",
    "muj_slovnik[1] = 'int'\n",
    "\n",
    "print(muj_slovnik)\n",
    "print(muj_slovnik[(1, 2)])\n",
    "print(muj_slovnik[1]) # POZOR! NEJDE O INDEXOVANÍ, ALE O KLÍČOVÁNÍ"
   ]
  },
  {
   "cell_type": "code",
   "execution_count": 7,
   "metadata": {},
   "outputs": [
    {
     "ename": "TypeError",
     "evalue": "unhashable type: 'list'",
     "output_type": "error",
     "traceback": [
      "\u001b[1;31m---------------------------------------------------------------------------\u001b[0m",
      "\u001b[1;31mTypeError\u001b[0m                                 Traceback (most recent call last)",
      "Cell \u001b[1;32mIn[7], line 2\u001b[0m\n\u001b[0;32m      1\u001b[0m \u001b[38;5;66;03m# Tuple s listem už hashovatelný není, tento pokus skončí chybou\u001b[39;00m\n\u001b[1;32m----> 2\u001b[0m muj_slovnik[(\u001b[38;5;241m1\u001b[39m, [\u001b[38;5;241m1\u001b[39m, \u001b[38;5;241m2\u001b[39m])] \u001b[38;5;241m=\u001b[39m \u001b[38;5;124m'\u001b[39m\u001b[38;5;124mtuple s listem\u001b[39m\u001b[38;5;124m'\u001b[39m\n\u001b[0;32m      3\u001b[0m \u001b[38;5;28mprint\u001b[39m(muj_slovnik)\n",
      "\u001b[1;31mTypeError\u001b[0m: unhashable type: 'list'"
     ]
    }
   ],
   "source": [
    "# Tuple s listem už hashovatelný není, tento pokus skončí chybou\n",
    "muj_slovnik[(1, [1, 2])] = 'tuple s listem'\n",
    "print(muj_slovnik)"
   ]
  },
  {
   "cell_type": "markdown",
   "metadata": {},
   "source": [
    "### Úkol 1.2\n",
    "Vytvoř si dictionary, který bude představovat ideálního maskota Katedry geoinformatiky. Maskot musí mít alespoň 5 atributů, tedy 5 key:value párů. \n",
    "Klíče musí být smysluplně pojmenovány.\n",
    "\n",
    "V hodnotách by se měly objevit alespoň:\n",
    "- 1x List jakýchkoliv hodnot\n",
    "- 1x Tuple\n",
    "- 2x textová hodnota\n",
    "- 1x číselná hodnota\n",
    "\n",
    "Definuj dictionary dvěma odlišnými způsoby!"
   ]
  },
  {
   "cell_type": "code",
   "execution_count": 14,
   "metadata": {},
   "outputs": [
    {
     "name": "stdout",
     "output_type": "stream",
     "text": [
      "{'jmeno': 'Mončičák', 'věk': 4, 'barva': 'žlutá', 'souřadnice': (17.55, 50.35), 'vlatníci': ['jirka', 'terka', 'pepa', 'honza', 'ada']}\n",
      "{'jmeno': 'Mončičák', 'věk': 4, 'barva': 'žlutá', 'souřadnice': (17.55, 50.35), 'vlatníci': ['jirka', 'terka', 'pepa', 'honza', 'ada']}\n"
     ]
    }
   ],
   "source": [
    "#vytvoření slovníku \n",
    "maskot = {\n",
    "    'jmeno': 'Mončičák', #text\n",
    "    'věk':4, #čislo\n",
    "    'barva': 'žlutá', #text\n",
    "    'souřadnice':(17.55,50.35),#tuple\n",
    "    'vlatníci': ['jirka','terka','pepa','honza','ada']#list\n",
    "}\n",
    "print(maskot)\n",
    "\n",
    "maskot_2 = dict(jmeno='Mončičák', #text\n",
    "    věk=4, #čislo\n",
    "    barva= 'žlutá', #text\n",
    "    souřadnice=(17.55,50.35),#tuple\n",
    "    vlatníci=['jirka','terka','pepa','honza','ada'])#list\n",
    "print(maskot_2)\n"
   ]
  },
  {
   "cell_type": "markdown",
   "metadata": {},
   "source": [
    "### Úkol 1.3\n",
    "1. Vytiskněte do konzole **poslední** hodnotu z key:value páru, kde je hodnotou List.\n",
    "2. Přidejte Vašemu maskotu klíč \"jeste_nevecerel\" či \"jeste_nevecerela\" s *boolean* hodnotou (Nevím, co to znamená? Googlím!).\n",
    "3. Vytisknu celý dictionary."
   ]
  },
  {
   "cell_type": "code",
   "execution_count": 17,
   "metadata": {},
   "outputs": [
    {
     "name": "stdout",
     "output_type": "stream",
     "text": [
      "ada\n",
      "{'jmeno': 'Mončičák', 'věk': 4, 'barva': 'žlutá', 'souřadnice': (17.55, 50.35), 'vlatníci': ['jirka', 'terka', 'pepa', 'honza', 'ada'], 'jeste nevecerel': True}\n"
     ]
    }
   ],
   "source": [
    "#print z listu posledni hodnotu z maskota\n",
    "print(maskot['vlatníci'][-1])\n",
    "#přidání klíče \"jeste nevečerel\"\n",
    "maskot['jeste nevecerel']=True\n",
    "#vytisknuti cele dictionary\n",
    "print(maskot)"
   ]
  },
  {
   "cell_type": "markdown",
   "metadata": {},
   "source": [
    "### Úkol 1.4\n",
    "1. Vytvořte kód, který vytiskne hodnotu key:value páru na základě přiloženého klíče. Pokud klíč ve vašem dict maskota neexistuje, kód by měl vytisknout hlášku \"Hodnota neexistuje\"."
   ]
  },
  {
   "cell_type": "code",
   "execution_count": 16,
   "metadata": {},
   "outputs": [
    {
     "name": "stdout",
     "output_type": "stream",
     "text": [
      "Hodnota neexistuje\n"
     ]
    }
   ],
   "source": [
    "prislusny_klic = 'Neexistujici_klic'\n",
    "\n",
    "#print(maskot[prislusny_klic]) # Toto skončí chybou, opravte kód tak, aby skončil \"Hodnota neexistuje\"\n",
    "print(maskot.get(prislusny_klic, 'Hodnota neexistuje'))"
   ]
  },
  {
   "cell_type": "markdown",
   "metadata": {},
   "source": [
    "## Blok 2: Iterations and Methods\n",
    "### Úkol 2.1\n",
    "Projdi si následující bloky kódu."
   ]
  },
  {
   "cell_type": "code",
   "execution_count": 18,
   "metadata": {},
   "outputs": [
    {
     "name": "stdout",
     "output_type": "stream",
     "text": [
      "a\n",
      "b\n",
      "c\n"
     ]
    }
   ],
   "source": [
    "# Obyčejná for in smyčka projde jen klíče\n",
    "muj_slovnik = {'a': 1, 'b': 2, 'c': 3}\n",
    "for klic in muj_slovnik:\n",
    "\tprint(klic)"
   ]
  },
  {
   "cell_type": "code",
   "execution_count": 19,
   "metadata": {},
   "outputs": [
    {
     "name": "stdout",
     "output_type": "stream",
     "text": [
      "1\n",
      "2\n",
      "3\n"
     ]
    }
   ],
   "source": [
    "# Pokud chci projít i hodnoty, musím použít metodu values()\n",
    "for hodnota in muj_slovnik.values():\n",
    "    print(hodnota)"
   ]
  },
  {
   "cell_type": "code",
   "execution_count": 20,
   "metadata": {},
   "outputs": [
    {
     "name": "stdout",
     "output_type": "stream",
     "text": [
      "a 1\n",
      "b 2\n",
      "c 3\n"
     ]
    }
   ],
   "source": [
    "# Nebo metodu items(), ktera nam dava pristup ke klici i hodnote\n",
    "for klic, hodnota in muj_slovnik.items():\n",
    "    print(klic, hodnota)"
   ]
  },
  {
   "cell_type": "code",
   "execution_count": 21,
   "metadata": {},
   "outputs": [
    {
     "name": "stdout",
     "output_type": "stream",
     "text": [
      "dict_items([('a', 1), ('b', 2), ('c', 3)])\n"
     ]
    }
   ],
   "source": [
    "# Pokud vyprintuji vysledek metody items(), tak vidim, ze ziskavam\n",
    "# Dictionary view object, ktery je v tomto pripade podobny seznamu tuples\n",
    "print(muj_slovnik.items())"
   ]
  },
  {
   "cell_type": "code",
   "execution_count": 22,
   "metadata": {},
   "outputs": [
    {
     "ename": "TypeError",
     "evalue": "'dict_items' object does not support item assignment",
     "output_type": "error",
     "traceback": [
      "\u001b[1;31m---------------------------------------------------------------------------\u001b[0m",
      "\u001b[1;31mTypeError\u001b[0m                                 Traceback (most recent call last)",
      "Cell \u001b[1;32mIn[22], line 3\u001b[0m\n\u001b[0;32m      1\u001b[0m \u001b[38;5;66;03m# Tento nemohu menit, protoze je to jen pohled na muj slovnik\u001b[39;00m\n\u001b[0;32m      2\u001b[0m items \u001b[38;5;241m=\u001b[39m muj_slovnik\u001b[38;5;241m.\u001b[39mitems()\n\u001b[1;32m----> 3\u001b[0m items[\u001b[38;5;241m0\u001b[39m] \u001b[38;5;241m=\u001b[39m (\u001b[38;5;124m'\u001b[39m\u001b[38;5;124ma\u001b[39m\u001b[38;5;124m'\u001b[39m, \u001b[38;5;241m10\u001b[39m)\n",
      "\u001b[1;31mTypeError\u001b[0m: 'dict_items' object does not support item assignment"
     ]
    }
   ],
   "source": [
    "# Tento nemohu menit, protoze je to jen pohled na muj slovnik\n",
    "items = muj_slovnik.items()\n",
    "items[0] = ('a', 10) # Toto skončí chybou"
   ]
  },
  {
   "cell_type": "code",
   "execution_count": 23,
   "metadata": {},
   "outputs": [],
   "source": [
    "# Pokud chci zmenit hodnotu v muj_slovnik, musim to udelat primo\n",
    "muj_slovnik['a'] = 10"
   ]
  },
  {
   "cell_type": "code",
   "execution_count": 24,
   "metadata": {},
   "outputs": [
    {
     "name": "stdout",
     "output_type": "stream",
     "text": [
      "[('a', 10), ('b', 2), ('c', 3)]\n",
      "(('a', 10), ('b', 2), ('c', 3))\n"
     ]
    }
   ],
   "source": [
    "# Dictionary view object mohu prevest na list ci tuple\n",
    "print(list(muj_slovnik.items()))\n",
    "print(tuple(muj_slovnik.items()))"
   ]
  },
  {
   "cell_type": "code",
   "execution_count": 25,
   "metadata": {},
   "outputs": [
    {
     "name": "stdout",
     "output_type": "stream",
     "text": [
      "[10, 2, 3]\n",
      "(10, 2, 3)\n",
      "['a', 'b', 'c']\n",
      "('a', 'b', 'c')\n"
     ]
    }
   ],
   "source": [
    "# Podobne to funguje i s metodou values() a keys()\n",
    "print(list(muj_slovnik.values()))\n",
    "print(tuple(muj_slovnik.values()))\n",
    "print(list(muj_slovnik.keys()))\n",
    "print(tuple(muj_slovnik.keys()))"
   ]
  },
  {
   "cell_type": "code",
   "execution_count": 26,
   "metadata": {},
   "outputs": [
    {
     "name": "stdout",
     "output_type": "stream",
     "text": [
      "{'a': 1, 'b': 2, 'c': 3, 'd': 4}\n",
      "{'a': 1, 'b': 2, 'c': 3, 'd': 4, 'e': 5, 'f': 6}\n"
     ]
    }
   ],
   "source": [
    "muj_slovnik = {'a': 1, 'b': 2, 'c': 3}\n",
    "\n",
    "# Kromě přidání jednoho klíče pomocí hranatých závorek...\n",
    "muj_slovnik['d'] = 4\n",
    "print(muj_slovnik)\n",
    "\n",
    "# ...můžu přidat i více klíčů pomocí metody update()\n",
    "muj_slovnik.update({'e': 5, 'f': 6})\n",
    "print(muj_slovnik)"
   ]
  },
  {
   "cell_type": "markdown",
   "metadata": {},
   "source": [
    "### Úkol 2.2\n",
    "\n",
    "Iteruj skrze klíče maskota, kterého jste vytvořili v Bloku 1. V rámci iterace:\n",
    "\n",
    "1. Pokud je klíč textový řetězec a má více než 5 znaků, bude přidán do Listu 'moje_dlouhe_klice', který je definován mimo smyčku.\n",
    "2. Nehledě na předešlou podmínku (zda byl znak dlouhý či ne), vytiskni každý z klíčů do konzole.\n",
    "\n",
    "Je třeba využít znalostí z předcházejících hodin o Listech. Pokud nevíš, jak na úkol, rozděl si ho na kroky a odborně si řekni, co potřebuji udělat. A to jak nejvíc si vzpomenu. Například \"Přidat prvek na konec Listu pomocí metody\". Toto pak dávám do ChatGPT či Google.\n",
    "\n",
    "Na závěr vyprintuj List moje_dlouhe_klice a zkontroluj."
   ]
  },
  {
   "cell_type": "code",
   "execution_count": 33,
   "metadata": {},
   "outputs": [
    {
     "name": "stdout",
     "output_type": "stream",
     "text": [
      "['souřadnice', 'vlatníci', 'jeste nevecerel']\n",
      "dict_keys(['jmeno', 'věk', 'barva', 'souřadnice', 'vlatníci', 'jeste nevecerel'])\n"
     ]
    }
   ],
   "source": [
    "moje_dlouhe_klice = []\n",
    "\n",
    "# Místo pro Vaši smyčku v maskotovi textovy retezec\n",
    "for klic in maskot:\n",
    "    if len(klic) > 5:\n",
    "        moje_dlouhe_klice.append(klic)\n",
    "print(moje_dlouhe_klice)\n",
    "#vytisknutí každý z klíčů\n",
    "print(maskot.keys())"
   ]
  },
  {
   "cell_type": "markdown",
   "metadata": {},
   "source": [
    "### Úkol 2.3\n",
    "Svého maskota rozšiř o další nové tři charakteristiky. Vše pomocí jednoho řádku kódu."
   ]
  },
  {
   "cell_type": "code",
   "execution_count": 34,
   "metadata": {},
   "outputs": [
    {
     "name": "stdout",
     "output_type": "stream",
     "text": [
      "{'jmeno': 'Mončičák', 'věk': 4, 'barva': 'žlutá', 'souřadnice': (17.55, 50.35), 'vlatníci': ['jirka', 'terka', 'pepa', 'honza', 'ada'], 'jeste nevecerel': True, 'pocet_oci': 1, 'ocas': True, 'satek': True}\n"
     ]
    }
   ],
   "source": [
    "\n",
    "maskot.update({'pocet_oci':1,'ocas':True,'satek':True})\n",
    "print (maskot)"
   ]
  },
  {
   "cell_type": "markdown",
   "metadata": {},
   "source": [
    "### Úkol 2.4\n",
    "\n",
    "Nyní vytvoř pomocí kódu List, který bude obsahovat tuples. Každý tuple bude mít na první pozici klíč, na druhé pozici hodnotu."
   ]
  },
  {
   "cell_type": "code",
   "execution_count": 35,
   "metadata": {},
   "outputs": [
    {
     "name": "stdout",
     "output_type": "stream",
     "text": [
      "[('jmeno', 'Mončičák'), ('věk', 4), ('barva', 'žlutá'), ('souřadnice', (17.55, 50.35)), ('vlatníci', ['jirka', 'terka', 'pepa', 'honza', 'ada']), ('jeste nevecerel', True), ('pocet_oci', 1), ('ocas', True), ('satek', True)]\n"
     ]
    }
   ],
   "source": [
    "#vytvoreni listu ktery bude obsahovat tuples s klicem a hodnotou\n",
    "tuples = []\n",
    "for klic, hodnota in maskot.items():\n",
    "    tuples.append((klic, hodnota))\n",
    "print(tuples)"
   ]
  },
  {
   "cell_type": "markdown",
   "metadata": {},
   "source": [
    "## Blok 3\n",
    "### Úkol 3.1\n",
    "\n",
    "Projdi si buňky kódu."
   ]
  },
  {
   "cell_type": "code",
   "execution_count": 36,
   "metadata": {},
   "outputs": [
    {
     "name": "stdout",
     "output_type": "stream",
     "text": [
      "Budulínkov u Krnova\n"
     ]
    }
   ],
   "source": [
    "# Dictionaries mohou být vnořené stejně jako listy či tuples\n",
    "katastralni_uzemi = {\n",
    "\t\"id\": 988004,\n",
    "\t\"attributes\": {\n",
    "\t\t\"title\": \"Podbudulínkov\",\n",
    "\t\t\"municipality\": \"Budulínkov u Krnova\"\n",
    "\t},\n",
    "\t\"centroid\": (14.56, 42,32)\n",
    "}\n",
    "\n",
    "# Výběr řetězím podobně jako u listů, ale musím použít klíče\n",
    "print(katastralni_uzemi[\"attributes\"][\"municipality\"])"
   ]
  },
  {
   "cell_type": "code",
   "execution_count": 37,
   "metadata": {},
   "outputs": [
    {
     "name": "stdout",
     "output_type": "stream",
     "text": [
      "Budulínkov u Krnova\n"
     ]
    }
   ],
   "source": [
    "# Numerický klíč je často id sloužící k přístupu ke kolekci položek\n",
    "katastralni_uzemi = {\n",
    "\t988004: {\n",
    "\t\t\"attributes\": {\n",
    "\t\t\t\"title\": \"Podbudulínkov\",\n",
    "\t\t\t\"municipality\": \"Budulínkov u Krnova\"\n",
    "\t\t},\n",
    "\t\t\"centroid\": (14.56, 42,32)\n",
    "\t},\n",
    "\t101055: {\n",
    "\t\t\"attributes\": {\n",
    "\t\t\t\"title\": \"Nadbudulínkov\",\n",
    "\t\t\t\"municipality\": \"Budulínkov u Krnova\"\n",
    "\t\t},\n",
    "\t\t\"centroid\": (14.42, 42,31)\n",
    "\t}\n",
    "}\n",
    "\n",
    "# Všimněte si, že nyní musím použít číselný klíč - nejde o indexování!\n",
    "print(katastralni_uzemi[988004][\"attributes\"][\"municipality\"])\n",
    "\n",
    "\n",
    "#print(katastralni_uzemi[988004][\"attributes\"][\"title\"]) #vytiskne podbudulinkov znam id "
   ]
  },
  {
   "cell_type": "code",
   "execution_count": 40,
   "metadata": {},
   "outputs": [
    {
     "name": "stdout",
     "output_type": "stream",
     "text": [
      "Budulínkov u Krnova\n",
      "988004\n"
     ]
    }
   ],
   "source": [
    "# Často se jednotlivé položky, uložené v dictionary, ukládají do Listu\n",
    "katastralni_uzemi = [\n",
    "\t{\n",
    "\t\t\"id\": 988004,\n",
    "\t\t\"attributes\": {\n",
    "\t\t\t\"title\": \"Podbudulínkov\",\n",
    "\t\t\t\"municipality\": \"Budulínkov u Krnova\"\n",
    "\t\t},\n",
    "\t\t\"centroid\": (14.56, 42,32)\n",
    "\t},\n",
    "\t{\n",
    "\t\t\"id\": 101055,\n",
    "\t\t\"attributes\": {\n",
    "\t\t\t\"title\": \"Nadbudulínkov\",\n",
    "\t\t\t\"municipality\": \"Budulínkov u Krnova\"\n",
    "\t\t},\n",
    "\t\t\"centroid\": (14.42, 42,31)\n",
    "\t},\n",
    "]\n",
    "\n",
    "# Pokud chci vybrat zase název obce, musím použít nejprve index pro výběr položky v listu\n",
    "# a až poté klíč pro výběr hodnoty v dictionary\n",
    "print(katastralni_uzemi[0][\"attributes\"][\"municipality\"])\n",
    "\n",
    "# chci vyprintovat id katastralniho uzemi kde je podbudulinkov\n",
    "for uzemi in katastralni_uzemi:\n",
    "\tif uzemi[\"attributes\"][\"title\"] == \"Podbudulínkov\":\n",
    "\t\tprint(uzemi[\"id\"])\n",
    "\t\tbreak\n",
    "\n"
   ]
  },
  {
   "cell_type": "code",
   "execution_count": 41,
   "metadata": {},
   "outputs": [
    {
     "name": "stdout",
     "output_type": "stream",
     "text": [
      "Jan\n",
      "Jan\n"
     ]
    }
   ],
   "source": [
    "# Pozor, pokud budu odkazovat na dictionary pomocí nové proměnné, tak se jedná o odkaz, nikoliv o kopii!\n",
    "kopirovany_slovnik = {\n",
    "    \"jmeno\": \"Petr\",\n",
    "    \"prijmeni\": \"Novak\",\n",
    "    \"atributy\": {\n",
    "        \"vek\": 25,\n",
    "        \"vaha\": 80\n",
    "    }\n",
    "}\n",
    "\n",
    "# Vytvořím nový slovník, který bude odkazovat na stejný objekt jako kopirovany_slovnik\n",
    "novy_slovnik = kopirovany_slovnik\n",
    "\n",
    "# Pokud změním hodnotu v novy_slovnik, změní se i v kopirovany_slovnik\n",
    "novy_slovnik[\"jmeno\"] = \"Jan\"\n",
    "\n",
    "print(kopirovany_slovnik[\"jmeno\"]) # Vypíše \"Jan\"\n",
    "print(novy_slovnik[\"jmeno\"]) # Vypíše \"Jan\""
   ]
  },
  {
   "cell_type": "code",
   "execution_count": 42,
   "metadata": {},
   "outputs": [
    {
     "name": "stdout",
     "output_type": "stream",
     "text": [
      "Petr\n",
      "Jan\n"
     ]
    }
   ],
   "source": [
    "# Je potřeba vytvořit kopii pomocí metody copy()\n",
    "kopirovany_slovnik = {\n",
    "    \"jmeno\": \"Petr\",\n",
    "    \"prijmeni\": \"Novak\",\n",
    "    \"atributy\": {\n",
    "        \"vek\": 25,\n",
    "        \"vaha\": 80\n",
    "    }\n",
    "}\n",
    "\n",
    "# Vytvořím nový slovník, který bude obsahovat stejné hodnoty jako kopirovany_slovnik\n",
    "novy_slovnik = kopirovany_slovnik.copy()\n",
    "\n",
    "# Pokud změním hodnotu v novy_slovnik, změna se neprojeví v kopirovany_slovnik\n",
    "novy_slovnik[\"jmeno\"] = \"Jan\"\n",
    "\n",
    "print(kopirovany_slovnik[\"jmeno\"]) # Vypíše \"Petr\"\n",
    "print(novy_slovnik[\"jmeno\"]) # Vypíše \"Jan\"\n"
   ]
  },
  {
   "cell_type": "code",
   "execution_count": 43,
   "metadata": {},
   "outputs": [
    {
     "name": "stdout",
     "output_type": "stream",
     "text": [
      "150\n",
      "150\n"
     ]
    }
   ],
   "source": [
    "# Pozor! Metoda copy() vytvoří pouze povrchní kopii!\n",
    "# To znamená, že pokud mám dictionary uvnitř dictionary, tak se vnitřní dictionary nezkopíruje, ale pouze odkazuje na ni!\n",
    "kopirovany_slovnik = {\n",
    "    \"jmeno\": \"Petr\",\n",
    "    \"prijmeni\": \"Novak\",\n",
    "    \"atributy\": {\n",
    "        \"vek\": 25,\n",
    "        \"vaha\": 80\n",
    "    }\n",
    "}\n",
    "\n",
    "# Vytvořím nový slovník, který bude obsahovat stejné hodnoty jako kopirovany_slovnik\n",
    "novy_slovnik = kopirovany_slovnik.copy()\n",
    "\n",
    "# Pokud změním hodnotu v novy_slovnik, změna se projeví i v kopirovany_slovnik\n",
    "novy_slovnik[\"atributy\"][\"vek\"] = 150\n",
    "\n",
    "print(kopirovany_slovnik[\"atributy\"][\"vek\"]) # Vypíše 150\n",
    "print(novy_slovnik[\"atributy\"][\"vek\"]) # Vypíše 150"
   ]
  },
  {
   "cell_type": "code",
   "execution_count": 44,
   "metadata": {},
   "outputs": [
    {
     "name": "stdout",
     "output_type": "stream",
     "text": [
      "25\n",
      "150\n"
     ]
    }
   ],
   "source": [
    "# Pro vytvoření hluboké kopie můžeme použít modul copy\n",
    "from copy import deepcopy\n",
    "\n",
    "kopirovany_slovnik = {\n",
    "    \"jmeno\": \"Petr\",\n",
    "    \"prijmeni\": \"Novak\",\n",
    "    \"atributy\": {\n",
    "        \"vek\": 25,\n",
    "        \"vaha\": 80\n",
    "    }\n",
    "}\n",
    "\n",
    "# Vytvořím nový slovník, který bude obsahovat stejné hodnoty jako kopirovany_slovnik\n",
    "novy_slovnik = deepcopy(kopirovany_slovnik)\n",
    "\n",
    "# Pokud změním hodnotu v novy_slovnik, změna se neprojeví v kopirovany_slovnik\n",
    "novy_slovnik[\"atributy\"][\"vek\"] = 150\n",
    "\n",
    "print(kopirovany_slovnik[\"atributy\"][\"vek\"]) # Vypíše 25\n",
    "print(novy_slovnik[\"atributy\"][\"vek\"]) # Vypíše 150"
   ]
  },
  {
   "cell_type": "markdown",
   "metadata": {},
   "source": [
    "### Úkol 3.2\n",
    "\n",
    "Nakopírujte maskota, kterého jste vytvořili, a na kopii změňte první hodnotu listu. Pak do konzole vytiskněte původního maskota a nakopírovaného maskora se změněnou hodnotou. Tyto dictionaries se nesmí shodovat!"
   ]
  },
  {
   "cell_type": "code",
   "execution_count": 52,
   "metadata": {},
   "outputs": [
    {
     "name": "stdout",
     "output_type": "stream",
     "text": [
      "{'jmeno': 'Mončičák', 'věk': 4, 'barva': 'žlutá', 'souřadnice': (17.55, 50.35), 'vlatníci': ['jirka', 'terka', 'pepa', 'honza', 'ada']}\n",
      "{'jmeno': 'Mončičák', 'věk': 4, 'barva': 'žlutá', 'souřadnice': (17.55, 50.35), 'vlatníci': ['Vondrakova', 'terka', 'pepa', 'honza', 'ada']}\n"
     ]
    }
   ],
   "source": [
    "#zkopirovani maskota\n",
    "maskot = {\n",
    "    'jmeno': 'Mončičák', #text\n",
    "    'věk':4, #čislo\n",
    "    'barva': 'žlutá', #text\n",
    "    'souřadnice':(17.55,50.35),#tuple\n",
    "    'vlatníci': ['jirka','terka','pepa','honza','ada']#list\n",
    "}\n",
    "\n",
    "from copy import deepcopy\n",
    "maskot_kopie = deepcopy(maskot)\n",
    "maskot_kopie['vlatníci'][0]='Vondrakova'\n",
    "\n",
    "print (maskot)\n",
    "print (maskot_kopie)\n",
    "\n",
    "#kdyz prevytvarim list to uz je vnorene proto je potreba dat deepcopy jelikoz si prepisu pak oboji \n",
    "#pokud bych chtela menit treba vek nebo tak tam neni nic vlozene tak staci pouzit pouze copy \n",
    "#nezapomenout hlavne importovat copy deepcopy jelikoz se jedna o funkci a ne metodu atd "
   ]
  },
  {
   "cell_type": "code",
   "execution_count": null,
   "metadata": {},
   "outputs": [],
   "source": []
  }
 ],
 "metadata": {
  "kernelspec": {
   "display_name": "ABBA",
   "language": "python",
   "name": "python3"
  },
  "language_info": {
   "codemirror_mode": {
    "name": "ipython",
    "version": 3
   },
   "file_extension": ".py",
   "mimetype": "text/x-python",
   "name": "python",
   "nbconvert_exporter": "python",
   "pygments_lexer": "ipython3",
   "version": "3.12.1"
  }
 },
 "nbformat": 4,
 "nbformat_minor": 2
}

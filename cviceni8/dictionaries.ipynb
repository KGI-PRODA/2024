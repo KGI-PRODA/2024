{
 "cells": [
  {
   "cell_type": "markdown",
   "metadata": {},
   "source": [
    "# Cvičení 8: Dictionaries\n",
    "## Blok 1: Dictionaries Key:Value Pairs\n",
    "### Úkol 1.1\n",
    "\n",
    "Projděte si bloky kódu. Spusťte vše, buňky můžete modifikovat, ať si vyzkoušíte chování funkcí, operátorů a metod v různých situacích."
   ]
  },
  {
   "cell_type": "code",
   "execution_count": null,
   "metadata": {},
   "outputs": [],
   "source": [
    "# Definujeme dictionary pomocí složených závorek\n",
    "muj_slovnik = {'a': 1, 'b': 2, 'c': 3}\n",
    "print(muj_slovnik['b'])\n",
    "\n",
    "# Nebo také pomocí funkce dict()\n",
    "muj_slovnik = dict(a=1, b=2, c=3)\n",
    "print(muj_slovnik['b'])"
   ]
  },
  {
   "cell_type": "code",
   "execution_count": null,
   "metadata": {},
   "outputs": [],
   "source": [
    "# Pokud klíč neexistuje a volám jej napřímo, tak to skončí chybou\n",
    "print(muj_slovnik[9856])"
   ]
  },
  {
   "cell_type": "code",
   "execution_count": null,
   "metadata": {},
   "outputs": [],
   "source": [
    "# Ale pokud použiji metodu get(), tak to skončí None\n",
    "print(muj_slovnik.get(9856))\n",
    "\n",
    "# Do metody get() můžu přidat i defaultní hodnotu jako druhý argument, která se vrátí, pokud klíč neexistuje\n",
    "print(muj_slovnik.get(9856, 'Moje defaultni hodnota'))"
   ]
  },
  {
   "cell_type": "code",
   "execution_count": null,
   "metadata": {},
   "outputs": [],
   "source": [
    "# Hranaté závorky můžu použít i pro přidání nového klíče\n",
    "muj_slovnik['d'] = 4\n",
    "print(muj_slovnik)"
   ]
  },
  {
   "cell_type": "code",
   "execution_count": null,
   "metadata": {},
   "outputs": [],
   "source": [
    "# Klíčem může být i jiný datový typ, například tuple, ale musí být hashovatelný\n",
    "muj_slovnik[(1, 2)] = 'tuple'\n",
    "muj_slovnik[1] = 'int'\n",
    "\n",
    "print(muj_slovnik)\n",
    "print(muj_slovnik[(1, 2)])\n",
    "print(muj_slovnik[1]) # POZOR! NEJDE O INDEXOVANÍ, ALE O KLÍČOVÁNÍ"
   ]
  },
  {
   "cell_type": "code",
   "execution_count": null,
   "metadata": {},
   "outputs": [],
   "source": [
    "# Tuple s listem už hashovatelný není, tento pokus skončí chybou\n",
    "muj_slovnik[(1, [1, 2])] = 'tuple s listem'\n",
    "print(muj_slovnik)"
   ]
  },
  {
   "cell_type": "markdown",
   "metadata": {},
   "source": [
    "### Úkol 1.2\n",
    "Vytvoř si dictionary, který bude představovat ideálního maskota Katedry geoinformatiky. Maskot musí mít alespoň 5 atributů, tedy 5 key:value párů. \n",
    "Klíče musí být smysluplně pojmenovány.\n",
    "\n",
    "V hodnotách by se měly objevit alespoň:\n",
    "- 1x List jakýchkoliv hodnot\n",
    "- 1x Tuple\n",
    "- 2x textová hodnota\n",
    "- 1x číselná hodnota\n",
    "\n",
    "Definuj dictionary dvěma odlišnými způsoby!"
   ]
  },
  {
   "cell_type": "code",
   "execution_count": null,
   "metadata": {},
   "outputs": [],
   "source": []
  },
  {
   "cell_type": "markdown",
   "metadata": {},
   "source": [
    "### Úkol 1.3\n",
    "1. Vytiskněte do konzole **poslední** hodnotu z key:value páru, kde je hodnotou List.\n",
    "2. Přidejte Vašemu maskotu klíč \"jeste_nevecerel\" či \"jeste_nevecerela\" s *boolean* hodnotou (Nevím, co to znamená? Googlím!).\n",
    "3. Vytisknu celý dictionary."
   ]
  },
  {
   "cell_type": "code",
   "execution_count": null,
   "metadata": {},
   "outputs": [],
   "source": []
  },
  {
   "cell_type": "markdown",
   "metadata": {},
   "source": [
    "### Úkol 1.4\n",
    "1. Vytvořte kód, který vytiskne hodnotu key:value páru na základě přiloženého klíče. Pokud klíč ve vašem dict maskota neexistuje, kód by měl vytisknout hlášku \"Hodnota neexistuje\"."
   ]
  },
  {
   "cell_type": "code",
   "execution_count": null,
   "metadata": {},
   "outputs": [],
   "source": [
    "prislusny_klic = 'Neexistujici_klic'\n",
    "\n",
    "print(maskot[prislusny_klic]) # Toto skončí chybou, opravte kód tak, aby skončil \"Hodnota neexistuje\""
   ]
  },
  {
   "cell_type": "markdown",
   "metadata": {},
   "source": [
    "## Blok 2: Iterations and Methods\n",
    "### Úkol 2.1\n",
    "Projdi si následující bloky kódu."
   ]
  },
  {
   "cell_type": "code",
   "execution_count": null,
   "metadata": {},
   "outputs": [],
   "source": [
    "# Obyčejná for in smyčka projde jen klíče\n",
    "muj_slovnik = {'a': 1, 'b': 2, 'c': 3}\n",
    "for klic in muj_slovnik:\n",
    "\tprint(klic)"
   ]
  },
  {
   "cell_type": "code",
   "execution_count": null,
   "metadata": {},
   "outputs": [],
   "source": [
    "# Pokud chci projít i hodnoty, musím použít metodu values()\n",
    "for hodnota in muj_slovnik.values():\n",
    "    print(hodnota)"
   ]
  },
  {
   "cell_type": "code",
   "execution_count": null,
   "metadata": {},
   "outputs": [],
   "source": [
    "# Nebo metodu items(), ktera nam dava pristup ke klici i hodnote\n",
    "for klic, hodnota in muj_slovnik.items():\n",
    "    print(klic, hodnota)"
   ]
  },
  {
   "cell_type": "code",
   "execution_count": null,
   "metadata": {},
   "outputs": [],
   "source": [
    "# Pokud vyprintuji vysledek metody items(), tak vidim, ze ziskavam\n",
    "# Dictionary view object, ktery je v tomto pripade podobny seznamu tuples\n",
    "print(muj_slovnik.items())"
   ]
  },
  {
   "cell_type": "code",
   "execution_count": null,
   "metadata": {},
   "outputs": [],
   "source": [
    "# Tento nemohu menit, protoze je to jen pohled na muj slovnik\n",
    "items = muj_slovnik.items()\n",
    "items[0] = ('a', 10) # Toto skončí chybou"
   ]
  },
  {
   "cell_type": "code",
   "execution_count": null,
   "metadata": {},
   "outputs": [],
   "source": [
    "# Pokud chci zmenit hodnotu v muj_slovnik, musim to udelat primo\n",
    "muj_slovnik['a'] = 10"
   ]
  },
  {
   "cell_type": "code",
   "execution_count": null,
   "metadata": {},
   "outputs": [],
   "source": [
    "# Dictionary view object mohu prevest na list ci tuple\n",
    "print(list(muj_slovnik.items()))\n",
    "print(tuple(muj_slovnik.items()))"
   ]
  },
  {
   "cell_type": "code",
   "execution_count": null,
   "metadata": {},
   "outputs": [],
   "source": [
    "# Podobne to funguje i s metodou values() a keys()\n",
    "print(list(muj_slovnik.values()))\n",
    "print(tuple(muj_slovnik.values()))\n",
    "print(list(muj_slovnik.keys()))\n",
    "print(tuple(muj_slovnik.keys()))"
   ]
  },
  {
   "cell_type": "code",
   "execution_count": null,
   "metadata": {},
   "outputs": [],
   "source": [
    "muj_slovnik = {'a': 1, 'b': 2, 'c': 3}\n",
    "\n",
    "# Kromě přidání jednoho klíče pomocí hranatých závorek...\n",
    "muj_slovnik['d'] = 4\n",
    "print(muj_slovnik)\n",
    "\n",
    "# ...můžu přidat i více klíčů pomocí metody update()\n",
    "muj_slovnik.update({'e': 5, 'f': 6})\n",
    "print(muj_slovnik)"
   ]
  },
  {
   "cell_type": "markdown",
   "metadata": {},
   "source": [
    "### Úkol 2.2\n",
    "\n",
    "Iteruj skrze klíče maskota, kterého jste vytvořili v Bloku 1. V rámci iterace:\n",
    "\n",
    "1. Pokud je klíč textový řetězec a má více než 5 znaků, bude přidán do Listu 'moje_dlouhe_klice', který je definován mimo smyčku.\n",
    "2. Nehledě na předešlou podmínku (zda byl znak dlouhý či ne), vytiskni každý z klíčů do konzole.\n",
    "\n",
    "Je třeba využít znalostí z předcházejících hodin o Listech. Pokud nevíš, jak na úkol, rozděl si ho na kroky a odborně si řekni, co potřebuji udělat. A to jak nejvíc si vzpomenu. Například \"Přidat prvek na konec Listu pomocí metody\". Toto pak dávám do ChatGPT či Google.\n",
    "\n",
    "Na závěr vyprintuj List moje_dlouhe_klice a zkontroluj."
   ]
  },
  {
   "cell_type": "code",
   "execution_count": null,
   "metadata": {},
   "outputs": [],
   "source": [
    "moje_dlouhe_klice = []\n",
    "\n",
    "# Místo pro Vaši smyčku"
   ]
  },
  {
   "cell_type": "markdown",
   "metadata": {},
   "source": [
    "### Úkol 2.3\n",
    "Svého maskota rozšiř o další nové tři charakteristiky. Vše pomocí jednoho řádku kódu."
   ]
  },
  {
   "cell_type": "code",
   "execution_count": null,
   "metadata": {},
   "outputs": [],
   "source": [
    "\n"
   ]
  },
  {
   "cell_type": "markdown",
   "metadata": {},
   "source": [
    "### Úkol 2.4\n",
    "\n",
    "Nyní vytvoř pomocí kódu List, který bude obsahovat tuples. Každý tuple bude mít na první pozici klíč, na druhé pozici hodnotu."
   ]
  },
  {
   "cell_type": "code",
   "execution_count": null,
   "metadata": {},
   "outputs": [],
   "source": []
  },
  {
   "cell_type": "markdown",
   "metadata": {},
   "source": [
    "## Blok 3"
   ]
  }
 ],
 "metadata": {
  "kernelspec": {
   "display_name": "ABBA",
   "language": "python",
   "name": "python3"
  },
  "language_info": {
   "codemirror_mode": {
    "name": "ipython",
    "version": 3
   },
   "file_extension": ".py",
   "mimetype": "text/x-python",
   "name": "python",
   "nbconvert_exporter": "python",
   "pygments_lexer": "ipython3",
   "version": "3.12.2"
  }
 },
 "nbformat": 4,
 "nbformat_minor": 2
}

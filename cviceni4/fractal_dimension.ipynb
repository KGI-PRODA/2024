{
 "cells": [
  {
   "cell_type": "markdown",
   "metadata": {},
   "source": [
    "This notebook will guide you through calculating transport provision of a chosen area, which is fractal dimension of its transport network divided by 2. We will use box counting method to calculate fractal dimension and OSM road network as a transport network. This notebook is inspired by Svitlana Kuznichenko and Adam Tóth."
   ]
  },
  {
   "cell_type": "code",
   "execution_count": 1,
   "metadata": {},
   "outputs": [
    {
     "name": "stdout",
     "output_type": "stream",
     "text": [
      "packages imported\n"
     ]
    }
   ],
   "source": [
    "import arcpy\n",
    "import scipy\n",
    "from scipy import optimize\n",
    "import numpy\n",
    "from numpy import *\n",
    "arcpy.env.overwriteOutput = True\n",
    "\n",
    "print(\"packages imported\")"
   ]
  },
  {
   "cell_type": "markdown",
   "metadata": {},
   "source": [
    "After importing necessary packages, we are going to set paths to our data. Roads and area layers will be stored in a dictionary structure named \"inputdata\". It has 3 keys: \"names\", \"paths\" and \"spatial_references\", which is now an empty list. The previos two keys have their values in lists as well."
   ]
  },
  {
   "cell_type": "code",
   "execution_count": 42,
   "metadata": {},
   "outputs": [
    {
     "name": "stdout",
     "output_type": "stream",
     "text": [
      "data paths and workspace set\n"
     ]
    }
   ],
   "source": [
    "inputdata = {\"names\": [\"roads\", \"area\"],\n",
    "             \"paths\": [\"D:/diplomka/diplomka/Default.gdb/otm_roads_h123_olomouc_region\", \"D:/diplomka/diplomka/Default.gdb/NUTS3_olomoucky_kraj\"],\n",
    "             \"spatial_references\": []}\n",
    "size = \"50 SquareKilometers\"\n",
    "workspace = \"D:/diplomka/diplomka/Default.gdb\"\n",
    "cor_sys_string = 'PROJCS[\"ETRS_1989_LAEA\",GEOGCS[\"GCS_ETRS_1989\",DATUM[\"D_ETRS_1989\",SPHEROID[\"GRS_1980\",6378137.0,298.257222101]],PRIMEM[\"Greenwich\",0.0],UNIT[\"Degree\",0.0174532925199433]],PROJECTION[\"Lambert_Azimuthal_Equal_Area\"],PARAMETER[\"False_Easting\",4321000.0],PARAMETER[\"False_Northing\",3210000.0],PARAMETER[\"Central_Meridian\",10.0],PARAMETER[\"Latitude_Of_Origin\",52.0],UNIT[\"Meter\",1.0]]'\n",
    "arcpy.env.workspace = workspace\n",
    "\n",
    "print(\"data paths and workspace set\")"
   ]
  },
  {
   "cell_type": "markdown",
   "metadata": {},
   "source": [
    "NUTS3 regions were downloaded from this webpage: https://ec.europa.eu/eurostat/web/gisco/geodata/reference-data/administrative-units-statistical-units/nuts"
   ]
  },
  {
   "cell_type": "markdown",
   "metadata": {},
   "source": [
    "The next step will be uniting coordinate systems. User chose one coordinate sytem and stored it in the cor_sys_string variable. We need to check if our roads and area of interest layers are in that chosen coordinate system. If they're not, they will be projected into it."
   ]
  },
  {
   "cell_type": "code",
   "execution_count": 37,
   "metadata": {},
   "outputs": [
    {
     "name": "stdout",
     "output_type": "stream",
     "text": [
      "chosen coordinate system loaded\n",
      "roads layer was projected into the chosen coordinate system\n",
      "area layer is in the chosen coordinate system\n",
      "{'names': ['roads', 'area'], 'paths': ['D:/diplomka/diplomka/Default.gdb/reprj_roads', 'D:/diplomka/diplomka/Default.gdb/NUTS3_olomoucky_kraj'], 'spatial_references': [<geoprocessing spatial reference object object at 0x000002257B99CE90>, <geoprocessing spatial reference object object at 0x000002257CBD1250>]}\n"
     ]
    }
   ],
   "source": [
    "cor_sys = arcpy.SpatialReference()\n",
    "cor_sys.loadFromString(cor_sys_string)\n",
    "arcpy.env.outputCoordinateSystem = cor_sys\n",
    "print(\"chosen coordinate system loaded\")\n",
    "\n",
    "j = 0\n",
    "for i in inputdata[\"paths\"]:\n",
    "    inputdata[\"spatial_references\"].append(arcpy.Describe(i).spatialReference)\n",
    "    if inputdata[\"spatial_references\"][j].factoryCode != cor_sys.factoryCode:\n",
    "        arcpy.management.Project(i, \"reprj_\" + inputdata[\"names\"][j], cor_sys)\n",
    "        inputdata[\"paths\"][j] = workspace + \"/\" + \"reprj_\" + inputdata[\"names\"][j]\n",
    "        print(inputdata[\"names\"][j] + \" layer was projected into the chosen coordinate system\")\n",
    "    else:\n",
    "        print(inputdata[\"names\"][j] + \" layer is in the chosen coordinate system\")\n",
    "    j += 1\n",
    "\n",
    "print(inputdata)"
   ]
  },
  {
   "cell_type": "markdown",
   "metadata": {},
   "source": [
    "To make sure that all the roads are within the area of interest, roads layer is clipped by area layer."
   ]
  },
  {
   "cell_type": "code",
   "execution_count": 44,
   "metadata": {},
   "outputs": [
    {
     "name": "stdout",
     "output_type": "stream",
     "text": [
      "roads clipped by area\n"
     ]
    }
   ],
   "source": [
    "arcpy.analysis.Clip(inputdata[\"paths\"][0], inputdata[\"paths\"][1], \"clipped_roads\")\n",
    "print(\"roads clipped by area\")"
   ]
  },
  {
   "cell_type": "markdown",
   "metadata": {},
   "source": [
    "Now the hexagonal grid with a cell of the chosen size is generated and clipped by area layer. Transport provision will be calculated for each hexagon. "
   ]
  },
  {
   "cell_type": "code",
   "execution_count": 43,
   "metadata": {},
   "outputs": [
    {
     "name": "stdout",
     "output_type": "stream",
     "text": [
      "hexagonal grid generated and clipped by area layer\n"
     ]
    }
   ],
   "source": [
    "arcpy.management.GenerateTessellation(\"hex_grid\", inputdata[\"paths\"][1], \"HEXAGON\", size)\n",
    "arcpy.analysis.Clip(\"hex_grid\", inputdata[\"paths\"][1], \"hex_gr\")\n",
    "print(\"hexagonal grid generated and clipped by area layer\")"
   ]
  },
  {
   "cell_type": "markdown",
   "metadata": {},
   "source": [
    "The next step is to cut the roads by hexagons. A layer of roads intersected by hexagons is created where each feature is assigned an FID (Feature ID) of hexagon where it belongs. Now this layer can be dissolved, so every road feature with the same hexagon FID will be dissolved/merged into one feature. The result is a layer with road features where every feature represents road network of their hexagon."
   ]
  },
  {
   "cell_type": "code",
   "execution_count": 45,
   "metadata": {},
   "outputs": [
    {
     "name": "stdout",
     "output_type": "stream",
     "text": [
      "Roads intersected and dissolved by hexagons and new field added into hex_gr for transport provision\n"
     ]
    }
   ],
   "source": [
    "arcpy.analysis.Intersect([\"clipped_roads\", \"hex_gr\"], \"roads_isect\", \"ONLY_FID\")\n",
    "arcpy.management.Dissolve(\"roads_isect\", \"roads_isect_diss\", \"FID_hex_gr\")\n",
    "arcpy.management.AddField(\"hex_gr\", \"TP\", \"FLOAT\")\n",
    "print(\"Roads intersected and dissolved by hexagons and new field added into hex_gr for transport provision\")"
   ]
  },
  {
   "cell_type": "markdown",
   "metadata": {},
   "source": [
    "Now the math part begins. "
   ]
  },
  {
   "cell_type": "code",
   "execution_count": 46,
   "metadata": {},
   "outputs": [
    {
     "name": "stdout",
     "output_type": "stream",
     "text": [
      "Number of hexagons which intersect with roads: 138. Total number of hexagons: 151\n"
     ]
    }
   ],
   "source": [
    "fitfunc = lambda p, x: (p[0] + p[1] * x)\n",
    "errfunc = lambda p, x, y: (y - fitfunc(p, x))\n",
    "\n",
    "a = int(arcpy.management.GetCount(\"roads_isect_diss\").getOutput(0))\n",
    "rows = arcpy.SearchCursor(\"roads_isect_diss\")\n",
    "total = []\n",
    "for row in rows:\n",
    "    total.append(row.getValue(\"FID_hex_gr\"))\n",
    "count = int(arcpy.management.GetCount(\"hex_gr\").getOutput(0))\n",
    "tp_values = []\n",
    "i = 1\n",
    "\n",
    "print(f\"Number of hexagons which intersect with roads: {a}. Total number of hexagons: {count}\")"
   ]
  },
  {
   "cell_type": "code",
   "execution_count": 47,
   "metadata": {},
   "outputs": [
    {
     "name": "stdout",
     "output_type": "stream",
     "text": [
      "iteration: 1 out of 138\n",
      "iteration: 2 out of 138\n",
      "iteration: 3 out of 138\n",
      "iteration: 4 out of 138\n",
      "iteration: 5 out of 138\n",
      "iteration: 6 out of 138\n",
      "iteration: 7 out of 138\n",
      "iteration: 8 out of 138\n",
      "iteration: 9 out of 138\n",
      "iteration: 10 out of 138\n",
      "iteration: 11 out of 138\n",
      "iteration: 12 out of 138\n",
      "iteration: 13 out of 138\n",
      "iteration: 14 out of 138\n",
      "iteration: 15 out of 138\n",
      "iteration: 16 out of 138\n",
      "iteration: 17 out of 138\n",
      "iteration: 18 out of 138\n",
      "iteration: 19 out of 138\n",
      "iteration: 20 out of 138\n",
      "iteration: 21 out of 138\n",
      "iteration: 22 out of 138\n",
      "iteration: 23 out of 138\n",
      "iteration: 24 out of 138\n",
      "iteration: 25 out of 138\n",
      "iteration: 26 out of 138\n",
      "iteration: 27 out of 138\n",
      "iteration: 28 out of 138\n",
      "iteration: 29 out of 138\n",
      "iteration: 30 out of 138\n",
      "iteration: 31 out of 138\n",
      "iteration: 32 out of 138\n",
      "iteration: 33 out of 138\n",
      "iteration: 34 out of 138\n",
      "iteration: 35 out of 138\n",
      "iteration: 36 out of 138\n",
      "iteration: 37 out of 138\n",
      "iteration: 38 out of 138\n",
      "iteration: 39 out of 138\n",
      "iteration: 40 out of 138\n",
      "iteration: 41 out of 138\n",
      "iteration: 42 out of 138\n",
      "iteration: 43 out of 138\n",
      "iteration: 44 out of 138\n",
      "iteration: 45 out of 138\n",
      "iteration: 46 out of 138\n",
      "iteration: 47 out of 138\n",
      "iteration: 48 out of 138\n",
      "iteration: 49 out of 138\n",
      "iteration: 50 out of 138\n",
      "iteration: 51 out of 138\n",
      "iteration: 52 out of 138\n",
      "iteration: 53 out of 138\n",
      "iteration: 54 out of 138\n",
      "iteration: 55 out of 138\n",
      "iteration: 56 out of 138\n",
      "iteration: 57 out of 138\n",
      "iteration: 58 out of 138\n",
      "iteration: 59 out of 138\n",
      "iteration: 60 out of 138\n",
      "iteration: 61 out of 138\n",
      "iteration: 62 out of 138\n",
      "iteration: 63 out of 138\n",
      "iteration: 64 out of 138\n",
      "iteration: 65 out of 138\n",
      "iteration: 66 out of 138\n",
      "iteration: 67 out of 138\n",
      "iteration: 68 out of 138\n",
      "iteration: 69 out of 138\n",
      "iteration: 70 out of 138\n",
      "iteration: 71 out of 138\n",
      "iteration: 72 out of 138\n",
      "iteration: 73 out of 138\n",
      "iteration: 74 out of 138\n",
      "iteration: 75 out of 138\n",
      "iteration: 76 out of 138\n",
      "iteration: 77 out of 138\n",
      "iteration: 78 out of 138\n",
      "iteration: 79 out of 138\n",
      "iteration: 80 out of 138\n",
      "iteration: 81 out of 138\n",
      "iteration: 82 out of 138\n",
      "iteration: 83 out of 138\n",
      "iteration: 84 out of 138\n",
      "iteration: 85 out of 138\n",
      "iteration: 86 out of 138\n",
      "iteration: 87 out of 138\n",
      "iteration: 88 out of 138\n",
      "iteration: 89 out of 138\n",
      "iteration: 90 out of 138\n",
      "iteration: 91 out of 138\n",
      "iteration: 92 out of 138\n",
      "iteration: 93 out of 138\n",
      "iteration: 94 out of 138\n",
      "iteration: 95 out of 138\n",
      "iteration: 96 out of 138\n",
      "iteration: 97 out of 138\n",
      "iteration: 98 out of 138\n",
      "iteration: 99 out of 138\n",
      "iteration: 100 out of 138\n",
      "iteration: 101 out of 138\n",
      "iteration: 102 out of 138\n",
      "iteration: 103 out of 138\n",
      "iteration: 104 out of 138\n",
      "iteration: 105 out of 138\n",
      "iteration: 106 out of 138\n",
      "iteration: 107 out of 138\n",
      "iteration: 108 out of 138\n",
      "iteration: 109 out of 138\n",
      "iteration: 110 out of 138\n",
      "iteration: 111 out of 138\n",
      "iteration: 112 out of 138\n",
      "iteration: 113 out of 138\n",
      "iteration: 114 out of 138\n",
      "iteration: 115 out of 138\n",
      "iteration: 116 out of 138\n",
      "iteration: 117 out of 138\n",
      "iteration: 118 out of 138\n",
      "iteration: 119 out of 138\n",
      "iteration: 120 out of 138\n",
      "iteration: 121 out of 138\n",
      "iteration: 122 out of 138\n",
      "iteration: 123 out of 138\n",
      "iteration: 124 out of 138\n",
      "iteration: 125 out of 138\n",
      "iteration: 126 out of 138\n",
      "iteration: 127 out of 138\n",
      "iteration: 128 out of 138\n",
      "iteration: 129 out of 138\n",
      "iteration: 130 out of 138\n",
      "iteration: 131 out of 138\n",
      "iteration: 132 out of 138\n",
      "iteration: 133 out of 138\n",
      "iteration: 134 out of 138\n",
      "iteration: 135 out of 138\n",
      "iteration: 136 out of 138\n",
      "iteration: 137 out of 138\n",
      "iteration: 138 out of 138\n"
     ]
    }
   ],
   "source": [
    "while i <= a:\n",
    "    print(f\"iteration: {i} out of {a}\")\n",
    "    # select the lines and select the respective hexagon where the lines are\n",
    "    selected_roads = arcpy.management.SelectLayerByAttribute(\"roads_isect_diss\", \"NEW_SELECTION\", \"OBJECTID = %s\" % i)\n",
    "    selected_hex = arcpy.management.SelectLayerByAttribute(\"hex_gr\", \"NEW_SELECTION\", \"OBJECTID = %s\" % (total[i-1]))\n",
    "\n",
    "    # selected hexagon is exported into layer \"one_hex\"\n",
    "    arcpy.conversion.FeatureClassToFeatureClass(selected_hex, workspace, \"one_hex\")\n",
    "\n",
    "    # \"aa\" contains extent of this hexagon\n",
    "    aa = arcpy.Describe(\"one_hex\").extent\n",
    "    xmin = aa.XMin\n",
    "    ymin  = aa.YMin\n",
    "\n",
    "    # list \"squares\" contains numbers of squares in fishnet, which will be generated in the next for loop\n",
    "    squares = [4,16,64,256]\n",
    "    # list \"intersections\" contains counts of squares which cover lines in the polygon/hexagon, first it is 1/1, then a/4, b/16, c/64, d/256\n",
    "    intersections = [1]\n",
    "\n",
    "    # this for loop has 4 iterations\n",
    "    # during one iteration it creates fishnet over the \"one_hex\", clips the fishnet by \"one_hex\", counts the number of squares that cover lines and add these counts into the list \"intersections\"\n",
    "    for n in range(len(squares)):\n",
    "        arcpy.management.CreateFishnet(\"fishnet_\" + str(squares[n]), str(xmin) + ' ' + str(ymin), str(xmin) + ' ' + str(ymin+1), \"0\", \"0\", int((squares[n])**(0.5)), int((squares[n])**(0.5)), \"#\", \"NO_LABELS\", \"one_hex\", \"POLYGON\")\n",
    "        arcpy.analysis.Clip(\"fishnet_\" + str(squares[n]), \"one_hex\", \"fishnet_clip_\" + str(squares[n]))\n",
    "        c = int(arcpy.management.GetCount(arcpy.management.SelectLayerByLocation(\"fishnet_clip_\" + str(squares[n]), \"INTERSECT\", selected_roads)).getOutput(0))\n",
    "        intersections.append(c)\n",
    "        arcpy.management.Delete([\"fishnet_\" + str(squares[n]), \"fishnet_clip_\" + str(squares[n])])\n",
    "\n",
    "    # fractal dimension and transport provision calculation (another math which I don't understand, but it works)\n",
    "    edge = [1,0.5,0.25,0.125,0.0625]\n",
    "    logx = log(edge)\n",
    "    logy = log(intersections)\n",
    "    qout, success = optimize.leastsq(errfunc, [0, 0], args = (logx, logy), maxfev = 30000)\n",
    "\n",
    "    # adding the transport provision into the list \"tp_values\" and deleting layer \"one_hex\"\n",
    "    # (in the original code, the field TP was calculated in the end of each iteration, in my version, transport provision for each polygon is saved in the list and after the while loop terminates, it is loaded into the field TP)\n",
    "    tp_values.append(float(int(qout[1]*100000))/(-200000))\n",
    "    arcpy.management.Delete(\"one_hex\")\n",
    "    i += 1"
   ]
  },
  {
   "cell_type": "code",
   "execution_count": 48,
   "metadata": {},
   "outputs": [
    {
     "name": "stdout",
     "output_type": "stream",
     "text": [
      "Field TP calculated and updated\n"
     ]
    }
   ],
   "source": [
    "i = 0\n",
    "with arcpy.da.UpdateCursor(\"hex_gr\", [\"OBJECTID\", \"TP\"]) as cursor:\n",
    "    for row in cursor:\n",
    "        if row[0] == total[i]:\n",
    "            row[1] = tp_values[i]\n",
    "            cursor.updateRow(row)\n",
    "            if i < a-1:\n",
    "                i += 1\n",
    "print(\"Field TP calculated and updated\")"
   ]
  },
  {
   "cell_type": "code",
   "execution_count": 51,
   "metadata": {},
   "outputs": [
    {
     "name": "stdout",
     "output_type": "stream",
     "text": [
      "Trash deleted\n",
      "The script has successfully ended!\n"
     ]
    }
   ],
   "source": [
    "arcpy.management.Rename(\"hex_gr\", \"fractal_tp\")\n",
    "\n",
    "if arcpy.Exists(\"reprj_roads\"):\n",
    "    arcpy.management.Delete(\"reprj_roads\")\n",
    "if arcpy.Exists(\"reprj_area\"):\n",
    "    arcpy.management.Delete(\"reprj_area\")\n",
    "if arcpy.Exists(\"hex_grid\"):\n",
    "    arcpy.management.Delete(\"hex_grid\")\n",
    "arcpy.management.Delete([\"clipped_roads\", \"roads_isect_diss\", \"roads_isect\"])\n",
    "\n",
    "del size, workspace, cor_sys, cor_sys_string, i, cursor, row, j, inputdata\n",
    "del fitfunc, errfunc, a, rows, total, count, tp_values, selected_roads, selected_hex, aa, xmin, ymin, squares, intersections, n, c, edge, logx, logy, qout, success\n",
    "print(\"Trash deleted\")\n",
    "print(\"The script has successfully ended!\")\n"
   ]
  }
 ],
 "metadata": {
  "kernelspec": {
   "display_name": "ArcGISPro",
   "language": "Python",
   "name": "python3"
  },
  "language_info": {
   "codemirror_mode": {
    "name": "ipython",
    "version": 3
   },
   "file_extension": ".py",
   "mimetype": "text/x-python",
   "name": "python",
   "nbconvert_exporter": "python",
   "pygments_lexer": "ipython3",
   "version": "3.9.11"
  }
 },
 "nbformat": 4,
 "nbformat_minor": 2
}

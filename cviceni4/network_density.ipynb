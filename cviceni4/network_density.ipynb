{
 "cells": [
  {
   "cell_type": "markdown",
   "metadata": {},
   "source": [
    "# Transport network density"
   ]
  },
  {
   "cell_type": "markdown",
   "metadata": {},
   "source": [
    "## Introduction"
   ]
  },
  {
   "cell_type": "markdown",
   "metadata": {},
   "source": [
    "This notebook is based on the [eu_grid_population.py](https://github.com/GISAdamToth/characteristics_of_transport_network_toolbox/blob/main/python_scripts/eu_grid_population.py) script, which is part of the [Calculation possibilies of transport network's characteristics of countries and cities](https://www.geoinformatics.upol.cz/dprace/bakalarske/toth22/) bachelor thesis by Adam Tóth (2022).\n",
    "\n",
    "In this notebook you will calculate the transport network density in two ways:\n",
    "1) \"classic\" approach, where density = length / area\n",
    "2) \"demographic\" approach, where density = length / population\n",
    "\n",
    "You'll need a cloned ArcGIS Python environment so you can run [**ArcPy**](https://pro.arcgis.com/en/pro-app/3.1/arcpy/get-started/what-is-arcpy-.htm) functions and install additional packages.\n",
    "\n",
    "The workflow is divided into the following sections:\n",
    "- [ArcGIS setup](#arcgis)\n",
    "- [Transport network data](#osmnx)\n",
    "- [Population data](#popgrid)\n",
    "- [Hexagonal grid](#hex)\n",
    "- [Density calculation](#calc)\n",
    "- [Visualization](#vis)"
   ]
  },
  {
   "cell_type": "markdown",
   "metadata": {},
   "source": [
    "## ArcGIS setup <a id=\"arcgis\"></a>"
   ]
  },
  {
   "cell_type": "markdown",
   "metadata": {},
   "source": [
    "Start ArcGIS Pro and create a new project.\n",
    "\n",
    "Import **ArcPy** and allow overwriting outputs with the same name."
   ]
  },
  {
   "cell_type": "code",
   "execution_count": 37,
   "metadata": {},
   "outputs": [],
   "source": [
    "import arcpy\n",
    "arcpy.env.overwriteOutput = True"
   ]
  },
  {
   "cell_type": "markdown",
   "metadata": {},
   "source": [
    "Save the path to your project's geodatabase and set it as the workspace."
   ]
  },
  {
   "cell_type": "code",
   "execution_count": 38,
   "metadata": {},
   "outputs": [],
   "source": [
    "workspace_dir = \"D:/transport_netw_char/\"\n",
    "workspace_gdb = \"D:/transport_netw_char/transport_netw_char.gdb/\"\n",
    "arcpy.env.workspace = workspace_gdb"
   ]
  },
  {
   "cell_type": "markdown",
   "metadata": {},
   "source": [
    "## Transport network data <a id=\"osmnx\"></a>"
   ]
  },
  {
   "cell_type": "markdown",
   "metadata": {},
   "source": [
    "Transport network is a term which covers all parts of the transport infrastructure in a certain area, typically country, region or city. Transport network therefore includes roads, railways, airports, river and sea ports (harbours), pipelines, all kinds of junctions, terminals and so on. This notebook focuses on the line features of transport network, because the density is expressed as **length** either per area or per capita. \n",
    "\n",
    "Therefore you can use any kind of line layer representing highways, streets, railways for example. In this part you'll go through the process of accessing railways data from OpenStreetMap (OSM) and getting them ready for further work in ArcGIS Pro.\n",
    "\n",
    "This part is inspired by the notebook [Accessing OSM Data in Python](https://pygis.io/docs/d_access_osm.html) published at PyGIS."
   ]
  },
  {
   "cell_type": "markdown",
   "metadata": {},
   "source": [
    "You'll need [**OSMnx**](https://osmnx.readthedocs.io/en/stable/) and [**GeoPandas**](https://geopandas.org/en/stable/) packages. There are various ways how to install them into your cloned ArcGIS Python environment, one simple way is to uncomment and execute the next two code lines."
   ]
  },
  {
   "cell_type": "code",
   "execution_count": null,
   "metadata": {},
   "outputs": [],
   "source": [
    "# %pip install osmnx\n",
    "# %pip install geopandas"
   ]
  },
  {
   "cell_type": "markdown",
   "metadata": {},
   "source": [
    "Import the packages now."
   ]
  },
  {
   "cell_type": "code",
   "execution_count": null,
   "metadata": {},
   "outputs": [],
   "source": [
    "import osmnx as ox\n",
    "import geopandas as gpd"
   ]
  },
  {
   "cell_type": "markdown",
   "metadata": {},
   "source": [
    "### Area of interest"
   ]
  },
  {
   "cell_type": "markdown",
   "metadata": {},
   "source": [
    "The first step is to choose the area of interest. You can choose any European city, region or country. For this notebook the area of interest will be the Liverpool city in the UK."
   ]
  },
  {
   "cell_type": "code",
   "execution_count": null,
   "metadata": {},
   "outputs": [],
   "source": [
    "place_name = \"Liverpool, UK\""
   ]
  },
  {
   "cell_type": "markdown",
   "metadata": {},
   "source": [
    "Using the functionality of imported packages, save the area of interest as a GeoDataFrame into the variable ```area``` and check how is looks like."
   ]
  },
  {
   "cell_type": "code",
   "execution_count": null,
   "metadata": {},
   "outputs": [],
   "source": [
    "area = ox.geocode_to_gdf(place_name)\n",
    "area"
   ]
  },
  {
   "cell_type": "markdown",
   "metadata": {},
   "source": [
    "You can also verify its data type and plot it using [**matplotlib**](https://matplotlib.org/) built-in the **GeoPandas** package."
   ]
  },
  {
   "cell_type": "code",
   "execution_count": null,
   "metadata": {},
   "outputs": [],
   "source": [
    "print(type(area))\n",
    "area.plot()"
   ]
  },
  {
   "cell_type": "markdown",
   "metadata": {},
   "source": [
    "Save now this polygon GeoDataFrame into a geojson file, so you can later import it into the geodatabase in ArcGIS Pro."
   ]
  },
  {
   "cell_type": "code",
   "execution_count": 47,
   "metadata": {},
   "outputs": [],
   "source": [
    "area.to_file(workspace_dir + 'liverpool_boundary.geojson', driver='GeoJSON')\n",
    "area = 'liverpool_boundary'"
   ]
  },
  {
   "cell_type": "markdown",
   "metadata": {},
   "source": [
    "Import the geojson file with area of interest into your geodatabase."
   ]
  },
  {
   "cell_type": "code",
   "execution_count": null,
   "metadata": {},
   "outputs": [],
   "source": [
    "arcpy.conversion.JSONToFeatures(workspace_dir + 'liverpool_boundary.geojson', area, \"POLYGON\")"
   ]
  },
  {
   "cell_type": "markdown",
   "metadata": {},
   "source": [
    "### OSM data"
   ]
  },
  {
   "cell_type": "markdown",
   "metadata": {},
   "source": []
  },
  {
   "cell_type": "code",
   "execution_count": null,
   "metadata": {},
   "outputs": [],
   "source": [
    "# get all types of railways (https://wiki.openstreetmap.org/wiki/Map_features#Railway)\n",
    "tags = {'railway': True}  \n",
    "# get only rails = \"Full sized passenger or freight train tracks in the standard gauge for the country or state.\" \n",
    "#tags = {'railway': 'rail'}  \n",
    "\n",
    "railways = ox.features_from_place(place_name, tags)\n",
    "railways.head()"
   ]
  },
  {
   "cell_type": "code",
   "execution_count": null,
   "metadata": {},
   "outputs": [],
   "source": [
    "print(len(railways))\n",
    "railways.plot()"
   ]
  },
  {
   "cell_type": "code",
   "execution_count": null,
   "metadata": {},
   "outputs": [],
   "source": [
    "railways = railways.loc[:,railways.columns.str.contains('addr:|geometry')]"
   ]
  },
  {
   "cell_type": "code",
   "execution_count": null,
   "metadata": {},
   "outputs": [],
   "source": [
    "rails = railways.loc[railways.geometry.type=='LineString']\n",
    "print(len(rails))\n",
    "rails.plot()"
   ]
  },
  {
   "cell_type": "code",
   "execution_count": null,
   "metadata": {},
   "outputs": [],
   "source": [
    "rails.to_file(workspace_dir + 'liverpool_rails.geojson', driver='GeoJSON')\n",
    "rails = 'liverpool_rails'"
   ]
  },
  {
   "cell_type": "markdown",
   "metadata": {},
   "source": [
    "Import the geojson file with rails into your geodatabase."
   ]
  },
  {
   "cell_type": "code",
   "execution_count": null,
   "metadata": {},
   "outputs": [],
   "source": [
    "arcpy.conversion.JSONToFeatures(workspace_dir + 'liverpool_rails.geojson', rails, \"POLYLINE\")"
   ]
  },
  {
   "cell_type": "markdown",
   "metadata": {},
   "source": [
    "## Population data <a id=\"popgrid\"></a>"
   ]
  },
  {
   "cell_type": "markdown",
   "metadata": {},
   "source": [
    "Install necessary libraries."
   ]
  },
  {
   "cell_type": "code",
   "execution_count": null,
   "metadata": {},
   "outputs": [],
   "source": [
    "# %pip install os\n",
    "# %pip install requests\n",
    "# %pip install zipfile"
   ]
  },
  {
   "cell_type": "markdown",
   "metadata": {},
   "source": [
    "Import them."
   ]
  },
  {
   "cell_type": "code",
   "execution_count": null,
   "metadata": {},
   "outputs": [],
   "source": [
    "import os\n",
    "import requests\n",
    "import zipfile"
   ]
  },
  {
   "cell_type": "markdown",
   "metadata": {},
   "source": [
    "Set parameters and variables for downloading zipped population grid from the eurostat website."
   ]
  },
  {
   "cell_type": "code",
   "execution_count": null,
   "metadata": {},
   "outputs": [],
   "source": [
    "# URL of the population grid to download\n",
    "url = \"https://ec.europa.eu/eurostat/cache/GISCO/geodatafiles/JRC_GRID_2018.zip\"\n",
    "\n",
    "# Define the file name and path for saving the downloaded file\n",
    "file_name = \"JRC_GRID_2018.zip\"\n",
    "file_path = os.path.join(workspace_dir, file_name)  # Save in the workspace directory"
   ]
  },
  {
   "cell_type": "markdown",
   "metadata": {},
   "source": [
    "Send a GET request to the URL to download the file"
   ]
  },
  {
   "cell_type": "code",
   "execution_count": null,
   "metadata": {},
   "outputs": [],
   "source": [
    "response = requests.get(url)\n",
    "\n",
    "# Check if the request was successful (status code 200)\n",
    "if response.status_code == 200:\n",
    "    # Write the content to a file\n",
    "    with open(file_path, 'wb') as f:\n",
    "        f.write(response.content)\n",
    "    print(f\"File '{file_name}' downloaded successfully!\")\n",
    "else:\n",
    "    print(\"Failed to download the file.\")"
   ]
  },
  {
   "cell_type": "markdown",
   "metadata": {},
   "source": [
    "Extract (unzip) the downloaded file."
   ]
  },
  {
   "cell_type": "code",
   "execution_count": null,
   "metadata": {},
   "outputs": [],
   "source": [
    "with zipfile.ZipFile(file_path, 'r') as zip_ref:\n",
    "    zip_ref.extractall(file_path[:-4] + '/')"
   ]
  },
  {
   "cell_type": "markdown",
   "metadata": {},
   "source": [
    "Save the path to the extracted population grid shapefile itself."
   ]
  },
  {
   "cell_type": "code",
   "execution_count": 57,
   "metadata": {},
   "outputs": [
    {
     "data": {
      "text/plain": [
       "'D:/transport_netw_char/JRC_GRID_2018/JRC_POPULATION_2018.shp'"
      ]
     },
     "execution_count": 57,
     "metadata": {},
     "output_type": "execute_result"
    }
   ],
   "source": [
    "pop_data = file_path[:-4] + '/JRC_POPULATION_2018.shp'\n",
    "pop_data"
   ]
  },
  {
   "cell_type": "markdown",
   "metadata": {},
   "source": [
    "Select the population grid \"pixels\" that intersect with the area of interest. Copy or export these \"pixels\" into your workspace and then don't forget to clear the selection."
   ]
  },
  {
   "cell_type": "code",
   "execution_count": 58,
   "metadata": {},
   "outputs": [],
   "source": [
    "area_selection = arcpy.management.SelectLayerByLocation(pop_data, \"INTERSECT\", area)\n",
    "arcpy.management.CopyFeatures(area_selection, \"pop_data_liverpool\")\n",
    "area_selection = arcpy.management.SelectLayerByAttribute(pop_data, \"CLEAR_SELECTION\")"
   ]
  },
  {
   "cell_type": "markdown",
   "metadata": {},
   "source": [
    "Save the \"pixel\" area size in a new field which will be named ```\"area_orig\"```. You will make a copy of the ```\"Shape_Area\"``` field basically."
   ]
  },
  {
   "cell_type": "code",
   "execution_count": null,
   "metadata": {},
   "outputs": [],
   "source": [
    "arcpy.management.AddField(\"pop_data_liverpool\", \"area_orig\", \"DOUBLE\")\n",
    "arcpy.management.CalculateField(\"pop_data_liverpool\", \"area_orig\", '!Shape_Area!')"
   ]
  },
  {
   "cell_type": "markdown",
   "metadata": {},
   "source": [
    "Clip the copied/exported population grid \"pixels\" by the area of interest."
   ]
  },
  {
   "cell_type": "code",
   "execution_count": null,
   "metadata": {},
   "outputs": [],
   "source": [
    "arcpy.analysis.Clip(\"pop_data_liverpool\", area, \"clipped_pop_data\")\n",
    "pop_data = \"clipped_pop_data\""
   ]
  },
  {
   "cell_type": "markdown",
   "metadata": {},
   "source": [
    "Add a new field named ```\"P_2018_orig\"``` and populate it with the current population."
   ]
  },
  {
   "cell_type": "code",
   "execution_count": null,
   "metadata": {},
   "outputs": [],
   "source": [
    "arcpy.management.AddField(pop_data, \"P_2018_orig\", \"DOUBLE\")\n",
    "arcpy.management.CalculateField(pop_data, \"P_2018_orig\", '(!TOT_P_2018!/!area_orig!)*!Shape_Area!')"
   ]
  },
  {
   "cell_type": "markdown",
   "metadata": {},
   "source": [
    "## Hexagonal grid <a id=\"hex\"></a>"
   ]
  },
  {
   "cell_type": "markdown",
   "metadata": {},
   "source": [
    "Generate a hexagonal grid of hexagon size 10 $km^2$ over the area of interest and then clip it by its polygon layer."
   ]
  },
  {
   "cell_type": "code",
   "execution_count": null,
   "metadata": {},
   "outputs": [],
   "source": [
    "size = \"10 SquareKilometers\"\n",
    "arcpy.management.GenerateTessellation(\"hex_grid\", area, \"HEXAGON\", size)\n",
    "arcpy.analysis.Clip(\"hex_grid\", area, \"hex_gr\")"
   ]
  },
  {
   "cell_type": "markdown",
   "metadata": {},
   "source": [
    "Field ```\"area_orig\"``` will contain the area size of current clipped \"pixels\"."
   ]
  },
  {
   "cell_type": "code",
   "execution_count": null,
   "metadata": {},
   "outputs": [],
   "source": [
    "arcpy.management.CalculateField(pop_data, \"area_orig\", '!Shape_Area!')"
   ]
  },
  {
   "cell_type": "markdown",
   "metadata": {},
   "source": [
    "Now you'll get the population information into the hexagons. Intersect first the population grid by the hexagonal grid."
   ]
  },
  {
   "cell_type": "code",
   "execution_count": null,
   "metadata": {},
   "outputs": [],
   "source": [
    "arcpy.analysis.Intersect([pop_data, \"hex_gr\"], \"pop_data_isect\", \"ALL\")"
   ]
  },
  {
   "cell_type": "markdown",
   "metadata": {},
   "source": [
    "Add field into the intersected population grid's attribute table and calculate there population size using the same principle as it was used when calculating population after clipping."
   ]
  },
  {
   "cell_type": "code",
   "execution_count": null,
   "metadata": {},
   "outputs": [],
   "source": [
    "arcpy.management.AddField(\"pop_data_isect\", \"new_pop2018\", \"DOUBLE\")\n",
    "arcpy.management.CalculateField(\"pop_data_isect\", \"new_pop2018\", '(!P_2018_orig!/!area_orig!)*!Shape_Area!')"
   ]
  },
  {
   "cell_type": "markdown",
   "metadata": {},
   "source": [
    "Dissolve the population grid's \"pixels\" by hexagon's ID while summing the ```\"new_pop2018\"``` field and then join this field to the hexagonal grid layer."
   ]
  },
  {
   "cell_type": "code",
   "execution_count": null,
   "metadata": {},
   "outputs": [],
   "source": [
    "arcpy.management.Dissolve(\"pop_data_isect\", \"pop_data_isect_diss\", \"FID_hex_gr\", [[\"new_pop2018\",\"SUM\"]])\n",
    "arcpy.management.JoinField(\"hex_gr\", \"OBJECTID\", \"pop_data_isect_diss\", \"FID_hex_gr\", [\"SUM_new_pop2018\"])"
   ]
  },
  {
   "cell_type": "code",
   "execution_count": null,
   "metadata": {},
   "outputs": [],
   "source": [
    "no_people = arcpy.management.SelectLayerByAttribute(\"hex_gr\", \"NEW_SELECTION\", \"SUM_new_pop2018 IS NULL\")\n",
    "arcpy.management.CalculateField(no_people, \"SUM_new_pop2018\", '0.0')\n",
    "arcpy.management.SelectLayerByAttribute(\"hex_gr\", \"CLEAR_SELECTION\")"
   ]
  },
  {
   "cell_type": "markdown",
   "metadata": {},
   "source": [
    "Cut the roads with hexagonal grid and dissolve them by hexagon's ID."
   ]
  },
  {
   "cell_type": "code",
   "execution_count": null,
   "metadata": {},
   "outputs": [],
   "source": [
    "arcpy.analysis.Intersect([rails, \"hex_gr\"], \"rl_isect\", \"ONLY_FID\")\n",
    "arcpy.management.Dissolve(\"rl_isect\", \"rl_isect_diss\", \"FID_hex_gr\")"
   ]
  },
  {
   "cell_type": "markdown",
   "metadata": {},
   "source": [
    "Save the roads length in each hexagon by creating new field named ```\"rd_length\"``` and populating it with the values from the ```\"Shape_Length\"``` field. Join this information to the hexagonal grid layer."
   ]
  },
  {
   "cell_type": "code",
   "execution_count": null,
   "metadata": {},
   "outputs": [],
   "source": [
    "arcpy.management.AddField(\"rl_isect_diss\", \"rl_length\", \"DOUBLE\")\n",
    "arcpy.management.CalculateField(\"rl_isect_diss\", \"rl_length\", '!Shape_Length!')\n",
    "arcpy.management.JoinField(\"hex_gr\", \"OBJECTID\", \"rl_isect_diss\", \"FID_hex_gr\", [\"rl_length\"])"
   ]
  },
  {
   "cell_type": "code",
   "execution_count": null,
   "metadata": {},
   "outputs": [],
   "source": [
    "no_rails = arcpy.management.SelectLayerByAttribute(\"hex_gr\", \"NEW_SELECTION\", \"rl_length IS NULL\")\n",
    "arcpy.management.CalculateField(no_rails, \"rl_length\", '0.0')\n",
    "arcpy.management.SelectLayerByAttribute(\"hex_gr\", \"CLEAR_SELECTION\")"
   ]
  },
  {
   "cell_type": "markdown",
   "metadata": {},
   "source": [
    "## Density Calculation <a id=\"calc\"></a>"
   ]
  },
  {
   "cell_type": "markdown",
   "metadata": {},
   "source": [
    "Now the hexagonal grid contains all the information you need to calculate both roads densities. Add new fields for these. Remember that the default units are $m$ and $m^2$ and the units of densities are *n* $km$ of roads per 1 $km^2$ of area and *n* $km$ of roads per 1 inhabitant."
   ]
  },
  {
   "cell_type": "code",
   "execution_count": null,
   "metadata": {},
   "outputs": [],
   "source": [
    "arcpy.management.AddFields(\"hex_gr\", [[\"rl_density\", \"DOUBLE\"], [\"rl_per_capita\", \"DOUBLE\"]])"
   ]
  },
  {
   "cell_type": "code",
   "execution_count": null,
   "metadata": {},
   "outputs": [],
   "source": [
    "arcpy.management.CalculateField(\"hex_gr\", \"rl_density\", '(!rl_length!/1000)/(!Shape_Area!/1000000)')"
   ]
  },
  {
   "cell_type": "code",
   "execution_count": null,
   "metadata": {},
   "outputs": [],
   "source": [
    "fields = [\"rl_per_capita\", \"rl_length\", \"SUM_new_pop2018\"]\n",
    "\n",
    "with arcpy.da.UpdateCursor(\"hex_gr\", fields) as cursor:\n",
    "     for row in cursor:\n",
    "        if (row[2] == 0.0):\n",
    "            row[0] = 0.0\n",
    "        else:\n",
    "            row[0] = row[1] / row[2]\n",
    "\n",
    "        cursor.updateRow(row)"
   ]
  },
  {
   "cell_type": "markdown",
   "metadata": {},
   "source": [
    "## Visualization <a id=\"vis\"></a>"
   ]
  },
  {
   "cell_type": "markdown",
   "metadata": {},
   "source": []
  }
 ],
 "metadata": {
  "hide_input": false,
  "kernelspec": {
   "display_name": "ArcGISPro",
   "language": "Python",
   "name": "python3"
  },
  "language_info": {
   "codemirror_mode": {
    "name": "ipython",
    "version": 3
   },
   "file_extension": ".py",
   "mimetype": "text/x-python",
   "name": "python",
   "nbconvert_exporter": "python",
   "pygments_lexer": "ipython3",
   "version": "3.9.18"
  }
 },
 "nbformat": 4,
 "nbformat_minor": 2
}

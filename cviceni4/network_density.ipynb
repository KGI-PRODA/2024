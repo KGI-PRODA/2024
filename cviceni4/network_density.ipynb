{
 "cells": [
  {
   "cell_type": "markdown",
   "metadata": {},
   "source": [
    "# Transport network density"
   ]
  },
  {
   "cell_type": "markdown",
   "metadata": {},
   "source": [
    "## Introduction"
   ]
  },
  {
   "cell_type": "markdown",
   "metadata": {},
   "source": [
    "This notebook is based on the [eu_grid_population.py](https://github.com/GISAdamToth/characteristics_of_transport_network_toolbox/blob/main/python_scripts/eu_grid_population.py) script, which is part of the [Calculation possibilies of transport network's characteristics of countries and cities](https://www.geoinformatics.upol.cz/dprace/bakalarske/toth22/) bachelor thesis by Adam Tóth (2022).\n",
    "\n",
    "In this notebook you will calculate the transport network density in two ways:\n",
    "1) \"classic\" approach, where density = length / area\n",
    "2) \"demographic\" approach, where density = length / population\n",
    "\n",
    "You'll need a cloned ArcGIS Python environment so you can run [**ArcPy**](https://pro.arcgis.com/en/pro-app/3.1/arcpy/get-started/what-is-arcpy-.htm) functions and install additional packages.\n",
    "\n",
    "The workflow is divided into the following sections:\n",
    "- [ArcGIS setup](#arcgis)\n",
    "- [Transport network data](#osmnx)\n",
    "- [Population data](#popgrid)\n",
    "- [Hexagonal grid](#hex)\n",
    "- [Density calculation](#calc)\n",
    "- [Visualization](#vis)"
   ]
  },
  {
   "cell_type": "markdown",
   "metadata": {},
   "source": [
    "## ArcGIS setup <a id=\"arcgis\"></a>"
   ]
  },
  {
   "cell_type": "markdown",
   "metadata": {},
   "source": [
    "Start ArcGIS Pro and create a new project.\n",
    "\n",
    "Import **ArcPy** and allow overwriting outputs with the same name."
   ]
  },
  {
   "cell_type": "code",
   "execution_count": 2,
   "metadata": {},
   "outputs": [],
   "source": [
    "import arcpy\n",
    "arcpy.env.overwriteOutput = True"
   ]
  },
  {
   "cell_type": "markdown",
   "metadata": {},
   "source": [
    "Save the path to your project's geodatabase and set it as the workspace."
   ]
  },
  {
   "cell_type": "code",
   "execution_count": 3,
   "metadata": {},
   "outputs": [],
   "source": [
    "workspace_dir = \"D:/transport_netw_char/\"\n",
    "workspace_gdb = \"D:/transport_netw_char/transport_netw_char.gdb/\"\n",
    "arcpy.env.workspace = workspace_gdb"
   ]
  },
  {
   "cell_type": "markdown",
   "metadata": {},
   "source": [
    "## Transport network data <a id=\"osmnx\"></a>"
   ]
  },
  {
   "cell_type": "markdown",
   "metadata": {},
   "source": [
    "Transport network is a term which covers all parts of the transport infrastructure in a certain area, typically country, region or city. Transport network therefore includes roads, railways, airports, river and sea ports (harbours), pipelines, all kinds of junctions, terminals and so on. This notebook focuses on the line features of transport network, because the density is expressed as **length** either per area or per capita. \n",
    "\n",
    "Therefore you can use any kind of line layer representing highways, streets, railways for example. In this part you'll go through the process of accessing railways data from OpenStreetMap (OSM) and getting them ready for further work in ArcGIS Pro.\n",
    "\n",
    "This part is inspired by the notebook [Accessing OSM Data in Python](https://pygis.io/docs/d_access_osm.html) published at PyGIS."
   ]
  },
  {
   "cell_type": "markdown",
   "metadata": {},
   "source": [
    "You'll need [**OSMnx**](https://osmnx.readthedocs.io/en/stable/) and [**GeoPandas**](https://geopandas.org/en/stable/) packages. There are various ways how to install them into your cloned ArcGIS Python environment, one simple way is to uncomment and execute the next two code lines."
   ]
  },
  {
   "cell_type": "code",
   "execution_count": null,
   "metadata": {},
   "outputs": [],
   "source": [
    "# %pip install osmnx\n",
    "# %pip install geopandas"
   ]
  },
  {
   "cell_type": "markdown",
   "metadata": {},
   "source": [
    "Import the packages now."
   ]
  },
  {
   "cell_type": "code",
   "execution_count": 4,
   "metadata": {},
   "outputs": [
    {
     "name": "stderr",
     "output_type": "stream",
     "text": [
      "c:\\Users\\dzuky\\AppData\\Local\\ESRI\\conda\\envs\\arcgispro-py3-proda-clone\\lib\\site-packages\\pandas\\core\\computation\\expressions.py:21: UserWarning: Pandas requires version '2.8.4' or newer of 'numexpr' (version '2.8.1' currently installed).\n",
      "  from pandas.core.computation.check import NUMEXPR_INSTALLED\n",
      "c:\\Users\\dzuky\\AppData\\Local\\ESRI\\conda\\envs\\arcgispro-py3-proda-clone\\lib\\site-packages\\pandas\\core\\arrays\\masked.py:60: UserWarning: Pandas requires version '1.3.6' or newer of 'bottleneck' (version '1.3.4' currently installed).\n",
      "  from pandas.core import (\n",
      "c:\\Users\\dzuky\\AppData\\Local\\ESRI\\conda\\envs\\arcgispro-py3-proda-clone\\lib\\site-packages\\scipy\\__init__.py:138: UserWarning: A NumPy version >=1.16.5 and <1.23.0 is required for this version of SciPy (detected version 1.26.4)\n",
      "  warnings.warn(f\"A NumPy version >={np_minversion} and <{np_maxversion} is required for this version of \"\n"
     ]
    }
   ],
   "source": [
    "import osmnx as ox\n",
    "import geopandas as gpd"
   ]
  },
  {
   "cell_type": "markdown",
   "metadata": {},
   "source": [
    "### Area of interest"
   ]
  },
  {
   "cell_type": "markdown",
   "metadata": {},
   "source": [
    "The first step is to choose the area of interest. You can choose any European city, region or country. For this notebook the area of interest will be the Liverpool city in the UK."
   ]
  },
  {
   "cell_type": "code",
   "execution_count": 4,
   "metadata": {},
   "outputs": [],
   "source": [
    "place_name = \"Liverpool, UK\""
   ]
  },
  {
   "cell_type": "markdown",
   "metadata": {},
   "source": [
    "Using the functionality of imported packages, save the area of interest as a GeoDataFrame into the variable ```area``` and check how is looks like."
   ]
  },
  {
   "cell_type": "code",
   "execution_count": 5,
   "metadata": {},
   "outputs": [
    {
     "data": {
      "text/html": [
       "<div>\n",
       "<style scoped>\n",
       "    .dataframe tbody tr th:only-of-type {\n",
       "        vertical-align: middle;\n",
       "    }\n",
       "\n",
       "    .dataframe tbody tr th {\n",
       "        vertical-align: top;\n",
       "    }\n",
       "\n",
       "    .dataframe thead th {\n",
       "        text-align: right;\n",
       "    }\n",
       "</style>\n",
       "<table border=\"1\" class=\"dataframe\">\n",
       "  <thead>\n",
       "    <tr style=\"text-align: right;\">\n",
       "      <th></th>\n",
       "      <th>geometry</th>\n",
       "      <th>bbox_north</th>\n",
       "      <th>bbox_south</th>\n",
       "      <th>bbox_east</th>\n",
       "      <th>bbox_west</th>\n",
       "      <th>place_id</th>\n",
       "      <th>osm_type</th>\n",
       "      <th>osm_id</th>\n",
       "      <th>lat</th>\n",
       "      <th>lon</th>\n",
       "      <th>class</th>\n",
       "      <th>type</th>\n",
       "      <th>place_rank</th>\n",
       "      <th>importance</th>\n",
       "      <th>addresstype</th>\n",
       "      <th>name</th>\n",
       "      <th>display_name</th>\n",
       "    </tr>\n",
       "  </thead>\n",
       "  <tbody>\n",
       "    <tr>\n",
       "      <th>0</th>\n",
       "      <td>POLYGON ((-3.01917 53.43616, -3.01806 53.43323...</td>\n",
       "      <td>53.474989</td>\n",
       "      <td>53.311543</td>\n",
       "      <td>-2.818</td>\n",
       "      <td>-3.019173</td>\n",
       "      <td>271544355</td>\n",
       "      <td>relation</td>\n",
       "      <td>172987</td>\n",
       "      <td>53.407199</td>\n",
       "      <td>-2.99168</td>\n",
       "      <td>boundary</td>\n",
       "      <td>administrative</td>\n",
       "      <td>16</td>\n",
       "      <td>0.670751</td>\n",
       "      <td>city</td>\n",
       "      <td>Liverpool</td>\n",
       "      <td>Liverpool, Liverpool City Region, England, Uni...</td>\n",
       "    </tr>\n",
       "  </tbody>\n",
       "</table>\n",
       "</div>"
      ],
      "text/plain": [
       "                                            geometry  bbox_north  bbox_south  \\\n",
       "0  POLYGON ((-3.01917 53.43616, -3.01806 53.43323...   53.474989   53.311543   \n",
       "\n",
       "   bbox_east  bbox_west   place_id  osm_type  osm_id        lat      lon  \\\n",
       "0     -2.818  -3.019173  271544355  relation  172987  53.407199 -2.99168   \n",
       "\n",
       "      class            type  place_rank  importance addresstype       name  \\\n",
       "0  boundary  administrative          16    0.670751        city  Liverpool   \n",
       "\n",
       "                                        display_name  \n",
       "0  Liverpool, Liverpool City Region, England, Uni...  "
      ]
     },
     "execution_count": 5,
     "metadata": {},
     "output_type": "execute_result"
    }
   ],
   "source": [
    "area = ox.geocode_to_gdf(place_name)\n",
    "area"
   ]
  },
  {
   "cell_type": "markdown",
   "metadata": {},
   "source": [
    "You can also verify its data type and plot it using [**matplotlib**](https://matplotlib.org/) built-in the **GeoPandas** package."
   ]
  },
  {
   "cell_type": "code",
   "execution_count": null,
   "metadata": {},
   "outputs": [],
   "source": [
    "print(type(area))\n",
    "area.plot()"
   ]
  },
  {
   "cell_type": "markdown",
   "metadata": {},
   "source": [
    "Save now this polygon GeoDataFrame into a geojson file, so you can later import it into the geodatabase in ArcGIS Pro."
   ]
  },
  {
   "cell_type": "code",
   "execution_count": 6,
   "metadata": {},
   "outputs": [],
   "source": [
    "area.to_file(workspace_dir + 'liverpool_boundary.geojson', driver='GeoJSON')\n",
    "area = 'liverpool_boundary'"
   ]
  },
  {
   "cell_type": "markdown",
   "metadata": {},
   "source": [
    "Import the geojson file with area of interest into your geodatabase."
   ]
  },
  {
   "cell_type": "code",
   "execution_count": 7,
   "metadata": {},
   "outputs": [
    {
     "data": {
      "text/html": [
       "<div class='gpresult'><h2>Messages</h2><div id='messages' data-messages='[\"Start Time: štvrtok 7. marca 2024 0:51:58\",\"Succeeded at štvrtok 7. marca 2024 0:51:59 (Elapsed Time: 0,85 seconds)\"]' data-show='true'><div id = 'default' /></div></div>"
      ],
      "text/plain": [
       "<Result 'D:/transport_netw_char/transport_netw_char.gdb\\\\liverpool_boundary'>"
      ]
     },
     "execution_count": 7,
     "metadata": {},
     "output_type": "execute_result"
    }
   ],
   "source": [
    "arcpy.conversion.JSONToFeatures(workspace_dir + 'liverpool_boundary.geojson', area, \"POLYGON\")"
   ]
  },
  {
   "cell_type": "markdown",
   "metadata": {},
   "source": [
    "### OSM data"
   ]
  },
  {
   "cell_type": "markdown",
   "metadata": {},
   "source": []
  },
  {
   "cell_type": "code",
   "execution_count": 9,
   "metadata": {},
   "outputs": [
    {
     "data": {
      "text/html": [
       "<div>\n",
       "<style scoped>\n",
       "    .dataframe tbody tr th:only-of-type {\n",
       "        vertical-align: middle;\n",
       "    }\n",
       "\n",
       "    .dataframe tbody tr th {\n",
       "        vertical-align: top;\n",
       "    }\n",
       "\n",
       "    .dataframe thead th {\n",
       "        text-align: right;\n",
       "    }\n",
       "</style>\n",
       "<table border=\"1\" class=\"dataframe\">\n",
       "  <thead>\n",
       "    <tr style=\"text-align: right;\">\n",
       "      <th></th>\n",
       "      <th></th>\n",
       "      <th>railway</th>\n",
       "      <th>geometry</th>\n",
       "      <th>loading_gauge</th>\n",
       "      <th>ref:lor</th>\n",
       "      <th>name</th>\n",
       "      <th>public_transport</th>\n",
       "      <th>ref</th>\n",
       "      <th>train</th>\n",
       "      <th>naptan:AtcoCode</th>\n",
       "      <th>network</th>\n",
       "      <th>...</th>\n",
       "      <th>building</th>\n",
       "      <th>height</th>\n",
       "      <th>min_height</th>\n",
       "      <th>underground</th>\n",
       "      <th>landuse</th>\n",
       "      <th>historic:bridge</th>\n",
       "      <th>highway</th>\n",
       "      <th>surface</th>\n",
       "      <th>ways</th>\n",
       "      <th>type</th>\n",
       "    </tr>\n",
       "    <tr>\n",
       "      <th>element_type</th>\n",
       "      <th>osmid</th>\n",
       "      <th></th>\n",
       "      <th></th>\n",
       "      <th></th>\n",
       "      <th></th>\n",
       "      <th></th>\n",
       "      <th></th>\n",
       "      <th></th>\n",
       "      <th></th>\n",
       "      <th></th>\n",
       "      <th></th>\n",
       "      <th></th>\n",
       "      <th></th>\n",
       "      <th></th>\n",
       "      <th></th>\n",
       "      <th></th>\n",
       "      <th></th>\n",
       "      <th></th>\n",
       "      <th></th>\n",
       "      <th></th>\n",
       "      <th></th>\n",
       "      <th></th>\n",
       "    </tr>\n",
       "  </thead>\n",
       "  <tbody>\n",
       "    <tr>\n",
       "      <th rowspan=\"5\" valign=\"top\">node</th>\n",
       "      <th>24817480</th>\n",
       "      <td>switch</td>\n",
       "      <td>POINT (-2.88837 53.35797)</td>\n",
       "      <td>NaN</td>\n",
       "      <td>NaN</td>\n",
       "      <td>NaN</td>\n",
       "      <td>NaN</td>\n",
       "      <td>NaN</td>\n",
       "      <td>NaN</td>\n",
       "      <td>NaN</td>\n",
       "      <td>NaN</td>\n",
       "      <td>...</td>\n",
       "      <td>NaN</td>\n",
       "      <td>NaN</td>\n",
       "      <td>NaN</td>\n",
       "      <td>NaN</td>\n",
       "      <td>NaN</td>\n",
       "      <td>NaN</td>\n",
       "      <td>NaN</td>\n",
       "      <td>NaN</td>\n",
       "      <td>NaN</td>\n",
       "      <td>NaN</td>\n",
       "    </tr>\n",
       "    <tr>\n",
       "      <th>24817497</th>\n",
       "      <td>switch</td>\n",
       "      <td>POINT (-2.86186 53.35360)</td>\n",
       "      <td>W6A, W7, W8, W9, W10</td>\n",
       "      <td>NW2001</td>\n",
       "      <td>NaN</td>\n",
       "      <td>NaN</td>\n",
       "      <td>NaN</td>\n",
       "      <td>NaN</td>\n",
       "      <td>NaN</td>\n",
       "      <td>NaN</td>\n",
       "      <td>...</td>\n",
       "      <td>NaN</td>\n",
       "      <td>NaN</td>\n",
       "      <td>NaN</td>\n",
       "      <td>NaN</td>\n",
       "      <td>NaN</td>\n",
       "      <td>NaN</td>\n",
       "      <td>NaN</td>\n",
       "      <td>NaN</td>\n",
       "      <td>NaN</td>\n",
       "      <td>NaN</td>\n",
       "    </tr>\n",
       "    <tr>\n",
       "      <th>24825496</th>\n",
       "      <td>stop</td>\n",
       "      <td>POINT (-2.94467 53.40238)</td>\n",
       "      <td>NaN</td>\n",
       "      <td>NaN</td>\n",
       "      <td>Edge Hill</td>\n",
       "      <td>stop_position</td>\n",
       "      <td>3</td>\n",
       "      <td>yes</td>\n",
       "      <td>NaN</td>\n",
       "      <td>NaN</td>\n",
       "      <td>...</td>\n",
       "      <td>NaN</td>\n",
       "      <td>NaN</td>\n",
       "      <td>NaN</td>\n",
       "      <td>NaN</td>\n",
       "      <td>NaN</td>\n",
       "      <td>NaN</td>\n",
       "      <td>NaN</td>\n",
       "      <td>NaN</td>\n",
       "      <td>NaN</td>\n",
       "      <td>NaN</td>\n",
       "    </tr>\n",
       "    <tr>\n",
       "      <th>24825515</th>\n",
       "      <td>station</td>\n",
       "      <td>POINT (-2.92282 53.40522)</td>\n",
       "      <td>NaN</td>\n",
       "      <td>NaN</td>\n",
       "      <td>Wavertree Technology Park</td>\n",
       "      <td>station</td>\n",
       "      <td>NaN</td>\n",
       "      <td>yes</td>\n",
       "      <td>9100WVRTTEC</td>\n",
       "      <td>National Rail</td>\n",
       "      <td>...</td>\n",
       "      <td>NaN</td>\n",
       "      <td>NaN</td>\n",
       "      <td>NaN</td>\n",
       "      <td>NaN</td>\n",
       "      <td>NaN</td>\n",
       "      <td>NaN</td>\n",
       "      <td>NaN</td>\n",
       "      <td>NaN</td>\n",
       "      <td>NaN</td>\n",
       "      <td>NaN</td>\n",
       "    </tr>\n",
       "    <tr>\n",
       "      <th>25296243</th>\n",
       "      <td>stop</td>\n",
       "      <td>POINT (-2.88881 53.35825)</td>\n",
       "      <td>NaN</td>\n",
       "      <td>NaN</td>\n",
       "      <td>Liverpool South Parkway</td>\n",
       "      <td>stop_position</td>\n",
       "      <td>NaN</td>\n",
       "      <td>yes</td>\n",
       "      <td>NaN</td>\n",
       "      <td>NaN</td>\n",
       "      <td>...</td>\n",
       "      <td>NaN</td>\n",
       "      <td>NaN</td>\n",
       "      <td>NaN</td>\n",
       "      <td>NaN</td>\n",
       "      <td>NaN</td>\n",
       "      <td>NaN</td>\n",
       "      <td>NaN</td>\n",
       "      <td>NaN</td>\n",
       "      <td>NaN</td>\n",
       "      <td>NaN</td>\n",
       "    </tr>\n",
       "  </tbody>\n",
       "</table>\n",
       "<p>5 rows × 108 columns</p>\n",
       "</div>"
      ],
      "text/plain": [
       "                       railway                   geometry  \\\n",
       "element_type osmid                                          \n",
       "node         24817480   switch  POINT (-2.88837 53.35797)   \n",
       "             24817497   switch  POINT (-2.86186 53.35360)   \n",
       "             24825496     stop  POINT (-2.94467 53.40238)   \n",
       "             24825515  station  POINT (-2.92282 53.40522)   \n",
       "             25296243     stop  POINT (-2.88881 53.35825)   \n",
       "\n",
       "                              loading_gauge ref:lor  \\\n",
       "element_type osmid                                    \n",
       "node         24817480                   NaN     NaN   \n",
       "             24817497  W6A, W7, W8, W9, W10  NW2001   \n",
       "             24825496                   NaN     NaN   \n",
       "             24825515                   NaN     NaN   \n",
       "             25296243                   NaN     NaN   \n",
       "\n",
       "                                            name public_transport  ref train  \\\n",
       "element_type osmid                                                             \n",
       "node         24817480                        NaN              NaN  NaN   NaN   \n",
       "             24817497                        NaN              NaN  NaN   NaN   \n",
       "             24825496                  Edge Hill    stop_position    3   yes   \n",
       "             24825515  Wavertree Technology Park          station  NaN   yes   \n",
       "             25296243    Liverpool South Parkway    stop_position  NaN   yes   \n",
       "\n",
       "                      naptan:AtcoCode        network  ... building height  \\\n",
       "element_type osmid                                    ...                   \n",
       "node         24817480             NaN            NaN  ...      NaN    NaN   \n",
       "             24817497             NaN            NaN  ...      NaN    NaN   \n",
       "             24825496             NaN            NaN  ...      NaN    NaN   \n",
       "             24825515     9100WVRTTEC  National Rail  ...      NaN    NaN   \n",
       "             25296243             NaN            NaN  ...      NaN    NaN   \n",
       "\n",
       "                      min_height underground landuse historic:bridge highway  \\\n",
       "element_type osmid                                                             \n",
       "node         24817480        NaN         NaN     NaN             NaN     NaN   \n",
       "             24817497        NaN         NaN     NaN             NaN     NaN   \n",
       "             24825496        NaN         NaN     NaN             NaN     NaN   \n",
       "             24825515        NaN         NaN     NaN             NaN     NaN   \n",
       "             25296243        NaN         NaN     NaN             NaN     NaN   \n",
       "\n",
       "                      surface ways type  \n",
       "element_type osmid                       \n",
       "node         24817480     NaN  NaN  NaN  \n",
       "             24817497     NaN  NaN  NaN  \n",
       "             24825496     NaN  NaN  NaN  \n",
       "             24825515     NaN  NaN  NaN  \n",
       "             25296243     NaN  NaN  NaN  \n",
       "\n",
       "[5 rows x 108 columns]"
      ]
     },
     "execution_count": 9,
     "metadata": {},
     "output_type": "execute_result"
    }
   ],
   "source": [
    "# get all types of railways (https://wiki.openstreetmap.org/wiki/Map_features#Railway)\n",
    "tags = {'railway': True}  \n",
    "# get only rails = \"Full sized passenger or freight train tracks in the standard gauge for the country or state.\" \n",
    "#tags = {'railway': 'rail'}  \n",
    "\n",
    "railways = ox.features_from_place(place_name, tags)\n",
    "railways.head()"
   ]
  },
  {
   "cell_type": "code",
   "execution_count": null,
   "metadata": {},
   "outputs": [],
   "source": [
    "print(len(railways))\n",
    "railways.plot()"
   ]
  },
  {
   "cell_type": "code",
   "execution_count": 10,
   "metadata": {},
   "outputs": [
    {
     "name": "stderr",
     "output_type": "stream",
     "text": [
      "c:\\Users\\dzuky\\AppData\\Local\\ESRI\\conda\\envs\\arcgispro-py3-thesis-clone\\lib\\site-packages\\ipykernel\\ipkernel.py:287: DeprecationWarning: `should_run_async` will not call `transform_cell` automatically in the future. Please pass the result to `transformed_cell` argument and any exception that happen during thetransform in `preprocessing_exc_tuple` in IPython 7.17 and above.\n",
      "  and should_run_async(code)\n"
     ]
    }
   ],
   "source": [
    "railways = railways.loc[:,railways.columns.str.contains('addr:|geometry')]"
   ]
  },
  {
   "cell_type": "code",
   "execution_count": 11,
   "metadata": {},
   "outputs": [
    {
     "name": "stdout",
     "output_type": "stream",
     "text": [
      "938\n"
     ]
    },
    {
     "name": "stderr",
     "output_type": "stream",
     "text": [
      "c:\\Users\\dzuky\\AppData\\Local\\ESRI\\conda\\envs\\arcgispro-py3-thesis-clone\\lib\\site-packages\\ipykernel\\ipkernel.py:287: DeprecationWarning: `should_run_async` will not call `transform_cell` automatically in the future. Please pass the result to `transformed_cell` argument and any exception that happen during thetransform in `preprocessing_exc_tuple` in IPython 7.17 and above.\n",
      "  and should_run_async(code)\n"
     ]
    },
    {
     "data": {
      "text/plain": [
       "<AxesSubplot:>"
      ]
     },
     "execution_count": 11,
     "metadata": {},
     "output_type": "execute_result"
    },
    {
     "data": {
      "image/png": "[encoded data removed]",
      "text/plain": [
       "<Figure size 432x288 with 1 Axes>"
      ]
     },
     "metadata": {
      "needs_background": "light"
     },
     "output_type": "display_data"
    }
   ],
   "source": [
    "rails = railways.loc[railways.geometry.type=='LineString']\n",
    "print(len(rails))\n",
    "rails.plot()"
   ]
  },
  {
   "cell_type": "code",
   "execution_count": 12,
   "metadata": {},
   "outputs": [
    {
     "name": "stderr",
     "output_type": "stream",
     "text": [
      "c:\\Users\\dzuky\\AppData\\Local\\ESRI\\conda\\envs\\arcgispro-py3-thesis-clone\\lib\\site-packages\\ipykernel\\ipkernel.py:287: DeprecationWarning: `should_run_async` will not call `transform_cell` automatically in the future. Please pass the result to `transformed_cell` argument and any exception that happen during thetransform in `preprocessing_exc_tuple` in IPython 7.17 and above.\n",
      "  and should_run_async(code)\n"
     ]
    }
   ],
   "source": [
    "rails.to_file(workspace_dir + 'liverpool_rails.geojson', driver='GeoJSON')\n",
    "rails = 'liverpool_rails'"
   ]
  },
  {
   "cell_type": "markdown",
   "metadata": {},
   "source": [
    "Import the geojson file with rails into your geodatabase."
   ]
  },
  {
   "cell_type": "code",
   "execution_count": 13,
   "metadata": {},
   "outputs": [
    {
     "name": "stderr",
     "output_type": "stream",
     "text": [
      "c:\\Users\\dzuky\\AppData\\Local\\ESRI\\conda\\envs\\arcgispro-py3-thesis-clone\\lib\\site-packages\\ipykernel\\ipkernel.py:287: DeprecationWarning: `should_run_async` will not call `transform_cell` automatically in the future. Please pass the result to `transformed_cell` argument and any exception that happen during thetransform in `preprocessing_exc_tuple` in IPython 7.17 and above.\n",
      "  and should_run_async(code)\n"
     ]
    },
    {
     "data": {
      "text/html": [
       "<div class='gpresult'><h2>Messages</h2><div id='messages' data-messages='[\"Start Time: štvrtok 7. marca 2024 0:52:49\",\"Succeeded at štvrtok 7. marca 2024 0:52:50 (Elapsed Time: 0,75 seconds)\"]' data-show='true'><div id = 'default' /></div></div>"
      ],
      "text/plain": [
       "<Result 'D:/transport_netw_char/transport_netw_char.gdb\\\\liverpool_rails'>"
      ]
     },
     "execution_count": 13,
     "metadata": {},
     "output_type": "execute_result"
    }
   ],
   "source": [
    "arcpy.conversion.JSONToFeatures(workspace_dir + 'liverpool_rails.geojson', rails, \"POLYLINE\")"
   ]
  },
  {
   "cell_type": "markdown",
   "metadata": {},
   "source": [
    "## Population data <a id=\"popgrid\"></a>"
   ]
  },
  {
   "cell_type": "markdown",
   "metadata": {},
   "source": [
    "Install necessary libraries."
   ]
  },
  {
   "cell_type": "code",
   "execution_count": null,
   "metadata": {},
   "outputs": [],
   "source": [
    "# %pip install os\n",
    "# %pip install requests\n",
    "# %pip install zipfile"
   ]
  },
  {
   "cell_type": "markdown",
   "metadata": {},
   "source": [
    "Import them."
   ]
  },
  {
   "cell_type": "code",
   "execution_count": 14,
   "metadata": {},
   "outputs": [],
   "source": [
    "import os\n",
    "import requests\n",
    "import zipfile"
   ]
  },
  {
   "cell_type": "markdown",
   "metadata": {},
   "source": [
    "Set parameters and variables for downloading zipped population grid from the eurostat website."
   ]
  },
  {
   "cell_type": "code",
   "execution_count": 15,
   "metadata": {},
   "outputs": [],
   "source": [
    "# URL of the population grid to download\n",
    "url = \"https://ec.europa.eu/eurostat/cache/GISCO/geodatafiles/JRC_GRID_2018.zip\"\n",
    "\n",
    "# Define the file name and path for saving the downloaded file\n",
    "file_name = \"JRC_GRID_2018.zip\"\n",
    "file_path = os.path.join(workspace_dir, file_name)  # Save in the workspace directory"
   ]
  },
  {
   "cell_type": "markdown",
   "metadata": {},
   "source": [
    "Send a GET request to the URL to download the file"
   ]
  },
  {
   "cell_type": "code",
   "execution_count": null,
   "metadata": {},
   "outputs": [],
   "source": [
    "response = requests.get(url)\n",
    "\n",
    "# Check if the request was successful (status code 200)\n",
    "if response.status_code == 200:\n",
    "    # Write the content to a file\n",
    "    with open(file_path, 'wb') as f:\n",
    "        f.write(response.content)\n",
    "    print(f\"File '{file_name}' downloaded successfully!\")\n",
    "else:\n",
    "    print(\"Failed to download the file.\")"
   ]
  },
  {
   "cell_type": "markdown",
   "metadata": {},
   "source": [
    "Extract (unzip) the downloaded file."
   ]
  },
  {
   "cell_type": "code",
   "execution_count": null,
   "metadata": {},
   "outputs": [],
   "source": [
    "with zipfile.ZipFile(file_path, 'r') as zip_ref:\n",
    "    zip_ref.extractall(file_path[:-4] + '/')"
   ]
  },
  {
   "cell_type": "markdown",
   "metadata": {},
   "source": [
    "Save the path to the extracted population grid shapefile itself."
   ]
  },
  {
   "cell_type": "code",
   "execution_count": 16,
   "metadata": {},
   "outputs": [
    {
     "data": {
      "text/plain": [
       "'D:/transport_netw_char/JRC_GRID_2018/JRC_POPULATION_2018.shp'"
      ]
     },
     "execution_count": 16,
     "metadata": {},
     "output_type": "execute_result"
    }
   ],
   "source": [
    "pop_data = file_path[:-4] + '/JRC_POPULATION_2018.shp'\n",
    "pop_data"
   ]
  },
  {
   "cell_type": "markdown",
   "metadata": {},
   "source": [
    "Select the population grid \"pixels\" that intersect with the area of interest. Copy or export these \"pixels\" into your workspace and then don't forget to clear the selection."
   ]
  },
  {
   "cell_type": "code",
   "execution_count": 18,
   "metadata": {},
   "outputs": [],
   "source": [
    "area_selection = arcpy.management.SelectLayerByLocation(pop_data, \"INTERSECT\", area)\n",
    "arcpy.management.CopyFeatures(area_selection, \"pop_data_liverpool\")\n",
    "area_selection = arcpy.management.SelectLayerByAttribute(pop_data, \"CLEAR_SELECTION\")"
   ]
  },
  {
   "cell_type": "markdown",
   "metadata": {},
   "source": [
    "Save the \"pixel\" area size in a new field which will be named ```\"area_orig\"```. You will make a copy of the ```\"Shape_Area\"``` field basically."
   ]
  },
  {
   "cell_type": "code",
   "execution_count": 8,
   "metadata": {},
   "outputs": [
    {
     "ename": "ExecuteError",
     "evalue": "ERROR 000574: Python is not installed.\nERROR 000574: Python is not installed.\nERROR 000574: Python is not installed.\nERROR 000574: Python is not installed.\nERROR 000574: Python is not installed.\nERROR 000574: Python is not installed.\nERROR 000574: Python is not installed.\nERROR 000574: Python is not installed.\nERROR 000574: Python is not installed.\nERROR 000574: Python is not installed.\nERROR 000574: Python is not installed.\nERROR 000574: Python is not installed.\nERROR 000574: Python is not installed.\nERROR 000574: Python is not installed.\nERROR 000574: Python is not installed.\nERROR 000574: Python is not installed.\nERROR 000574: Python is not installed.\nERROR 000574: Python is not installed.\nERROR 000574: Python is not installed.\nERROR 000574: Python is not installed.\nERROR 000574: Python is not installed.\nERROR 000574: Python is not installed.\nERROR 000574: Python is not installed.\nERROR 000574: Python is not installed.\nERROR 000574: Python is not installed.\nERROR 000574: Python is not installed.\nERROR 000574: Python is not installed.\nERROR 000574: Python is not installed.\nERROR 000574: Python is not installed.\nERROR 000574: Python is not installed.\nERROR 000574: Python is not installed.\nERROR 000574: Python is not installed.\nERROR 000574: Python is not installed.\nERROR 000574: Python is not installed.\nERROR 000574: Python is not installed.\nERROR 000574: Python is not installed.\nERROR 000574: Python is not installed.\nERROR 000574: Python is not installed.\nERROR 000574: Python is not installed.\nERROR 000574: Python is not installed.\nERROR 000574: Python is not installed.\nERROR 000574: Python is not installed.\nERROR 000574: Python is not installed.\nERROR 000574: Python is not installed.\nERROR 000574: Python is not installed.\nERROR 000574: Python is not installed.\nERROR 000574: Python is not installed.\nERROR 000574: Python is not installed.\nERROR 000574: Python is not installed.\nERROR 000574: Python is not installed.\nERROR 000574: Python is not installed.\nERROR 000574: Python is not installed.\nERROR 000574: Python is not installed.\nERROR 000574: Python is not installed.\nERROR 000574: Python is not installed.\nERROR 000574: Python is not installed.\nERROR 000574: Python is not installed.\nERROR 000574: Python is not installed.\nERROR 000574: Python is not installed.\nERROR 000574: Python is not installed.\nERROR 000574: Python is not installed.\nERROR 000574: Python is not installed.\nERROR 000574: Python is not installed.\nERROR 000574: Python is not installed.\nERROR 000574: Python is not installed.\nERROR 000574: Python is not installed.\nERROR 000574: Python is not installed.\nERROR 000574: Python is not installed.\nERROR 000574: Python is not installed.\nERROR 000574: Python is not installed.\nERROR 000574: Python is not installed.\nERROR 000574: Python is not installed.\nERROR 000574: Python is not installed.\nERROR 000574: Python is not installed.\nERROR 000574: Python is not installed.\nERROR 000574: Python is not installed.\nERROR 000574: Python is not installed.\nERROR 000574: Python is not installed.\nERROR 000574: Python is not installed.\nERROR 000574: Python is not installed.\nERROR 000574: Python is not installed.\nERROR 000574: Python is not installed.\nERROR 000574: Python is not installed.\nERROR 000574: Python is not installed.\nERROR 000574: Python is not installed.\nERROR 000574: Python is not installed.\nERROR 000574: Python is not installed.\nERROR 000574: Python is not installed.\nERROR 000574: Python is not installed.\nERROR 000574: Python is not installed.\nERROR 000574: Python is not installed.\nERROR 000574: Python is not installed.\nERROR 000574: Python is not installed.\nERROR 000574: Python is not installed.\nERROR 000574: Python is not installed.\nERROR 000574: Python is not installed.\nERROR 000574: Python is not installed.\nERROR 000574: Python is not installed.\nERROR 000574: Python is not installed.\nERROR 000574: Python is not installed.\nERROR 000574: Python is not installed.\nERROR 000574: Python is not installed.\nERROR 000574: Python is not installed.\nERROR 000574: Python is not installed.\nERROR 000574: Python is not installed.\nERROR 000574: Python is not installed.\nERROR 000574: Python is not installed.\nERROR 000574: Python is not installed.\nERROR 000574: Python is not installed.\nERROR 000574: Python is not installed.\nERROR 000574: Python is not installed.\nERROR 000574: Python is not installed.\nERROR 000574: Python is not installed.\nERROR 000574: Python is not installed.\nERROR 000574: Python is not installed.\nERROR 000574: Python is not installed.\nERROR 000574: Python is not installed.\nERROR 000574: Python is not installed.\nERROR 000574: Python is not installed.\nERROR 000574: Python is not installed.\nERROR 000574: Python is not installed.\nERROR 000574: Python is not installed.\nERROR 000574: Python is not installed.\nERROR 000574: Python is not installed.\nERROR 000574: Python is not installed.\nERROR 000574: Python is not installed.\nERROR 000574: Python is not installed.\nERROR 000574: Python is not installed.\nERROR 000574: Python is not installed.\nERROR 000574: Python is not installed.\nERROR 000574: Python is not installed.\nERROR 000574: Python is not installed.\nERROR 000574: Python is not installed.\nERROR 000574: Python is not installed.\nERROR 000574: Python is not installed.\nERROR 000574: Python is not installed.\nERROR 000574: Python is not installed.\nERROR 000574: Python is not installed.\nERROR 000574: Python is not installed.\nERROR 000574: Python is not installed.\nERROR 000574: Python is not installed.\nERROR 000574: Python is not installed.\nERROR 000574: Python is not installed.\nERROR 000574: Python is not installed.\nERROR 000574: Python is not installed.\nERROR 000574: Python is not installed.\nFailed to execute (CalculateField).\n",
     "output_type": "error",
     "traceback": [
      "\u001b[1;31m---------------------------------------------------------------------------\u001b[0m",
      "\u001b[1;31mExecuteError\u001b[0m                              Traceback (most recent call last)",
      "\u001b[1;32m<ipython-input-8-a5c8e48467dd>\u001b[0m in \u001b[0;36m<module>\u001b[1;34m\u001b[0m\n\u001b[0;32m      1\u001b[0m \u001b[0marcpy\u001b[0m\u001b[1;33m.\u001b[0m\u001b[0mmanagement\u001b[0m\u001b[1;33m.\u001b[0m\u001b[0mAddField\u001b[0m\u001b[1;33m(\u001b[0m\u001b[1;34m\"pop_data_liverpool\"\u001b[0m\u001b[1;33m,\u001b[0m \u001b[1;34m\"area_orig\"\u001b[0m\u001b[1;33m,\u001b[0m \u001b[1;34m\"DOUBLE\"\u001b[0m\u001b[1;33m)\u001b[0m\u001b[1;33m\u001b[0m\u001b[1;33m\u001b[0m\u001b[0m\n\u001b[1;32m----> 2\u001b[1;33m \u001b[0marcpy\u001b[0m\u001b[1;33m.\u001b[0m\u001b[0mmanagement\u001b[0m\u001b[1;33m.\u001b[0m\u001b[0mCalculateField\u001b[0m\u001b[1;33m(\u001b[0m\u001b[1;34m\"pop_data_liverpool\"\u001b[0m\u001b[1;33m,\u001b[0m \u001b[1;34m\"area_orig\"\u001b[0m\u001b[1;33m,\u001b[0m \u001b[1;34m'!Shape_Area!'\u001b[0m\u001b[1;33m)\u001b[0m\u001b[1;33m\u001b[0m\u001b[1;33m\u001b[0m\u001b[0m\n\u001b[0m",
      "\u001b[1;32mC:\\Program Files\\ArcGIS\\Pro\\Resources\\ArcPy\\arcpy\\management.py\u001b[0m in \u001b[0;36mCalculateField\u001b[1;34m(in_table, field, expression, expression_type, code_block, field_type, enforce_domains)\u001b[0m\n\u001b[0;32m   5784\u001b[0m         \u001b[1;32mreturn\u001b[0m \u001b[0mretval\u001b[0m\u001b[1;33m\u001b[0m\u001b[1;33m\u001b[0m\u001b[0m\n\u001b[0;32m   5785\u001b[0m     \u001b[1;32mexcept\u001b[0m \u001b[0mException\u001b[0m \u001b[1;32mas\u001b[0m \u001b[0me\u001b[0m\u001b[1;33m:\u001b[0m\u001b[1;33m\u001b[0m\u001b[1;33m\u001b[0m\u001b[0m\n\u001b[1;32m-> 5786\u001b[1;33m         \u001b[1;32mraise\u001b[0m \u001b[0me\u001b[0m\u001b[1;33m\u001b[0m\u001b[1;33m\u001b[0m\u001b[0m\n\u001b[0m\u001b[0;32m   5787\u001b[0m \u001b[1;33m\u001b[0m\u001b[0m\n\u001b[0;32m   5788\u001b[0m \u001b[1;33m@\u001b[0m\u001b[0mgptooldoc\u001b[0m\u001b[1;33m(\u001b[0m\u001b[1;34m'CalculateFields_management'\u001b[0m\u001b[1;33m,\u001b[0m \u001b[1;32mNone\u001b[0m\u001b[1;33m)\u001b[0m\u001b[1;33m\u001b[0m\u001b[1;33m\u001b[0m\u001b[0m\n",
      "\u001b[1;32mC:\\Program Files\\ArcGIS\\Pro\\Resources\\ArcPy\\arcpy\\management.py\u001b[0m in \u001b[0;36mCalculateField\u001b[1;34m(in_table, field, expression, expression_type, code_block, field_type, enforce_domains)\u001b[0m\n\u001b[0;32m   5781\u001b[0m     \u001b[1;32mfrom\u001b[0m \u001b[0marcpy\u001b[0m\u001b[1;33m.\u001b[0m\u001b[0marcobjects\u001b[0m\u001b[1;33m.\u001b[0m\u001b[0marcobjectconversion\u001b[0m \u001b[1;32mimport\u001b[0m \u001b[0mconvertArcObjectToPythonObject\u001b[0m\u001b[1;33m\u001b[0m\u001b[1;33m\u001b[0m\u001b[0m\n\u001b[0;32m   5782\u001b[0m     \u001b[1;32mtry\u001b[0m\u001b[1;33m:\u001b[0m\u001b[1;33m\u001b[0m\u001b[1;33m\u001b[0m\u001b[0m\n\u001b[1;32m-> 5783\u001b[1;33m         \u001b[0mretval\u001b[0m \u001b[1;33m=\u001b[0m \u001b[0mconvertArcObjectToPythonObject\u001b[0m\u001b[1;33m(\u001b[0m\u001b[0mgp\u001b[0m\u001b[1;33m.\u001b[0m\u001b[0mCalculateField_management\u001b[0m\u001b[1;33m(\u001b[0m\u001b[1;33m*\u001b[0m\u001b[0mgp_fixargs\u001b[0m\u001b[1;33m(\u001b[0m\u001b[1;33m(\u001b[0m\u001b[0min_table\u001b[0m\u001b[1;33m,\u001b[0m \u001b[0mfield\u001b[0m\u001b[1;33m,\u001b[0m \u001b[0mexpression\u001b[0m\u001b[1;33m,\u001b[0m \u001b[0mexpression_type\u001b[0m\u001b[1;33m,\u001b[0m \u001b[0mcode_block\u001b[0m\u001b[1;33m,\u001b[0m \u001b[0mfield_type\u001b[0m\u001b[1;33m,\u001b[0m \u001b[0menforce_domains\u001b[0m\u001b[1;33m)\u001b[0m\u001b[1;33m,\u001b[0m \u001b[1;32mTrue\u001b[0m\u001b[1;33m)\u001b[0m\u001b[1;33m)\u001b[0m\u001b[1;33m)\u001b[0m\u001b[1;33m\u001b[0m\u001b[1;33m\u001b[0m\u001b[0m\n\u001b[0m\u001b[0;32m   5784\u001b[0m         \u001b[1;32mreturn\u001b[0m \u001b[0mretval\u001b[0m\u001b[1;33m\u001b[0m\u001b[1;33m\u001b[0m\u001b[0m\n\u001b[0;32m   5785\u001b[0m     \u001b[1;32mexcept\u001b[0m \u001b[0mException\u001b[0m \u001b[1;32mas\u001b[0m \u001b[0me\u001b[0m\u001b[1;33m:\u001b[0m\u001b[1;33m\u001b[0m\u001b[1;33m\u001b[0m\u001b[0m\n",
      "\u001b[1;32mC:\\Program Files\\ArcGIS\\Pro\\Resources\\ArcPy\\arcpy\\geoprocessing\\_base.py\u001b[0m in \u001b[0;36m<lambda>\u001b[1;34m(*args)\u001b[0m\n\u001b[0;32m    510\u001b[0m         \u001b[0mval\u001b[0m \u001b[1;33m=\u001b[0m \u001b[0mgetattr\u001b[0m\u001b[1;33m(\u001b[0m\u001b[0mself\u001b[0m\u001b[1;33m.\u001b[0m\u001b[0m_gp\u001b[0m\u001b[1;33m,\u001b[0m \u001b[0mattr\u001b[0m\u001b[1;33m)\u001b[0m\u001b[1;33m\u001b[0m\u001b[1;33m\u001b[0m\u001b[0m\n\u001b[0;32m    511\u001b[0m         \u001b[1;32mif\u001b[0m \u001b[0mcallable\u001b[0m\u001b[1;33m(\u001b[0m\u001b[0mval\u001b[0m\u001b[1;33m)\u001b[0m\u001b[1;33m:\u001b[0m\u001b[1;33m\u001b[0m\u001b[1;33m\u001b[0m\u001b[0m\n\u001b[1;32m--> 512\u001b[1;33m             \u001b[1;32mreturn\u001b[0m \u001b[1;32mlambda\u001b[0m \u001b[1;33m*\u001b[0m\u001b[0margs\u001b[0m\u001b[1;33m:\u001b[0m \u001b[0mval\u001b[0m\u001b[1;33m(\u001b[0m\u001b[1;33m*\u001b[0m\u001b[0mgp_fixargs\u001b[0m\u001b[1;33m(\u001b[0m\u001b[0margs\u001b[0m\u001b[1;33m,\u001b[0m \u001b[1;32mTrue\u001b[0m\u001b[1;33m)\u001b[0m\u001b[1;33m)\u001b[0m\u001b[1;33m\u001b[0m\u001b[1;33m\u001b[0m\u001b[0m\n\u001b[0m\u001b[0;32m    513\u001b[0m         \u001b[1;32melse\u001b[0m\u001b[1;33m:\u001b[0m\u001b[1;33m\u001b[0m\u001b[1;33m\u001b[0m\u001b[0m\n\u001b[0;32m    514\u001b[0m             \u001b[1;32mreturn\u001b[0m \u001b[0mconvertArcObjectToPythonObject\u001b[0m\u001b[1;33m(\u001b[0m\u001b[0mval\u001b[0m\u001b[1;33m)\u001b[0m\u001b[1;33m\u001b[0m\u001b[1;33m\u001b[0m\u001b[0m\n",
      "\u001b[1;31mExecuteError\u001b[0m: ERROR 000574: Python is not installed.\nERROR 000574: Python is not installed.\nERROR 000574: Python is not installed.\nERROR 000574: Python is not installed.\nERROR 000574: Python is not installed.\nERROR 000574: Python is not installed.\nERROR 000574: Python is not installed.\nERROR 000574: Python is not installed.\nERROR 000574: Python is not installed.\nERROR 000574: Python is not installed.\nERROR 000574: Python is not installed.\nERROR 000574: Python is not installed.\nERROR 000574: Python is not installed.\nERROR 000574: Python is not installed.\nERROR 000574: Python is not installed.\nERROR 000574: Python is not installed.\nERROR 000574: Python is not installed.\nERROR 000574: Python is not installed.\nERROR 000574: Python is not installed.\nERROR 000574: Python is not installed.\nERROR 000574: Python is not installed.\nERROR 000574: Python is not installed.\nERROR 000574: Python is not installed.\nERROR 000574: Python is not installed.\nERROR 000574: Python is not installed.\nERROR 000574: Python is not installed.\nERROR 000574: Python is not installed.\nERROR 000574: Python is not installed.\nERROR 000574: Python is not installed.\nERROR 000574: Python is not installed.\nERROR 000574: Python is not installed.\nERROR 000574: Python is not installed.\nERROR 000574: Python is not installed.\nERROR 000574: Python is not installed.\nERROR 000574: Python is not installed.\nERROR 000574: Python is not installed.\nERROR 000574: Python is not installed.\nERROR 000574: Python is not installed.\nERROR 000574: Python is not installed.\nERROR 000574: Python is not installed.\nERROR 000574: Python is not installed.\nERROR 000574: Python is not installed.\nERROR 000574: Python is not installed.\nERROR 000574: Python is not installed.\nERROR 000574: Python is not installed.\nERROR 000574: Python is not installed.\nERROR 000574: Python is not installed.\nERROR 000574: Python is not installed.\nERROR 000574: Python is not installed.\nERROR 000574: Python is not installed.\nERROR 000574: Python is not installed.\nERROR 000574: Python is not installed.\nERROR 000574: Python is not installed.\nERROR 000574: Python is not installed.\nERROR 000574: Python is not installed.\nERROR 000574: Python is not installed.\nERROR 000574: Python is not installed.\nERROR 000574: Python is not installed.\nERROR 000574: Python is not installed.\nERROR 000574: Python is not installed.\nERROR 000574: Python is not installed.\nERROR 000574: Python is not installed.\nERROR 000574: Python is not installed.\nERROR 000574: Python is not installed.\nERROR 000574: Python is not installed.\nERROR 000574: Python is not installed.\nERROR 000574: Python is not installed.\nERROR 000574: Python is not installed.\nERROR 000574: Python is not installed.\nERROR 000574: Python is not installed.\nERROR 000574: Python is not installed.\nERROR 000574: Python is not installed.\nERROR 000574: Python is not installed.\nERROR 000574: Python is not installed.\nERROR 000574: Python is not installed.\nERROR 000574: Python is not installed.\nERROR 000574: Python is not installed.\nERROR 000574: Python is not installed.\nERROR 000574: Python is not installed.\nERROR 000574: Python is not installed.\nERROR 000574: Python is not installed.\nERROR 000574: Python is not installed.\nERROR 000574: Python is not installed.\nERROR 000574: Python is not installed.\nERROR 000574: Python is not installed.\nERROR 000574: Python is not installed.\nERROR 000574: Python is not installed.\nERROR 000574: Python is not installed.\nERROR 000574: Python is not installed.\nERROR 000574: Python is not installed.\nERROR 000574: Python is not installed.\nERROR 000574: Python is not installed.\nERROR 000574: Python is not installed.\nERROR 000574: Python is not installed.\nERROR 000574: Python is not installed.\nERROR 000574: Python is not installed.\nERROR 000574: Python is not installed.\nERROR 000574: Python is not installed.\nERROR 000574: Python is not installed.\nERROR 000574: Python is not installed.\nERROR 000574: Python is not installed.\nERROR 000574: Python is not installed.\nERROR 000574: Python is not installed.\nERROR 000574: Python is not installed.\nERROR 000574: Python is not installed.\nERROR 000574: Python is not installed.\nERROR 000574: Python is not installed.\nERROR 000574: Python is not installed.\nERROR 000574: Python is not installed.\nERROR 000574: Python is not installed.\nERROR 000574: Python is not installed.\nERROR 000574: Python is not installed.\nERROR 000574: Python is not installed.\nERROR 000574: Python is not installed.\nERROR 000574: Python is not installed.\nERROR 000574: Python is not installed.\nERROR 000574: Python is not installed.\nERROR 000574: Python is not installed.\nERROR 000574: Python is not installed.\nERROR 000574: Python is not installed.\nERROR 000574: Python is not installed.\nERROR 000574: Python is not installed.\nERROR 000574: Python is not installed.\nERROR 000574: Python is not installed.\nERROR 000574: Python is not installed.\nERROR 000574: Python is not installed.\nERROR 000574: Python is not installed.\nERROR 000574: Python is not installed.\nERROR 000574: Python is not installed.\nERROR 000574: Python is not installed.\nERROR 000574: Python is not installed.\nERROR 000574: Python is not installed.\nERROR 000574: Python is not installed.\nERROR 000574: Python is not installed.\nERROR 000574: Python is not installed.\nERROR 000574: Python is not installed.\nERROR 000574: Python is not installed.\nERROR 000574: Python is not installed.\nERROR 000574: Python is not installed.\nERROR 000574: Python is not installed.\nERROR 000574: Python is not installed.\nERROR 000574: Python is not installed.\nERROR 000574: Python is not installed.\nERROR 000574: Python is not installed.\nERROR 000574: Python is not installed.\nERROR 000574: Python is not installed.\nFailed to execute (CalculateField).\n"
     ]
    }
   ],
   "source": [
    "arcpy.management.AddField(\"pop_data_liverpool\", \"area_orig\", \"DOUBLE\")\n",
    "arcpy.management.CalculateField(\"pop_data_liverpool\", \"area_orig\", '!Shape_Area!')"
   ]
  },
  {
   "cell_type": "markdown",
   "metadata": {},
   "source": [
    "Clip the copied/exported population grid \"pixels\" by the area of interest."
   ]
  },
  {
   "cell_type": "code",
   "execution_count": null,
   "metadata": {},
   "outputs": [],
   "source": [
    "arcpy.analysis.Clip(\"pop_data_liverpool\", area, \"clipped_pop_data\")\n",
    "pop_data = \"clipped_pop_data\""
   ]
  },
  {
   "cell_type": "markdown",
   "metadata": {},
   "source": [
    "Add a new field named ```\"P_2018_orig\"``` and populate it with the current population."
   ]
  },
  {
   "cell_type": "code",
   "execution_count": null,
   "metadata": {},
   "outputs": [],
   "source": [
    "arcpy.management.AddField(pop_data, \"P_2018_orig\", \"DOUBLE\")\n",
    "arcpy.management.CalculateField(pop_data, \"P_2018_orig\", '(!TOT_P_2018!/!area_orig!)*!Shape_Area!')"
   ]
  },
  {
   "cell_type": "markdown",
   "metadata": {},
   "source": [
    "## Hexagonal grid <a id=\"hex\"></a>"
   ]
  },
  {
   "cell_type": "markdown",
   "metadata": {},
   "source": [
    "Generate a hexagonal grid of hexagon size 10 $km^2$ over the area of interest and then clip it by its polygon layer."
   ]
  },
  {
   "cell_type": "code",
   "execution_count": null,
   "metadata": {},
   "outputs": [],
   "source": [
    "size = \"10 SquareKilometers\"\n",
    "arcpy.management.GenerateTessellation(\"hex_grid\", area, \"HEXAGON\", size)\n",
    "arcpy.analysis.Clip(\"hex_grid\", area, \"hex_gr\")"
   ]
  },
  {
   "cell_type": "markdown",
   "metadata": {},
   "source": [
    "Field ```\"area_orig\"``` will contain the area size of current clipped \"pixels\"."
   ]
  },
  {
   "cell_type": "code",
   "execution_count": null,
   "metadata": {},
   "outputs": [],
   "source": [
    "arcpy.management.CalculateField(pop_data, \"area_orig\", '!Shape_Area!')"
   ]
  },
  {
   "cell_type": "markdown",
   "metadata": {},
   "source": [
    "Now you'll get the population information into the hexagons. Intersect first the population grid by the hexagonal grid."
   ]
  },
  {
   "cell_type": "code",
   "execution_count": null,
   "metadata": {},
   "outputs": [],
   "source": [
    "arcpy.analysis.Intersect([pop_data, \"hex_gr\"], \"pop_data_isect\", \"ALL\")"
   ]
  },
  {
   "cell_type": "markdown",
   "metadata": {},
   "source": [
    "Add field into the intersected population grid's attribute table and calculate there population size using the same principle as it was used when calculating population after clipping."
   ]
  },
  {
   "cell_type": "code",
   "execution_count": null,
   "metadata": {},
   "outputs": [],
   "source": [
    "arcpy.management.AddField(\"pop_data_isect\", \"new_pop2018\", \"DOUBLE\")\n",
    "arcpy.management.CalculateField(\"pop_data_isect\", \"new_pop2018\", '(!P_2018_orig!/!area_orig!)*!Shape_Area!')"
   ]
  },
  {
   "cell_type": "markdown",
   "metadata": {},
   "source": [
    "Dissolve the population grid's \"pixels\" by hexagon's ID while summing the ```\"new_pop2018\"``` field and then join this field to the hexagonal grid layer."
   ]
  },
  {
   "cell_type": "code",
   "execution_count": null,
   "metadata": {},
   "outputs": [],
   "source": [
    "arcpy.management.Dissolve(\"pop_data_isect\", \"pop_data_isect_diss\", \"FID_hex_gr\", [[\"new_pop2018\",\"SUM\"]])\n",
    "arcpy.management.JoinField(\"hex_gr\", \"OBJECTID\", \"pop_data_isect_diss\", \"FID_hex_gr\", [\"SUM_new_pop2018\"])"
   ]
  },
  {
   "cell_type": "code",
   "execution_count": null,
   "metadata": {},
   "outputs": [],
   "source": [
    "no_people = arcpy.management.SelectLayerByAttribute(\"hex_gr\", \"NEW_SELECTION\", \"SUM_new_pop2018 IS NULL\")\n",
    "arcpy.management.CalculateField(no_people, \"SUM_new_pop2018\", '0.0')\n",
    "arcpy.management.SelectLayerByAttribute(\"hex_gr\", \"CLEAR_SELECTION\")"
   ]
  },
  {
   "cell_type": "markdown",
   "metadata": {},
   "source": [
    "Cut the roads with hexagonal grid and dissolve them by hexagon's ID."
   ]
  },
  {
   "cell_type": "code",
   "execution_count": null,
   "metadata": {},
   "outputs": [],
   "source": [
    "arcpy.analysis.Intersect([rails, \"hex_gr\"], \"rl_isect\", \"ONLY_FID\")\n",
    "arcpy.management.Dissolve(\"rl_isect\", \"rl_isect_diss\", \"FID_hex_gr\")"
   ]
  },
  {
   "cell_type": "markdown",
   "metadata": {},
   "source": [
    "Save the roads length in each hexagon by creating new field named ```\"rd_length\"``` and populating it with the values from the ```\"Shape_Length\"``` field. Join this information to the hexagonal grid layer."
   ]
  },
  {
   "cell_type": "code",
   "execution_count": null,
   "metadata": {},
   "outputs": [],
   "source": [
    "arcpy.management.AddField(\"rl_isect_diss\", \"rl_length\", \"DOUBLE\")\n",
    "arcpy.management.CalculateField(\"rl_isect_diss\", \"rl_length\", '!Shape_Length!')\n",
    "arcpy.management.JoinField(\"hex_gr\", \"OBJECTID\", \"rl_isect_diss\", \"FID_hex_gr\", [\"rl_length\"])"
   ]
  },
  {
   "cell_type": "code",
   "execution_count": null,
   "metadata": {},
   "outputs": [],
   "source": [
    "no_rails = arcpy.management.SelectLayerByAttribute(\"hex_gr\", \"NEW_SELECTION\", \"rl_length IS NULL\")\n",
    "arcpy.management.CalculateField(no_rails, \"rl_length\", '0.0')\n",
    "arcpy.management.SelectLayerByAttribute(\"hex_gr\", \"CLEAR_SELECTION\")"
   ]
  },
  {
   "cell_type": "markdown",
   "metadata": {},
   "source": [
    "## Density Calculation <a id=\"calc\"></a>"
   ]
  },
  {
   "cell_type": "markdown",
   "metadata": {},
   "source": [
    "Now the hexagonal grid contains all the information you need to calculate both roads densities. Add new fields for these. Remember that the default units are $m$ and $m^2$ and the units of densities are *n* $km$ of roads per 1 $km^2$ of area and *n* $km$ of roads per 1 inhabitant."
   ]
  },
  {
   "cell_type": "code",
   "execution_count": null,
   "metadata": {},
   "outputs": [],
   "source": [
    "arcpy.management.AddFields(\"hex_gr\", [[\"rl_density\", \"DOUBLE\"], [\"rl_per_capita\", \"DOUBLE\"]])"
   ]
  },
  {
   "cell_type": "code",
   "execution_count": null,
   "metadata": {},
   "outputs": [],
   "source": [
    "arcpy.management.CalculateField(\"hex_gr\", \"rl_density\", '(!rl_length!/1000)/(!Shape_Area!/1000000)')"
   ]
  },
  {
   "cell_type": "code",
   "execution_count": null,
   "metadata": {},
   "outputs": [],
   "source": [
    "fields = [\"rl_per_capita\", \"rl_length\", \"SUM_new_pop2018\"]\n",
    "\n",
    "with arcpy.da.UpdateCursor(\"hex_gr\", fields) as cursor:\n",
    "     for row in cursor:\n",
    "        if (row[2] == 0.0):\n",
    "            row[0] = 0.0\n",
    "        else:\n",
    "            row[0] = row[1] / row[2]\n",
    "\n",
    "        cursor.updateRow(row)"
   ]
  },
  {
   "cell_type": "markdown",
   "metadata": {},
   "source": [
    "## Visualization <a id=\"vis\"></a>"
   ]
  },
  {
   "cell_type": "markdown",
   "metadata": {},
   "source": []
  }
 ],
 "metadata": {
  "hide_input": false,
  "kernelspec": {
   "display_name": "ArcGISPro",
   "language": "Python",
   "name": "python3"
  },
  "language_info": {
   "codemirror_mode": {
    "name": "ipython",
    "version": 3
   },
   "file_extension": ".py",
   "mimetype": "text/x-python",
   "name": "python",
   "nbconvert_exporter": "python",
   "pygments_lexer": "ipython3",
   "version": "3.9.11"
  }
 },
 "nbformat": 4,
 "nbformat_minor": 2
}

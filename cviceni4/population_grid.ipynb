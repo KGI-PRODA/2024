{
 "cells": [
  {
   "cell_type": "code",
   "execution_count": 1,
   "metadata": {},
   "outputs": [
    {
     "name": "stdout",
     "output_type": "stream",
     "text": [
      "Hello world!\n"
     ]
    }
   ],
   "source": [
    "print(\"Hello world!\")"
   ]
  },
  {
   "cell_type": "markdown",
   "metadata": {},
   "source": [
    "No, tak uvidzime, kam sa dostanem s touto diplomkou. Jezis, odovzdavam Ti tuto pracu, bud prosim so mnou, oslav sa, ako to Ty vies. Amen"
   ]
  },
  {
   "cell_type": "markdown",
   "metadata": {},
   "source": [
    "Name:        EU grid population\n",
    "\n",
    "Purpose:     The purpose of this script is to calculate density of OpenStreetMap (OSM) road/railway network of chosen area per area and per capita.\n",
    "It calculates two indicators:\n",
    "rd/rlw_density (roads/railways length in km per 1 km2 of area),\n",
    "rd/rlw_per_capita (roads/railways length in m per 1 inhabitant).\n",
    "\n",
    "Author:      Adam Tóth\n",
    "\n",
    "This script is a part of bachelor thesis \"Possibilities of calculation characteristics of the transport\n",
    "network of states and cities\"\n",
    "supervisor: doc. Ing. Zdena Dobešová, Ph.D.\n",
    "Department of Geoinformatics, Faculty of Science, Palacký University in Olomouc, Czech republic\n",
    "\n",
    "Created:     21.03.2022"
   ]
  },
  {
   "cell_type": "code",
   "execution_count": 2,
   "metadata": {},
   "outputs": [
    {
     "ename": "RuntimeError",
     "evalue": "The Product License has not been initialized.",
     "output_type": "error",
     "traceback": [
      "\u001b[1;31m---------------------------------------------------------------------------\u001b[0m",
      "\u001b[1;31mRuntimeError\u001b[0m                              Traceback (most recent call last)",
      "\u001b[1;32m<ipython-input-2-89133ba226d7>\u001b[0m in \u001b[0;36m<module>\u001b[1;34m\u001b[0m\n\u001b[1;32m----> 1\u001b[1;33m \u001b[1;32mimport\u001b[0m \u001b[0marcpy\u001b[0m\u001b[1;33m\u001b[0m\u001b[1;33m\u001b[0m\u001b[0m\n\u001b[0m\u001b[0;32m      2\u001b[0m \u001b[0marcpy\u001b[0m\u001b[1;33m.\u001b[0m\u001b[0menv\u001b[0m\u001b[1;33m.\u001b[0m\u001b[0moverwriteOutput\u001b[0m \u001b[1;33m=\u001b[0m \u001b[1;32mTrue\u001b[0m\u001b[1;33m\u001b[0m\u001b[1;33m\u001b[0m\u001b[0m\n\u001b[0;32m      3\u001b[0m \u001b[0mprint\u001b[0m\u001b[1;33m(\u001b[0m\u001b[1;34m\"The script has started!\"\u001b[0m\u001b[1;33m)\u001b[0m\u001b[1;33m\u001b[0m\u001b[1;33m\u001b[0m\u001b[0m\n",
      "\u001b[1;32mC:\\Program Files\\ArcGIS\\Pro\\Resources\\ArcPy\\arcpy\\__init__.py\u001b[0m in \u001b[0;36m<module>\u001b[1;34m\u001b[0m\n\u001b[0;32m     75\u001b[0m     \u001b[1;32mimport\u001b[0m \u001b[0m_initagsenv\u001b[0m\u001b[1;33m\u001b[0m\u001b[1;33m\u001b[0m\u001b[0m\n\u001b[0;32m     76\u001b[0m \u001b[1;33m\u001b[0m\u001b[0m\n\u001b[1;32m---> 77\u001b[1;33m \u001b[1;32mfrom\u001b[0m \u001b[0marcpy\u001b[0m\u001b[1;33m.\u001b[0m\u001b[0mgeoprocessing\u001b[0m \u001b[1;32mimport\u001b[0m \u001b[0mgp\u001b[0m\u001b[1;33m\u001b[0m\u001b[1;33m\u001b[0m\u001b[0m\n\u001b[0m\u001b[0;32m     78\u001b[0m \u001b[1;32mfrom\u001b[0m \u001b[0marcpy\u001b[0m\u001b[1;33m.\u001b[0m\u001b[0mgeoprocessing\u001b[0m \u001b[1;32mimport\u001b[0m \u001b[0menv\u001b[0m\u001b[1;33m\u001b[0m\u001b[1;33m\u001b[0m\u001b[0m\n\u001b[0;32m     79\u001b[0m \u001b[1;32mfrom\u001b[0m \u001b[0marcpy\u001b[0m\u001b[1;33m.\u001b[0m\u001b[0mgeoprocessing\u001b[0m\u001b[1;33m.\u001b[0m\u001b[0m_base\u001b[0m \u001b[1;32mimport\u001b[0m \u001b[0mgptooldoc\u001b[0m \u001b[1;32mas\u001b[0m \u001b[0m_gptooldoc\u001b[0m\u001b[1;33m\u001b[0m\u001b[1;33m\u001b[0m\u001b[0m\n",
      "\u001b[1;32mC:\\Program Files\\ArcGIS\\Pro\\Resources\\ArcPy\\arcpy\\geoprocessing\\__init__.py\u001b[0m in \u001b[0;36m<module>\u001b[1;34m\u001b[0m\n\u001b[0;32m     12\u001b[0m \u001b[1;31m#\u001b[0m\u001b[1;33m\u001b[0m\u001b[1;33m\u001b[0m\u001b[0m\n\u001b[0;32m     13\u001b[0m \u001b[1;31m#email: contracts@esri.com\u001b[0m\u001b[1;33m\u001b[0m\u001b[1;33m\u001b[0m\u001b[0m\n\u001b[1;32m---> 14\u001b[1;33m \u001b[1;32mfrom\u001b[0m \u001b[1;33m.\u001b[0m\u001b[0m_base\u001b[0m \u001b[1;32mimport\u001b[0m \u001b[1;33m*\u001b[0m\u001b[1;33m\u001b[0m\u001b[1;33m\u001b[0m\u001b[0m\n\u001b[0m",
      "\u001b[1;32mC:\\Program Files\\ArcGIS\\Pro\\Resources\\ArcPy\\arcpy\\geoprocessing\\_base.py\u001b[0m in \u001b[0;36m<module>\u001b[1;34m\u001b[0m\n\u001b[0;32m     12\u001b[0m \u001b[1;31m#\u001b[0m\u001b[1;33m\u001b[0m\u001b[1;33m\u001b[0m\u001b[0m\n\u001b[0;32m     13\u001b[0m \u001b[1;31m#email: contracts@esri.com\u001b[0m\u001b[1;33m\u001b[0m\u001b[1;33m\u001b[0m\u001b[0m\n\u001b[1;32m---> 14\u001b[1;33m \u001b[1;32mimport\u001b[0m \u001b[0marcgisscripting\u001b[0m\u001b[1;33m\u001b[0m\u001b[1;33m\u001b[0m\u001b[0m\n\u001b[0m\u001b[0;32m     15\u001b[0m \u001b[1;32mimport\u001b[0m \u001b[0mfunctools\u001b[0m\u001b[1;33m\u001b[0m\u001b[1;33m\u001b[0m\u001b[0m\n\u001b[0;32m     16\u001b[0m \u001b[1;33m\u001b[0m\u001b[0m\n",
      "\u001b[1;32mc:\\Users\\dzuky\\AppData\\Local\\ESRI\\conda\\envs\\arcgispro-py3-thesis-clone\\lib\\site-packages\\arcgisscripting\\__init__.py\u001b[0m in \u001b[0;36m<module>\u001b[1;34m\u001b[0m\n\u001b[0;32m    129\u001b[0m \u001b[1;33m\u001b[0m\u001b[0m\n\u001b[0;32m    130\u001b[0m \u001b[1;33m\u001b[0m\u001b[0m\n\u001b[1;32m--> 131\u001b[1;33m \u001b[1;32mfrom\u001b[0m \u001b[1;33m.\u001b[0m\u001b[0m_arcgisscripting\u001b[0m \u001b[1;32mimport\u001b[0m \u001b[1;33m*\u001b[0m\u001b[1;33m\u001b[0m\u001b[1;33m\u001b[0m\u001b[0m\n\u001b[0m\u001b[0;32m    132\u001b[0m \u001b[1;32mfrom\u001b[0m \u001b[1;33m.\u001b[0m\u001b[0m_arcgisscripting\u001b[0m \u001b[1;32mimport\u001b[0m \u001b[0m_addTimeInterval\u001b[0m\u001b[1;33m,\u001b[0m \u001b[0m_analyzeForSD\u001b[0m\u001b[1;33m,\u001b[0m \u001b[0m_attachLocator\u001b[0m\u001b[1;33m,\u001b[0m\u001b[0;31m \u001b[0m\u001b[0;31m\\\u001b[0m\u001b[1;33m\u001b[0m\u001b[1;33m\u001b[0m\u001b[0m\n\u001b[0;32m    133\u001b[0m     \u001b[0m_convertWebMapToMapDocument\u001b[0m\u001b[1;33m,\u001b[0m \u001b[0m_createGISServerConnectionFile\u001b[0m\u001b[1;33m,\u001b[0m\u001b[0;31m \u001b[0m\u001b[0;31m\\\u001b[0m\u001b[1;33m\u001b[0m\u001b[1;33m\u001b[0m\u001b[0m\n",
      "\u001b[1;31mRuntimeError\u001b[0m: The Product License has not been initialized."
     ]
    }
   ],
   "source": [
    "import arcpy\n",
    "arcpy.env.overwriteOutput = True\n",
    "print(\"The script has started!\")"
   ]
  },
  {
   "cell_type": "code",
   "execution_count": null,
   "metadata": {},
   "outputs": [],
   "source": [
    "print(\"part 2: data paths\")\n",
    "\n",
    "data = \"D:/diplomka/diplomka/Default.gdb/osm_roads_clipped\"\n",
    "pop_data = \"D:/3.ZS/bakalarka/EU_POP_GRID_2018/JRC_POPULATION_2018.shp\"\n",
    "area = \"D:/diplomka/diplomka/Default.gdb/main_FI003L4_TURKU_UA2018_Boundary\"\n",
    "hex_or_own = \"false\"\n",
    "size = \"10 SquareKilometers\"\n",
    "own_layer = \"\"\n",
    "workspace = \"D:/diplomka/diplomka/Default.gdb\"\n",
    "cor_sys_string = 'PROJCS[\"ETRS_1989_LAEA\",GEOGCS[\"GCS_ETRS_1989\",DATUM[\"D_ETRS_1989\",SPHEROID[\"GRS_1980\",6378137.0,298.257222101]],PRIMEM[\"Greenwich\",0.0],UNIT[\"Degree\",0.0174532925199433]],PROJECTION[\"Lambert_Azimuthal_Equal_Area\"],PARAMETER[\"False_Easting\",4321000.0],PARAMETER[\"False_Northing\",3210000.0],PARAMETER[\"Central_Meridian\",10.0],PARAMETER[\"Latitude_Of_Origin\",52.0],UNIT[\"Meter\",1.0]]'\n",
    "arcpy.env.workspace = workspace\n",
    "\n",
    "print(\"paths and workspace set\")"
   ]
  },
  {
   "cell_type": "code",
   "execution_count": null,
   "metadata": {},
   "outputs": [],
   "source": [
    "print(\"part 3: preparing population grid\")\n",
    "\n",
    "control_selection = arcpy.management.SelectLayerByLocation(pop_data, \"INTERSECT\", area)\n",
    "arcpy.management.CopyFeatures(control_selection, \"pop_data_copy\")\n",
    "control_selection = arcpy.management.SelectLayerByAttribute(pop_data, \"CLEAR_SELECTION\")\n",
    "                        \n",
    "arcpy.management.AddField(\"pop_data_copy\", \"area_orig\", \"DOUBLE\")\n",
    "arcpy.management.CalculateField(\"pop_data_copy\", \"area_orig\", '!Shape_Area!')\n",
    "arcpy.analysis.Clip(\"pop_data_copy\", area, \"clipped_pop_data\")\n",
    "arcpy.management.AddField(\"clipped_pop_data\", \"P_2018_orig\", \"DOUBLE\")\n",
    "arcpy.management.CalculateField(\"clipped_pop_data\", \"P_2018_orig\", '(!TOT_P_2018!/!area_orig!)*!Shape_Area!')\n",
    "\n",
    "pop_data = workspace + \"/\" + \"clipped_pop_data\"\n",
    "\n",
    "print(\"Your population data layer is clipped.\")"
   ]
  },
  {
   "cell_type": "code",
   "execution_count": null,
   "metadata": {},
   "outputs": [],
   "source": [
    "print(\"part 4: intersecting hexagonal and population grid\")\n",
    "\n",
    "arcpy.management.GenerateTessellation(\"hex_grid\", area, \"HEXAGON\", size)\n",
    "arcpy.analysis.Clip(\"hex_grid\", area, \"hex_gr\")\n",
    "\n",
    "arcpy.management.CalculateField(pop_data, \"area_orig\", '!Shape_Area!')\n",
    "arcpy.analysis.Intersect([pop_data, \"hex_gr\"], \"pop_data_isect\", \"ALL\")\n",
    "arcpy.management.AddField(\"pop_data_isect\", \"new_pop2018\", \"DOUBLE\")\n",
    "arcpy.management.CalculateField(\"pop_data_isect\", \"new_pop2018\", '(!P_2018_orig!/!area_orig!)*!Shape_Area!')\n",
    "arcpy.management.Dissolve(\"pop_data_isect\", \"pop_data_isect_diss\", \"FID_hex_gr\", [[\"new_pop2018\",\"SUM\"]])\n",
    "\n",
    "print(\"Population in each hexagon calculated from 2018 population grid\")"
   ]
  },
  {
   "cell_type": "code",
   "execution_count": null,
   "metadata": {},
   "outputs": [],
   "source": [
    "print(\"part 5: preparing and cutting roads layer\")\n",
    "\n",
    "selected_features = arcpy.management.SelectLayerByAttribute(data, \"NEW_SELECTION\", \"code > 5110 And code < 5136\")\n",
    "arcpy.conversion.FeatureClassToFeatureClass(selected_features, workspace, \"lines_export\")\n",
    "selected_features = arcpy.management.SelectLayerByAttribute(data, \"CLEAR_SELECTION\")\n",
    "\n",
    "arcpy.analysis.Intersect([\"lines_export\", \"hex_gr\"], \"rd_isect\", \"ONLY_FID\")\n",
    "arcpy.management.Dissolve(\"rd_isect\", \"rd_isect_diss\", \"FID_hex_gr\")\n",
    "\n",
    "print(\"Roads were cut and dissolved by hexagonal grid\")\n"
   ]
  },
  {
   "cell_type": "code",
   "execution_count": null,
   "metadata": {},
   "outputs": [],
   "source": [
    "print(\"part 6: adding information about population and road length to the hexagonal grid\")\n",
    "\n",
    "arcpy.management.JoinField(\"hex_gr\", \"OBJECTID\", \"pop_data_isect_diss\", \"FID_hex_gr\", [\"SUM_new_pop2018\"])\n",
    "\n",
    "arcpy.management.AddField(\"rd_isect_diss\", \"rd_length\", \"DOUBLE\")\n",
    "arcpy.management.CalculateField(\"rd_isect_diss\", \"rd_length\", '!Shape_Length!')\n",
    "arcpy.management.JoinField(\"hex_gr\", \"OBJECTID\", \"rd_isect_diss\", \"FID_hex_gr\", [\"rd_length\"])\n",
    "\n",
    "print(\"Join successful\")"
   ]
  },
  {
   "cell_type": "code",
   "execution_count": null,
   "metadata": {},
   "outputs": [],
   "source": [
    "print(\"part 7: calculating roads density per capita and per square km\")\n",
    "\n",
    "arcpy.management.AddFields(\"hex_gr\", [[\"rd_density\", \"DOUBLE\"], [\"rd_per_capita\", \"DOUBLE\"]])\n",
    "print(\"fields added\")\n",
    "\n",
    "arcpy.management.CalculateField(\"hex_gr\", \"rd_density\", '(!rd_length!/1000)/(!Shape_Area!/1000000)')\n",
    "print(\"areal density done\")\n",
    "\n",
    "arcpy.management.CalculateField(\"hex_gr\", \"rd_per_capita\", '!rd_length!/!SUM_new_pop2018!')\n",
    "print(\"population density done\")\n",
    "\n",
    "print(\"Roads density calculated\")"
   ]
  }
 ],
 "metadata": {
  "kernelspec": {
   "display_name": "ArcGISPro",
   "language": "Python",
   "name": "python3"
  },
  "language_info": {
   "codemirror_mode": {
    "name": "ipython",
    "version": 3
   },
   "file_extension": ".py",
   "mimetype": "text/x-python",
   "name": "python",
   "nbconvert_exporter": "python",
   "pygments_lexer": "ipython3",
   "version": "3.9.18"
  }
 },
 "nbformat": 4,
 "nbformat_minor": 2
}

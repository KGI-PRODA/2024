{
 "cells": [
  {
   "cell_type": "markdown",
   "metadata": {},
   "source": [
    "Name:        EU grid population\n",
    "\n",
    "Purpose:     The purpose of this script is to calculate density of OpenStreetMap (OSM) road/railway network of chosen area per area and per capita.\n",
    "It calculates two indicators:\n",
    "rd/rlw_density (roads/railways length in km per 1 km2 of area),\n",
    "rd/rlw_per_capita (roads/railways length in m per 1 inhabitant).\n",
    "\n",
    "Author:      Adam Tóth\n",
    "\n",
    "This script is a part of bachelor thesis \"Possibilities of calculation characteristics of the transport\n",
    "network of states and cities\"\n",
    "supervisor: doc. Ing. Zdena Dobešová, Ph.D.\n",
    "Department of Geoinformatics, Faculty of Science, Palacký University in Olomouc, Czech republic\n",
    "\n",
    "Created:     21.03.2022"
   ]
  },
  {
   "cell_type": "code",
   "execution_count": 1,
   "metadata": {},
   "outputs": [
    {
     "name": "stdout",
     "output_type": "stream",
     "text": [
      "The script has started!\n"
     ]
    }
   ],
   "source": [
    "import arcpy\n",
    "arcpy.env.overwriteOutput = True\n",
    "print(\"The script has started!\")"
   ]
  },
  {
   "cell_type": "markdown",
   "metadata": {},
   "source": [
    "Set the geodatabase as a workspace."
   ]
  },
  {
   "cell_type": "code",
   "execution_count": 5,
   "metadata": {},
   "outputs": [],
   "source": [
    "workspace = \"D:/transport_netw_char/transport_netw_char.gdb/\"\n",
    "arcpy.env.workspace = workspace\n"
   ]
  },
  {
   "cell_type": "markdown",
   "metadata": {},
   "source": [
    "Variables ```data``` and ```area``` store the roads and area of interest layers names."
   ]
  },
  {
   "cell_type": "code",
   "execution_count": 6,
   "metadata": {},
   "outputs": [],
   "source": [
    "data = \"osm_roads_clipped\"\n",
    "area = \"main_FI003L4_TURKU_UA2018_Boundary\""
   ]
  },
  {
   "cell_type": "code",
   "execution_count": 7,
   "metadata": {},
   "outputs": [],
   "source": [
    "pop_data = \"D:/3.ZS/bakalarka/EU_POP_GRID_2018/JRC_POPULATION_2018.shp\"\n",
    "\n",
    "# hex_or_own = \"false\"\n",
    "# own_layer = \"\"\n",
    "\n",
    "size = \"10 SquareKilometers\"\n",
    "cor_sys_string = 'PROJCS[\"ETRS_1989_LAEA\",GEOGCS[\"GCS_ETRS_1989\",DATUM[\"D_ETRS_1989\",SPHEROID[\"GRS_1980\",6378137.0,298.257222101]],PRIMEM[\"Greenwich\",0.0],UNIT[\"Degree\",0.0174532925199433]],PROJECTION[\"Lambert_Azimuthal_Equal_Area\"],PARAMETER[\"False_Easting\",4321000.0],PARAMETER[\"False_Northing\",3210000.0],PARAMETER[\"Central_Meridian\",10.0],PARAMETER[\"Latitude_Of_Origin\",52.0],UNIT[\"Meter\",1.0]]'"
   ]
  },
  {
   "cell_type": "markdown",
   "metadata": {},
   "source": [
    "Select the population grid \"pixels\" that intersect with the area of interest. Copy or export these pixels into your workspace and then don't forget to clear the selection."
   ]
  },
  {
   "cell_type": "code",
   "execution_count": 10,
   "metadata": {},
   "outputs": [],
   "source": [
    "control_selection = arcpy.management.SelectLayerByLocation(pop_data, \"INTERSECT\", area)\n",
    "arcpy.management.CopyFeatures(control_selection, \"pop_data_copy\")\n",
    "control_selection = arcpy.management.SelectLayerByAttribute(pop_data, \"CLEAR_SELECTION\")\n"
   ]
  },
  {
   "cell_type": "markdown",
   "metadata": {},
   "source": [
    "Save the \"pixel\" area size in a new field which will be named ```\"area_orig\"```. You will make a copy of the ```\"Shape_Area\"``` field basically."
   ]
  },
  {
   "cell_type": "code",
   "execution_count": 11,
   "metadata": {},
   "outputs": [
    {
     "data": {
      "text/html": [
       "<div class='gpresult'><h2>Messages</h2><div id='messages' data-messages='[\"Start Time: utorok 5. marca 2024 13:29:03\",\"Succeeded at utorok 5. marca 2024 13:29:04 (Elapsed Time: 0,68 seconds)\"]' data-show='true'><div id = 'default' /></div></div>"
      ],
      "text/plain": [
       "<Result 'D:/transport_netw_char/transport_netw_char.gdb\\\\pop_data_copy'>"
      ]
     },
     "execution_count": 11,
     "metadata": {},
     "output_type": "execute_result"
    }
   ],
   "source": [
    "arcpy.management.AddField(\"pop_data_copy\", \"area_orig\", \"DOUBLE\")\n",
    "arcpy.management.CalculateField(\"pop_data_copy\", \"area_orig\", '!Shape_Area!')"
   ]
  },
  {
   "cell_type": "markdown",
   "metadata": {},
   "source": [
    "Clip the copied/exported population grid \"pixels\" by the area of interest."
   ]
  },
  {
   "cell_type": "code",
   "execution_count": 12,
   "metadata": {},
   "outputs": [],
   "source": [
    "arcpy.analysis.Clip(\"pop_data_copy\", area, \"clipped_pop_data\")\n",
    "pop_data = \"clipped_pop_data\""
   ]
  },
  {
   "cell_type": "markdown",
   "metadata": {},
   "source": [
    "Add a new field named ```\"P_2018_orig\"``` and populate it with the current population."
   ]
  },
  {
   "cell_type": "code",
   "execution_count": 14,
   "metadata": {},
   "outputs": [
    {
     "data": {
      "text/html": [
       "<div class='gpresult'><h2>Messages</h2><div id='messages' data-messages='[\"Start Time: utorok 5. marca 2024 13:51:06\",\"Succeeded at utorok 5. marca 2024 13:51:07 (Elapsed Time: 0,89 seconds)\"]' data-show='true'><div id = 'default' /></div></div>"
      ],
      "text/plain": [
       "<Result 'D:/transport_netw_char/transport_netw_char.gdb\\\\clipped_pop_data'>"
      ]
     },
     "execution_count": 14,
     "metadata": {},
     "output_type": "execute_result"
    }
   ],
   "source": [
    "arcpy.management.AddField(pop_data, \"P_2018_orig\", \"DOUBLE\")\n",
    "arcpy.management.CalculateField(pop_data, \"P_2018_orig\", '(!TOT_P_2018!/!area_orig!)*!Shape_Area!')"
   ]
  },
  {
   "cell_type": "markdown",
   "metadata": {},
   "source": [
    "Generate a hexagonal grid of hexagon size 10 km over the area of interest and then clip it by its polygon layer."
   ]
  },
  {
   "cell_type": "code",
   "execution_count": 15,
   "metadata": {},
   "outputs": [
    {
     "data": {
      "text/html": [
       "<div class='gpresult'><h2>Messages</h2><div id='messages' data-messages='[\"Start Time: utorok 5. marca 2024 13:54:53\",\"Reading Features...\",\"Assembling Features...\",\"Cracking Features...\",\"Succeeded at utorok 5. marca 2024 13:55:02 (Elapsed Time: 9,30 seconds)\"]' data-show='true'><div id = 'default' /></div></div>"
      ],
      "text/plain": [
       "<Result 'D:/transport_netw_char/transport_netw_char.gdb\\\\hex_gr'>"
      ]
     },
     "execution_count": 15,
     "metadata": {},
     "output_type": "execute_result"
    }
   ],
   "source": [
    "arcpy.management.GenerateTessellation(\"hex_grid\", area, \"HEXAGON\", size)\n",
    "arcpy.analysis.Clip(\"hex_grid\", area, \"hex_gr\")"
   ]
  },
  {
   "cell_type": "markdown",
   "metadata": {},
   "source": [
    "Field ```\"area_orig\"``` will contain the area size of current clipped \"pixels\"."
   ]
  },
  {
   "cell_type": "code",
   "execution_count": 16,
   "metadata": {},
   "outputs": [
    {
     "data": {
      "text/html": [
       "<div class='gpresult'><h2>Messages</h2><div id='messages' data-messages='[\"Start Time: utorok 5. marca 2024 17:19:21\",\"Succeeded at utorok 5. marca 2024 17:19:25 (Elapsed Time: 4,21 seconds)\"]' data-show='true'><div id = 'default' /></div></div>"
      ],
      "text/plain": [
       "<Result 'D:/transport_netw_char/transport_netw_char.gdb\\\\clipped_pop_data'>"
      ]
     },
     "execution_count": 16,
     "metadata": {},
     "output_type": "execute_result"
    }
   ],
   "source": [
    "arcpy.management.CalculateField(pop_data, \"area_orig\", '!Shape_Area!')"
   ]
  },
  {
   "cell_type": "markdown",
   "metadata": {},
   "source": [
    "Now you'll get the population information into the hexagons. Intersect first the population grid by the hexagonal grid."
   ]
  },
  {
   "cell_type": "code",
   "execution_count": 17,
   "metadata": {},
   "outputs": [
    {
     "data": {
      "text/html": [
       "<div class='gpresult'><h2>Messages</h2><div id='messages' data-messages='[\"Start Time: utorok 5. marca 2024 17:25:15\",\"Reading Features...\",\"Cracking Features...\",\"Assembling Features...\",\"Succeeded at utorok 5. marca 2024 17:25:23 (Elapsed Time: 7,56 seconds)\"]' data-show='true'><div id = 'default' /></div></div>"
      ],
      "text/plain": [
       "<Result 'D:/transport_netw_char/transport_netw_char.gdb\\\\pop_data_isect'>"
      ]
     },
     "execution_count": 17,
     "metadata": {},
     "output_type": "execute_result"
    }
   ],
   "source": [
    "arcpy.analysis.Intersect([pop_data, \"hex_gr\"], \"pop_data_isect\", \"ALL\")"
   ]
  },
  {
   "cell_type": "markdown",
   "metadata": {},
   "source": [
    "Add field into the intersected population grid's attribute table and calculate there population size using the same principle as it was used when calculating population after clipping."
   ]
  },
  {
   "cell_type": "code",
   "execution_count": 18,
   "metadata": {},
   "outputs": [
    {
     "data": {
      "text/html": [
       "<div class='gpresult'><h2>Messages</h2><div id='messages' data-messages='[\"Start Time: utorok 5. marca 2024 17:27:20\",\"Succeeded at utorok 5. marca 2024 17:27:21 (Elapsed Time: 1,35 seconds)\"]' data-show='true'><div id = 'default' /></div></div>"
      ],
      "text/plain": [
       "<Result 'D:/transport_netw_char/transport_netw_char.gdb\\\\pop_data_isect'>"
      ]
     },
     "execution_count": 18,
     "metadata": {},
     "output_type": "execute_result"
    }
   ],
   "source": [
    "arcpy.management.AddField(\"pop_data_isect\", \"new_pop2018\", \"DOUBLE\")\n",
    "arcpy.management.CalculateField(\"pop_data_isect\", \"new_pop2018\", '(!P_2018_orig!/!area_orig!)*!Shape_Area!')"
   ]
  },
  {
   "cell_type": "code",
   "execution_count": 19,
   "metadata": {},
   "outputs": [
    {
     "data": {
      "text/html": [
       "<div class='gpresult'><h2>Messages</h2><div id='messages' data-messages='[\"Start Time: utorok 5. marca 2024 17:27:35\",\"Sorting Attributes...\",\"Dissolving...\",\"Succeeded at utorok 5. marca 2024 17:27:37 (Elapsed Time: 2,82 seconds)\"]' data-show='true'><div id = 'default' /></div></div>"
      ],
      "text/plain": [
       "<Result 'D:/transport_netw_char/transport_netw_char.gdb\\\\pop_data_isect_diss'>"
      ]
     },
     "execution_count": 19,
     "metadata": {},
     "output_type": "execute_result"
    }
   ],
   "source": [
    "arcpy.management.Dissolve(\"pop_data_isect\", \"pop_data_isect_diss\", \"FID_hex_gr\", [[\"new_pop2018\",\"SUM\"]])"
   ]
  },
  {
   "cell_type": "code",
   "execution_count": null,
   "metadata": {},
   "outputs": [],
   "source": [
    "print(\"part 5: preparing and cutting roads layer\")\n",
    "\n",
    "selected_features = arcpy.management.SelectLayerByAttribute(data, \"NEW_SELECTION\", \"code > 5110 And code < 5136\")\n",
    "arcpy.conversion.FeatureClassToFeatureClass(selected_features, workspace, \"lines_export\")\n",
    "selected_features = arcpy.management.SelectLayerByAttribute(data, \"CLEAR_SELECTION\")\n",
    "\n",
    "arcpy.analysis.Intersect([\"lines_export\", \"hex_gr\"], \"rd_isect\", \"ONLY_FID\")\n",
    "arcpy.management.Dissolve(\"rd_isect\", \"rd_isect_diss\", \"FID_hex_gr\")\n",
    "\n",
    "print(\"Roads were cut and dissolved by hexagonal grid\")\n"
   ]
  },
  {
   "cell_type": "code",
   "execution_count": null,
   "metadata": {},
   "outputs": [],
   "source": [
    "print(\"part 6: adding information about population and road length to the hexagonal grid\")\n",
    "\n",
    "arcpy.management.JoinField(\"hex_gr\", \"OBJECTID\", \"pop_data_isect_diss\", \"FID_hex_gr\", [\"SUM_new_pop2018\"])\n",
    "\n",
    "arcpy.management.AddField(\"rd_isect_diss\", \"rd_length\", \"DOUBLE\")\n",
    "arcpy.management.CalculateField(\"rd_isect_diss\", \"rd_length\", '!Shape_Length!')\n",
    "arcpy.management.JoinField(\"hex_gr\", \"OBJECTID\", \"rd_isect_diss\", \"FID_hex_gr\", [\"rd_length\"])\n",
    "\n",
    "print(\"Join successful\")"
   ]
  },
  {
   "cell_type": "code",
   "execution_count": null,
   "metadata": {},
   "outputs": [],
   "source": [
    "print(\"part 7: calculating roads density per capita and per square km\")\n",
    "\n",
    "arcpy.management.AddFields(\"hex_gr\", [[\"rd_density\", \"DOUBLE\"], [\"rd_per_capita\", \"DOUBLE\"]])\n",
    "print(\"fields added\")\n",
    "\n",
    "arcpy.management.CalculateField(\"hex_gr\", \"rd_density\", '(!rd_length!/1000)/(!Shape_Area!/1000000)')\n",
    "print(\"areal density done\")\n",
    "\n",
    "arcpy.management.CalculateField(\"hex_gr\", \"rd_per_capita\", '!rd_length!/!SUM_new_pop2018!')\n",
    "print(\"population density done\")\n",
    "\n",
    "print(\"Roads density calculated\")"
   ]
  }
 ],
 "metadata": {
  "kernelspec": {
   "display_name": "ArcGISPro",
   "language": "Python",
   "name": "python3"
  },
  "language_info": {
   "codemirror_mode": {
    "name": "ipython",
    "version": 3
   },
   "file_extension": ".py",
   "mimetype": "text/x-python",
   "name": "python",
   "nbconvert_exporter": "python",
   "pygments_lexer": "ipython3",
   "version": "3.9.18"
  }
 },
 "nbformat": 4,
 "nbformat_minor": 2
}

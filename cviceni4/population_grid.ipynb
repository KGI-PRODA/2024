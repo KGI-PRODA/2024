{
 "cells": [
  {
   "cell_type": "code",
   "execution_count": 1,
   "metadata": {},
   "outputs": [
    {
     "name": "stdout",
     "output_type": "stream",
     "text": [
      "Hello world!\n"
     ]
    }
   ],
   "source": [
    "print(\"Hello world!\")"
   ]
  },
  {
   "cell_type": "markdown",
   "metadata": {},
   "source": [
    "No, tak uvidzime, kam sa dostanem s touto diplomkou. Jezis, odovzdavam Ti tuto pracu, bud prosim so mnou, oslav sa, ako to Ty vies. Amen"
   ]
  },
  {
   "cell_type": "markdown",
   "metadata": {},
   "source": [
    "Name:        EU grid population\n",
    "\n",
    "Purpose:     The purpose of this script is to calculate density of OpenStreetMap (OSM) road/railway network of chosen area per area and per capita.\n",
    "It calculates two indicators:\n",
    "rd/rlw_density (roads/railways length in km per 1 km2 of area),\n",
    "rd/rlw_per_capita (roads/railways length in m per 1 inhabitant).\n",
    "\n",
    "Author:      Adam Tóth\n",
    "\n",
    "This script is a part of bachelor thesis \"Possibilities of calculation characteristics of the transport\n",
    "network of states and cities\"\n",
    "supervisor: doc. Ing. Zdena Dobešová, Ph.D.\n",
    "Department of Geoinformatics, Faculty of Science, Palacký University in Olomouc, Czech republic\n",
    "\n",
    "Created:     21.03.2022"
   ]
  },
  {
   "cell_type": "code",
   "execution_count": 1,
   "metadata": {},
   "outputs": [
    {
     "name": "stdout",
     "output_type": "stream",
     "text": [
      "The script has started!\n"
     ]
    }
   ],
   "source": [
    "import arcpy\n",
    "arcpy.env.overwriteOutput = True\n",
    "print(\"The script has started!\")"
   ]
  },
  {
   "cell_type": "code",
   "execution_count": 2,
   "metadata": {},
   "outputs": [
    {
     "name": "stdout",
     "output_type": "stream",
     "text": [
      "part 2: data paths\n"
     ]
    },
    {
     "data": {
      "text/plain": [
       "['osm_roads_clipped',\n",
       " 'otm_roads_h123_sw_finland',\n",
       " 'otm_roads_h123_olomouc_region',\n",
       " 'NUTS3_olomoucky_kraj',\n",
       " 'NUTS3_varsinais_suomi',\n",
       " 'main_FI003L4_TURKU_UA2018_Boundary']"
      ]
     },
     "execution_count": 2,
     "metadata": {},
     "output_type": "execute_result"
    }
   ],
   "source": [
    "print(\"part 2: data paths\")\n",
    "\n",
    "workspace = \"D:/transport_netw_char/transport_netw_char.gdb/\"\n",
    "arcpy.env.workspace = workspace\n",
    "data = \"osm_roads_clipped\"\n",
    "area = \"main_FI003L4_TURKU_UA2018_Boundary\"\n",
    "arcpy.ListFeatureClasses()"
   ]
  },
  {
   "cell_type": "code",
   "execution_count": 4,
   "metadata": {},
   "outputs": [
    {
     "name": "stdout",
     "output_type": "stream",
     "text": [
      "OBJECTID\n",
      "Shape\n",
      "osm_id\n",
      "code\n",
      "fclass\n",
      "name\n",
      "ref\n",
      "oneway\n",
      "maxspeed\n",
      "layer\n",
      "bridge\n",
      "tunnel\n",
      "Shape_Length\n"
     ]
    }
   ],
   "source": [
    "fields = arcpy.ListFields(data)\n",
    "for f in fields:\n",
    "    print(f.name)"
   ]
  },
  {
   "cell_type": "code",
   "execution_count": null,
   "metadata": {},
   "outputs": [],
   "source": [
    "pop_data = \"D:/3.ZS/bakalarka/EU_POP_GRID_2018/JRC_POPULATION_2018.shp\"\n",
    "\n",
    "hex_or_own = \"false\"\n",
    "size = \"10 SquareKilometers\"\n",
    "own_layer = \"\"\n",
    "cor_sys_string = 'PROJCS[\"ETRS_1989_LAEA\",GEOGCS[\"GCS_ETRS_1989\",DATUM[\"D_ETRS_1989\",SPHEROID[\"GRS_1980\",6378137.0,298.257222101]],PRIMEM[\"Greenwich\",0.0],UNIT[\"Degree\",0.0174532925199433]],PROJECTION[\"Lambert_Azimuthal_Equal_Area\"],PARAMETER[\"False_Easting\",4321000.0],PARAMETER[\"False_Northing\",3210000.0],PARAMETER[\"Central_Meridian\",10.0],PARAMETER[\"Latitude_Of_Origin\",52.0],UNIT[\"Meter\",1.0]]'\n",
    "\n",
    "print(\"paths and workspace set\")"
   ]
  },
  {
   "cell_type": "code",
   "execution_count": null,
   "metadata": {},
   "outputs": [],
   "source": [
    "print(\"part 3: preparing population grid\")\n",
    "\n",
    "control_selection = arcpy.management.SelectLayerByLocation(pop_data, \"INTERSECT\", area)\n",
    "arcpy.management.CopyFeatures(control_selection, \"pop_data_copy\")\n",
    "control_selection = arcpy.management.SelectLayerByAttribute(pop_data, \"CLEAR_SELECTION\")\n",
    "                        \n",
    "arcpy.management.AddField(\"pop_data_copy\", \"area_orig\", \"DOUBLE\")\n",
    "arcpy.management.CalculateField(\"pop_data_copy\", \"area_orig\", '!Shape_Area!')\n",
    "arcpy.analysis.Clip(\"pop_data_copy\", area, \"clipped_pop_data\")\n",
    "arcpy.management.AddField(\"clipped_pop_data\", \"P_2018_orig\", \"DOUBLE\")\n",
    "arcpy.management.CalculateField(\"clipped_pop_data\", \"P_2018_orig\", '(!TOT_P_2018!/!area_orig!)*!Shape_Area!')\n",
    "\n",
    "pop_data = workspace + \"/\" + \"clipped_pop_data\"\n",
    "\n",
    "print(\"Your population data layer is clipped.\")"
   ]
  },
  {
   "cell_type": "code",
   "execution_count": null,
   "metadata": {},
   "outputs": [],
   "source": [
    "print(\"part 4: intersecting hexagonal and population grid\")\n",
    "\n",
    "arcpy.management.GenerateTessellation(\"hex_grid\", area, \"HEXAGON\", size)\n",
    "arcpy.analysis.Clip(\"hex_grid\", area, \"hex_gr\")\n",
    "\n",
    "arcpy.management.CalculateField(pop_data, \"area_orig\", '!Shape_Area!')\n",
    "arcpy.analysis.Intersect([pop_data, \"hex_gr\"], \"pop_data_isect\", \"ALL\")\n",
    "arcpy.management.AddField(\"pop_data_isect\", \"new_pop2018\", \"DOUBLE\")\n",
    "arcpy.management.CalculateField(\"pop_data_isect\", \"new_pop2018\", '(!P_2018_orig!/!area_orig!)*!Shape_Area!')\n",
    "arcpy.management.Dissolve(\"pop_data_isect\", \"pop_data_isect_diss\", \"FID_hex_gr\", [[\"new_pop2018\",\"SUM\"]])\n",
    "\n",
    "print(\"Population in each hexagon calculated from 2018 population grid\")"
   ]
  },
  {
   "cell_type": "code",
   "execution_count": null,
   "metadata": {},
   "outputs": [],
   "source": [
    "print(\"part 5: preparing and cutting roads layer\")\n",
    "\n",
    "selected_features = arcpy.management.SelectLayerByAttribute(data, \"NEW_SELECTION\", \"code > 5110 And code < 5136\")\n",
    "arcpy.conversion.FeatureClassToFeatureClass(selected_features, workspace, \"lines_export\")\n",
    "selected_features = arcpy.management.SelectLayerByAttribute(data, \"CLEAR_SELECTION\")\n",
    "\n",
    "arcpy.analysis.Intersect([\"lines_export\", \"hex_gr\"], \"rd_isect\", \"ONLY_FID\")\n",
    "arcpy.management.Dissolve(\"rd_isect\", \"rd_isect_diss\", \"FID_hex_gr\")\n",
    "\n",
    "print(\"Roads were cut and dissolved by hexagonal grid\")\n"
   ]
  },
  {
   "cell_type": "code",
   "execution_count": null,
   "metadata": {},
   "outputs": [],
   "source": [
    "print(\"part 6: adding information about population and road length to the hexagonal grid\")\n",
    "\n",
    "arcpy.management.JoinField(\"hex_gr\", \"OBJECTID\", \"pop_data_isect_diss\", \"FID_hex_gr\", [\"SUM_new_pop2018\"])\n",
    "\n",
    "arcpy.management.AddField(\"rd_isect_diss\", \"rd_length\", \"DOUBLE\")\n",
    "arcpy.management.CalculateField(\"rd_isect_diss\", \"rd_length\", '!Shape_Length!')\n",
    "arcpy.management.JoinField(\"hex_gr\", \"OBJECTID\", \"rd_isect_diss\", \"FID_hex_gr\", [\"rd_length\"])\n",
    "\n",
    "print(\"Join successful\")"
   ]
  },
  {
   "cell_type": "code",
   "execution_count": null,
   "metadata": {},
   "outputs": [],
   "source": [
    "print(\"part 7: calculating roads density per capita and per square km\")\n",
    "\n",
    "arcpy.management.AddFields(\"hex_gr\", [[\"rd_density\", \"DOUBLE\"], [\"rd_per_capita\", \"DOUBLE\"]])\n",
    "print(\"fields added\")\n",
    "\n",
    "arcpy.management.CalculateField(\"hex_gr\", \"rd_density\", '(!rd_length!/1000)/(!Shape_Area!/1000000)')\n",
    "print(\"areal density done\")\n",
    "\n",
    "arcpy.management.CalculateField(\"hex_gr\", \"rd_per_capita\", '!rd_length!/!SUM_new_pop2018!')\n",
    "print(\"population density done\")\n",
    "\n",
    "print(\"Roads density calculated\")"
   ]
  }
 ],
 "metadata": {
  "kernelspec": {
   "display_name": "ArcGISPro",
   "language": "Python",
   "name": "python3"
  },
  "language_info": {
   "codemirror_mode": {
    "name": "ipython",
    "version": 3
   },
   "file_extension": ".py",
   "mimetype": "text/x-python",
   "name": "python",
   "nbconvert_exporter": "python",
   "pygments_lexer": "ipython3",
   "version": "3.9.18"
  }
 },
 "nbformat": 4,
 "nbformat_minor": 2
}
